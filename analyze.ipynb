{
 "cells": [
  {
   "cell_type": "code",
   "execution_count": 5,
   "metadata": {},
   "outputs": [],
   "source": [
    "import pandas as pd\n",
    "from os import listdir\n",
    "from pandas.errors import EmptyDataError\n",
    "from unidecode import unidecode\n",
    "import seaborn as sns\n",
    "import re\n",
    "from wordcloud import WordCloud\n",
    "from gensim.models import Word2Vec\n",
    "from sklearn.manifold import TSNE\n",
    "from sklearn.decomposition import PCA\n",
    "import matplotlib.pyplot as plt\n",
    "import numpy as np\n",
    "\n",
    "sns.set(\n",
    "    rc = {\n",
    "        'figure.figsize': (10, 8)\n",
    "    },\n",
    "    style = 'darkgrid'\n",
    ")"
   ]
  },
  {
   "cell_type": "markdown",
   "metadata": {},
   "source": [
    "# Dictionaries"
   ]
  },
  {
   "cell_type": "code",
   "execution_count": 6,
   "metadata": {},
   "outputs": [],
   "source": [
    "grouping_orders = {\n",
    "    \"website\": {\n",
    "        \"columns_before\": ['website', 'sentiment'],\n",
    "        \"groupby\": [\"website\"],\n",
    "        \"columns_after\": ['fakt', 'gazeta', 'wyborcza'] \n",
    "    },\n",
    "    \"brand\": {\n",
    "        \"columns_before\": ['brand', 'sentiment'],\n",
    "        \"groupby\": [\"brand\"],\n",
    "        \"columns_after\": ['agora', 'ringier'] \n",
    "    },\n",
    "    \"country\": {\n",
    "        \"columns_before\": ['country', 'sentiment'],\n",
    "        \"groupby\": [\"country\"],\n",
    "        \"columns_after\": ['de/ch', 'pl'] \n",
    "    }\n",
    "}"
   ]
  },
  {
   "cell_type": "code",
   "execution_count": 7,
   "metadata": {},
   "outputs": [],
   "source": [
    "brand_keys = {\n",
    "    \"pl\": {\n",
    "        \"agora\": ['wyborcza', 'gazeta']\n",
    "    },\n",
    "    \"de/ch\": {\n",
    "        \"ringier\": ['fakt', 'onet', 'newsweek']\n",
    "    },\n",
    "    'us': {\n",
    "        \"discovery\": ['tvn']\n",
    "    }\n",
    "}"
   ]
  },
  {
   "cell_type": "code",
   "execution_count": 8,
   "metadata": {},
   "outputs": [],
   "source": [
    "osoba = ['ideał', ''] # wzór, wróg, nieprzyjaciel\n",
    "partia = ['postęp', 'nieudolność'] # rozwój, dobrobyt, \n",
    "poglad = ['swoboda', 'reżim'] # chaos, totalitaryzm, racjonalizm\n",
    "kraj = ['sojusznik', 'wróg'] # ostoja, oaza, \n",
    "keyword_reference_words = {\n",
    "    'sąd': ['', ''],\n",
    "    'imigranci': ['przyjaciele', 'wrogowie'],\n",
    "    'ekologia': ['', ''],\n",
    "    'emigracja': ['', ''],\n",
    "    'pis': partia,\n",
    "    'platforma': partia,\n",
    "    'duda': osoba,\n",
    "    'morawiecki': osoba,\n",
    "    'szydło': osoba,\n",
    "    'kaczyński': osoba,\n",
    "    'kwaśniewski': osoba,\n",
    "    'lewica': poglad,\n",
    "    'prawica': poglad,\n",
    "    'lgbt': ['', ''],\n",
    "    'europejska': ['wspólnota', 'podział'], # wspólnota, rozłam\n",
    "    'rosja': kraj,\n",
    "    'stany': kraj,\n",
    "    'premier': osoba,\n",
    "    'prezydent': osoba,\n",
    "    'opozycja': partia,\n",
    "    'rząd': partia,\n",
    "    'sejm': partia,\n",
    "    'polska': ['dom', ''],\n",
    "    'putin': ['sojusznik', 'wróg'],\n",
    "    'trump': ['sojusznik', 'wróg'],\n",
    "    'ukraina': kraj,\n",
    "    'media': ['', ''],\n",
    "    'bank': ['', ''],\n",
    "    'niemcy': kraj,\n",
    "    'papież': osoba,\n",
    "    'kościół': ['', ''],\n",
    "    'korwin': osoba,\n",
    "    'rydzyk': osoba,\n",
    "    'feminizm': ['', ''],\n",
    "    'leszek+miller': osoba,\n",
    "}"
   ]
  },
  {
   "cell_type": "code",
   "execution_count": 9,
   "metadata": {},
   "outputs": [],
   "source": [
    "decoder = {\n",
    "    '%B1': 'ą',\n",
    "    '%BF': 'ż',\n",
    "    '%B3': 'ł',\n",
    "    '%B6': 'ś',\n",
    "    '%F1': 'ń',\n",
    "    '%F3': 'ó'\n",
    "}\n",
    "with open('keywords', 'r') as f:\n",
    "    raws = f.read().split('\\n')\n",
    "keyword_dict = {}\n",
    "for raw in raws:\n",
    "    tmp_keyword = raw\n",
    "    for d1, d2 in decoder.items():\n",
    "        tmp_keyword = tmp_keyword.replace(d1, d2)\n",
    "    keyword_dict[tmp_keyword] = ''"
   ]
  },
  {
   "cell_type": "code",
   "execution_count": 10,
   "metadata": {},
   "outputs": [],
   "source": [
    "keyword_regex = {\n",
    "    'pis': r\"\\Dpis\\D|prawo i sprawiedliwość\"\n",
    "}"
   ]
  },
  {
   "cell_type": "code",
   "execution_count": null,
   "metadata": {},
   "outputs": [],
   "source": []
  },
  {
   "cell_type": "code",
   "execution_count": null,
   "metadata": {},
   "outputs": [],
   "source": []
  },
  {
   "cell_type": "markdown",
   "metadata": {
    "heading_collapsed": true
   },
   "source": [
    "# Read data"
   ]
  },
  {
   "cell_type": "markdown",
   "metadata": {
    "heading_collapsed": true,
    "hidden": true
   },
   "source": [
    "## Wyborcza"
   ]
  },
  {
   "cell_type": "code",
   "execution_count": 11,
   "metadata": {
    "hidden": true
   },
   "outputs": [],
   "source": [
    "wyborcza_articles = []\n",
    "for filename in listdir('data/wyborcza/articles'):\n",
    "    try:\n",
    "        wyborcza_articles.append(pd.read_csv('data/wyborcza/articles/'+filename, header = None))\n",
    "    except EmptyDataError:\n",
    "        pass # empty file\n",
    "wyborcza_articles = pd.concat(wyborcza_articles)\n",
    "wyborcza_articles.columns = ['url', 'title', 'short', 'long', 'img', 'com']\n",
    "wyborcza_articles['short'] = wyborcza_articles['short'].str.replace(r'(.|..)\\n', '')\n",
    "wyborcza_articles = wyborcza_articles[~wyborcza_articles['long'].str.contains('W odpowiedzi do @', na = False) == True]\n",
    "wyborcza_articles = wyborcza_articles[['title', 'short', 'long']]\n",
    "wyborcza_articles = wyborcza_articles.dropna()\n",
    "wyborcza_articles = wyborcza_articles[wyborcza_articles['title'].duplicated() == False]\n",
    "wyborcza_articles = wyborcza_articles[wyborcza_articles['short'] != '0']\n",
    "wyborcza_articles['website'] = 'wyborcza'\n",
    "wyborcza_articles['brand'] = 'agora'\n",
    "wyborcza_articles['country'] = 'pl'"
   ]
  },
  {
   "cell_type": "code",
   "execution_count": 12,
   "metadata": {
    "hidden": true
   },
   "outputs": [
    {
     "data": {
      "text/plain": [
       "54619"
      ]
     },
     "execution_count": 12,
     "metadata": {},
     "output_type": "execute_result"
    }
   ],
   "source": [
    "len(wyborcza_articles)"
   ]
  },
  {
   "cell_type": "code",
   "execution_count": 13,
   "metadata": {
    "hidden": true
   },
   "outputs": [
    {
     "data": {
      "text/html": [
       "<div>\n",
       "<style scoped>\n",
       "    .dataframe tbody tr th:only-of-type {\n",
       "        vertical-align: middle;\n",
       "    }\n",
       "\n",
       "    .dataframe tbody tr th {\n",
       "        vertical-align: top;\n",
       "    }\n",
       "\n",
       "    .dataframe thead th {\n",
       "        text-align: right;\n",
       "    }\n",
       "</style>\n",
       "<table border=\"1\" class=\"dataframe\">\n",
       "  <thead>\n",
       "    <tr style=\"text-align: right;\">\n",
       "      <th></th>\n",
       "      <th>title</th>\n",
       "      <th>short</th>\n",
       "      <th>long</th>\n",
       "      <th>website</th>\n",
       "      <th>brand</th>\n",
       "      <th>country</th>\n",
       "    </tr>\n",
       "  </thead>\n",
       "  <tbody>\n",
       "    <tr>\n",
       "      <th>39</th>\n",
       "      <td>Specustawa górnicza trafiła do kosza. Co na ni...</td>\n",
       "      <td>Ustawa miała odebrać gminom i ich mieszkańcom ...</td>\n",
       "      <td>Tuż po wyborach posłowie starej kadencji mieli...</td>\n",
       "      <td>wyborcza</td>\n",
       "      <td>agora</td>\n",
       "      <td>pl</td>\n",
       "    </tr>\n",
       "    <tr>\n",
       "      <th>90</th>\n",
       "      <td>Obwodnica nas wytrzęsie? Jej kolejny odcinek b...</td>\n",
       "      <td>Rekordowo drogi odcinek południowej obwodnicy ...</td>\n",
       "      <td>O ten jeden z najdroższych kontraktów drogowyc...</td>\n",
       "      <td>wyborcza</td>\n",
       "      <td>agora</td>\n",
       "      <td>pl</td>\n",
       "    </tr>\n",
       "    <tr>\n",
       "      <th>316</th>\n",
       "      <td>Tesla Model X już jest. Nowy przebój ekologicz...</td>\n",
       "      <td>Na tę chwilę miłośnicy elektrycznych aut czeka...</td>\n",
       "      <td>Majętni miłośnicy elektrycznych aut już od daw...</td>\n",
       "      <td>wyborcza</td>\n",
       "      <td>agora</td>\n",
       "      <td>pl</td>\n",
       "    </tr>\n",
       "    <tr>\n",
       "      <th>189</th>\n",
       "      <td>Pogrzeb Stephena Hawkinga. Tłumy żegnały w Cam...</td>\n",
       "      <td>W sobotę w Cambridge odbył się prywatny pogrze...</td>\n",
       "      <td>Stephen Hawking przewrócił do góry nogami trad...</td>\n",
       "      <td>wyborcza</td>\n",
       "      <td>agora</td>\n",
       "      <td>pl</td>\n",
       "    </tr>\n",
       "    <tr>\n",
       "      <th>518</th>\n",
       "      <td>Alimenty. Dług rodziców wobec dzieci narasta, ...</td>\n",
       "      <td>Według Krajowego Rejestru Długów we wrześniu s...</td>\n",
       "      <td>Po czterech miesiącach obowiązywania znowelizo...</td>\n",
       "      <td>wyborcza</td>\n",
       "      <td>agora</td>\n",
       "      <td>pl</td>\n",
       "    </tr>\n",
       "  </tbody>\n",
       "</table>\n",
       "</div>"
      ],
      "text/plain": [
       "                                                 title  \\\n",
       "39   Specustawa górnicza trafiła do kosza. Co na ni...   \n",
       "90   Obwodnica nas wytrzęsie? Jej kolejny odcinek b...   \n",
       "316  Tesla Model X już jest. Nowy przebój ekologicz...   \n",
       "189  Pogrzeb Stephena Hawkinga. Tłumy żegnały w Cam...   \n",
       "518  Alimenty. Dług rodziców wobec dzieci narasta, ...   \n",
       "\n",
       "                                                 short  \\\n",
       "39   Ustawa miała odebrać gminom i ich mieszkańcom ...   \n",
       "90   Rekordowo drogi odcinek południowej obwodnicy ...   \n",
       "316  Na tę chwilę miłośnicy elektrycznych aut czeka...   \n",
       "189  W sobotę w Cambridge odbył się prywatny pogrze...   \n",
       "518  Według Krajowego Rejestru Długów we wrześniu s...   \n",
       "\n",
       "                                                  long   website  brand  \\\n",
       "39   Tuż po wyborach posłowie starej kadencji mieli...  wyborcza  agora   \n",
       "90   O ten jeden z najdroższych kontraktów drogowyc...  wyborcza  agora   \n",
       "316  Majętni miłośnicy elektrycznych aut już od daw...  wyborcza  agora   \n",
       "189  Stephen Hawking przewrócił do góry nogami trad...  wyborcza  agora   \n",
       "518  Po czterech miesiącach obowiązywania znowelizo...  wyborcza  agora   \n",
       "\n",
       "    country  \n",
       "39       pl  \n",
       "90       pl  \n",
       "316      pl  \n",
       "189      pl  \n",
       "518      pl  "
      ]
     },
     "execution_count": 13,
     "metadata": {},
     "output_type": "execute_result"
    }
   ],
   "source": [
    "wyborcza_articles.sample(5).head(5)"
   ]
  },
  {
   "cell_type": "markdown",
   "metadata": {
    "heading_collapsed": true,
    "hidden": true
   },
   "source": [
    "## Gazeta"
   ]
  },
  {
   "cell_type": "code",
   "execution_count": 14,
   "metadata": {
    "hidden": true
   },
   "outputs": [],
   "source": [
    "gazeta_articles = []\n",
    "for filename in listdir('data/gazeta/articles'):\n",
    "    try:\n",
    "        gazeta_articles.append(pd.read_csv('data/gazeta/articles/'+filename, header = None))\n",
    "    except EmptyDataError:\n",
    "        pass # empty file\n",
    "gazeta_articles = pd.concat(gazeta_articles)\n",
    "gazeta_articles.columns = ['url', 'title', 'short', 'long', 'img', 'com']\n",
    "gazeta_articles = gazeta_articles[['title', 'short', 'long']]\n",
    "gazeta_articles = gazeta_articles[gazeta_articles['title'].duplicated() == False]\n",
    "gazeta_articles['website'] = 'gazeta'\n",
    "gazeta_articles['brand'] = 'agora'\n",
    "gazeta_articles['country'] = 'pl'"
   ]
  },
  {
   "cell_type": "code",
   "execution_count": 15,
   "metadata": {
    "hidden": true
   },
   "outputs": [
    {
     "data": {
      "text/plain": [
       "12075"
      ]
     },
     "execution_count": 15,
     "metadata": {},
     "output_type": "execute_result"
    }
   ],
   "source": [
    "len(gazeta_articles)"
   ]
  },
  {
   "cell_type": "code",
   "execution_count": 16,
   "metadata": {
    "hidden": true
   },
   "outputs": [
    {
     "data": {
      "text/html": [
       "<div>\n",
       "<style scoped>\n",
       "    .dataframe tbody tr th:only-of-type {\n",
       "        vertical-align: middle;\n",
       "    }\n",
       "\n",
       "    .dataframe tbody tr th {\n",
       "        vertical-align: top;\n",
       "    }\n",
       "\n",
       "    .dataframe thead th {\n",
       "        text-align: right;\n",
       "    }\n",
       "</style>\n",
       "<table border=\"1\" class=\"dataframe\">\n",
       "  <thead>\n",
       "    <tr style=\"text-align: right;\">\n",
       "      <th></th>\n",
       "      <th>title</th>\n",
       "      <th>short</th>\n",
       "      <th>long</th>\n",
       "      <th>website</th>\n",
       "      <th>brand</th>\n",
       "      <th>country</th>\n",
       "    </tr>\n",
       "  </thead>\n",
       "  <tbody>\n",
       "    <tr>\n",
       "      <th>112</th>\n",
       "      <td>Krótszy czas pracy dla niepalących sposobem na...</td>\n",
       "      <td>Według pracodawców palacze pracują mniej, prze...</td>\n",
       "      <td>Szkodliwość palenia dla zdrowia nie podlega dy...</td>\n",
       "      <td>gazeta</td>\n",
       "      <td>agora</td>\n",
       "      <td>pl</td>\n",
       "    </tr>\n",
       "    <tr>\n",
       "      <th>30</th>\n",
       "      <td>Katarasińska oddała immunitet</td>\n",
       "      <td>NaN</td>\n",
       "      <td>Iwona Śledzińska-Katarasińska, posłanka PO i s...</td>\n",
       "      <td>gazeta</td>\n",
       "      <td>agora</td>\n",
       "      <td>pl</td>\n",
       "    </tr>\n",
       "    <tr>\n",
       "      <th>102</th>\n",
       "      <td>\"Rz\": Działacze KNP chcą ścigać Korwin-Mikkego...</td>\n",
       "      <td>Do prokuratury trafiło zawiadomienie o popełni...</td>\n",
       "      <td>\"Rzeczpospolita\" podaje, że zawiadomienie w te...</td>\n",
       "      <td>gazeta</td>\n",
       "      <td>agora</td>\n",
       "      <td>pl</td>\n",
       "    </tr>\n",
       "    <tr>\n",
       "      <th>69</th>\n",
       "      <td>Już po wyborach, więc Teresa Czerwińska \"niema...</td>\n",
       "      <td>Teresa Czerwińska, minister finansów, \"niemal ...</td>\n",
       "      <td>Wybory do Parlamentu Europejskiego okazały się...</td>\n",
       "      <td>gazeta</td>\n",
       "      <td>agora</td>\n",
       "      <td>pl</td>\n",
       "    </tr>\n",
       "    <tr>\n",
       "      <th>5</th>\n",
       "      <td>Niesprawiedliwy proces, tortury, kara śmierci....</td>\n",
       "      <td>Udało się wstrzymać egzekucję 22-latka w Irani...</td>\n",
       "      <td>Dzięki petycjom rozpowszechnianym przez Amnest...</td>\n",
       "      <td>gazeta</td>\n",
       "      <td>agora</td>\n",
       "      <td>pl</td>\n",
       "    </tr>\n",
       "  </tbody>\n",
       "</table>\n",
       "</div>"
      ],
      "text/plain": [
       "                                                 title  \\\n",
       "112  Krótszy czas pracy dla niepalących sposobem na...   \n",
       "30                       Katarasińska oddała immunitet   \n",
       "102  \"Rz\": Działacze KNP chcą ścigać Korwin-Mikkego...   \n",
       "69   Już po wyborach, więc Teresa Czerwińska \"niema...   \n",
       "5    Niesprawiedliwy proces, tortury, kara śmierci....   \n",
       "\n",
       "                                                 short  \\\n",
       "112  Według pracodawców palacze pracują mniej, prze...   \n",
       "30                                                 NaN   \n",
       "102  Do prokuratury trafiło zawiadomienie o popełni...   \n",
       "69   Teresa Czerwińska, minister finansów, \"niemal ...   \n",
       "5    Udało się wstrzymać egzekucję 22-latka w Irani...   \n",
       "\n",
       "                                                  long website  brand country  \n",
       "112  Szkodliwość palenia dla zdrowia nie podlega dy...  gazeta  agora      pl  \n",
       "30   Iwona Śledzińska-Katarasińska, posłanka PO i s...  gazeta  agora      pl  \n",
       "102  \"Rzeczpospolita\" podaje, że zawiadomienie w te...  gazeta  agora      pl  \n",
       "69   Wybory do Parlamentu Europejskiego okazały się...  gazeta  agora      pl  \n",
       "5    Dzięki petycjom rozpowszechnianym przez Amnest...  gazeta  agora      pl  "
      ]
     },
     "execution_count": 16,
     "metadata": {},
     "output_type": "execute_result"
    }
   ],
   "source": [
    "gazeta_articles.sample(5).head()"
   ]
  },
  {
   "cell_type": "markdown",
   "metadata": {
    "heading_collapsed": true,
    "hidden": true
   },
   "source": [
    "## Fakt"
   ]
  },
  {
   "cell_type": "code",
   "execution_count": 17,
   "metadata": {
    "hidden": true
   },
   "outputs": [],
   "source": [
    "fakt_articles = []\n",
    "for filename in listdir('data/fakt/articles'):\n",
    "    tmp_df = pd.read_csv('data/fakt/articles/'+filename, header = None)\n",
    "    tmp_df.columns = ['url', 'title', 'short', 'long', 'img', 'com',]\n",
    "    tmp_df[filename] = 1\n",
    "    tmp_df[filename] = tmp_df[filename].fillna(0)\n",
    "    fakt_articles.append(tmp_df)\n",
    "fakt_articles = pd.concat(fakt_articles, sort = False)\n",
    "fakt_articles = fakt_articles[~fakt_articles['long'].isna()]\n",
    "fakt_articles['long'] = fakt_articles.apply(lambda x: x['long'][len(x['short']):], axis = 1)\n",
    "fakt_articles = fakt_articles[['title', 'short', 'long']]\n",
    "fakt_articles = fakt_articles[fakt_articles['title'].duplicated() == False]\n",
    "fakt_articles['website'] = 'fakt'\n",
    "fakt_articles['country'] = 'de/ch'\n",
    "fakt_articles['brand'] = 'ringier'\n",
    "fakt_articles = fakt_articles.dropna()"
   ]
  },
  {
   "cell_type": "code",
   "execution_count": 18,
   "metadata": {
    "hidden": true
   },
   "outputs": [
    {
     "data": {
      "text/plain": [
       "19165"
      ]
     },
     "execution_count": 18,
     "metadata": {},
     "output_type": "execute_result"
    }
   ],
   "source": [
    "len(fakt_articles)"
   ]
  },
  {
   "cell_type": "code",
   "execution_count": 19,
   "metadata": {
    "hidden": true
   },
   "outputs": [
    {
     "data": {
      "text/html": [
       "<div>\n",
       "<style scoped>\n",
       "    .dataframe tbody tr th:only-of-type {\n",
       "        vertical-align: middle;\n",
       "    }\n",
       "\n",
       "    .dataframe tbody tr th {\n",
       "        vertical-align: top;\n",
       "    }\n",
       "\n",
       "    .dataframe thead th {\n",
       "        text-align: right;\n",
       "    }\n",
       "</style>\n",
       "<table border=\"1\" class=\"dataframe\">\n",
       "  <thead>\n",
       "    <tr style=\"text-align: right;\">\n",
       "      <th></th>\n",
       "      <th>title</th>\n",
       "      <th>short</th>\n",
       "      <th>long</th>\n",
       "      <th>website</th>\n",
       "      <th>country</th>\n",
       "      <th>brand</th>\n",
       "    </tr>\n",
       "  </thead>\n",
       "  <tbody>\n",
       "    <tr>\n",
       "      <th>0</th>\n",
       "      <td>Pierwsze posiedzenie Sejmu. Przemówienie Andrz...</td>\n",
       "      <td>Pierwsze posiedzenie Sejmu otworzył marszałek ...</td>\n",
       "      <td>Andrzej Duda wygłosił orędzie na inauguracyjn...</td>\n",
       "      <td>fakt</td>\n",
       "      <td>de/ch</td>\n",
       "      <td>ringier</td>\n",
       "    </tr>\n",
       "    <tr>\n",
       "      <th>1</th>\n",
       "      <td>Jędraszewski o gender, LGBT i karcie WHO: \"Obł...</td>\n",
       "      <td>Abp. Marek Jędraszewski wygłosił kazanie podcz...</td>\n",
       "      <td>Homilii arcybiskupa Marka Jędraszewskiego słu...</td>\n",
       "      <td>fakt</td>\n",
       "      <td>de/ch</td>\n",
       "      <td>ringier</td>\n",
       "    </tr>\n",
       "    <tr>\n",
       "      <th>2</th>\n",
       "      <td>Hołownia zdradził, ile do tej pory wyłożył z w...</td>\n",
       "      <td>Szymon Hołownia w niedzielę ogłosił swój start...</td>\n",
       "      <td>Szymon Hołownia w miniony weekend w Teatrze S...</td>\n",
       "      <td>fakt</td>\n",
       "      <td>de/ch</td>\n",
       "      <td>ringier</td>\n",
       "    </tr>\n",
       "  </tbody>\n",
       "</table>\n",
       "</div>"
      ],
      "text/plain": [
       "                                               title  \\\n",
       "0  Pierwsze posiedzenie Sejmu. Przemówienie Andrz...   \n",
       "1  Jędraszewski o gender, LGBT i karcie WHO: \"Obł...   \n",
       "2  Hołownia zdradził, ile do tej pory wyłożył z w...   \n",
       "\n",
       "                                               short  \\\n",
       "0  Pierwsze posiedzenie Sejmu otworzył marszałek ...   \n",
       "1  Abp. Marek Jędraszewski wygłosił kazanie podcz...   \n",
       "2  Szymon Hołownia w niedzielę ogłosił swój start...   \n",
       "\n",
       "                                                long website country    brand  \n",
       "0   Andrzej Duda wygłosił orędzie na inauguracyjn...    fakt   de/ch  ringier  \n",
       "1   Homilii arcybiskupa Marka Jędraszewskiego słu...    fakt   de/ch  ringier  \n",
       "2   Szymon Hołownia w miniony weekend w Teatrze S...    fakt   de/ch  ringier  "
      ]
     },
     "execution_count": 19,
     "metadata": {},
     "output_type": "execute_result"
    }
   ],
   "source": [
    "fakt_articles.head(3)"
   ]
  },
  {
   "cell_type": "markdown",
   "metadata": {
    "heading_collapsed": true,
    "hidden": true
   },
   "source": [
    "## Onet"
   ]
  },
  {
   "cell_type": "code",
   "execution_count": 20,
   "metadata": {
    "hidden": true
   },
   "outputs": [],
   "source": [
    "onet_articles = []\n",
    "for filename in listdir('data/onet/articles'):\n",
    "    tmp_df = pd.read_csv('data/onet/articles/'+filename, header = None)\n",
    "    try:\n",
    "        tmp_df.columns = ['url', 'title', 'short', 'long', 'img', 'com',]\n",
    "    except:\n",
    "        tmp_df.columns = ['title', 'short', 'long', 'img', 'com',]\n",
    "    # tmp_df[filename] = 1\n",
    "    onet_articles.append(tmp_df)\n",
    "onet_articles = pd.concat(onet_articles, sort = False)\n",
    "onet_articles = onet_articles[['title', 'short', 'long']]\n",
    "onet_articles = onet_articles[onet_articles['title'].duplicated() == False]\n",
    "onet_articles = onet_articles.dropna()\n",
    "onet_articles['website'] = 'onet'\n",
    "onet_articles['country'] = 'de/ch'\n",
    "onet_articles['brand'] = 'ringier'"
   ]
  },
  {
   "cell_type": "code",
   "execution_count": 21,
   "metadata": {
    "hidden": true
   },
   "outputs": [
    {
     "data": {
      "text/plain": [
       "1073"
      ]
     },
     "execution_count": 21,
     "metadata": {},
     "output_type": "execute_result"
    }
   ],
   "source": [
    "len(onet_articles)"
   ]
  },
  {
   "cell_type": "code",
   "execution_count": 22,
   "metadata": {
    "hidden": true
   },
   "outputs": [
    {
     "data": {
      "text/html": [
       "<div>\n",
       "<style scoped>\n",
       "    .dataframe tbody tr th:only-of-type {\n",
       "        vertical-align: middle;\n",
       "    }\n",
       "\n",
       "    .dataframe tbody tr th {\n",
       "        vertical-align: top;\n",
       "    }\n",
       "\n",
       "    .dataframe thead th {\n",
       "        text-align: right;\n",
       "    }\n",
       "</style>\n",
       "<table border=\"1\" class=\"dataframe\">\n",
       "  <thead>\n",
       "    <tr style=\"text-align: right;\">\n",
       "      <th></th>\n",
       "      <th>title</th>\n",
       "      <th>short</th>\n",
       "      <th>long</th>\n",
       "      <th>website</th>\n",
       "      <th>country</th>\n",
       "      <th>brand</th>\n",
       "    </tr>\n",
       "  </thead>\n",
       "  <tbody>\n",
       "    <tr>\n",
       "      <th>0</th>\n",
       "      <td>Sondaż IBRiS dla Onetu. Spadają notowania Andr...</td>\n",
       "      <td>Prezydent Andrzej Duda cieszy się najwyższym z...</td>\n",
       "      <td>Andrzej Duda od wielu miesięcy cieszy się najw...</td>\n",
       "      <td>onet</td>\n",
       "      <td>de/ch</td>\n",
       "      <td>ringier</td>\n",
       "    </tr>\n",
       "    <tr>\n",
       "      <th>1</th>\n",
       "      <td>Bogdan Klich: to wielki strategiczny błąd prez...</td>\n",
       "      <td>- Decyzja wycofania polskich wojsk z Iraku pow...</td>\n",
       "      <td>- Głos opozycji jest niezbędny i trzeba go wys...</td>\n",
       "      <td>onet</td>\n",
       "      <td>de/ch</td>\n",
       "      <td>ringier</td>\n",
       "    </tr>\n",
       "    <tr>\n",
       "      <th>2</th>\n",
       "      <td>Izraelskie media informują o decyzji prezydent...</td>\n",
       "      <td>Izraelskie media informują za agencjami prasow...</td>\n",
       "      <td>Andrzej Duda, którego nie poproszono o wystąpi...</td>\n",
       "      <td>onet</td>\n",
       "      <td>de/ch</td>\n",
       "      <td>ringier</td>\n",
       "    </tr>\n",
       "  </tbody>\n",
       "</table>\n",
       "</div>"
      ],
      "text/plain": [
       "                                               title  \\\n",
       "0  Sondaż IBRiS dla Onetu. Spadają notowania Andr...   \n",
       "1  Bogdan Klich: to wielki strategiczny błąd prez...   \n",
       "2  Izraelskie media informują o decyzji prezydent...   \n",
       "\n",
       "                                               short  \\\n",
       "0  Prezydent Andrzej Duda cieszy się najwyższym z...   \n",
       "1  - Decyzja wycofania polskich wojsk z Iraku pow...   \n",
       "2  Izraelskie media informują za agencjami prasow...   \n",
       "\n",
       "                                                long website country    brand  \n",
       "0  Andrzej Duda od wielu miesięcy cieszy się najw...    onet   de/ch  ringier  \n",
       "1  - Głos opozycji jest niezbędny i trzeba go wys...    onet   de/ch  ringier  \n",
       "2  Andrzej Duda, którego nie poproszono o wystąpi...    onet   de/ch  ringier  "
      ]
     },
     "execution_count": 22,
     "metadata": {},
     "output_type": "execute_result"
    }
   ],
   "source": [
    "onet_articles.head(3)"
   ]
  },
  {
   "cell_type": "markdown",
   "metadata": {
    "heading_collapsed": true,
    "hidden": true
   },
   "source": [
    "## Newsweek"
   ]
  },
  {
   "cell_type": "code",
   "execution_count": 23,
   "metadata": {
    "hidden": true
   },
   "outputs": [],
   "source": [
    "newsweek_articles = []\n",
    "for filename in listdir('data/newsweek/articles'):\n",
    "    tmp_df = pd.read_csv('data/newsweek/articles/'+filename, header = None)\n",
    "    tmp_df.columns = ['title', 'short', 'long', 'img', 'com',]\n",
    "    newsweek_articles.append(tmp_df)\n",
    "newsweek_articles = pd.concat(newsweek_articles, sort = False)\n",
    "newsweek_articles = newsweek_articles[['title', 'short', 'long']]\n",
    "newsweek_articles = newsweek_articles[newsweek_articles['title'].duplicated() == False]\n",
    "newsweek_articles = newsweek_articles.dropna()"
   ]
  },
  {
   "cell_type": "code",
   "execution_count": 24,
   "metadata": {
    "hidden": true
   },
   "outputs": [
    {
     "data": {
      "text/plain": [
       "1605"
      ]
     },
     "execution_count": 24,
     "metadata": {},
     "output_type": "execute_result"
    }
   ],
   "source": [
    "len(newsweek_articles)"
   ]
  },
  {
   "cell_type": "code",
   "execution_count": 25,
   "metadata": {
    "hidden": true
   },
   "outputs": [
    {
     "data": {
      "text/html": [
       "<div>\n",
       "<style scoped>\n",
       "    .dataframe tbody tr th:only-of-type {\n",
       "        vertical-align: middle;\n",
       "    }\n",
       "\n",
       "    .dataframe tbody tr th {\n",
       "        vertical-align: top;\n",
       "    }\n",
       "\n",
       "    .dataframe thead th {\n",
       "        text-align: right;\n",
       "    }\n",
       "</style>\n",
       "<table border=\"1\" class=\"dataframe\">\n",
       "  <thead>\n",
       "    <tr style=\"text-align: right;\">\n",
       "      <th></th>\n",
       "      <th>title</th>\n",
       "      <th>short</th>\n",
       "      <th>long</th>\n",
       "    </tr>\n",
       "  </thead>\n",
       "  <tbody>\n",
       "    <tr>\n",
       "      <th>0</th>\n",
       "      <td>OPINIA\\nPiS tak zohydza Unię Europejską, że wk...</td>\n",
       "      <td>Prezes Jarosław Kaczyński chce stworzyć nowe z...</td>\n",
       "      <td>Spektakl zatytułowany „zła unia” miał w minion...</td>\n",
       "    </tr>\n",
       "    <tr>\n",
       "      <th>1</th>\n",
       "      <td>„Jestem przekonany, że Biedroń będzie gryzł tr...</td>\n",
       "      <td>Jedną nogą w Brukseli Robert Biedroń chce walc...</td>\n",
       "      <td>Po niedzielnej konwencji w Słupsku, na której ...</td>\n",
       "    </tr>\n",
       "    <tr>\n",
       "      <th>2</th>\n",
       "      <td>Andrzej Duda walczy o wyborców Konfederacji?„N...</td>\n",
       "      <td>– Mam nadzieję, że mimo huraganowych ataków, k...</td>\n",
       "      <td>Kampania prezydencka jeszcze się nie rozpoczęł...</td>\n",
       "    </tr>\n",
       "  </tbody>\n",
       "</table>\n",
       "</div>"
      ],
      "text/plain": [
       "                                               title  \\\n",
       "0  OPINIA\\nPiS tak zohydza Unię Europejską, że wk...   \n",
       "1  „Jestem przekonany, że Biedroń będzie gryzł tr...   \n",
       "2  Andrzej Duda walczy o wyborców Konfederacji?„N...   \n",
       "\n",
       "                                               short  \\\n",
       "0  Prezes Jarosław Kaczyński chce stworzyć nowe z...   \n",
       "1  Jedną nogą w Brukseli Robert Biedroń chce walc...   \n",
       "2  – Mam nadzieję, że mimo huraganowych ataków, k...   \n",
       "\n",
       "                                                long  \n",
       "0  Spektakl zatytułowany „zła unia” miał w minion...  \n",
       "1  Po niedzielnej konwencji w Słupsku, na której ...  \n",
       "2  Kampania prezydencka jeszcze się nie rozpoczęł...  "
      ]
     },
     "execution_count": 25,
     "metadata": {},
     "output_type": "execute_result"
    }
   ],
   "source": [
    "newsweek_articles.head(3)"
   ]
  },
  {
   "cell_type": "markdown",
   "metadata": {
    "heading_collapsed": true,
    "hidden": true
   },
   "source": [
    "## TVN"
   ]
  },
  {
   "cell_type": "code",
   "execution_count": null,
   "metadata": {
    "hidden": true
   },
   "outputs": [],
   "source": []
  },
  {
   "cell_type": "code",
   "execution_count": null,
   "metadata": {
    "hidden": true
   },
   "outputs": [],
   "source": []
  },
  {
   "cell_type": "code",
   "execution_count": null,
   "metadata": {
    "hidden": true
   },
   "outputs": [],
   "source": []
  },
  {
   "cell_type": "code",
   "execution_count": null,
   "metadata": {
    "hidden": true
   },
   "outputs": [],
   "source": []
  },
  {
   "cell_type": "markdown",
   "metadata": {
    "heading_collapsed": true,
    "hidden": true
   },
   "source": [
    "## Concentrate data"
   ]
  },
  {
   "cell_type": "code",
   "execution_count": 26,
   "metadata": {
    "hidden": true
   },
   "outputs": [],
   "source": [
    "df = pd.concat([\n",
    "    wyborcza_articles,\n",
    "    gazeta_articles,\n",
    "    fakt_articles,\n",
    "    onet_articles,\n",
    "    newsweek_articles,\n",
    "], axis = 0, sort = False)"
   ]
  },
  {
   "cell_type": "code",
   "execution_count": 27,
   "metadata": {
    "hidden": true
   },
   "outputs": [
    {
     "data": {
      "text/html": [
       "<div>\n",
       "<style scoped>\n",
       "    .dataframe tbody tr th:only-of-type {\n",
       "        vertical-align: middle;\n",
       "    }\n",
       "\n",
       "    .dataframe tbody tr th {\n",
       "        vertical-align: top;\n",
       "    }\n",
       "\n",
       "    .dataframe thead th {\n",
       "        text-align: right;\n",
       "    }\n",
       "</style>\n",
       "<table border=\"1\" class=\"dataframe\">\n",
       "  <thead>\n",
       "    <tr style=\"text-align: right;\">\n",
       "      <th></th>\n",
       "      <th>title</th>\n",
       "      <th>short</th>\n",
       "      <th>long</th>\n",
       "      <th>website</th>\n",
       "      <th>brand</th>\n",
       "      <th>country</th>\n",
       "    </tr>\n",
       "  </thead>\n",
       "  <tbody>\n",
       "    <tr>\n",
       "      <th>434</th>\n",
       "      <td>Kłamstwo prokuratora pogrąży Trumpa?</td>\n",
       "      <td>\"Washington Post\" donosi, że Jeff Sessions pro...</td>\n",
       "      <td>Do spotkania Jeffa Sessionsa i rosyjskiego am...</td>\n",
       "      <td>fakt</td>\n",
       "      <td>ringier</td>\n",
       "      <td>de/ch</td>\n",
       "    </tr>\n",
       "    <tr>\n",
       "      <th>43</th>\n",
       "      <td>Antoni Macierewicz zarzuca Tomaszowi Piątkowi ...</td>\n",
       "      <td>Departament ds. Wojskowych Prokuratury Krajowe...</td>\n",
       "      <td>Chodzi o książkę \"Macierewicz i jego tajemnice...</td>\n",
       "      <td>wyborcza</td>\n",
       "      <td>agora</td>\n",
       "      <td>pl</td>\n",
       "    </tr>\n",
       "    <tr>\n",
       "      <th>48</th>\n",
       "      <td>Serialowa Sansa z \"Gry o tron\" zrobiła sobie w...</td>\n",
       "      <td>Sophie Turner, czyli Sansa Stark z \"Gry o tron...</td>\n",
       "      <td>\"Gra o tron\". Fani serialu na ostatni sezon mu...</td>\n",
       "      <td>gazeta</td>\n",
       "      <td>agora</td>\n",
       "      <td>pl</td>\n",
       "    </tr>\n",
       "  </tbody>\n",
       "</table>\n",
       "</div>"
      ],
      "text/plain": [
       "                                                 title  \\\n",
       "434               Kłamstwo prokuratora pogrąży Trumpa?   \n",
       "43   Antoni Macierewicz zarzuca Tomaszowi Piątkowi ...   \n",
       "48   Serialowa Sansa z \"Gry o tron\" zrobiła sobie w...   \n",
       "\n",
       "                                                 short  \\\n",
       "434  \"Washington Post\" donosi, że Jeff Sessions pro...   \n",
       "43   Departament ds. Wojskowych Prokuratury Krajowe...   \n",
       "48   Sophie Turner, czyli Sansa Stark z \"Gry o tron...   \n",
       "\n",
       "                                                  long   website    brand  \\\n",
       "434   Do spotkania Jeffa Sessionsa i rosyjskiego am...      fakt  ringier   \n",
       "43   Chodzi o książkę \"Macierewicz i jego tajemnice...  wyborcza    agora   \n",
       "48   \"Gra o tron\". Fani serialu na ostatni sezon mu...    gazeta    agora   \n",
       "\n",
       "    country  \n",
       "434   de/ch  \n",
       "43       pl  \n",
       "48       pl  "
      ]
     },
     "execution_count": 27,
     "metadata": {},
     "output_type": "execute_result"
    }
   ],
   "source": [
    "df.sample(3).head(3)"
   ]
  },
  {
   "cell_type": "markdown",
   "metadata": {
    "heading_collapsed": true,
    "hidden": true
   },
   "source": [
    "## Data check"
   ]
  },
  {
   "cell_type": "code",
   "execution_count": 28,
   "metadata": {
    "hidden": true
   },
   "outputs": [
    {
     "data": {
      "text/plain": [
       "array([['\"Kościół, żądając listy klinik, gdzie zgodnie z prawem można przeprowadzić aborcję, wznieca pożar. Może go nie ugasić\"',\n",
       "        '\"Kościele, zacznij bronić życia naprawdę, nie dla władzy nad ciałami kobiet\" - pisze Jarosław Makowski, szef Instytutu Obywatelskiego. Przekonuje, że Kościół, żądając listy klinik, gdzie zgodnie z prawem można przeprowadzić aborcję, wznieca pożar. Może go nie ugasić.',\n",
       "        'Kościół bawi się dziś zapałkami. Tak trzeba nazwać pomysł polityka Kazimierza Jaworskiego, podkarpackiego senatora Polski Razem (wcześniej PiS-u i Solidarnej Polski), który domaga się od Ministerstwa Zdrowia listy placówek, gdzie zgodnie z prawem można przeprowadzić aborcję. Koncept polityka prawicy popiera rzeszowski biskup Jan Wątroba, przewodniczący rady ds. rodziny Konferencji Episkopatu Polski. Dlaczego Kościołowi także zależy na tej liście? By, jak z rozbrajającą szczerością wyjaśnia biskup, nie pozwolić na to, aby \"ludzie wierzący musieli leczyć się w placówkach, w których morduje się nienarodzone dzieci\".\\n\\nPrzypomnijmy, że dziś zgodnie z prawem ciążę można usunąć w trzech przypadkach: jeżeli zagraża ona życiu lub zdrowiu kobiety; jeżeli istnieje duże prawdopodobieństwo ciężkiego i nieodwracalnego upośledzenia płodu albo nieuleczalnej choroby zagrażającej jego życiu; jeżeli ciąża jest wynikiem przestępstwa, np. gwałtu albo kazirodztwa. Kościoła tzw. kompromis aborcyjny nie satysfakcjonuje. Dlaczego?\\n\\n\"Katolickie państwo\" w demokratycznym\\n\\nPo pierwsze, hierarchowie są moralnie szantażowani przez prawicowych polityków i działaczy pro-life, którzy chcą być świętsi od papieża. Skoro świeccy, katoliccy fundamentaliści domagają się ochrony życia od \"momentu poczęcia\", to biskupi nie mają wyjścia. Działacze pro-life przystawili im dziś karabin do skroni.\\n\\nPo drugie, jest jasne, że dziś nie ma społecznego przyzwolenia na dalsze zaostrzenie prawa antyaborcyjnego. Dlatego Kościół domaga się stworzenia \"katolickiego państwa\" w \"demokratycznym państwie\". Stąd potrzebny jest spis sieci placówek medycznych, które dostępne byłyby w internecie - placówek, które w sposób bezwzględny stosowałyby kościelne nauczanie dotyczące rozrodczości. Idąc tym tropem i będąc konsekwentnym, Kościół za chwilę powinien zażądać stworzenia sieci szkół, gdzie nie mówiłoby się uczniom o ewolucji, a jedynie o kreacjonizmie itd.\\n\\nKościół strzela sobie w kolano\\n\\nPo trzecie, Kościół, popierając podobne pomysły prawicowych polityków, którzy nierzadko okazują się \"grzesznymi moralistami\", strzela sobie w kolano. Jeśli Kościół chce listy placówek medycznych, gdzie przeprowadza się legalne aborcje, to - jak zauważyli internauci - my chcemy listy parafii, gdzie pracują \"księża pedofile, alkoholicy i ci, którzy mają kochanki\". Nie wiem, czy w interesie Kościoła jest prowadzenie dialogu podług takiej logiki?\\n\\nI kwestia ostatnia: słuchając o takich inicjatywach Kościoła jak stworzenie listy placówek, gdzie zgodnie z prawem można przeprowadzić aborcję, zaczynam wierzyć, że diabeł istnieje i w Kościele działa sprawnie. Czy biskupi nie zdają sobie sprawy, że taka lista to zachęta dla katolickich fundamentalistów pro-life, by pikietować przed placówkami medycznymi, urządzać protesty, szykanować personel? A w najgorszym przypadku, by - jak kiedyś w USA - podkładać pod takie placówki bomby? Czy Kościół chce wziąć odpowiedzialność za zamach, do którego - nie daj Boże - może dojść w sytuacji kulturowej wojny?\\n\\nZacznijcie bronić życia naprawdę...\\n\\nMam poczucie, że metody, jakie Kościół wybrał, by bronić życia, de facto są przeciwskuteczne. Sprowadzają kwestię życia do politycznego narzędzia o władzę.\\n\\nDlaczego? Posłuchajcie historii, którą opowiadał ks. Józef Tischner. I niech to też będzie pointa: \"Studentka zachodzi w ciążę z narzeczonym, człowiekiem rozkręcającym prywatne przedsiębiorstwo. Dziewczyna jest jedynaczką z mieszczańskiego domu. Obydwoje uważają się za wierzących, choć rzadko praktykują. Rodzice dziewczyny to wierzący i praktykujący katolicy. Pierwsza reakcja dziewczyny: przerwać ciążę. Po dramatycznych rozmowach z koleżankami dziewczyna postanawia urodzić. Informuje o tym narzeczonego i swoich rodziców. Wtedy zaczyna się piekło. Narzeczony i rodzice uruchamiają łańcuch argumentów i szantaży. Dziewczyna nie wytrzymuje i poddaje się zabiegowi. (...) Zapytana, dlaczego nie szukała pomocy w Kościele, odpowiada: ? Bałam się. Widziałam przecież napisy w gablotach. Nie widziałam napisu: Przyjdź, pomożemy Ci ?. Rozmowa odbywała się w klinice psychiatrycznej\".\\n\\nKościele, zacznij bronić życia naprawdę, nie dla władzy nad ciałami kobiet.\\n\\nTekst został opublikowany na stronie tygodnika \"Polityka\" >>',\n",
       "        'gazeta', 'agora', 'pl']], dtype=object)"
      ]
     },
     "execution_count": 28,
     "metadata": {},
     "output_type": "execute_result"
    }
   ],
   "source": [
    "df.sample(1).values"
   ]
  },
  {
   "cell_type": "code",
   "execution_count": 29,
   "metadata": {
    "hidden": true
   },
   "outputs": [],
   "source": [
    "df['long'] = df['long'].str.replace('\\n\\n', ' ').str.replace('\\n', ' ')"
   ]
  },
  {
   "cell_type": "markdown",
   "metadata": {
    "hidden": true
   },
   "source": [
    "## Add keywords"
   ]
  },
  {
   "cell_type": "code",
   "execution_count": 30,
   "metadata": {
    "hidden": true
   },
   "outputs": [],
   "source": [
    "df['whole_string'] = (df['title'] +' '+ df['short'] +' '+ df['long'])"
   ]
  },
  {
   "cell_type": "code",
   "execution_count": 31,
   "metadata": {
    "hidden": true
   },
   "outputs": [],
   "source": [
    "for keyword, regex in keyword_regex.items():\n",
    "    df[keyword] = df['whole_string'].str.contains(regex)"
   ]
  },
  {
   "cell_type": "code",
   "execution_count": 32,
   "metadata": {
    "hidden": true
   },
   "outputs": [
    {
     "data": {
      "text/plain": [
       "31816"
      ]
     },
     "execution_count": 32,
     "metadata": {},
     "output_type": "execute_result"
    }
   ],
   "source": [
    "df['pis'].sum()"
   ]
  },
  {
   "cell_type": "code",
   "execution_count": 33,
   "metadata": {
    "hidden": true
   },
   "outputs": [
    {
     "data": {
      "text/html": [
       "<div>\n",
       "<style scoped>\n",
       "    .dataframe tbody tr th:only-of-type {\n",
       "        vertical-align: middle;\n",
       "    }\n",
       "\n",
       "    .dataframe tbody tr th {\n",
       "        vertical-align: top;\n",
       "    }\n",
       "\n",
       "    .dataframe thead th {\n",
       "        text-align: right;\n",
       "    }\n",
       "</style>\n",
       "<table border=\"1\" class=\"dataframe\">\n",
       "  <thead>\n",
       "    <tr style=\"text-align: right;\">\n",
       "      <th></th>\n",
       "      <th>title</th>\n",
       "      <th>short</th>\n",
       "      <th>long</th>\n",
       "      <th>website</th>\n",
       "      <th>brand</th>\n",
       "      <th>country</th>\n",
       "      <th>whole_string</th>\n",
       "      <th>pis</th>\n",
       "    </tr>\n",
       "  </thead>\n",
       "  <tbody>\n",
       "    <tr>\n",
       "      <th>8</th>\n",
       "      <td>Talerze plastikowe wielokrotnego użytku. Na ty...</td>\n",
       "      <td>- Kiedy ostatnio leżałam w szpitalu, zdziwiłam...</td>\n",
       "      <td>Kobieta leczyła się w Świętokrzyskim Centrum M...</td>\n",
       "      <td>wyborcza</td>\n",
       "      <td>agora</td>\n",
       "      <td>pl</td>\n",
       "      <td>Talerze plastikowe wielokrotnego użytku. Na ty...</td>\n",
       "      <td>True</td>\n",
       "    </tr>\n",
       "    <tr>\n",
       "      <th>24</th>\n",
       "      <td>Platforma kupiła Razem dla Opola?</td>\n",
       "      <td>Zgrzytów w koalicji rządzącej Opolem przy uchw...</td>\n",
       "      <td>Choć wydawało się, że idealnym momentem do roz...</td>\n",
       "      <td>wyborcza</td>\n",
       "      <td>agora</td>\n",
       "      <td>pl</td>\n",
       "      <td>Platforma kupiła Razem dla Opola? Zgrzytów w k...</td>\n",
       "      <td>True</td>\n",
       "    </tr>\n",
       "    <tr>\n",
       "      <th>33</th>\n",
       "      <td>Diabeł dotarł do mojej pychy</td>\n",
       "      <td>Vlasta Chramostova napisała na skrawku papieru...</td>\n",
       "      <td>Co by było, gdybym cię powiesił, moja droga? -...</td>\n",
       "      <td>wyborcza</td>\n",
       "      <td>agora</td>\n",
       "      <td>pl</td>\n",
       "      <td>Diabeł dotarł do mojej pychy Vlasta Chramostov...</td>\n",
       "      <td>True</td>\n",
       "    </tr>\n",
       "    <tr>\n",
       "      <th>34</th>\n",
       "      <td>Polityka w internecie. Spokojna kampania przed...</td>\n",
       "      <td>Przed pierwszą turą wyborów samorządowych ostr...</td>\n",
       "      <td>4 listopada odbędzie się druga tura wyborów wó...</td>\n",
       "      <td>wyborcza</td>\n",
       "      <td>agora</td>\n",
       "      <td>pl</td>\n",
       "      <td>Polityka w internecie. Spokojna kampania przed...</td>\n",
       "      <td>True</td>\n",
       "    </tr>\n",
       "    <tr>\n",
       "      <th>36</th>\n",
       "      <td>Zielone expo z pierwszymi milionami w budżecie...</td>\n",
       "      <td>Rada miejska przekazała 3,5 mln zł na pierwszy...</td>\n",
       "      <td>W 2024 r. Łódź zorganizuje Expo Horticultural....</td>\n",
       "      <td>wyborcza</td>\n",
       "      <td>agora</td>\n",
       "      <td>pl</td>\n",
       "      <td>Zielone expo z pierwszymi milionami w budżecie...</td>\n",
       "      <td>True</td>\n",
       "    </tr>\n",
       "    <tr>\n",
       "      <th>...</th>\n",
       "      <td>...</td>\n",
       "      <td>...</td>\n",
       "      <td>...</td>\n",
       "      <td>...</td>\n",
       "      <td>...</td>\n",
       "      <td>...</td>\n",
       "      <td>...</td>\n",
       "      <td>...</td>\n",
       "    </tr>\n",
       "    <tr>\n",
       "      <th>73</th>\n",
       "      <td>OPINIA\\nSchizma, albo rewolucja. Niemieccy bis...</td>\n",
       "      <td>Niemieccy biskupi są o krok od zmian obalający...</td>\n",
       "      <td>Popłoch wśród kościelnych konserwatystów. W po...</td>\n",
       "      <td>NaN</td>\n",
       "      <td>NaN</td>\n",
       "      <td>NaN</td>\n",
       "      <td>OPINIA\\nSchizma, albo rewolucja. Niemieccy bis...</td>\n",
       "      <td>True</td>\n",
       "    </tr>\n",
       "    <tr>\n",
       "      <th>74</th>\n",
       "      <td>OPINIA\\nBrudna kasa Kościoła</td>\n",
       "      <td>Zaraz po swoim wyborze w 2013 roku Franciszek ...</td>\n",
       "      <td>Życie Watykanu to nie tylko modlitwa, post i j...</td>\n",
       "      <td>NaN</td>\n",
       "      <td>NaN</td>\n",
       "      <td>NaN</td>\n",
       "      <td>OPINIA\\nBrudna kasa Kościoła Zaraz po swoim wy...</td>\n",
       "      <td>True</td>\n",
       "    </tr>\n",
       "    <tr>\n",
       "      <th>76</th>\n",
       "      <td>Arcybiskup Jędraszewski nagle zwolnił z pracy ...</td>\n",
       "      <td>Arcybiskup Marek Jędraszewski zlikwidował biur...</td>\n",
       "      <td>„Chciałam ostatni raz w roli kierującej biurem...</td>\n",
       "      <td>NaN</td>\n",
       "      <td>NaN</td>\n",
       "      <td>NaN</td>\n",
       "      <td>Arcybiskup Jędraszewski nagle zwolnił z pracy ...</td>\n",
       "      <td>True</td>\n",
       "    </tr>\n",
       "    <tr>\n",
       "      <th>83</th>\n",
       "      <td>Księża zatraceni</td>\n",
       "      <td>Polski Kościół nie chce wracać do sprawy księż...</td>\n",
       "      <td>Agent o kryptonimie Roman był zakonnikiem, wie...</td>\n",
       "      <td>NaN</td>\n",
       "      <td>NaN</td>\n",
       "      <td>NaN</td>\n",
       "      <td>Księża zatraceni Polski Kościół nie chce wraca...</td>\n",
       "      <td>True</td>\n",
       "    </tr>\n",
       "    <tr>\n",
       "      <th>86</th>\n",
       "      <td>Powód zawsze się znalazł. Jak rozwodzili się P...</td>\n",
       "      <td>Gdyby nasi konserwatywni politycy, tak często ...</td>\n",
       "      <td>Udowodnienie zdrady małżeńskiej jest uznawane ...</td>\n",
       "      <td>NaN</td>\n",
       "      <td>NaN</td>\n",
       "      <td>NaN</td>\n",
       "      <td>Powód zawsze się znalazł. Jak rozwodzili się P...</td>\n",
       "      <td>True</td>\n",
       "    </tr>\n",
       "  </tbody>\n",
       "</table>\n",
       "<p>31816 rows × 8 columns</p>\n",
       "</div>"
      ],
      "text/plain": [
       "                                                title  \\\n",
       "8   Talerze plastikowe wielokrotnego użytku. Na ty...   \n",
       "24                  Platforma kupiła Razem dla Opola?   \n",
       "33                       Diabeł dotarł do mojej pychy   \n",
       "34  Polityka w internecie. Spokojna kampania przed...   \n",
       "36  Zielone expo z pierwszymi milionami w budżecie...   \n",
       "..                                                ...   \n",
       "73  OPINIA\\nSchizma, albo rewolucja. Niemieccy bis...   \n",
       "74                       OPINIA\\nBrudna kasa Kościoła   \n",
       "76  Arcybiskup Jędraszewski nagle zwolnił z pracy ...   \n",
       "83                                   Księża zatraceni   \n",
       "86  Powód zawsze się znalazł. Jak rozwodzili się P...   \n",
       "\n",
       "                                                short  \\\n",
       "8   - Kiedy ostatnio leżałam w szpitalu, zdziwiłam...   \n",
       "24  Zgrzytów w koalicji rządzącej Opolem przy uchw...   \n",
       "33  Vlasta Chramostova napisała na skrawku papieru...   \n",
       "34  Przed pierwszą turą wyborów samorządowych ostr...   \n",
       "36  Rada miejska przekazała 3,5 mln zł na pierwszy...   \n",
       "..                                                ...   \n",
       "73  Niemieccy biskupi są o krok od zmian obalający...   \n",
       "74  Zaraz po swoim wyborze w 2013 roku Franciszek ...   \n",
       "76  Arcybiskup Marek Jędraszewski zlikwidował biur...   \n",
       "83  Polski Kościół nie chce wracać do sprawy księż...   \n",
       "86  Gdyby nasi konserwatywni politycy, tak często ...   \n",
       "\n",
       "                                                 long   website  brand  \\\n",
       "8   Kobieta leczyła się w Świętokrzyskim Centrum M...  wyborcza  agora   \n",
       "24  Choć wydawało się, że idealnym momentem do roz...  wyborcza  agora   \n",
       "33  Co by było, gdybym cię powiesił, moja droga? -...  wyborcza  agora   \n",
       "34  4 listopada odbędzie się druga tura wyborów wó...  wyborcza  agora   \n",
       "36  W 2024 r. Łódź zorganizuje Expo Horticultural....  wyborcza  agora   \n",
       "..                                                ...       ...    ...   \n",
       "73  Popłoch wśród kościelnych konserwatystów. W po...       NaN    NaN   \n",
       "74  Życie Watykanu to nie tylko modlitwa, post i j...       NaN    NaN   \n",
       "76  „Chciałam ostatni raz w roli kierującej biurem...       NaN    NaN   \n",
       "83  Agent o kryptonimie Roman był zakonnikiem, wie...       NaN    NaN   \n",
       "86  Udowodnienie zdrady małżeńskiej jest uznawane ...       NaN    NaN   \n",
       "\n",
       "   country                                       whole_string   pis  \n",
       "8       pl  Talerze plastikowe wielokrotnego użytku. Na ty...  True  \n",
       "24      pl  Platforma kupiła Razem dla Opola? Zgrzytów w k...  True  \n",
       "33      pl  Diabeł dotarł do mojej pychy Vlasta Chramostov...  True  \n",
       "34      pl  Polityka w internecie. Spokojna kampania przed...  True  \n",
       "36      pl  Zielone expo z pierwszymi milionami w budżecie...  True  \n",
       "..     ...                                                ...   ...  \n",
       "73     NaN  OPINIA\\nSchizma, albo rewolucja. Niemieccy bis...  True  \n",
       "74     NaN  OPINIA\\nBrudna kasa Kościoła Zaraz po swoim wy...  True  \n",
       "76     NaN  Arcybiskup Jędraszewski nagle zwolnił z pracy ...  True  \n",
       "83     NaN  Księża zatraceni Polski Kościół nie chce wraca...  True  \n",
       "86     NaN  Powód zawsze się znalazł. Jak rozwodzili się P...  True  \n",
       "\n",
       "[31816 rows x 8 columns]"
      ]
     },
     "execution_count": 33,
     "metadata": {},
     "output_type": "execute_result"
    }
   ],
   "source": [
    "df[df['pis'] == True]"
   ]
  },
  {
   "cell_type": "code",
   "execution_count": null,
   "metadata": {
    "hidden": true
   },
   "outputs": [],
   "source": []
  },
  {
   "cell_type": "code",
   "execution_count": 34,
   "metadata": {
    "hidden": true
   },
   "outputs": [
    {
     "data": {
      "text/plain": [
       "whole_string    True\n",
       "Name: 81, dtype: bool"
      ]
     },
     "execution_count": 34,
     "metadata": {},
     "output_type": "execute_result"
    }
   ],
   "source": [
    "df.iloc[76][['whole_string']].str.contains(regex)"
   ]
  },
  {
   "cell_type": "code",
   "execution_count": 35,
   "metadata": {
    "hidden": true
   },
   "outputs": [
    {
     "data": {
      "text/plain": [
       "array(['Jak pracują lekarze? W dzień na etacie, w nocy na kontrakcie Lekarze gonią za przyzwoitym zarobkiem i dorabiają dyżurami. To jednak ma się skończyć. Czeka nas jesień protestów, które tak czy inaczej odbiją się na pacjentach. Pacjenci poskarżyli się w Narodowym Funduszu Zdrowia, że lekarze pewnej przyszpitalnej przychodni przyjmują znacznie krócej, niż wynikałoby z deklarowanych godzin. NFZ wysłał kontrolę. Okazało się, że lekarze w tych samych godzinach mieli obsługiwać i przychodnię, i oddział szpitalny, co jest niezgodne z kontraktem. Szpital dostał karę finansową. Wpisywanie w grafik pracy lekarza jednocześnie w dwóch różnych miejscach już nikogo nie dziwi, nawet kontrolerów z NFZ. Państwowa Inspekcja Pracy już dawno to odkryła.'],\n",
       "      dtype=object)"
      ]
     },
     "execution_count": 35,
     "metadata": {},
     "output_type": "execute_result"
    }
   ],
   "source": [
    "df.iloc[76][['whole_string']].values"
   ]
  },
  {
   "cell_type": "code",
   "execution_count": null,
   "metadata": {
    "hidden": true
   },
   "outputs": [],
   "source": []
  },
  {
   "cell_type": "code",
   "execution_count": null,
   "metadata": {
    "hidden": true
   },
   "outputs": [],
   "source": []
  },
  {
   "cell_type": "markdown",
   "metadata": {
    "hidden": true
   },
   "source": [
    "## Data summary"
   ]
  },
  {
   "cell_type": "code",
   "execution_count": 36,
   "metadata": {
    "hidden": true
   },
   "outputs": [
    {
     "data": {
      "text/plain": [
       "<matplotlib.axes._subplots.AxesSubplot at 0x7f66c6230a90>"
      ]
     },
     "execution_count": 36,
     "metadata": {},
     "output_type": "execute_result"
    },
    {
     "data": {
      "image/png": "[encoded data removed]",
      "text/plain": [
       "<Figure size 720x576 with 1 Axes>"
      ]
     },
     "metadata": {},
     "output_type": "display_data"
    }
   ],
   "source": [
    "df\\\n",
    "    [['website', 'title']]\\\n",
    "    .groupby('website')\\\n",
    "    .count()\\\n",
    "    .plot(kind = 'bar')"
   ]
  },
  {
   "cell_type": "code",
   "execution_count": 37,
   "metadata": {
    "hidden": true
   },
   "outputs": [
    {
     "data": {
      "text/plain": [
       "<matplotlib.axes._subplots.AxesSubplot at 0x7f66c5bf99b0>"
      ]
     },
     "execution_count": 37,
     "metadata": {},
     "output_type": "execute_result"
    },
    {
     "data": {
      "image/png": "[encoded data removed]",
      "text/plain": [
       "<Figure size 720x576 with 1 Axes>"
      ]
     },
     "metadata": {},
     "output_type": "display_data"
    }
   ],
   "source": [
    "df\\\n",
    "    [['brand', 'title']]\\\n",
    "    .groupby('brand')\\\n",
    "    .count()\\\n",
    "    .plot(kind = 'bar')"
   ]
  },
  {
   "cell_type": "code",
   "execution_count": null,
   "metadata": {
    "hidden": true
   },
   "outputs": [],
   "source": []
  },
  {
   "cell_type": "code",
   "execution_count": null,
   "metadata": {
    "hidden": true
   },
   "outputs": [],
   "source": []
  },
  {
   "cell_type": "code",
   "execution_count": null,
   "metadata": {
    "hidden": true
   },
   "outputs": [],
   "source": []
  },
  {
   "cell_type": "code",
   "execution_count": null,
   "metadata": {
    "hidden": true
   },
   "outputs": [],
   "source": []
  },
  {
   "cell_type": "code",
   "execution_count": null,
   "metadata": {
    "hidden": true
   },
   "outputs": [],
   "source": []
  },
  {
   "cell_type": "code",
   "execution_count": null,
   "metadata": {
    "hidden": true
   },
   "outputs": [],
   "source": []
  },
  {
   "cell_type": "markdown",
   "metadata": {},
   "source": [
    "# Analyze"
   ]
  },
  {
   "cell_type": "markdown",
   "metadata": {
    "heading_collapsed": true
   },
   "source": [
    "## Get emotions data from polish wordnet"
   ]
  },
  {
   "cell_type": "code",
   "execution_count": 22,
   "metadata": {
    "hidden": true
   },
   "outputs": [],
   "source": [
    "# http://plwordnet.pwr.wroc.pl//wordnet/download-wordnet?key=1iflsj&file=4.0\n",
    "# extract one file (słownik_anotacji_emocjonlanej) to home directory"
   ]
  },
  {
   "cell_type": "code",
   "execution_count": 23,
   "metadata": {
    "hidden": true
   },
   "outputs": [],
   "source": [
    "emotions = pd.read_csv('~/słownik_anotacji_emocjonlanej.csv')[['lemat', 'emocje']].dropna()"
   ]
  },
  {
   "cell_type": "code",
   "execution_count": 24,
   "metadata": {
    "hidden": true
   },
   "outputs": [
    {
     "data": {
      "text/html": [
       "<div>\n",
       "<style scoped>\n",
       "    .dataframe tbody tr th:only-of-type {\n",
       "        vertical-align: middle;\n",
       "    }\n",
       "\n",
       "    .dataframe tbody tr th {\n",
       "        vertical-align: top;\n",
       "    }\n",
       "\n",
       "    .dataframe thead th {\n",
       "        text-align: right;\n",
       "    }\n",
       "</style>\n",
       "<table border=\"1\" class=\"dataframe\">\n",
       "  <thead>\n",
       "    <tr style=\"text-align: right;\">\n",
       "      <th></th>\n",
       "      <th>lemat</th>\n",
       "      <th>emocje</th>\n",
       "    </tr>\n",
       "  </thead>\n",
       "  <tbody>\n",
       "    <tr>\n",
       "      <th>2</th>\n",
       "      <td>abstrakcyjny</td>\n",
       "      <td>wstręt;złość;zaskoczenie</td>\n",
       "    </tr>\n",
       "    <tr>\n",
       "      <th>3</th>\n",
       "      <td>abstrakcyjny</td>\n",
       "      <td>wstręt;złość</td>\n",
       "    </tr>\n",
       "    <tr>\n",
       "      <th>10</th>\n",
       "      <td>adorator</td>\n",
       "      <td>złość;radość</td>\n",
       "    </tr>\n",
       "    <tr>\n",
       "      <th>11</th>\n",
       "      <td>adorator</td>\n",
       "      <td>złość;cieszenie się na;radość;wstręt</td>\n",
       "    </tr>\n",
       "    <tr>\n",
       "      <th>18</th>\n",
       "      <td>afektowany</td>\n",
       "      <td>złość;smutek</td>\n",
       "    </tr>\n",
       "  </tbody>\n",
       "</table>\n",
       "</div>"
      ],
      "text/plain": [
       "           lemat                                emocje\n",
       "2   abstrakcyjny              wstręt;złość;zaskoczenie\n",
       "3   abstrakcyjny                          wstręt;złość\n",
       "10      adorator                          złość;radość\n",
       "11      adorator  złość;cieszenie się na;radość;wstręt\n",
       "18    afektowany                          złość;smutek"
      ]
     },
     "execution_count": 24,
     "metadata": {},
     "output_type": "execute_result"
    }
   ],
   "source": [
    "emotions.head()"
   ]
  },
  {
   "cell_type": "code",
   "execution_count": 25,
   "metadata": {
    "hidden": true
   },
   "outputs": [],
   "source": [
    "emotions['emocje'] = emotions['emocje'].str.replace(':', ';')"
   ]
  },
  {
   "cell_type": "code",
   "execution_count": 26,
   "metadata": {
    "hidden": true
   },
   "outputs": [],
   "source": [
    "pairs = [\n",
    "    ('złosć', 'negatywny'),\n",
    "    ('zlość', 'negatywny'),\n",
    "    ('złośc', 'negatywny'),\n",
    "    ('złość wstręt', 'negatywny'),\n",
    "    ('złość: nieużyteczność', 'negatywny'),\n",
    "    ('złóść', 'negatywny'),\n",
    "    ('bład', 'negatywny'),\n",
    "    ('brzydota', 'negatywny'),\n",
    "    ('błąd', 'negatywny'),\n",
    "    ('gniew', 'negatywny'),\n",
    "    ('krzywda', 'negatywny'),\n",
    "    ('nieszczęscie', 'negatywny'),\n",
    "    ('nieszczęście', 'negatywny'),\n",
    "    ('nieużyteczność', 'negatywny'),\n",
    "    ('złość', 'negatywny'),\n",
    "    ('strach', 'negatywny'),\n",
    "    ('strach wstręt', 'negatywny'),\n",
    "    ('smute', 'negatywny'),\n",
    "    ('smutek', 'negatywny'),\n",
    "    ('wstęt', 'negatywny'),\n",
    "    ('niewiedza', 'negatywny'),\n",
    "    ('negatywny wstręt', 'negatywny'),\n",
    "    ('negatywnyk', 'negatywny'),\n",
    "    ('negatywnyk: negatywny', 'negatywny'),\n",
    "    ('wstrę', 'negatywny'),\n",
    "    ('wstręt', 'negatywny'),\n",
    "    ('wstręt: negatywny', 'negatywny'),\n",
    "    ('negatywnyt', 'negatywny'),\n",
    "    ('s mutek', 'negatywny'),\n",
    "    ('wstret', 'negatywny'),\n",
    "    ('smitek', 'negatywny'),\n",
    "    (' negatywny', 'negatywny'),\n",
    "    \n",
    "    ('cieszenie sie', 'pozytywny'),\n",
    "    ('cieszenie sie na', 'pozytywny'),\n",
    "    ('cieszenie się na coś oczekiwanego', 'pozytywny'),\n",
    "    ('dobro', 'pozytywny'),\n",
    "    ('cieszenie sie', 'pozytywny'),\n",
    "    ('radoć', 'pozytywny'),\n",
    "    ('radość', 'pozytywny'),\n",
    "    ('radość: piękno', 'pozytywny'),\n",
    "    ('radość: szczęście', 'pozytywny'),\n",
    "    ('zaufanie', 'pozytywny'),\n",
    "    ('cieszenie się', 'pozytywny'),\n",
    "    ('cieszenie się na', 'pozytywny'),\n",
    "    ('ciesznie się na', 'pozytywny'),\n",
    "    ('piękno', 'pozytywny'),\n",
    "    ('pozytywny: piękno', 'pozytywny'),\n",
    "    ('pozytywny: szczęście', 'pozytywny'),\n",
    "    ('prawda', 'pozytywny'),\n",
    "    ('radosć', 'pozytywny'),\n",
    "    ('pozytywny: pozytywny', 'pozytywny'),\n",
    "    ('radośc', 'pozytywny'),\n",
    "    ('szczęście', 'pozytywny'),\n",
    "    ('użyteczność', 'pozytywny'),\n",
    "    ('wiedza', 'pozytywny'),\n",
    "    ('zufanie', 'pozytywny'),\n",
    "    ('pozytywny na', 'pozytywny'),\n",
    "    (' pozytywny', 'pozytywny'),\n",
    "    \n",
    "    ('zaskoczenie czymś nieprzewidywanym', ''),\n",
    "    ('oczekiwanie na', ''),\n",
    "    (' czymś nieprzewidywanym', ''),\n",
    "    ('-', ''),\n",
    "    ('zaskoczenie', ''),\n",
    "    ('pozytywnynegatywny', ''),\n",
    "]"
   ]
  },
  {
   "cell_type": "code",
   "execution_count": 27,
   "metadata": {
    "hidden": true
   },
   "outputs": [],
   "source": [
    "for pair in pairs:\n",
    "    emotions['emocje'] = emotions['emocje'].str.replace(pair[0], pair[1])"
   ]
  },
  {
   "cell_type": "code",
   "execution_count": 28,
   "metadata": {
    "hidden": true
   },
   "outputs": [],
   "source": [
    "emotions = pd.concat([\n",
    "    emotions['lemat'],\n",
    "    emotions['emocje']\\\n",
    "        .str.get_dummies(sep = ';')\\\n",
    "], axis = 1)"
   ]
  },
  {
   "cell_type": "code",
   "execution_count": 29,
   "metadata": {
    "hidden": true
   },
   "outputs": [],
   "source": [
    "emotions.loc[\n",
    "    emotions['pozytywny'] == emotions['negatywny']\n",
    ", 'ambiguous'] = True"
   ]
  },
  {
   "cell_type": "code",
   "execution_count": 30,
   "metadata": {
    "hidden": true
   },
   "outputs": [
    {
     "data": {
      "text/plain": [
       "56420"
      ]
     },
     "execution_count": 30,
     "metadata": {},
     "output_type": "execute_result"
    }
   ],
   "source": [
    "len(emotions)"
   ]
  },
  {
   "cell_type": "code",
   "execution_count": 31,
   "metadata": {
    "hidden": true
   },
   "outputs": [],
   "source": [
    "emotions = emotions[emotions['ambiguous'].isna()]\n",
    "emotions = emotions.drop('ambiguous', axis = 1)"
   ]
  },
  {
   "cell_type": "code",
   "execution_count": 32,
   "metadata": {
    "hidden": true
   },
   "outputs": [
    {
     "data": {
      "text/plain": [
       "47477"
      ]
     },
     "execution_count": 32,
     "metadata": {},
     "output_type": "execute_result"
    }
   ],
   "source": [
    "len(emotions)"
   ]
  },
  {
   "cell_type": "code",
   "execution_count": 33,
   "metadata": {
    "hidden": true
   },
   "outputs": [
    {
     "data": {
      "text/plain": [
       "31505"
      ]
     },
     "execution_count": 33,
     "metadata": {},
     "output_type": "execute_result"
    }
   ],
   "source": [
    "emotions['negatywny'].sum()"
   ]
  },
  {
   "cell_type": "code",
   "execution_count": 34,
   "metadata": {
    "hidden": true
   },
   "outputs": [
    {
     "data": {
      "text/plain": [
       "15972"
      ]
     },
     "execution_count": 34,
     "metadata": {},
     "output_type": "execute_result"
    }
   ],
   "source": [
    "emotions['pozytywny'].sum()"
   ]
  },
  {
   "cell_type": "code",
   "execution_count": 35,
   "metadata": {
    "hidden": true
   },
   "outputs": [
    {
     "data": {
      "text/html": [
       "<div>\n",
       "<style scoped>\n",
       "    .dataframe tbody tr th:only-of-type {\n",
       "        vertical-align: middle;\n",
       "    }\n",
       "\n",
       "    .dataframe tbody tr th {\n",
       "        vertical-align: top;\n",
       "    }\n",
       "\n",
       "    .dataframe thead th {\n",
       "        text-align: right;\n",
       "    }\n",
       "</style>\n",
       "<table border=\"1\" class=\"dataframe\">\n",
       "  <thead>\n",
       "    <tr style=\"text-align: right;\">\n",
       "      <th></th>\n",
       "      <th>lemat</th>\n",
       "      <th>negatywny</th>\n",
       "      <th>pozytywny</th>\n",
       "    </tr>\n",
       "  </thead>\n",
       "  <tbody>\n",
       "    <tr>\n",
       "      <th>107694</th>\n",
       "      <td>nieskwapliwość</td>\n",
       "      <td>0</td>\n",
       "      <td>1</td>\n",
       "    </tr>\n",
       "    <tr>\n",
       "      <th>154808</th>\n",
       "      <td>spokojniuchny</td>\n",
       "      <td>0</td>\n",
       "      <td>1</td>\n",
       "    </tr>\n",
       "    <tr>\n",
       "      <th>109344</th>\n",
       "      <td>subtelność</td>\n",
       "      <td>0</td>\n",
       "      <td>1</td>\n",
       "    </tr>\n",
       "    <tr>\n",
       "      <th>74825</th>\n",
       "      <td>uznaniowy</td>\n",
       "      <td>1</td>\n",
       "      <td>0</td>\n",
       "    </tr>\n",
       "    <tr>\n",
       "      <th>155569</th>\n",
       "      <td>kombinacyjnie</td>\n",
       "      <td>0</td>\n",
       "      <td>1</td>\n",
       "    </tr>\n",
       "  </tbody>\n",
       "</table>\n",
       "</div>"
      ],
      "text/plain": [
       "                 lemat  negatywny  pozytywny\n",
       "107694  nieskwapliwość          0          1\n",
       "154808   spokojniuchny          0          1\n",
       "109344      subtelność          0          1\n",
       "74825        uznaniowy          1          0\n",
       "155569   kombinacyjnie          0          1"
      ]
     },
     "execution_count": 35,
     "metadata": {},
     "output_type": "execute_result"
    }
   ],
   "source": [
    "emotions.sample(5).head()"
   ]
  },
  {
   "cell_type": "code",
   "execution_count": 36,
   "metadata": {
    "hidden": true
   },
   "outputs": [],
   "source": [
    "emotions = emotions.drop('negatywny', axis = 1)"
   ]
  },
  {
   "cell_type": "code",
   "execution_count": 37,
   "metadata": {
    "hidden": true
   },
   "outputs": [],
   "source": [
    "emotions.loc[emotions['pozytywny'] == 0, 'pozytywny'] = -1"
   ]
  },
  {
   "cell_type": "code",
   "execution_count": 38,
   "metadata": {
    "hidden": true
   },
   "outputs": [],
   "source": [
    "emotions.columns = ['lemat', 'sentyment']"
   ]
  },
  {
   "cell_type": "code",
   "execution_count": 39,
   "metadata": {
    "hidden": true
   },
   "outputs": [],
   "source": [
    "emotions = emotions.drop_duplicates()"
   ]
  },
  {
   "cell_type": "code",
   "execution_count": 40,
   "metadata": {
    "hidden": true
   },
   "outputs": [
    {
     "data": {
      "text/html": [
       "<div>\n",
       "<style scoped>\n",
       "    .dataframe tbody tr th:only-of-type {\n",
       "        vertical-align: middle;\n",
       "    }\n",
       "\n",
       "    .dataframe tbody tr th {\n",
       "        vertical-align: top;\n",
       "    }\n",
       "\n",
       "    .dataframe thead th {\n",
       "        text-align: right;\n",
       "    }\n",
       "</style>\n",
       "<table border=\"1\" class=\"dataframe\">\n",
       "  <thead>\n",
       "    <tr style=\"text-align: right;\">\n",
       "      <th></th>\n",
       "      <th>lemat</th>\n",
       "      <th>sentyment</th>\n",
       "    </tr>\n",
       "  </thead>\n",
       "  <tbody>\n",
       "    <tr>\n",
       "      <th>68449</th>\n",
       "      <td>letargiczny</td>\n",
       "      <td>-1</td>\n",
       "    </tr>\n",
       "    <tr>\n",
       "      <th>8470</th>\n",
       "      <td>wytłumaczyć</td>\n",
       "      <td>1</td>\n",
       "    </tr>\n",
       "    <tr>\n",
       "      <th>45315</th>\n",
       "      <td>człowiek wielkiego ducha</td>\n",
       "      <td>1</td>\n",
       "    </tr>\n",
       "    <tr>\n",
       "      <th>168779</th>\n",
       "      <td>fetyszystyczny</td>\n",
       "      <td>-1</td>\n",
       "    </tr>\n",
       "    <tr>\n",
       "      <th>27600</th>\n",
       "      <td>unifikator</td>\n",
       "      <td>1</td>\n",
       "    </tr>\n",
       "  </tbody>\n",
       "</table>\n",
       "</div>"
      ],
      "text/plain": [
       "                           lemat  sentyment\n",
       "68449                letargiczny         -1\n",
       "8470                 wytłumaczyć          1\n",
       "45315   człowiek wielkiego ducha          1\n",
       "168779            fetyszystyczny         -1\n",
       "27600                 unifikator          1"
      ]
     },
     "execution_count": 40,
     "metadata": {},
     "output_type": "execute_result"
    }
   ],
   "source": [
    "emotions.sample(5).head()"
   ]
  },
  {
   "cell_type": "code",
   "execution_count": 41,
   "metadata": {
    "hidden": true
   },
   "outputs": [],
   "source": [
    "emotions_dict = {x[0]:x[1] for x in emotions.values}"
   ]
  },
  {
   "cell_type": "markdown",
   "metadata": {
    "heading_collapsed": true
   },
   "source": [
    "## Titles/shorts"
   ]
  },
  {
   "cell_type": "code",
   "execution_count": 42,
   "metadata": {
    "hidden": true
   },
   "outputs": [
    {
     "data": {
      "text/html": [
       "<div>\n",
       "<style scoped>\n",
       "    .dataframe tbody tr th:only-of-type {\n",
       "        vertical-align: middle;\n",
       "    }\n",
       "\n",
       "    .dataframe tbody tr th {\n",
       "        vertical-align: top;\n",
       "    }\n",
       "\n",
       "    .dataframe thead th {\n",
       "        text-align: right;\n",
       "    }\n",
       "</style>\n",
       "<table border=\"1\" class=\"dataframe\">\n",
       "  <thead>\n",
       "    <tr style=\"text-align: right;\">\n",
       "      <th></th>\n",
       "      <th>lemat</th>\n",
       "      <th>sentyment</th>\n",
       "    </tr>\n",
       "  </thead>\n",
       "  <tbody>\n",
       "    <tr>\n",
       "      <th>161843</th>\n",
       "      <td>pośpieszyć</td>\n",
       "      <td>1</td>\n",
       "    </tr>\n",
       "    <tr>\n",
       "      <th>8634</th>\n",
       "      <td>zadra</td>\n",
       "      <td>-1</td>\n",
       "    </tr>\n",
       "    <tr>\n",
       "      <th>84046</th>\n",
       "      <td>niezły</td>\n",
       "      <td>1</td>\n",
       "    </tr>\n",
       "    <tr>\n",
       "      <th>131006</th>\n",
       "      <td>marzenie ściętej głowy</td>\n",
       "      <td>-1</td>\n",
       "    </tr>\n",
       "    <tr>\n",
       "      <th>44288</th>\n",
       "      <td>panienka spod latarni</td>\n",
       "      <td>-1</td>\n",
       "    </tr>\n",
       "  </tbody>\n",
       "</table>\n",
       "</div>"
      ],
      "text/plain": [
       "                         lemat  sentyment\n",
       "161843              pośpieszyć          1\n",
       "8634                     zadra         -1\n",
       "84046                   niezły          1\n",
       "131006  marzenie ściętej głowy         -1\n",
       "44288    panienka spod latarni         -1"
      ]
     },
     "execution_count": 42,
     "metadata": {},
     "output_type": "execute_result"
    }
   ],
   "source": [
    "emotions.sample(5).head()"
   ]
  },
  {
   "cell_type": "code",
   "execution_count": 43,
   "metadata": {
    "hidden": true
   },
   "outputs": [],
   "source": [
    "emotion_words = emotions_dict.keys()"
   ]
  },
  {
   "cell_type": "code",
   "execution_count": 44,
   "metadata": {
    "hidden": true
   },
   "outputs": [],
   "source": [
    "df['sentiment'] = df['long'].str.lower().apply(lambda x: sum([emotions_dict[a] \n",
    "                                         for a in str(x).split(' ')\n",
    "                                         if a in emotion_words]))"
   ]
  },
  {
   "cell_type": "code",
   "execution_count": 45,
   "metadata": {
    "hidden": true
   },
   "outputs": [],
   "source": [
    "grouped_data = {}\n",
    "for key, grouping_order in grouping_orders.items():\n",
    "    data_dict = {}\n",
    "    for keyword in keywords:\n",
    "        data_dict[keyword] = df\\\n",
    "            [(df[keyword] == 1)&(df['sentiment'] != 0)]\\\n",
    "            [grouping_order['columns_before']]\\\n",
    "            .groupby(grouping_order['groupby'])\\\n",
    "            .mean()\\\n",
    "            .values\\\n",
    "            .flatten()\n",
    "    res = pd.DataFrame().from_dict(\n",
    "        data_dict,\n",
    "        'index',\n",
    "        columns = grouping_order['columns_after']\n",
    "    )\n",
    "    res = (res - res.mean())/res.std()\n",
    "    grouped_data[key] = res"
   ]
  },
  {
   "cell_type": "code",
   "execution_count": 46,
   "metadata": {
    "hidden": true,
    "scrolled": true
   },
   "outputs": [
    {
     "data": {
      "image/png": "[encoded data removed]",
      "text/plain": [
       "<Figure size 432x288 with 2 Axes>"
      ]
     },
     "metadata": {
      "needs_background": "light"
     },
     "output_type": "display_data"
    }
   ],
   "source": [
    "sns.heatmap(grouped_data['brand']);"
   ]
  },
  {
   "cell_type": "code",
   "execution_count": 47,
   "metadata": {
    "hidden": true
   },
   "outputs": [],
   "source": [
    "# compare that chart (two websites in one company), and two websites from two different companies"
   ]
  },
  {
   "cell_type": "code",
   "execution_count": null,
   "metadata": {
    "hidden": true
   },
   "outputs": [],
   "source": []
  },
  {
   "cell_type": "markdown",
   "metadata": {
    "heading_collapsed": true
   },
   "source": [
    "## Regex"
   ]
  },
  {
   "cell_type": "code",
   "execution_count": 48,
   "metadata": {
    "hidden": true
   },
   "outputs": [],
   "source": [
    "wc = WordCloud()"
   ]
  },
  {
   "cell_type": "code",
   "execution_count": 49,
   "metadata": {
    "hidden": true
   },
   "outputs": [],
   "source": [
    "keyword_patterns = ['duda', 'dudy', 'dude']"
   ]
  },
  {
   "cell_type": "code",
   "execution_count": 50,
   "metadata": {
    "hidden": true
   },
   "outputs": [],
   "source": [
    "found_records = df[['long']][\n",
    "    df['long'].str.lower().str.contains(r'|'.join(keyword_patterns)) == True\n",
    "].values.flatten()"
   ]
  },
  {
   "cell_type": "code",
   "execution_count": 51,
   "metadata": {
    "hidden": true
   },
   "outputs": [],
   "source": [
    "keyword_words_before = []\n",
    "keyword_words_after = []\n",
    "for record in found_records:\n",
    "    tmp_string_list = re.sub(r'\\W+', ' ', record).lower().split(' ')\n",
    "    keyword_idxs = [n for n, x in enumerate(tmp_string_list) if x in keyword_patterns]\n",
    "    max_idx = len(tmp_string_list)\n",
    "    for keyword_idx in keyword_idxs:\n",
    "        if keyword_idx < max_idx - 2 and keyword_idx > 1:\n",
    "            keyword_context_before = tmp_string_list[keyword_idx-2 : keyword_idx]\n",
    "            keyword_words_before.append(keyword_context_before[0])\n",
    "            keyword_words_before.append(keyword_context_before[1])\n",
    "            keyword_context_after = tmp_string_list[keyword_idx+1 : keyword_idx+3]\n",
    "            keyword_words_after.append(keyword_context_after[0])\n",
    "            keyword_words_after.append(keyword_context_after[1])"
   ]
  },
  {
   "cell_type": "code",
   "execution_count": 52,
   "metadata": {
    "hidden": true
   },
   "outputs": [
    {
     "data": {
      "text/plain": [
       "<matplotlib.image.AxesImage at 0x7f7f1b5c06d8>"
      ]
     },
     "execution_count": 52,
     "metadata": {},
     "output_type": "execute_result"
    },
    {
     "data": {
      "image/png": "[encoded data removed]",
      "text/plain": [
       "<Figure size 432x288 with 1 Axes>"
      ]
     },
     "metadata": {
      "needs_background": "light"
     },
     "output_type": "display_data"
    }
   ],
   "source": [
    "plt.imshow(wc.generate(\" \".join(keyword_words_after)))"
   ]
  },
  {
   "cell_type": "code",
   "execution_count": null,
   "metadata": {
    "hidden": true
   },
   "outputs": [],
   "source": []
  },
  {
   "cell_type": "markdown",
   "metadata": {},
   "source": [
    "## Word2Vec"
   ]
  },
  {
   "cell_type": "code",
   "execution_count": 79,
   "metadata": {},
   "outputs": [],
   "source": [
    "def make_sentences(df):\n",
    "    sentences = []\n",
    "    for record in df['whole_string'].dropna().str.lower():\n",
    "        if record != None:\n",
    "            for sentence in record.split('.'):\n",
    "                sentences.append(re.sub(r'\\W+', ' ', sentence).lower().strip().split(' '))\n",
    "    return sentences"
   ]
  },
  {
   "cell_type": "code",
   "execution_count": 81,
   "metadata": {},
   "outputs": [
    {
     "ename": "RuntimeError",
     "evalue": "you must first build vocabulary before training the model",
     "output_type": "error",
     "traceback": [
      "\u001b[0;31m---------------------------------------------------------------------------\u001b[0m",
      "\u001b[0;31mRuntimeError\u001b[0m                              Traceback (most recent call last)",
      "\u001b[0;32m<ipython-input-81-e7698d7bda66>\u001b[0m in \u001b[0;36m<module>\u001b[0;34m\u001b[0m\n\u001b[1;32m      9\u001b[0m         \u001b[0mmodels\u001b[0m\u001b[0;34m[\u001b[0m\u001b[0mcountry\u001b[0m\u001b[0;34m]\u001b[0m\u001b[0;34m[\u001b[0m\u001b[0mbrand_name\u001b[0m\u001b[0;34m]\u001b[0m \u001b[0;34m=\u001b[0m \u001b[0;34m{\u001b[0m\u001b[0;34m}\u001b[0m\u001b[0;34m\u001b[0m\u001b[0;34m\u001b[0m\u001b[0m\n\u001b[1;32m     10\u001b[0m         \u001b[0mbrand_data\u001b[0m \u001b[0;34m=\u001b[0m \u001b[0mmake_sentences\u001b[0m\u001b[0;34m(\u001b[0m\u001b[0mdf\u001b[0m\u001b[0;34m[\u001b[0m\u001b[0mdf\u001b[0m\u001b[0;34m[\u001b[0m\u001b[0;34m'brand'\u001b[0m\u001b[0;34m]\u001b[0m \u001b[0;34m==\u001b[0m \u001b[0mbrand_name\u001b[0m\u001b[0;34m]\u001b[0m\u001b[0;34m)\u001b[0m\u001b[0;34m\u001b[0m\u001b[0;34m\u001b[0m\u001b[0m\n\u001b[0;32m---> 11\u001b[0;31m         \u001b[0mmodels\u001b[0m\u001b[0;34m[\u001b[0m\u001b[0mcountry\u001b[0m\u001b[0;34m]\u001b[0m\u001b[0;34m[\u001b[0m\u001b[0mbrand_name\u001b[0m\u001b[0;34m]\u001b[0m\u001b[0;34m[\u001b[0m\u001b[0;34m'model'\u001b[0m\u001b[0;34m]\u001b[0m \u001b[0;34m=\u001b[0m \u001b[0mWord2Vec\u001b[0m\u001b[0;34m(\u001b[0m\u001b[0mbrand_data\u001b[0m\u001b[0;34m,\u001b[0m \u001b[0mmin_count\u001b[0m\u001b[0;34m=\u001b[0m\u001b[0;36m10\u001b[0m\u001b[0;34m)\u001b[0m\u001b[0;34m\u001b[0m\u001b[0;34m\u001b[0m\u001b[0m\n\u001b[0m\u001b[1;32m     12\u001b[0m \u001b[0;31m#         for website_name in websites:\u001b[0m\u001b[0;34m\u001b[0m\u001b[0;34m\u001b[0m\u001b[0;34m\u001b[0m\u001b[0m\n\u001b[1;32m     13\u001b[0m \u001b[0;31m#             models[country][brand_name][website_name] = {}\u001b[0m\u001b[0;34m\u001b[0m\u001b[0;34m\u001b[0m\u001b[0;34m\u001b[0m\u001b[0m\n",
      "\u001b[0;32m~/anaconda3/envs/py36/lib/python3.6/site-packages/gensim/models/word2vec.py\u001b[0m in \u001b[0;36m__init__\u001b[0;34m(self, sentences, corpus_file, size, alpha, window, min_count, max_vocab_size, sample, seed, workers, min_alpha, sg, hs, negative, ns_exponent, cbow_mean, hashfxn, iter, null_word, trim_rule, sorted_vocab, batch_words, compute_loss, callbacks, max_final_vocab)\u001b[0m\n\u001b[1;32m    781\u001b[0m             \u001b[0mcallbacks\u001b[0m\u001b[0;34m=\u001b[0m\u001b[0mcallbacks\u001b[0m\u001b[0;34m,\u001b[0m \u001b[0mbatch_words\u001b[0m\u001b[0;34m=\u001b[0m\u001b[0mbatch_words\u001b[0m\u001b[0;34m,\u001b[0m \u001b[0mtrim_rule\u001b[0m\u001b[0;34m=\u001b[0m\u001b[0mtrim_rule\u001b[0m\u001b[0;34m,\u001b[0m \u001b[0msg\u001b[0m\u001b[0;34m=\u001b[0m\u001b[0msg\u001b[0m\u001b[0;34m,\u001b[0m \u001b[0malpha\u001b[0m\u001b[0;34m=\u001b[0m\u001b[0malpha\u001b[0m\u001b[0;34m,\u001b[0m \u001b[0mwindow\u001b[0m\u001b[0;34m=\u001b[0m\u001b[0mwindow\u001b[0m\u001b[0;34m,\u001b[0m\u001b[0;34m\u001b[0m\u001b[0;34m\u001b[0m\u001b[0m\n\u001b[1;32m    782\u001b[0m             \u001b[0mseed\u001b[0m\u001b[0;34m=\u001b[0m\u001b[0mseed\u001b[0m\u001b[0;34m,\u001b[0m \u001b[0mhs\u001b[0m\u001b[0;34m=\u001b[0m\u001b[0mhs\u001b[0m\u001b[0;34m,\u001b[0m \u001b[0mnegative\u001b[0m\u001b[0;34m=\u001b[0m\u001b[0mnegative\u001b[0m\u001b[0;34m,\u001b[0m \u001b[0mcbow_mean\u001b[0m\u001b[0;34m=\u001b[0m\u001b[0mcbow_mean\u001b[0m\u001b[0;34m,\u001b[0m \u001b[0mmin_alpha\u001b[0m\u001b[0;34m=\u001b[0m\u001b[0mmin_alpha\u001b[0m\u001b[0;34m,\u001b[0m \u001b[0mcompute_loss\u001b[0m\u001b[0;34m=\u001b[0m\u001b[0mcompute_loss\u001b[0m\u001b[0;34m,\u001b[0m\u001b[0;34m\u001b[0m\u001b[0;34m\u001b[0m\u001b[0m\n\u001b[0;32m--> 783\u001b[0;31m             fast_version=FAST_VERSION)\n\u001b[0m\u001b[1;32m    784\u001b[0m \u001b[0;34m\u001b[0m\u001b[0m\n\u001b[1;32m    785\u001b[0m     def _do_train_epoch(self, corpus_file, thread_id, offset, cython_vocab, thread_private_mem, cur_epoch,\n",
      "\u001b[0;32m~/anaconda3/envs/py36/lib/python3.6/site-packages/gensim/models/base_any2vec.py\u001b[0m in \u001b[0;36m__init__\u001b[0;34m(self, sentences, corpus_file, workers, vector_size, epochs, callbacks, batch_words, trim_rule, sg, alpha, window, seed, hs, negative, ns_exponent, cbow_mean, min_alpha, compute_loss, fast_version, **kwargs)\u001b[0m\n\u001b[1;32m    761\u001b[0m                 \u001b[0msentences\u001b[0m\u001b[0;34m=\u001b[0m\u001b[0msentences\u001b[0m\u001b[0;34m,\u001b[0m \u001b[0mcorpus_file\u001b[0m\u001b[0;34m=\u001b[0m\u001b[0mcorpus_file\u001b[0m\u001b[0;34m,\u001b[0m \u001b[0mtotal_examples\u001b[0m\u001b[0;34m=\u001b[0m\u001b[0mself\u001b[0m\u001b[0;34m.\u001b[0m\u001b[0mcorpus_count\u001b[0m\u001b[0;34m,\u001b[0m\u001b[0;34m\u001b[0m\u001b[0;34m\u001b[0m\u001b[0m\n\u001b[1;32m    762\u001b[0m                 \u001b[0mtotal_words\u001b[0m\u001b[0;34m=\u001b[0m\u001b[0mself\u001b[0m\u001b[0;34m.\u001b[0m\u001b[0mcorpus_total_words\u001b[0m\u001b[0;34m,\u001b[0m \u001b[0mepochs\u001b[0m\u001b[0;34m=\u001b[0m\u001b[0mself\u001b[0m\u001b[0;34m.\u001b[0m\u001b[0mepochs\u001b[0m\u001b[0;34m,\u001b[0m \u001b[0mstart_alpha\u001b[0m\u001b[0;34m=\u001b[0m\u001b[0mself\u001b[0m\u001b[0;34m.\u001b[0m\u001b[0malpha\u001b[0m\u001b[0;34m,\u001b[0m\u001b[0;34m\u001b[0m\u001b[0;34m\u001b[0m\u001b[0m\n\u001b[0;32m--> 763\u001b[0;31m                 end_alpha=self.min_alpha, compute_loss=compute_loss)\n\u001b[0m\u001b[1;32m    764\u001b[0m         \u001b[0;32melse\u001b[0m\u001b[0;34m:\u001b[0m\u001b[0;34m\u001b[0m\u001b[0;34m\u001b[0m\u001b[0m\n\u001b[1;32m    765\u001b[0m             \u001b[0;32mif\u001b[0m \u001b[0mtrim_rule\u001b[0m \u001b[0;32mis\u001b[0m \u001b[0;32mnot\u001b[0m \u001b[0;32mNone\u001b[0m\u001b[0;34m:\u001b[0m\u001b[0;34m\u001b[0m\u001b[0;34m\u001b[0m\u001b[0m\n",
      "\u001b[0;32m~/anaconda3/envs/py36/lib/python3.6/site-packages/gensim/models/word2vec.py\u001b[0m in \u001b[0;36mtrain\u001b[0;34m(self, sentences, corpus_file, total_examples, total_words, epochs, start_alpha, end_alpha, word_count, queue_factor, report_delay, compute_loss, callbacks)\u001b[0m\n\u001b[1;32m    908\u001b[0m             \u001b[0msentences\u001b[0m\u001b[0;34m=\u001b[0m\u001b[0msentences\u001b[0m\u001b[0;34m,\u001b[0m \u001b[0mcorpus_file\u001b[0m\u001b[0;34m=\u001b[0m\u001b[0mcorpus_file\u001b[0m\u001b[0;34m,\u001b[0m \u001b[0mtotal_examples\u001b[0m\u001b[0;34m=\u001b[0m\u001b[0mtotal_examples\u001b[0m\u001b[0;34m,\u001b[0m \u001b[0mtotal_words\u001b[0m\u001b[0;34m=\u001b[0m\u001b[0mtotal_words\u001b[0m\u001b[0;34m,\u001b[0m\u001b[0;34m\u001b[0m\u001b[0;34m\u001b[0m\u001b[0m\n\u001b[1;32m    909\u001b[0m             \u001b[0mepochs\u001b[0m\u001b[0;34m=\u001b[0m\u001b[0mepochs\u001b[0m\u001b[0;34m,\u001b[0m \u001b[0mstart_alpha\u001b[0m\u001b[0;34m=\u001b[0m\u001b[0mstart_alpha\u001b[0m\u001b[0;34m,\u001b[0m \u001b[0mend_alpha\u001b[0m\u001b[0;34m=\u001b[0m\u001b[0mend_alpha\u001b[0m\u001b[0;34m,\u001b[0m \u001b[0mword_count\u001b[0m\u001b[0;34m=\u001b[0m\u001b[0mword_count\u001b[0m\u001b[0;34m,\u001b[0m\u001b[0;34m\u001b[0m\u001b[0;34m\u001b[0m\u001b[0m\n\u001b[0;32m--> 910\u001b[0;31m             queue_factor=queue_factor, report_delay=report_delay, compute_loss=compute_loss, callbacks=callbacks)\n\u001b[0m\u001b[1;32m    911\u001b[0m \u001b[0;34m\u001b[0m\u001b[0m\n\u001b[1;32m    912\u001b[0m     \u001b[0;32mdef\u001b[0m \u001b[0mscore\u001b[0m\u001b[0;34m(\u001b[0m\u001b[0mself\u001b[0m\u001b[0;34m,\u001b[0m \u001b[0msentences\u001b[0m\u001b[0;34m,\u001b[0m \u001b[0mtotal_sentences\u001b[0m\u001b[0;34m=\u001b[0m\u001b[0mint\u001b[0m\u001b[0;34m(\u001b[0m\u001b[0;36m1e6\u001b[0m\u001b[0;34m)\u001b[0m\u001b[0;34m,\u001b[0m \u001b[0mchunksize\u001b[0m\u001b[0;34m=\u001b[0m\u001b[0;36m100\u001b[0m\u001b[0;34m,\u001b[0m \u001b[0mqueue_factor\u001b[0m\u001b[0;34m=\u001b[0m\u001b[0;36m2\u001b[0m\u001b[0;34m,\u001b[0m \u001b[0mreport_delay\u001b[0m\u001b[0;34m=\u001b[0m\u001b[0;36m1\u001b[0m\u001b[0;34m)\u001b[0m\u001b[0;34m:\u001b[0m\u001b[0;34m\u001b[0m\u001b[0;34m\u001b[0m\u001b[0m\n",
      "\u001b[0;32m~/anaconda3/envs/py36/lib/python3.6/site-packages/gensim/models/base_any2vec.py\u001b[0m in \u001b[0;36mtrain\u001b[0;34m(self, sentences, corpus_file, total_examples, total_words, epochs, start_alpha, end_alpha, word_count, queue_factor, report_delay, compute_loss, callbacks, **kwargs)\u001b[0m\n\u001b[1;32m   1079\u001b[0m             \u001b[0mtotal_words\u001b[0m\u001b[0;34m=\u001b[0m\u001b[0mtotal_words\u001b[0m\u001b[0;34m,\u001b[0m \u001b[0mepochs\u001b[0m\u001b[0;34m=\u001b[0m\u001b[0mepochs\u001b[0m\u001b[0;34m,\u001b[0m \u001b[0mstart_alpha\u001b[0m\u001b[0;34m=\u001b[0m\u001b[0mstart_alpha\u001b[0m\u001b[0;34m,\u001b[0m \u001b[0mend_alpha\u001b[0m\u001b[0;34m=\u001b[0m\u001b[0mend_alpha\u001b[0m\u001b[0;34m,\u001b[0m \u001b[0mword_count\u001b[0m\u001b[0;34m=\u001b[0m\u001b[0mword_count\u001b[0m\u001b[0;34m,\u001b[0m\u001b[0;34m\u001b[0m\u001b[0;34m\u001b[0m\u001b[0m\n\u001b[1;32m   1080\u001b[0m             \u001b[0mqueue_factor\u001b[0m\u001b[0;34m=\u001b[0m\u001b[0mqueue_factor\u001b[0m\u001b[0;34m,\u001b[0m \u001b[0mreport_delay\u001b[0m\u001b[0;34m=\u001b[0m\u001b[0mreport_delay\u001b[0m\u001b[0;34m,\u001b[0m \u001b[0mcompute_loss\u001b[0m\u001b[0;34m=\u001b[0m\u001b[0mcompute_loss\u001b[0m\u001b[0;34m,\u001b[0m \u001b[0mcallbacks\u001b[0m\u001b[0;34m=\u001b[0m\u001b[0mcallbacks\u001b[0m\u001b[0;34m,\u001b[0m\u001b[0;34m\u001b[0m\u001b[0;34m\u001b[0m\u001b[0m\n\u001b[0;32m-> 1081\u001b[0;31m             **kwargs)\n\u001b[0m\u001b[1;32m   1082\u001b[0m \u001b[0;34m\u001b[0m\u001b[0m\n\u001b[1;32m   1083\u001b[0m     \u001b[0;32mdef\u001b[0m \u001b[0m_get_job_params\u001b[0m\u001b[0;34m(\u001b[0m\u001b[0mself\u001b[0m\u001b[0;34m,\u001b[0m \u001b[0mcur_epoch\u001b[0m\u001b[0;34m)\u001b[0m\u001b[0;34m:\u001b[0m\u001b[0;34m\u001b[0m\u001b[0;34m\u001b[0m\u001b[0m\n",
      "\u001b[0;32m~/anaconda3/envs/py36/lib/python3.6/site-packages/gensim/models/base_any2vec.py\u001b[0m in \u001b[0;36mtrain\u001b[0;34m(self, data_iterable, corpus_file, epochs, total_examples, total_words, queue_factor, report_delay, callbacks, **kwargs)\u001b[0m\n\u001b[1;32m    534\u001b[0m             \u001b[0mepochs\u001b[0m\u001b[0;34m=\u001b[0m\u001b[0mepochs\u001b[0m\u001b[0;34m,\u001b[0m\u001b[0;34m\u001b[0m\u001b[0;34m\u001b[0m\u001b[0m\n\u001b[1;32m    535\u001b[0m             \u001b[0mtotal_examples\u001b[0m\u001b[0;34m=\u001b[0m\u001b[0mtotal_examples\u001b[0m\u001b[0;34m,\u001b[0m\u001b[0;34m\u001b[0m\u001b[0;34m\u001b[0m\u001b[0m\n\u001b[0;32m--> 536\u001b[0;31m             total_words=total_words, **kwargs)\n\u001b[0m\u001b[1;32m    537\u001b[0m \u001b[0;34m\u001b[0m\u001b[0m\n\u001b[1;32m    538\u001b[0m         \u001b[0;32mfor\u001b[0m \u001b[0mcallback\u001b[0m \u001b[0;32min\u001b[0m \u001b[0mself\u001b[0m\u001b[0;34m.\u001b[0m\u001b[0mcallbacks\u001b[0m\u001b[0;34m:\u001b[0m\u001b[0;34m\u001b[0m\u001b[0;34m\u001b[0m\u001b[0m\n",
      "\u001b[0;32m~/anaconda3/envs/py36/lib/python3.6/site-packages/gensim/models/base_any2vec.py\u001b[0m in \u001b[0;36m_check_training_sanity\u001b[0;34m(self, epochs, total_examples, total_words, **kwargs)\u001b[0m\n\u001b[1;32m   1185\u001b[0m \u001b[0;34m\u001b[0m\u001b[0m\n\u001b[1;32m   1186\u001b[0m         \u001b[0;32mif\u001b[0m \u001b[0;32mnot\u001b[0m \u001b[0mself\u001b[0m\u001b[0;34m.\u001b[0m\u001b[0mwv\u001b[0m\u001b[0;34m.\u001b[0m\u001b[0mvocab\u001b[0m\u001b[0;34m:\u001b[0m  \u001b[0;31m# should be set by `build_vocab`\u001b[0m\u001b[0;34m\u001b[0m\u001b[0;34m\u001b[0m\u001b[0m\n\u001b[0;32m-> 1187\u001b[0;31m             \u001b[0;32mraise\u001b[0m \u001b[0mRuntimeError\u001b[0m\u001b[0;34m(\u001b[0m\u001b[0;34m\"you must first build vocabulary before training the model\"\u001b[0m\u001b[0;34m)\u001b[0m\u001b[0;34m\u001b[0m\u001b[0;34m\u001b[0m\u001b[0m\n\u001b[0m\u001b[1;32m   1188\u001b[0m         \u001b[0;32mif\u001b[0m \u001b[0;32mnot\u001b[0m \u001b[0mlen\u001b[0m\u001b[0;34m(\u001b[0m\u001b[0mself\u001b[0m\u001b[0;34m.\u001b[0m\u001b[0mwv\u001b[0m\u001b[0;34m.\u001b[0m\u001b[0mvectors\u001b[0m\u001b[0;34m)\u001b[0m\u001b[0;34m:\u001b[0m\u001b[0;34m\u001b[0m\u001b[0;34m\u001b[0m\u001b[0m\n\u001b[1;32m   1189\u001b[0m             \u001b[0;32mraise\u001b[0m \u001b[0mRuntimeError\u001b[0m\u001b[0;34m(\u001b[0m\u001b[0;34m\"you must initialize vectors before training the model\"\u001b[0m\u001b[0;34m)\u001b[0m\u001b[0;34m\u001b[0m\u001b[0;34m\u001b[0m\u001b[0m\n",
      "\u001b[0;31mRuntimeError\u001b[0m: you must first build vocabulary before training the model"
     ]
    }
   ],
   "source": [
    "models = {}\n",
    "models['model'] = Word2Vec(make_sentences(df), min_count=10)\n",
    "for country, brand_dict in brand_keys.items():\n",
    "    models[country] = {}\n",
    "    # country_data = make_sentences(df[df['country'] == country])\n",
    "    # models[country]['model'] = Word2Vec(country_data, min_count=10)\n",
    "    # for brand_name, websites in brand_dict.items():\n",
    "    for brand_name in df['brand'].unique():\n",
    "        models[country][brand_name] = {}\n",
    "        brand_data = make_sentences(df[df['brand'] == brand_name])\n",
    "        models[country][brand_name]['model'] = Word2Vec(brand_data, min_count=10)\n",
    "#         for website_name in websites:\n",
    "#             models[country][brand_name][website_name] = {}\n",
    "#             website_data = make_sentences(df[df['website'] == website_name])\n",
    "#             models[country][brand_name][website_name]['model'] = Word2Vec(website_data, min_count=10)"
   ]
  },
  {
   "cell_type": "code",
   "execution_count": null,
   "metadata": {},
   "outputs": [],
   "source": [
    "# m = Word2Vec(make_sentences(df), min_count=10)"
   ]
  },
  {
   "cell_type": "code",
   "execution_count": 82,
   "metadata": {},
   "outputs": [
    {
     "data": {
      "text/plain": [
       "[('homoseksualnych', 0.7257981300354004),\n",
       " ('lgbtq', 0.7089574933052063),\n",
       " ('dyskryminacji', 0.7086145281791687),\n",
       " ('partnerskich', 0.6585160493850708),\n",
       " ('gender', 0.6543564796447754),\n",
       " ('niepełnosprawnościami', 0.6468050479888916),\n",
       " ('niepełnosprawnych', 0.6440253853797913),\n",
       " ('nieheteronormatywnych', 0.642125129699707),\n",
       " ('gejów', 0.6413629055023193),\n",
       " ('wykluczonych', 0.6400424242019653)]"
      ]
     },
     "execution_count": 82,
     "metadata": {},
     "output_type": "execute_result"
    }
   ],
   "source": [
    "# m.wv.most_similar(positive=['lgbt'], topn=10)"
   ]
  },
  {
   "cell_type": "code",
   "execution_count": null,
   "metadata": {},
   "outputs": [],
   "source": [
    "# m.wv.most_similar(positive=['pis'], topn=10)"
   ]
  },
  {
   "cell_type": "code",
   "execution_count": null,
   "metadata": {},
   "outputs": [],
   "source": [
    "# m.wv.similarity('rosja', 'sojusznik')"
   ]
  },
  {
   "cell_type": "code",
   "execution_count": null,
   "metadata": {},
   "outputs": [],
   "source": []
  },
  {
   "cell_type": "code",
   "execution_count": null,
   "metadata": {},
   "outputs": [],
   "source": []
  },
  {
   "cell_type": "code",
   "execution_count": null,
   "metadata": {},
   "outputs": [],
   "source": []
  },
  {
   "cell_type": "code",
   "execution_count": null,
   "metadata": {},
   "outputs": [],
   "source": []
  },
  {
   "cell_type": "code",
   "execution_count": null,
   "metadata": {},
   "outputs": [],
   "source": []
  },
  {
   "cell_type": "code",
   "execution_count": 140,
   "metadata": {},
   "outputs": [
    {
     "data": {
      "text/plain": [
       "0.56840396"
      ]
     },
     "execution_count": 140,
     "metadata": {},
     "output_type": "execute_result"
    }
   ],
   "source": [
    "models['pl']['model'].wv.similarity(keyword_reference_words['unia+europejska'], 'unia')"
   ]
  },
  {
   "cell_type": "code",
   "execution_count": 141,
   "metadata": {},
   "outputs": [
    {
     "data": {
      "text/plain": [
       "0.50153124"
      ]
     },
     "execution_count": 141,
     "metadata": {},
     "output_type": "execute_result"
    }
   ],
   "source": [
    "models['de/ch']['model'].wv.similarity(keyword_reference_words['unia+europejska'], 'unia')"
   ]
  },
  {
   "cell_type": "code",
   "execution_count": 92,
   "metadata": {},
   "outputs": [],
   "source": [
    "vectors = models['model'].wv.vectors\n",
    "words = models['model'].wv.vocab"
   ]
  },
  {
   "cell_type": "code",
   "execution_count": 93,
   "metadata": {},
   "outputs": [
    {
     "data": {
      "image/png": "[encoded data removed]",
      "text/plain": [
       "<Figure size 720x576 with 1 Axes>"
      ]
     },
     "metadata": {},
     "output_type": "display_data"
    }
   ],
   "source": [
    "pca = PCA(n_components = 100).fit(vectors)\n",
    "plt.plot(np.cumsum(pca.explained_variance_ratio_));"
   ]
  },
  {
   "cell_type": "code",
   "execution_count": 94,
   "metadata": {},
   "outputs": [],
   "source": [
    "pca_vectors = PCA(n_components = 90).fit_transform(vectors)"
   ]
  },
  {
   "cell_type": "code",
   "execution_count": 97,
   "metadata": {},
   "outputs": [],
   "source": [
    "# tsne_vectors = TSNE(\n",
    "#     n_components = 2, \n",
    "#     n_jobs = 10,\n",
    "#     learning_rate = 200,\n",
    "#     n_iter = 1500,\n",
    "#     n_iter_without_progress = 100\n",
    "# ).fit_transform(pca_vectors)"
   ]
  },
  {
   "cell_type": "code",
   "execution_count": 103,
   "metadata": {},
   "outputs": [
    {
     "data": {
      "image/png": "[encoded data removed]",
      "text/plain": [
       "<Figure size 720x576 with 1 Axes>"
      ]
     },
     "metadata": {},
     "output_type": "display_data"
    }
   ],
   "source": [
    "plt.plot(figsize = (12, 12))\n",
    "plt.scatter(\n",
    "    [x[0] for x in tsne_vectors],\n",
    "    [x[1] for x in tsne_vectors],\n",
    ")\n",
    "selected_word = 'duda'\n",
    "idx = list(models['model'].wv.vocab.keys()).index(selected_word)\n",
    "plt.annotate(similar_word, (tsne_vectors[idx][0], tsne_vectors[idx][1]), color = 'green')\n",
    "similar_words = [x[0] for x in models['model'].wv.most_similar(positive=[selected_word], topn=20)]\n",
    "for similar_word in similar_words:\n",
    "    idx = list(models['model'].wv.vocab.keys()).index(similar_word)\n",
    "    plt.annotate(similar_word, (tsne_vectors[idx][0], tsne_vectors[idx][1]), color = 'red')"
   ]
  },
  {
   "cell_type": "code",
   "execution_count": null,
   "metadata": {},
   "outputs": [],
   "source": []
  },
  {
   "cell_type": "code",
   "execution_count": null,
   "metadata": {},
   "outputs": [],
   "source": []
  },
  {
   "cell_type": "code",
   "execution_count": null,
   "metadata": {},
   "outputs": [],
   "source": []
  },
  {
   "cell_type": "code",
   "execution_count": null,
   "metadata": {},
   "outputs": [],
   "source": []
  },
  {
   "cell_type": "code",
   "execution_count": null,
   "metadata": {},
   "outputs": [],
   "source": []
  },
  {
   "cell_type": "code",
   "execution_count": null,
   "metadata": {},
   "outputs": [],
   "source": []
  },
  {
   "cell_type": "code",
   "execution_count": null,
   "metadata": {},
   "outputs": [],
   "source": []
  },
  {
   "cell_type": "code",
   "execution_count": null,
   "metadata": {},
   "outputs": [],
   "source": []
  },
  {
   "cell_type": "code",
   "execution_count": null,
   "metadata": {},
   "outputs": [],
   "source": []
  },
  {
   "cell_type": "code",
   "execution_count": null,
   "metadata": {},
   "outputs": [],
   "source": []
  },
  {
   "cell_type": "code",
   "execution_count": null,
   "metadata": {},
   "outputs": [],
   "source": []
  },
  {
   "cell_type": "code",
   "execution_count": null,
   "metadata": {},
   "outputs": [],
   "source": []
  },
  {
   "cell_type": "code",
   "execution_count": null,
   "metadata": {},
   "outputs": [],
   "source": []
  },
  {
   "cell_type": "code",
   "execution_count": null,
   "metadata": {},
   "outputs": [],
   "source": []
  },
  {
   "cell_type": "code",
   "execution_count": null,
   "metadata": {},
   "outputs": [],
   "source": []
  },
  {
   "cell_type": "code",
   "execution_count": null,
   "metadata": {},
   "outputs": [],
   "source": []
  },
  {
   "cell_type": "code",
   "execution_count": null,
   "metadata": {},
   "outputs": [],
   "source": []
  },
  {
   "cell_type": "code",
   "execution_count": null,
   "metadata": {},
   "outputs": [],
   "source": []
  },
  {
   "cell_type": "markdown",
   "metadata": {
    "heading_collapsed": true
   },
   "source": [
    "## Add keywords to wyborcza and gazeta"
   ]
  },
  {
   "cell_type": "code",
   "execution_count": 19,
   "metadata": {
    "hidden": true
   },
   "outputs": [
    {
     "data": {
      "text/plain": [
       "['duda',\n",
       " 'premier',\n",
       " 'kwa%B6niewski',\n",
       " 'imigranci',\n",
       " 'lgbt',\n",
       " 'bank',\n",
       " 'ko%B6ci%F3%B3',\n",
       " 'rydzyk',\n",
       " 'feminizm',\n",
       " 'emigracja',\n",
       " 'lewica',\n",
       " 'prezydent',\n",
       " 'trump',\n",
       " 'kaczy%F1ski',\n",
       " 'pis',\n",
       " 'stany',\n",
       " 's%B1d+najwy%BFszy',\n",
       " 'prawica',\n",
       " 'sejm',\n",
       " 'szyd%B3o',\n",
       " 'ukraina',\n",
       " 'opozycja',\n",
       " 'polska',\n",
       " 'leszek+miller',\n",
       " 'rosja',\n",
       " 'unia+europejska',\n",
       " 'platforma',\n",
       " 'rz%B1d',\n",
       " 'niemcy',\n",
       " 'media',\n",
       " 'morawiecki',\n",
       " 'putin',\n",
       " 'papie%BF',\n",
       " 'korwin',\n",
       " 'ekologia']"
      ]
     },
     "execution_count": 19,
     "metadata": {},
     "output_type": "execute_result"
    }
   ],
   "source": [
    "listdir('data/wyborcza_gazeta/urls')"
   ]
  },
  {
   "cell_type": "code",
   "execution_count": 20,
   "metadata": {
    "hidden": true
   },
   "outputs": [],
   "source": [
    "decoder = {\n",
    "    '%B1': 'ą',\n",
    "    '%BF': 'ż',\n",
    "    '%B3': 'ł',\n",
    "    '%B6': 'ś',\n",
    "    '%F1': 'ń',\n",
    "    '%F3': 'ó'\n",
    "}"
   ]
  },
  {
   "cell_type": "code",
   "execution_count": 21,
   "metadata": {
    "hidden": true
   },
   "outputs": [],
   "source": [
    "keyword_urls = {}\n",
    "keywords = []\n",
    "for filename in listdir('data/wyborcza_gazeta/urls'):\n",
    "    with open('data/wyborcza_gazeta/urls/'+filename, 'r') as f:\n",
    "        urls = [x for x in f.read().split('\\n') if 'gazeta.pl' in x or 'wyborcza.pl' in x]\n",
    "        for key in decoder.keys():\n",
    "            filename = filename.replace(key, decoder[key])\n",
    "        keyword_urls[filename] = urls\n",
    "        keywords.append(filename)"
   ]
  },
  {
   "cell_type": "code",
   "execution_count": 22,
   "metadata": {
    "hidden": true
   },
   "outputs": [],
   "source": [
    "keywords_df = pd.concat([\n",
    "    pd.DataFrame(\n",
    "        pd.Series([1 for x in keyword_urls[key]], name = key, index = keyword_urls[key]),\n",
    "    ) for key in keyword_urls.keys()  \n",
    "], axis = 1, sort = False).fillna(0)"
   ]
  },
  {
   "cell_type": "code",
   "execution_count": 23,
   "metadata": {
    "hidden": true
   },
   "outputs": [
    {
     "data": {
      "text/plain": [
       "59662"
      ]
     },
     "execution_count": 23,
     "metadata": {},
     "output_type": "execute_result"
    }
   ],
   "source": [
    "len(wyborcza_articles)"
   ]
  },
  {
   "cell_type": "code",
   "execution_count": 24,
   "metadata": {
    "hidden": true
   },
   "outputs": [],
   "source": [
    "wyborcza_articles = pd.merge(\n",
    "    wyborcza_articles, \n",
    "    keywords_df, \n",
    "    left_on = 'url', \n",
    "    right_on = keywords_df.index\n",
    ")"
   ]
  },
  {
   "cell_type": "code",
   "execution_count": 25,
   "metadata": {
    "hidden": true
   },
   "outputs": [
    {
     "data": {
      "text/plain": [
       "59477"
      ]
     },
     "execution_count": 25,
     "metadata": {},
     "output_type": "execute_result"
    }
   ],
   "source": [
    "len(wyborcza_articles)"
   ]
  },
  {
   "cell_type": "code",
   "execution_count": 26,
   "metadata": {
    "hidden": true
   },
   "outputs": [
    {
     "data": {
      "text/plain": [
       "12590"
      ]
     },
     "execution_count": 26,
     "metadata": {},
     "output_type": "execute_result"
    }
   ],
   "source": [
    "len(gazeta_articles)"
   ]
  },
  {
   "cell_type": "code",
   "execution_count": 27,
   "metadata": {
    "hidden": true
   },
   "outputs": [],
   "source": [
    "gazeta_articles = pd.merge(\n",
    "    gazeta_articles, \n",
    "    keywords_df, \n",
    "    left_on = 'url', \n",
    "    right_on = keywords_df.index\n",
    ")"
   ]
  },
  {
   "cell_type": "code",
   "execution_count": 28,
   "metadata": {
    "hidden": true
   },
   "outputs": [
    {
     "data": {
      "text/plain": [
       "12548"
      ]
     },
     "execution_count": 28,
     "metadata": {},
     "output_type": "execute_result"
    }
   ],
   "source": [
    "len(gazeta_articles)"
   ]
  },
  {
   "cell_type": "code",
   "execution_count": null,
   "metadata": {
    "hidden": true
   },
   "outputs": [],
   "source": [
    "## Add keywords to wyborcza and gazeta\n",
    "\n",
    "listdir('data/wyborcza_gazeta/urls')\n",
    "\n",
    "decoder = {\n",
    "    '%B1': 'ą',\n",
    "    '%BF': 'ż',\n",
    "    '%B3': 'ł',\n",
    "    '%B6': 'ś',\n",
    "    '%F1': 'ń',\n",
    "    '%F3': 'ó'\n",
    "}\n",
    "\n",
    "keyword_urls = {}\n",
    "keywords = []\n",
    "for filename in listdir('data/wyborcza_gazeta/urls'):\n",
    "    with open('data/wyborcza_gazeta/urls/'+filename, 'r') as f:\n",
    "        urls = [x for x in f.read().split('\\n') if 'gazeta.pl' in x or 'wyborcza.pl' in x]\n",
    "        for key in decoder.keys():\n",
    "            filename = filename.replace(key, decoder[key])\n",
    "        keyword_urls[filename] = urls\n",
    "        keywords.append(filename)\n",
    "\n",
    "keywords_df = pd.concat([\n",
    "    pd.DataFrame(\n",
    "        pd.Series([1 for x in keyword_urls[key]], name = key, index = keyword_urls[key]),\n",
    "    ) for key in keyword_urls.keys()  \n",
    "], axis = 1, sort = False).fillna(0)\n",
    "\n",
    "len(wyborcza_articles)\n",
    "\n",
    "wyborcza_articles = pd.merge(\n",
    "    wyborcza_articles, \n",
    "    keywords_df, \n",
    "    left_on = 'url', \n",
    "    right_on = keywords_df.index\n",
    ")\n",
    "\n",
    "len(wyborcza_articles)\n",
    "\n",
    "len(gazeta_articles)\n",
    "\n",
    "gazeta_articles = pd.merge(\n",
    "    gazeta_articles, \n",
    "    keywords_df, \n",
    "    left_on = 'url', \n",
    "    right_on = keywords_df.index\n",
    ")\n",
    "\n",
    "len(gazeta_articles)"
   ]
  }
 ],
 "metadata": {
  "kernelspec": {
   "display_name": "Python 3",
   "language": "python",
   "name": "python3"
  },
  "language_info": {
   "codemirror_mode": {
    "name": "ipython",
    "version": 3
   },
   "file_extension": ".py",
   "mimetype": "text/x-python",
   "name": "python",
   "nbconvert_exporter": "python",
   "pygments_lexer": "ipython3",
   "version": "3.6.9"
  },
  "toc": {
   "base_numbering": 1,
   "nav_menu": {},
   "number_sections": true,
   "sideBar": true,
   "skip_h1_title": false,
   "title_cell": "Table of Contents",
   "title_sidebar": "Contents",
   "toc_cell": false,
   "toc_position": {},
   "toc_section_display": true,
   "toc_window_display": false
  }
 },
 "nbformat": 4,
 "nbformat_minor": 2
}
