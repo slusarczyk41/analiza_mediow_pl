{
 "cells": [
  {
   "cell_type": "code",
   "execution_count": 148,
   "metadata": {},
   "outputs": [],
   "source": [
    "import pandas as pd\n",
    "from os import listdir\n",
    "from pandas.errors import EmptyDataError\n",
    "from unidecode import unidecode\n",
    "import seaborn as sns\n",
    "\n",
    "sns.set(\n",
    "    rc = {\n",
    "        'figure.figsize': (10, 8)\n",
    "    }\n",
    ")"
   ]
  },
  {
   "cell_type": "markdown",
   "metadata": {},
   "source": [
    "# Read data"
   ]
  },
  {
   "cell_type": "markdown",
   "metadata": {
    "heading_collapsed": true
   },
   "source": [
    "## Wyborcza"
   ]
  },
  {
   "cell_type": "code",
   "execution_count": 61,
   "metadata": {
    "hidden": true
   },
   "outputs": [],
   "source": [
    "wyborcza_articles = []\n",
    "for filename in listdir('data/wyborcza/articles'):\n",
    "    wyborcza_articles.append(pd.read_csv('data/wyborcza/articles/'+filename, header = None))\n",
    "wyborcza_articles = pd.concat(wyborcza_articles)\n",
    "wyborcza_articles.columns = ['url', 'title', 'short', 'long', 'img', 'com']\n",
    "wyborcza_articles['short'] = wyborcza_articles['short'].str.replace(r'(.|..)\\n', '')\n",
    "wyborcza_articles['website'] = 'wyborcza'\n",
    "wyborcza_articles['brand'] = 'agora'\n",
    "wyborcza_articles['country'] = 'pl'"
   ]
  },
  {
   "cell_type": "code",
   "execution_count": 62,
   "metadata": {
    "hidden": true
   },
   "outputs": [
    {
     "data": {
      "text/html": [
       "<div>\n",
       "<style scoped>\n",
       "    .dataframe tbody tr th:only-of-type {\n",
       "        vertical-align: middle;\n",
       "    }\n",
       "\n",
       "    .dataframe tbody tr th {\n",
       "        vertical-align: top;\n",
       "    }\n",
       "\n",
       "    .dataframe thead th {\n",
       "        text-align: right;\n",
       "    }\n",
       "</style>\n",
       "<table border=\"1\" class=\"dataframe\">\n",
       "  <thead>\n",
       "    <tr style=\"text-align: right;\">\n",
       "      <th></th>\n",
       "      <th>url</th>\n",
       "      <th>title</th>\n",
       "      <th>short</th>\n",
       "      <th>long</th>\n",
       "      <th>img</th>\n",
       "      <th>com</th>\n",
       "      <th>website</th>\n",
       "      <th>brand</th>\n",
       "      <th>country</th>\n",
       "    </tr>\n",
       "  </thead>\n",
       "  <tbody>\n",
       "    <tr>\n",
       "      <th>0</th>\n",
       "      <td>https://poznan.wyborcza.pl/poznan/1,36001,2078...</td>\n",
       "      <td>Czarny protest w Poznaniu. Policja interweniow...</td>\n",
       "      <td>2Po czarnym proteście na placu Mickiewicza, tł...</td>\n",
       "      <td>W czarnym proteście na pl. Mickiewicza pod pom...</td>\n",
       "      <td>3 października 2016 r. Po 'czarnym proteście' ...</td>\n",
       "      <td>Policjanci! Na ulicę wyszły wasze żony,siostry...</td>\n",
       "      <td>wyborcza</td>\n",
       "      <td>agora</td>\n",
       "      <td>pl</td>\n",
       "    </tr>\n",
       "    <tr>\n",
       "      <th>1</th>\n",
       "      <td>https://wyborcza.pl/1,155287,7439653,Zdecydowa...</td>\n",
       "      <td>Zdecydowana większość newsów pochodzi z gazet</td>\n",
       "      <td>Z badań przeprowadzonych przez Pew Research Ce...</td>\n",
       "      <td>Choć rośnie liczba źródeł wiadomości na platfo...</td>\n",
       "      <td>NaN</td>\n",
       "      <td>NaN</td>\n",
       "      <td>wyborcza</td>\n",
       "      <td>agora</td>\n",
       "      <td>pl</td>\n",
       "    </tr>\n",
       "    <tr>\n",
       "      <th>2</th>\n",
       "      <td>https://lodz.wyborcza.pl/lodz/7,35136,23016701...</td>\n",
       "      <td>Gwiazdy na łódzkiej premierze filmu \"Pomiędzy ...</td>\n",
       "      <td>Łódź filmowa doczekała się kolejnej premiery. ...</td>\n",
       "      <td>\"Pomiędzy słowami\" to ostatni film Urszuli An...</td>\n",
       "      <td>MARCIN STĘPIEŃ</td>\n",
       "      <td>NaN</td>\n",
       "      <td>wyborcza</td>\n",
       "      <td>agora</td>\n",
       "      <td>pl</td>\n",
       "    </tr>\n",
       "  </tbody>\n",
       "</table>\n",
       "</div>"
      ],
      "text/plain": [
       "                                                 url  \\\n",
       "0  https://poznan.wyborcza.pl/poznan/1,36001,2078...   \n",
       "1  https://wyborcza.pl/1,155287,7439653,Zdecydowa...   \n",
       "2  https://lodz.wyborcza.pl/lodz/7,35136,23016701...   \n",
       "\n",
       "                                               title  \\\n",
       "0  Czarny protest w Poznaniu. Policja interweniow...   \n",
       "1      Zdecydowana większość newsów pochodzi z gazet   \n",
       "2  Gwiazdy na łódzkiej premierze filmu \"Pomiędzy ...   \n",
       "\n",
       "                                               short  \\\n",
       "0  2Po czarnym proteście na placu Mickiewicza, tł...   \n",
       "1  Z badań przeprowadzonych przez Pew Research Ce...   \n",
       "2  Łódź filmowa doczekała się kolejnej premiery. ...   \n",
       "\n",
       "                                                long  \\\n",
       "0  W czarnym proteście na pl. Mickiewicza pod pom...   \n",
       "1  Choć rośnie liczba źródeł wiadomości na platfo...   \n",
       "2   \"Pomiędzy słowami\" to ostatni film Urszuli An...   \n",
       "\n",
       "                                                 img  \\\n",
       "0  3 października 2016 r. Po 'czarnym proteście' ...   \n",
       "1                                                NaN   \n",
       "2                                     MARCIN STĘPIEŃ   \n",
       "\n",
       "                                                 com   website  brand country  \n",
       "0  Policjanci! Na ulicę wyszły wasze żony,siostry...  wyborcza  agora      pl  \n",
       "1                                                NaN  wyborcza  agora      pl  \n",
       "2                                                NaN  wyborcza  agora      pl  "
      ]
     },
     "execution_count": 62,
     "metadata": {},
     "output_type": "execute_result"
    }
   ],
   "source": [
    "wyborcza_articles.head(3)"
   ]
  },
  {
   "cell_type": "markdown",
   "metadata": {
    "heading_collapsed": true
   },
   "source": [
    "## Gazeta"
   ]
  },
  {
   "cell_type": "code",
   "execution_count": 63,
   "metadata": {
    "hidden": true
   },
   "outputs": [],
   "source": [
    "gazeta_articles = []\n",
    "for filename in listdir('data/gazeta/articles'):\n",
    "    try:\n",
    "        gazeta_articles.append(pd.read_csv('data/gazeta/articles/'+filename, header = None))\n",
    "    except EmptyDataError:\n",
    "        pass # empty file\n",
    "gazeta_articles = pd.concat(gazeta_articles)\n",
    "gazeta_articles.columns = ['url', 'title', 'short', 'long', 'img', 'com']\n",
    "gazeta_articles['website'] = 'gazeta'\n",
    "gazeta_articles['brand'] = 'agora'\n",
    "gazeta_articles['country'] = 'pl'"
   ]
  },
  {
   "cell_type": "code",
   "execution_count": 64,
   "metadata": {
    "hidden": true
   },
   "outputs": [
    {
     "data": {
      "text/html": [
       "<div>\n",
       "<style scoped>\n",
       "    .dataframe tbody tr th:only-of-type {\n",
       "        vertical-align: middle;\n",
       "    }\n",
       "\n",
       "    .dataframe tbody tr th {\n",
       "        vertical-align: top;\n",
       "    }\n",
       "\n",
       "    .dataframe thead th {\n",
       "        text-align: right;\n",
       "    }\n",
       "</style>\n",
       "<table border=\"1\" class=\"dataframe\">\n",
       "  <thead>\n",
       "    <tr style=\"text-align: right;\">\n",
       "      <th></th>\n",
       "      <th>url</th>\n",
       "      <th>title</th>\n",
       "      <th>short</th>\n",
       "      <th>long</th>\n",
       "      <th>img</th>\n",
       "      <th>com</th>\n",
       "      <th>website</th>\n",
       "      <th>brand</th>\n",
       "      <th>country</th>\n",
       "    </tr>\n",
       "  </thead>\n",
       "  <tbody>\n",
       "    <tr>\n",
       "      <th>0</th>\n",
       "      <td>http://metrowarszawa.gazeta.pl/metrowarszawa/7...</td>\n",
       "      <td>Warszawa. Będą dwie nowe stacje na I linii met...</td>\n",
       "      <td>Ratusz podpisał umowę z firmą Metroprojekt, kt...</td>\n",
       "      <td>\"Jak zapowiadałem w kampanii wyborczej pracuje...</td>\n",
       "      <td>Fot. Urząd Miasta Warszawa</td>\n",
       "      <td>Najpierw powinna powstać III linia, a dopiero ...</td>\n",
       "      <td>gazeta</td>\n",
       "      <td>agora</td>\n",
       "      <td>pl</td>\n",
       "    </tr>\n",
       "    <tr>\n",
       "      <th>1</th>\n",
       "      <td>http://wiadomosci.gazeta.pl/wiadomosci/1,11487...</td>\n",
       "      <td>Prezydent Duda w Paryżu o uchodźcach: Pomagać ...</td>\n",
       "      <td>Wsparcie finansowe dla uchodźców zapowiedział ...</td>\n",
       "      <td>Chcesz wiedzieć szybciej? Polub nas\\n- Trzeba ...</td>\n",
       "      <td>Fot. Prezydent.pl</td>\n",
       "      <td>Brawo Duda. Trzeba opieprzyć tych baranów z za...</td>\n",
       "      <td>gazeta</td>\n",
       "      <td>agora</td>\n",
       "      <td>pl</td>\n",
       "    </tr>\n",
       "    <tr>\n",
       "      <th>2</th>\n",
       "      <td>http://podroze.gazeta.pl/podroze/7,114158,2496...</td>\n",
       "      <td>Grecy szukają osób, które zgodziłyby się zamie...</td>\n",
       "      <td>Jeśli kiedykolwiek marzyłeś o tym, aby zamiesz...</td>\n",
       "      <td>Andikitira to grecka wyspa zaliczana do Wysp J...</td>\n",
       "      <td>fot. Shutterstock</td>\n",
       "      <td>Lepsze jest 500€ niż pincetplus.\\nJadę!-@@@-Ta...</td>\n",
       "      <td>gazeta</td>\n",
       "      <td>agora</td>\n",
       "      <td>pl</td>\n",
       "    </tr>\n",
       "  </tbody>\n",
       "</table>\n",
       "</div>"
      ],
      "text/plain": [
       "                                                 url  \\\n",
       "0  http://metrowarszawa.gazeta.pl/metrowarszawa/7...   \n",
       "1  http://wiadomosci.gazeta.pl/wiadomosci/1,11487...   \n",
       "2  http://podroze.gazeta.pl/podroze/7,114158,2496...   \n",
       "\n",
       "                                               title  \\\n",
       "0  Warszawa. Będą dwie nowe stacje na I linii met...   \n",
       "1  Prezydent Duda w Paryżu o uchodźcach: Pomagać ...   \n",
       "2  Grecy szukają osób, które zgodziłyby się zamie...   \n",
       "\n",
       "                                               short  \\\n",
       "0  Ratusz podpisał umowę z firmą Metroprojekt, kt...   \n",
       "1  Wsparcie finansowe dla uchodźców zapowiedział ...   \n",
       "2  Jeśli kiedykolwiek marzyłeś o tym, aby zamiesz...   \n",
       "\n",
       "                                                long  \\\n",
       "0  \"Jak zapowiadałem w kampanii wyborczej pracuje...   \n",
       "1  Chcesz wiedzieć szybciej? Polub nas\\n- Trzeba ...   \n",
       "2  Andikitira to grecka wyspa zaliczana do Wysp J...   \n",
       "\n",
       "                          img  \\\n",
       "0  Fot. Urząd Miasta Warszawa   \n",
       "1           Fot. Prezydent.pl   \n",
       "2           fot. Shutterstock   \n",
       "\n",
       "                                                 com website  brand country  \n",
       "0  Najpierw powinna powstać III linia, a dopiero ...  gazeta  agora      pl  \n",
       "1  Brawo Duda. Trzeba opieprzyć tych baranów z za...  gazeta  agora      pl  \n",
       "2  Lepsze jest 500€ niż pincetplus.\\nJadę!-@@@-Ta...  gazeta  agora      pl  "
      ]
     },
     "execution_count": 64,
     "metadata": {},
     "output_type": "execute_result"
    }
   ],
   "source": [
    "gazeta_articles.head(3)"
   ]
  },
  {
   "cell_type": "markdown",
   "metadata": {
    "heading_collapsed": true
   },
   "source": [
    "## Add keywords to wyborcza and gazeta"
   ]
  },
  {
   "cell_type": "code",
   "execution_count": 65,
   "metadata": {
    "hidden": true
   },
   "outputs": [
    {
     "data": {
      "text/plain": [
       "['duda',\n",
       " 'premier',\n",
       " 'kwa%B6niewski',\n",
       " 'imigranci',\n",
       " 'lgbt',\n",
       " 'bank',\n",
       " 'ko%B6ci%F3%B3',\n",
       " 'rydzyk',\n",
       " 'feminizm',\n",
       " 'emigracja',\n",
       " 'lewica',\n",
       " 'prezydent',\n",
       " 'trump',\n",
       " 'kaczy%F1ski',\n",
       " 'pis',\n",
       " 'stany',\n",
       " 's%B1d+najwy%BFszy',\n",
       " 'prawica',\n",
       " 'sejm',\n",
       " 'szyd%B3o',\n",
       " 'ukraina',\n",
       " 'opozycja',\n",
       " 'polska',\n",
       " 'leszek+miller',\n",
       " 'rosja',\n",
       " 'unia+europejska',\n",
       " 'platforma',\n",
       " 'rz%B1d',\n",
       " 'niemcy',\n",
       " 'media',\n",
       " 'morawiecki',\n",
       " 'putin',\n",
       " 'papie%BF',\n",
       " 'korwin',\n",
       " 'ekologia']"
      ]
     },
     "execution_count": 65,
     "metadata": {},
     "output_type": "execute_result"
    }
   ],
   "source": [
    "listdir('data/wyborcza_gazeta/urls')"
   ]
  },
  {
   "cell_type": "code",
   "execution_count": 66,
   "metadata": {
    "hidden": true
   },
   "outputs": [],
   "source": [
    "decoder = {\n",
    "    '%B1': 'ą',\n",
    "    '%BF': 'ż',\n",
    "    '%B3': 'ł',\n",
    "    '%B6': 'ś',\n",
    "    '%F1': 'ń',\n",
    "    '%F3': 'ó'\n",
    "}"
   ]
  },
  {
   "cell_type": "code",
   "execution_count": 121,
   "metadata": {
    "hidden": true
   },
   "outputs": [],
   "source": [
    "keyword_urls = {}\n",
    "keywords = []\n",
    "for filename in listdir('data/wyborcza_gazeta/urls'):\n",
    "    with open('data/wyborcza_gazeta/urls/'+filename, 'r') as f:\n",
    "        urls = [x for x in f.read().split('\\n') if 'gazeta.pl' in x or 'wyborcza.pl' in x]\n",
    "        for key in decoder.keys():\n",
    "            filename = filename.replace(key, decoder[key])\n",
    "        keyword_urls[filename] = urls\n",
    "        keywords.append(filename)"
   ]
  },
  {
   "cell_type": "code",
   "execution_count": 68,
   "metadata": {
    "hidden": true
   },
   "outputs": [],
   "source": [
    "keywords_df = pd.concat([\n",
    "    pd.DataFrame(\n",
    "        pd.Series([1 for x in keyword_urls[key]], name = key, index = keyword_urls[key]),\n",
    "    ) for key in keyword_urls.keys()  \n",
    "], axis = 1, sort = False).fillna(0)"
   ]
  },
  {
   "cell_type": "code",
   "execution_count": 69,
   "metadata": {
    "hidden": true
   },
   "outputs": [
    {
     "data": {
      "text/plain": [
       "18738"
      ]
     },
     "execution_count": 69,
     "metadata": {},
     "output_type": "execute_result"
    }
   ],
   "source": [
    "len(wyborcza_articles)"
   ]
  },
  {
   "cell_type": "code",
   "execution_count": 70,
   "metadata": {
    "hidden": true
   },
   "outputs": [],
   "source": [
    "wyborcza_articles = pd.merge(\n",
    "    wyborcza_articles, \n",
    "    keywords_df, \n",
    "    left_on = 'url', \n",
    "    right_on = keywords_df.index\n",
    ")"
   ]
  },
  {
   "cell_type": "code",
   "execution_count": 71,
   "metadata": {
    "hidden": true
   },
   "outputs": [
    {
     "data": {
      "text/plain": [
       "18564"
      ]
     },
     "execution_count": 71,
     "metadata": {},
     "output_type": "execute_result"
    }
   ],
   "source": [
    "len(wyborcza_articles)"
   ]
  },
  {
   "cell_type": "code",
   "execution_count": 72,
   "metadata": {
    "hidden": true
   },
   "outputs": [
    {
     "data": {
      "text/plain": [
       "3940"
      ]
     },
     "execution_count": 72,
     "metadata": {},
     "output_type": "execute_result"
    }
   ],
   "source": [
    "len(gazeta_articles)"
   ]
  },
  {
   "cell_type": "code",
   "execution_count": 73,
   "metadata": {
    "hidden": true
   },
   "outputs": [],
   "source": [
    "gazeta_articles = pd.merge(\n",
    "    gazeta_articles, \n",
    "    keywords_df, \n",
    "    left_on = 'url', \n",
    "    right_on = keywords_df.index\n",
    ")"
   ]
  },
  {
   "cell_type": "code",
   "execution_count": 74,
   "metadata": {
    "hidden": true
   },
   "outputs": [
    {
     "data": {
      "text/plain": [
       "3898"
      ]
     },
     "execution_count": 74,
     "metadata": {},
     "output_type": "execute_result"
    }
   ],
   "source": [
    "len(gazeta_articles)"
   ]
  },
  {
   "cell_type": "markdown",
   "metadata": {
    "heading_collapsed": true
   },
   "source": [
    "## Fakt"
   ]
  },
  {
   "cell_type": "code",
   "execution_count": 75,
   "metadata": {
    "hidden": true
   },
   "outputs": [],
   "source": [
    "# fakt_articles = []\n",
    "# for filename in listdir('data/fakt/articles'):\n",
    "#     fakt_articles.append(pd.read_csv('data/fakt/articles/'+filename, header = None))\n",
    "# fakt_articles = pd.concat(fakt_articles)"
   ]
  },
  {
   "cell_type": "code",
   "execution_count": 76,
   "metadata": {
    "hidden": true
   },
   "outputs": [],
   "source": [
    "# fakt_articles.iloc[1].values"
   ]
  },
  {
   "cell_type": "code",
   "execution_count": null,
   "metadata": {
    "hidden": true
   },
   "outputs": [],
   "source": []
  },
  {
   "cell_type": "code",
   "execution_count": null,
   "metadata": {
    "hidden": true
   },
   "outputs": [],
   "source": []
  },
  {
   "cell_type": "markdown",
   "metadata": {
    "heading_collapsed": true
   },
   "source": [
    "## Concentrate data"
   ]
  },
  {
   "cell_type": "code",
   "execution_count": 77,
   "metadata": {
    "hidden": true
   },
   "outputs": [],
   "source": [
    "df = pd.concat([\n",
    "    wyborcza_articles,\n",
    "    gazeta_articles,\n",
    "], axis = 0, sort = False)"
   ]
  },
  {
   "cell_type": "markdown",
   "metadata": {},
   "source": [
    "# Analyze"
   ]
  },
  {
   "cell_type": "markdown",
   "metadata": {
    "heading_collapsed": true
   },
   "source": [
    "## Get emotions data from polish wordnet"
   ]
  },
  {
   "cell_type": "code",
   "execution_count": 78,
   "metadata": {
    "hidden": true
   },
   "outputs": [],
   "source": [
    "# http://plwordnet.pwr.wroc.pl//wordnet/download-wordnet?key=1iflsj&file=4.0\n",
    "# extract one file (słownik_anotacji_emocjonlanej) to home directory"
   ]
  },
  {
   "cell_type": "code",
   "execution_count": 79,
   "metadata": {
    "hidden": true
   },
   "outputs": [],
   "source": [
    "emotions = pd.read_csv('~/słownik_anotacji_emocjonlanej.csv')[['lemat', 'emocje']].dropna()"
   ]
  },
  {
   "cell_type": "code",
   "execution_count": 80,
   "metadata": {
    "hidden": true
   },
   "outputs": [
    {
     "data": {
      "text/html": [
       "<div>\n",
       "<style scoped>\n",
       "    .dataframe tbody tr th:only-of-type {\n",
       "        vertical-align: middle;\n",
       "    }\n",
       "\n",
       "    .dataframe tbody tr th {\n",
       "        vertical-align: top;\n",
       "    }\n",
       "\n",
       "    .dataframe thead th {\n",
       "        text-align: right;\n",
       "    }\n",
       "</style>\n",
       "<table border=\"1\" class=\"dataframe\">\n",
       "  <thead>\n",
       "    <tr style=\"text-align: right;\">\n",
       "      <th></th>\n",
       "      <th>lemat</th>\n",
       "      <th>emocje</th>\n",
       "    </tr>\n",
       "  </thead>\n",
       "  <tbody>\n",
       "    <tr>\n",
       "      <th>2</th>\n",
       "      <td>abstrakcyjny</td>\n",
       "      <td>wstręt;złość;zaskoczenie</td>\n",
       "    </tr>\n",
       "    <tr>\n",
       "      <th>3</th>\n",
       "      <td>abstrakcyjny</td>\n",
       "      <td>wstręt;złość</td>\n",
       "    </tr>\n",
       "    <tr>\n",
       "      <th>10</th>\n",
       "      <td>adorator</td>\n",
       "      <td>złość;radość</td>\n",
       "    </tr>\n",
       "    <tr>\n",
       "      <th>11</th>\n",
       "      <td>adorator</td>\n",
       "      <td>złość;cieszenie się na;radość;wstręt</td>\n",
       "    </tr>\n",
       "    <tr>\n",
       "      <th>18</th>\n",
       "      <td>afektowany</td>\n",
       "      <td>złość;smutek</td>\n",
       "    </tr>\n",
       "  </tbody>\n",
       "</table>\n",
       "</div>"
      ],
      "text/plain": [
       "           lemat                                emocje\n",
       "2   abstrakcyjny              wstręt;złość;zaskoczenie\n",
       "3   abstrakcyjny                          wstręt;złość\n",
       "10      adorator                          złość;radość\n",
       "11      adorator  złość;cieszenie się na;radość;wstręt\n",
       "18    afektowany                          złość;smutek"
      ]
     },
     "execution_count": 80,
     "metadata": {},
     "output_type": "execute_result"
    }
   ],
   "source": [
    "emotions.head()"
   ]
  },
  {
   "cell_type": "code",
   "execution_count": 81,
   "metadata": {
    "hidden": true
   },
   "outputs": [],
   "source": [
    "emotions['emocje'] = emotions['emocje'].str.replace(':', ';')"
   ]
  },
  {
   "cell_type": "code",
   "execution_count": 82,
   "metadata": {
    "hidden": true
   },
   "outputs": [],
   "source": [
    "pairs = [\n",
    "    ('złosć', 'negatywny'),\n",
    "    ('zlość', 'negatywny'),\n",
    "    ('złośc', 'negatywny'),\n",
    "    ('złość wstręt', 'negatywny'),\n",
    "    ('złość: nieużyteczność', 'negatywny'),\n",
    "    ('złóść', 'negatywny'),\n",
    "    ('bład', 'negatywny'),\n",
    "    ('brzydota', 'negatywny'),\n",
    "    ('błąd', 'negatywny'),\n",
    "    ('gniew', 'negatywny'),\n",
    "    ('krzywda', 'negatywny'),\n",
    "    ('nieszczęscie', 'negatywny'),\n",
    "    ('nieszczęście', 'negatywny'),\n",
    "    ('nieużyteczność', 'negatywny'),\n",
    "    ('złość', 'negatywny'),\n",
    "    ('strach', 'negatywny'),\n",
    "    ('strach wstręt', 'negatywny'),\n",
    "    ('smute', 'negatywny'),\n",
    "    ('smutek', 'negatywny'),\n",
    "    ('wstęt', 'negatywny'),\n",
    "    ('niewiedza', 'negatywny'),\n",
    "    ('negatywny wstręt', 'negatywny'),\n",
    "    ('negatywnyk', 'negatywny'),\n",
    "    ('negatywnyk: negatywny', 'negatywny'),\n",
    "    ('wstrę', 'negatywny'),\n",
    "    ('wstręt', 'negatywny'),\n",
    "    ('wstręt: negatywny', 'negatywny'),\n",
    "    ('negatywnyt', 'negatywny'),\n",
    "    ('s mutek', 'negatywny'),\n",
    "    ('wstret', 'negatywny'),\n",
    "    ('smitek', 'negatywny'),\n",
    "    (' negatywny', 'negatywny'),\n",
    "    \n",
    "    ('cieszenie sie', 'pozytywny'),\n",
    "    ('cieszenie sie na', 'pozytywny'),\n",
    "    ('cieszenie się na coś oczekiwanego', 'pozytywny'),\n",
    "    ('dobro', 'pozytywny'),\n",
    "    ('cieszenie sie', 'pozytywny'),\n",
    "    ('radoć', 'pozytywny'),\n",
    "    ('radość', 'pozytywny'),\n",
    "    ('radość: piękno', 'pozytywny'),\n",
    "    ('radość: szczęście', 'pozytywny'),\n",
    "    ('zaufanie', 'pozytywny'),\n",
    "    ('cieszenie się', 'pozytywny'),\n",
    "    ('cieszenie się na', 'pozytywny'),\n",
    "    ('ciesznie się na', 'pozytywny'),\n",
    "    ('piękno', 'pozytywny'),\n",
    "    ('pozytywny: piękno', 'pozytywny'),\n",
    "    ('pozytywny: szczęście', 'pozytywny'),\n",
    "    ('prawda', 'pozytywny'),\n",
    "    ('radosć', 'pozytywny'),\n",
    "    ('pozytywny: pozytywny', 'pozytywny'),\n",
    "    ('radośc', 'pozytywny'),\n",
    "    ('szczęście', 'pozytywny'),\n",
    "    ('użyteczność', 'pozytywny'),\n",
    "    ('wiedza', 'pozytywny'),\n",
    "    ('zufanie', 'pozytywny'),\n",
    "    ('pozytywny na', 'pozytywny'),\n",
    "    (' pozytywny', 'pozytywny'),\n",
    "    \n",
    "    ('zaskoczenie czymś nieprzewidywanym', ''),\n",
    "    ('oczekiwanie na', ''),\n",
    "    (' czymś nieprzewidywanym', ''),\n",
    "    ('-', ''),\n",
    "    ('zaskoczenie', ''),\n",
    "    ('pozytywnynegatywny', ''),\n",
    "]"
   ]
  },
  {
   "cell_type": "code",
   "execution_count": 83,
   "metadata": {
    "hidden": true
   },
   "outputs": [],
   "source": [
    "for pair in pairs:\n",
    "    emotions['emocje'] = emotions['emocje'].str.replace(pair[0], pair[1])"
   ]
  },
  {
   "cell_type": "code",
   "execution_count": 84,
   "metadata": {
    "hidden": true
   },
   "outputs": [],
   "source": [
    "emotions = pd.concat([\n",
    "    emotions['lemat'],\n",
    "    emotions['emocje']\\\n",
    "        .str.get_dummies(sep = ';')\\\n",
    "], axis = 1)"
   ]
  },
  {
   "cell_type": "code",
   "execution_count": 85,
   "metadata": {
    "hidden": true
   },
   "outputs": [],
   "source": [
    "emotions.loc[\n",
    "    emotions['pozytywny'] == emotions['negatywny']\n",
    ", 'ambiguous'] = True"
   ]
  },
  {
   "cell_type": "code",
   "execution_count": 86,
   "metadata": {
    "hidden": true
   },
   "outputs": [
    {
     "data": {
      "text/plain": [
       "56420"
      ]
     },
     "execution_count": 86,
     "metadata": {},
     "output_type": "execute_result"
    }
   ],
   "source": [
    "len(emotions)"
   ]
  },
  {
   "cell_type": "code",
   "execution_count": 87,
   "metadata": {
    "hidden": true
   },
   "outputs": [],
   "source": [
    "emotions = emotions[emotions['ambiguous'].isna()]\n",
    "emotions = emotions.drop('ambiguous', axis = 1)"
   ]
  },
  {
   "cell_type": "code",
   "execution_count": 88,
   "metadata": {
    "hidden": true
   },
   "outputs": [
    {
     "data": {
      "text/plain": [
       "47477"
      ]
     },
     "execution_count": 88,
     "metadata": {},
     "output_type": "execute_result"
    }
   ],
   "source": [
    "len(emotions)"
   ]
  },
  {
   "cell_type": "code",
   "execution_count": 89,
   "metadata": {
    "hidden": true
   },
   "outputs": [
    {
     "data": {
      "text/plain": [
       "31505"
      ]
     },
     "execution_count": 89,
     "metadata": {},
     "output_type": "execute_result"
    }
   ],
   "source": [
    "emotions['negatywny'].sum()"
   ]
  },
  {
   "cell_type": "code",
   "execution_count": 90,
   "metadata": {
    "hidden": true
   },
   "outputs": [
    {
     "data": {
      "text/plain": [
       "15972"
      ]
     },
     "execution_count": 90,
     "metadata": {},
     "output_type": "execute_result"
    }
   ],
   "source": [
    "emotions['pozytywny'].sum()"
   ]
  },
  {
   "cell_type": "code",
   "execution_count": 91,
   "metadata": {
    "hidden": true
   },
   "outputs": [
    {
     "data": {
      "text/html": [
       "<div>\n",
       "<style scoped>\n",
       "    .dataframe tbody tr th:only-of-type {\n",
       "        vertical-align: middle;\n",
       "    }\n",
       "\n",
       "    .dataframe tbody tr th {\n",
       "        vertical-align: top;\n",
       "    }\n",
       "\n",
       "    .dataframe thead th {\n",
       "        text-align: right;\n",
       "    }\n",
       "</style>\n",
       "<table border=\"1\" class=\"dataframe\">\n",
       "  <thead>\n",
       "    <tr style=\"text-align: right;\">\n",
       "      <th></th>\n",
       "      <th>lemat</th>\n",
       "      <th>negatywny</th>\n",
       "      <th>pozytywny</th>\n",
       "    </tr>\n",
       "  </thead>\n",
       "  <tbody>\n",
       "    <tr>\n",
       "      <th>130910</th>\n",
       "      <td>mrocznawy</td>\n",
       "      <td>1</td>\n",
       "      <td>0</td>\n",
       "    </tr>\n",
       "    <tr>\n",
       "      <th>151687</th>\n",
       "      <td>epikurejski</td>\n",
       "      <td>1</td>\n",
       "      <td>0</td>\n",
       "    </tr>\n",
       "    <tr>\n",
       "      <th>10461</th>\n",
       "      <td>uczciwość</td>\n",
       "      <td>0</td>\n",
       "      <td>1</td>\n",
       "    </tr>\n",
       "    <tr>\n",
       "      <th>85227</th>\n",
       "      <td>nowiusieńki</td>\n",
       "      <td>0</td>\n",
       "      <td>1</td>\n",
       "    </tr>\n",
       "    <tr>\n",
       "      <th>139030</th>\n",
       "      <td>niehigienicznie</td>\n",
       "      <td>1</td>\n",
       "      <td>0</td>\n",
       "    </tr>\n",
       "  </tbody>\n",
       "</table>\n",
       "</div>"
      ],
      "text/plain": [
       "                  lemat  negatywny  pozytywny\n",
       "130910        mrocznawy          1          0\n",
       "151687      epikurejski          1          0\n",
       "10461         uczciwość          0          1\n",
       "85227       nowiusieńki          0          1\n",
       "139030  niehigienicznie          1          0"
      ]
     },
     "execution_count": 91,
     "metadata": {},
     "output_type": "execute_result"
    }
   ],
   "source": [
    "emotions.sample(5).head()"
   ]
  },
  {
   "cell_type": "code",
   "execution_count": 92,
   "metadata": {
    "hidden": true
   },
   "outputs": [],
   "source": [
    "emotions = emotions.drop('negatywny', axis = 1)"
   ]
  },
  {
   "cell_type": "code",
   "execution_count": 93,
   "metadata": {
    "hidden": true
   },
   "outputs": [],
   "source": [
    "emotions.loc[emotions['pozytywny'] == 0, 'pozytywny'] = -1"
   ]
  },
  {
   "cell_type": "code",
   "execution_count": 94,
   "metadata": {
    "hidden": true
   },
   "outputs": [],
   "source": [
    "emotions.columns = ['lemat', 'sentyment']"
   ]
  },
  {
   "cell_type": "code",
   "execution_count": 95,
   "metadata": {
    "hidden": true
   },
   "outputs": [],
   "source": [
    "emotions = emotions.drop_duplicates()"
   ]
  },
  {
   "cell_type": "code",
   "execution_count": 96,
   "metadata": {
    "hidden": true
   },
   "outputs": [
    {
     "data": {
      "text/html": [
       "<div>\n",
       "<style scoped>\n",
       "    .dataframe tbody tr th:only-of-type {\n",
       "        vertical-align: middle;\n",
       "    }\n",
       "\n",
       "    .dataframe tbody tr th {\n",
       "        vertical-align: top;\n",
       "    }\n",
       "\n",
       "    .dataframe thead th {\n",
       "        text-align: right;\n",
       "    }\n",
       "</style>\n",
       "<table border=\"1\" class=\"dataframe\">\n",
       "  <thead>\n",
       "    <tr style=\"text-align: right;\">\n",
       "      <th></th>\n",
       "      <th>lemat</th>\n",
       "      <th>sentyment</th>\n",
       "    </tr>\n",
       "  </thead>\n",
       "  <tbody>\n",
       "    <tr>\n",
       "      <th>78157</th>\n",
       "      <td>drapieżny</td>\n",
       "      <td>-1</td>\n",
       "    </tr>\n",
       "    <tr>\n",
       "      <th>83567</th>\n",
       "      <td>urodziwość</td>\n",
       "      <td>1</td>\n",
       "    </tr>\n",
       "    <tr>\n",
       "      <th>143434</th>\n",
       "      <td>mroźnie</td>\n",
       "      <td>-1</td>\n",
       "    </tr>\n",
       "    <tr>\n",
       "      <th>110121</th>\n",
       "      <td>cięty</td>\n",
       "      <td>1</td>\n",
       "    </tr>\n",
       "    <tr>\n",
       "      <th>37297</th>\n",
       "      <td>wszetecznica</td>\n",
       "      <td>-1</td>\n",
       "    </tr>\n",
       "  </tbody>\n",
       "</table>\n",
       "</div>"
      ],
      "text/plain": [
       "               lemat  sentyment\n",
       "78157      drapieżny         -1\n",
       "83567     urodziwość          1\n",
       "143434       mroźnie         -1\n",
       "110121         cięty          1\n",
       "37297   wszetecznica         -1"
      ]
     },
     "execution_count": 96,
     "metadata": {},
     "output_type": "execute_result"
    }
   ],
   "source": [
    "emotions.sample(5).head()"
   ]
  },
  {
   "cell_type": "code",
   "execution_count": 97,
   "metadata": {
    "hidden": true
   },
   "outputs": [],
   "source": [
    "emotions_dict = {x[0]:x[1] for x in emotions.values}"
   ]
  },
  {
   "cell_type": "markdown",
   "metadata": {
    "heading_collapsed": true
   },
   "source": [
    "## Titles/shorts"
   ]
  },
  {
   "cell_type": "code",
   "execution_count": 98,
   "metadata": {
    "hidden": true
   },
   "outputs": [
    {
     "data": {
      "text/html": [
       "<div>\n",
       "<style scoped>\n",
       "    .dataframe tbody tr th:only-of-type {\n",
       "        vertical-align: middle;\n",
       "    }\n",
       "\n",
       "    .dataframe tbody tr th {\n",
       "        vertical-align: top;\n",
       "    }\n",
       "\n",
       "    .dataframe thead th {\n",
       "        text-align: right;\n",
       "    }\n",
       "</style>\n",
       "<table border=\"1\" class=\"dataframe\">\n",
       "  <thead>\n",
       "    <tr style=\"text-align: right;\">\n",
       "      <th></th>\n",
       "      <th>lemat</th>\n",
       "      <th>sentyment</th>\n",
       "    </tr>\n",
       "  </thead>\n",
       "  <tbody>\n",
       "    <tr>\n",
       "      <th>50074</th>\n",
       "      <td>zblakły</td>\n",
       "      <td>-1</td>\n",
       "    </tr>\n",
       "    <tr>\n",
       "      <th>106600</th>\n",
       "      <td>rybi</td>\n",
       "      <td>-1</td>\n",
       "    </tr>\n",
       "    <tr>\n",
       "      <th>147790</th>\n",
       "      <td>na sztywno</td>\n",
       "      <td>-1</td>\n",
       "    </tr>\n",
       "    <tr>\n",
       "      <th>21517</th>\n",
       "      <td>tułacz</td>\n",
       "      <td>-1</td>\n",
       "    </tr>\n",
       "    <tr>\n",
       "      <th>69480</th>\n",
       "      <td>krewki</td>\n",
       "      <td>-1</td>\n",
       "    </tr>\n",
       "  </tbody>\n",
       "</table>\n",
       "</div>"
      ],
      "text/plain": [
       "             lemat  sentyment\n",
       "50074      zblakły         -1\n",
       "106600        rybi         -1\n",
       "147790  na sztywno         -1\n",
       "21517       tułacz         -1\n",
       "69480       krewki         -1"
      ]
     },
     "execution_count": 98,
     "metadata": {},
     "output_type": "execute_result"
    }
   ],
   "source": [
    "emotions.sample(5).head()"
   ]
  },
  {
   "cell_type": "code",
   "execution_count": 99,
   "metadata": {
    "hidden": true
   },
   "outputs": [],
   "source": [
    "emotion_words = emotions_dict.keys()"
   ]
  },
  {
   "cell_type": "code",
   "execution_count": 100,
   "metadata": {
    "hidden": true
   },
   "outputs": [],
   "source": [
    "# title, short, long"
   ]
  },
  {
   "cell_type": "code",
   "execution_count": 101,
   "metadata": {
    "hidden": true
   },
   "outputs": [],
   "source": [
    "df['sentiment'] = df['short'].str.lower().apply(lambda x: sum([emotions_dict[a] \n",
    "                                         for a in str(x).split(' ')\n",
    "                                         if a in emotion_words]))"
   ]
  },
  {
   "cell_type": "code",
   "execution_count": 142,
   "metadata": {
    "hidden": true
   },
   "outputs": [
    {
     "data": {
      "text/html": [
       "<div>\n",
       "<style scoped>\n",
       "    .dataframe tbody tr th:only-of-type {\n",
       "        vertical-align: middle;\n",
       "    }\n",
       "\n",
       "    .dataframe tbody tr th {\n",
       "        vertical-align: top;\n",
       "    }\n",
       "\n",
       "    .dataframe thead th {\n",
       "        text-align: right;\n",
       "    }\n",
       "</style>\n",
       "<table border=\"1\" class=\"dataframe\">\n",
       "  <thead>\n",
       "    <tr style=\"text-align: right;\">\n",
       "      <th></th>\n",
       "      <th>website</th>\n",
       "      <th>sentiment</th>\n",
       "    </tr>\n",
       "  </thead>\n",
       "  <tbody>\n",
       "    <tr>\n",
       "      <th>21</th>\n",
       "      <td>wyborcza</td>\n",
       "      <td>-1</td>\n",
       "    </tr>\n",
       "    <tr>\n",
       "      <th>198</th>\n",
       "      <td>wyborcza</td>\n",
       "      <td>0</td>\n",
       "    </tr>\n",
       "    <tr>\n",
       "      <th>253</th>\n",
       "      <td>wyborcza</td>\n",
       "      <td>1</td>\n",
       "    </tr>\n",
       "    <tr>\n",
       "      <th>364</th>\n",
       "      <td>wyborcza</td>\n",
       "      <td>0</td>\n",
       "    </tr>\n",
       "    <tr>\n",
       "      <th>1708</th>\n",
       "      <td>wyborcza</td>\n",
       "      <td>0</td>\n",
       "    </tr>\n",
       "    <tr>\n",
       "      <th>...</th>\n",
       "      <td>...</td>\n",
       "      <td>...</td>\n",
       "    </tr>\n",
       "    <tr>\n",
       "      <th>16488</th>\n",
       "      <td>wyborcza</td>\n",
       "      <td>0</td>\n",
       "    </tr>\n",
       "    <tr>\n",
       "      <th>18031</th>\n",
       "      <td>wyborcza</td>\n",
       "      <td>1</td>\n",
       "    </tr>\n",
       "    <tr>\n",
       "      <th>18407</th>\n",
       "      <td>wyborcza</td>\n",
       "      <td>1</td>\n",
       "    </tr>\n",
       "    <tr>\n",
       "      <th>3056</th>\n",
       "      <td>gazeta</td>\n",
       "      <td>0</td>\n",
       "    </tr>\n",
       "    <tr>\n",
       "      <th>3326</th>\n",
       "      <td>gazeta</td>\n",
       "      <td>1</td>\n",
       "    </tr>\n",
       "  </tbody>\n",
       "</table>\n",
       "<p>71 rows × 2 columns</p>\n",
       "</div>"
      ],
      "text/plain": [
       "        website  sentiment\n",
       "21     wyborcza         -1\n",
       "198    wyborcza          0\n",
       "253    wyborcza          1\n",
       "364    wyborcza          0\n",
       "1708   wyborcza          0\n",
       "...         ...        ...\n",
       "16488  wyborcza          0\n",
       "18031  wyborcza          1\n",
       "18407  wyborcza          1\n",
       "3056     gazeta          0\n",
       "3326     gazeta          1\n",
       "\n",
       "[71 rows x 2 columns]"
      ]
     },
     "execution_count": 142,
     "metadata": {},
     "output_type": "execute_result"
    }
   ],
   "source": [
    "df[df['feminizm'] == 1][['website', 'sentiment']]"
   ]
  },
  {
   "cell_type": "code",
   "execution_count": 143,
   "metadata": {
    "hidden": true
   },
   "outputs": [],
   "source": [
    "data_dict = {}\n",
    "for keyword in keywords:\n",
    "    data_dict[keyword] = df\\\n",
    "        [(df[keyword] == 1)&(df['sentiment'] != 0)]\\\n",
    "        [['website', 'sentiment']]\\\n",
    "        .groupby(['website'])\\\n",
    "        .median()\\\n",
    "        .values\\\n",
    "        .flatten()"
   ]
  },
  {
   "cell_type": "code",
   "execution_count": 144,
   "metadata": {
    "hidden": true
   },
   "outputs": [],
   "source": [
    "res = pd.DataFrame().from_dict(\n",
    "    data_dict,\n",
    "    'index',\n",
    "    columns = ['gazeta', 'wyborcza']\n",
    ")"
   ]
  },
  {
   "cell_type": "code",
   "execution_count": 149,
   "metadata": {
    "hidden": true
   },
   "outputs": [
    {
     "data": {
      "text/plain": [
       "<matplotlib.axes._subplots.AxesSubplot at 0x7f2c93298d68>"
      ]
     },
     "execution_count": 149,
     "metadata": {},
     "output_type": "execute_result"
    },
    {
     "data": {
      "image/png": "[encoded data removed]",
      "text/plain": [
       "<Figure size 720x576 with 2 Axes>"
      ]
     },
     "metadata": {},
     "output_type": "display_data"
    }
   ],
   "source": [
    "sns.heatmap(res)"
   ]
  },
  {
   "cell_type": "code",
   "execution_count": 139,
   "metadata": {
    "hidden": true
   },
   "outputs": [
    {
     "data": {
      "text/html": [
       "<div>\n",
       "<style scoped>\n",
       "    .dataframe tbody tr th:only-of-type {\n",
       "        vertical-align: middle;\n",
       "    }\n",
       "\n",
       "    .dataframe tbody tr th {\n",
       "        vertical-align: top;\n",
       "    }\n",
       "\n",
       "    .dataframe thead th {\n",
       "        text-align: right;\n",
       "    }\n",
       "</style>\n",
       "<table border=\"1\" class=\"dataframe\">\n",
       "  <thead>\n",
       "    <tr style=\"text-align: right;\">\n",
       "      <th></th>\n",
       "      <th>gazeta</th>\n",
       "      <th>wyborcza</th>\n",
       "    </tr>\n",
       "  </thead>\n",
       "  <tbody>\n",
       "    <tr>\n",
       "      <th>feminizm</th>\n",
       "      <td>1.0</td>\n",
       "      <td>0.264706</td>\n",
       "    </tr>\n",
       "  </tbody>\n",
       "</table>\n",
       "</div>"
      ],
      "text/plain": [
       "          gazeta  wyborcza\n",
       "feminizm     1.0  0.264706"
      ]
     },
     "execution_count": 139,
     "metadata": {},
     "output_type": "execute_result"
    }
   ],
   "source": [
    "res[res.index == 'feminizm']"
   ]
  },
  {
   "cell_type": "markdown",
   "metadata": {},
   "source": [
    "## Regex"
   ]
  },
  {
   "cell_type": "code",
   "execution_count": null,
   "metadata": {},
   "outputs": [],
   "source": []
  },
  {
   "cell_type": "code",
   "execution_count": null,
   "metadata": {},
   "outputs": [],
   "source": []
  },
  {
   "cell_type": "code",
   "execution_count": null,
   "metadata": {},
   "outputs": [],
   "source": []
  },
  {
   "cell_type": "code",
   "execution_count": null,
   "metadata": {},
   "outputs": [],
   "source": []
  }
 ],
 "metadata": {
  "kernelspec": {
   "display_name": "Python 3",
   "language": "python",
   "name": "python3"
  },
  "language_info": {
   "codemirror_mode": {
    "name": "ipython",
    "version": 3
   },
   "file_extension": ".py",
   "mimetype": "text/x-python",
   "name": "python",
   "nbconvert_exporter": "python",
   "pygments_lexer": "ipython3",
   "version": "3.6.9"
  },
  "toc": {
   "base_numbering": 1,
   "nav_menu": {},
   "number_sections": true,
   "sideBar": true,
   "skip_h1_title": false,
   "title_cell": "Table of Contents",
   "title_sidebar": "Contents",
   "toc_cell": false,
   "toc_position": {},
   "toc_section_display": true,
   "toc_window_display": false
  }
 },
 "nbformat": 4,
 "nbformat_minor": 2
}
