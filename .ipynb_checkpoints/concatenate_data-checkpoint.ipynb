{
 "cells": [
  {
   "cell_type": "code",
   "execution_count": 1,
   "metadata": {},
   "outputs": [],
   "source": [
    "import pandas as pd\n",
    "from os import listdir\n",
    "from pandas.errors import EmptyDataError\n",
    "from unidecode import unidecode\n",
    "import seaborn as sns\n",
    "import re\n",
    "from wordcloud import WordCloud\n",
    "from gensim.models import Word2Vec\n",
    "from sklearn.manifold import TSNE\n",
    "from sklearn.decomposition import PCA\n",
    "import matplotlib.pyplot as plt\n",
    "import numpy as np\n",
    "from scipy.spatial import distance\n",
    "\n",
    "sns.set(\n",
    "    rc = {\n",
    "        'figure.figsize': (10, 8)\n",
    "    },\n",
    "    style = 'darkgrid'\n",
    ")"
   ]
  },
  {
   "cell_type": "markdown",
   "metadata": {
    "heading_collapsed": true
   },
   "source": [
    "# Dictionaries"
   ]
  },
  {
   "cell_type": "code",
   "execution_count": 2,
   "metadata": {
    "hidden": true
   },
   "outputs": [],
   "source": [
    "grouping_orders = {\n",
    "    \"website\": {\n",
    "        \"columns_before\": ['website', 'sentiment'],\n",
    "        \"groupby\": [\"website\"],\n",
    "        \"columns_after\": ['fakt', 'gazeta', 'wyborcza'] \n",
    "    },\n",
    "    \"brand\": {\n",
    "        \"columns_before\": ['brand', 'sentiment'],\n",
    "        \"groupby\": [\"brand\"],\n",
    "        \"columns_after\": ['agora', 'ringier'] \n",
    "    },\n",
    "    \"country\": {\n",
    "        \"columns_before\": ['country', 'sentiment'],\n",
    "        \"groupby\": [\"country\"],\n",
    "        \"columns_after\": ['de/ch', 'pl'] \n",
    "    }\n",
    "}"
   ]
  },
  {
   "cell_type": "code",
   "execution_count": 3,
   "metadata": {
    "hidden": true
   },
   "outputs": [],
   "source": [
    "brand_keys = {\n",
    "    \"pl\": {\n",
    "        \"agora\": ['wyborcza', 'gazeta']\n",
    "    },\n",
    "    \"de/ch\": {\n",
    "        \"ringier\": ['fakt', 'onet', 'newsweek']\n",
    "    },\n",
    "    'us': {\n",
    "        \"discovery\": ['tvn']\n",
    "    }\n",
    "}"
   ]
  },
  {
   "cell_type": "code",
   "execution_count": 4,
   "metadata": {
    "hidden": true
   },
   "outputs": [],
   "source": [
    "osoba = ['ideał', 'wróg'] # wzór, wróg, nieprzyjaciel\n",
    "partia = ['postęp', 'zacofanie'] # rozwój, dobrobyt, \n",
    "poglad = ['swoboda', 'reżim'] # chaos, totalitaryzm, racjonalizm\n",
    "kraj = ['sojusznik', 'wróg'] # ostoja, oaza, \n",
    "keyword_reference_words = {\n",
    "    'sąd': ['sprawiedliwość', 'niesprawiedliwość'],\n",
    "    'imigranci': ['przyjaciele', 'wrogowie'],\n",
    "    'ekologia': ['', ''],\n",
    "    'emigracja': ['szansa', 'ucieczka'], # szansa\n",
    "    'pis': partia,\n",
    "    'platforma': partia,\n",
    "    'duda': osoba,\n",
    "    'morawiecki': osoba,\n",
    "    'szydło': osoba,\n",
    "    'kaczyński': osoba,\n",
    "    'kwaśniewski': osoba,\n",
    "    'lewica': poglad,\n",
    "    'prawica': poglad,\n",
    "    'lgbt': ['tolerancja', ''],\n",
    "    'europa': ['wspólnota', 'podział'], # rozłam\n",
    "    'rosja': kraj,\n",
    "    'stany': kraj,\n",
    "    'premier': osoba,\n",
    "    'prezydent': osoba,\n",
    "    'opozycja': partia,\n",
    "    'rząd': partia,\n",
    "    'sejm': partia,\n",
    "    'polska': ['oaza', ''],\n",
    "    'putin': ['sojusznik', 'wróg'],\n",
    "    'trump': ['sojusznik', 'wróg'],\n",
    "    'ukraina': kraj,\n",
    "    'media': ['', ''],\n",
    "    'bank': ['bezpieczeństwo', 'wyzysk'],\n",
    "    'niemcy': kraj,\n",
    "    'papież': osoba,\n",
    "    'kościół': ['oparcie', 'firma'],\n",
    "    'korwin': osoba,\n",
    "    'rydzyk': osoba,\n",
    "    'feminizm': ['równość', 'patriarchat'],\n",
    "    'leszek+miller': osoba,\n",
    "}"
   ]
  },
  {
   "cell_type": "code",
   "execution_count": 5,
   "metadata": {
    "hidden": true
   },
   "outputs": [],
   "source": [
    "decoder = {\n",
    "    '%B1': 'ą',\n",
    "    '%BF': 'ż',\n",
    "    '%B3': 'ł',\n",
    "    '%B6': 'ś',\n",
    "    '%F1': 'ń',\n",
    "    '%F3': 'ó'\n",
    "}\n",
    "with open('keywords', 'r') as f:\n",
    "    raws = f.read().split('\\n')\n",
    "keyword_dict = {}\n",
    "for raw in raws:\n",
    "    tmp_keyword = raw\n",
    "    for d1, d2 in decoder.items():\n",
    "        tmp_keyword = tmp_keyword.replace(d1, d2)\n",
    "    keyword_dict[tmp_keyword] = ''"
   ]
  },
  {
   "cell_type": "code",
   "execution_count": 6,
   "metadata": {
    "hidden": true
   },
   "outputs": [],
   "source": [
    "keyword_regex = {\n",
    "    'pis': r\"\\Dpis\\D|prawo i sprawiedliwość\"\n",
    "}"
   ]
  },
  {
   "cell_type": "markdown",
   "metadata": {},
   "source": [
    "# Read data"
   ]
  },
  {
   "cell_type": "markdown",
   "metadata": {
    "heading_collapsed": true
   },
   "source": [
    "## Wyborcza"
   ]
  },
  {
   "cell_type": "code",
   "execution_count": 7,
   "metadata": {
    "hidden": true
   },
   "outputs": [],
   "source": [
    "wyborcza_articles = []\n",
    "for filename in listdir('data/wyborcza/articles'):\n",
    "    try:\n",
    "        wyborcza_articles.append(pd.read_csv('data/wyborcza/articles/'+filename, header = None))\n",
    "    except EmptyDataError:\n",
    "        pass # empty file\n",
    "wyborcza_articles = pd.concat(wyborcza_articles)\n",
    "wyborcza_articles.columns = ['url', 'title', 'short', 'long', 'img', 'com']\n",
    "wyborcza_articles['short'] = wyborcza_articles['short'].str.replace(r'(.|..)\\n', '')\n",
    "wyborcza_articles = wyborcza_articles[~wyborcza_articles['long'].str.contains('W odpowiedzi do @', na = False) == True]\n",
    "wyborcza_articles = wyborcza_articles[['title', 'short', 'long']]\n",
    "wyborcza_articles = wyborcza_articles.dropna()\n",
    "wyborcza_articles = wyborcza_articles[wyborcza_articles['title'].duplicated() == False]\n",
    "wyborcza_articles = wyborcza_articles[wyborcza_articles['short'] != '0']\n",
    "wyborcza_articles['website'] = 'wyborcza'\n",
    "wyborcza_articles['brand'] = 'agora'\n",
    "wyborcza_articles['country'] = 'pl'"
   ]
  },
  {
   "cell_type": "code",
   "execution_count": 8,
   "metadata": {
    "hidden": true
   },
   "outputs": [],
   "source": [
    "wyborcza_articles = wyborcza_articles[\n",
    "    (\n",
    "        wyborcza_articles['title'] + ' ' +\n",
    "        wyborcza_articles['long'] + ' ' +\n",
    "        wyborcza_articles['short'] \n",
    "    ).str.contains(r\"\"+\"|\".join(list(keyword_reference_words.keys())).replace('+', ' ')) == True\n",
    "]"
   ]
  },
  {
   "cell_type": "code",
   "execution_count": 9,
   "metadata": {
    "hidden": true
   },
   "outputs": [
    {
     "data": {
      "text/plain": [
       "36486"
      ]
     },
     "execution_count": 9,
     "metadata": {},
     "output_type": "execute_result"
    }
   ],
   "source": [
    "len(wyborcza_articles)"
   ]
  },
  {
   "cell_type": "code",
   "execution_count": 10,
   "metadata": {
    "hidden": true
   },
   "outputs": [
    {
     "data": {
      "text/html": [
       "<div>\n",
       "<style scoped>\n",
       "    .dataframe tbody tr th:only-of-type {\n",
       "        vertical-align: middle;\n",
       "    }\n",
       "\n",
       "    .dataframe tbody tr th {\n",
       "        vertical-align: top;\n",
       "    }\n",
       "\n",
       "    .dataframe thead th {\n",
       "        text-align: right;\n",
       "    }\n",
       "</style>\n",
       "<table border=\"1\" class=\"dataframe\">\n",
       "  <thead>\n",
       "    <tr style=\"text-align: right;\">\n",
       "      <th></th>\n",
       "      <th>title</th>\n",
       "      <th>short</th>\n",
       "      <th>long</th>\n",
       "      <th>website</th>\n",
       "      <th>brand</th>\n",
       "      <th>country</th>\n",
       "    </tr>\n",
       "  </thead>\n",
       "  <tbody>\n",
       "    <tr>\n",
       "      <th>666</th>\n",
       "      <td>Fotografie wyjęte z zakurzonych szuflad</td>\n",
       "      <td>Plaża nad Wisłą, ulica Matejki z końca XIX wie...</td>\n",
       "      <td>Artur Dobiegała i Olga Długokęcka ze Stowarzys...</td>\n",
       "      <td>wyborcza</td>\n",
       "      <td>agora</td>\n",
       "      <td>pl</td>\n",
       "    </tr>\n",
       "    <tr>\n",
       "      <th>154</th>\n",
       "      <td>Zwolniony kasjer skarży pracodawcę w sądzie</td>\n",
       "      <td>- W czasie kryzysu zastraszeni pracownicy nie ...</td>\n",
       "      <td>W czwartek przed zielonogórskim sądem odbyła s...</td>\n",
       "      <td>wyborcza</td>\n",
       "      <td>agora</td>\n",
       "      <td>pl</td>\n",
       "    </tr>\n",
       "    <tr>\n",
       "      <th>557</th>\n",
       "      <td>Łódzcy celnicy podsumowali rok 2012. Dziś ich ...</td>\n",
       "      <td>Zlikwidowali 15 nielegalnych rozlewni alkoholu...</td>\n",
       "      <td>Przypadający w dniu 26 stycznia Międzynarodowy...</td>\n",
       "      <td>wyborcza</td>\n",
       "      <td>agora</td>\n",
       "      <td>pl</td>\n",
       "    </tr>\n",
       "    <tr>\n",
       "      <th>617</th>\n",
       "      <td>Szok gdańskiej Platformy</td>\n",
       "      <td>W Gdańsku partia rządząca osiągnęła wyraźnie g...</td>\n",
       "      <td>W poniedziałek gdańscy działacze Platformy wpa...</td>\n",
       "      <td>wyborcza</td>\n",
       "      <td>agora</td>\n",
       "      <td>pl</td>\n",
       "    </tr>\n",
       "    <tr>\n",
       "      <th>538</th>\n",
       "      <td>To kto wreszcie jest ojcem dziecka Katarzyny P...</td>\n",
       "      <td>W styczniu sąd orzeknie wreszcie: kto jest ojc...</td>\n",
       "      <td>Dwa lata temu, w listopadzie, Katarzyna P., wi...</td>\n",
       "      <td>wyborcza</td>\n",
       "      <td>agora</td>\n",
       "      <td>pl</td>\n",
       "    </tr>\n",
       "  </tbody>\n",
       "</table>\n",
       "</div>"
      ],
      "text/plain": [
       "                                                 title  \\\n",
       "666            Fotografie wyjęte z zakurzonych szuflad   \n",
       "154        Zwolniony kasjer skarży pracodawcę w sądzie   \n",
       "557  Łódzcy celnicy podsumowali rok 2012. Dziś ich ...   \n",
       "617                           Szok gdańskiej Platformy   \n",
       "538  To kto wreszcie jest ojcem dziecka Katarzyny P...   \n",
       "\n",
       "                                                 short  \\\n",
       "666  Plaża nad Wisłą, ulica Matejki z końca XIX wie...   \n",
       "154  - W czasie kryzysu zastraszeni pracownicy nie ...   \n",
       "557  Zlikwidowali 15 nielegalnych rozlewni alkoholu...   \n",
       "617  W Gdańsku partia rządząca osiągnęła wyraźnie g...   \n",
       "538  W styczniu sąd orzeknie wreszcie: kto jest ojc...   \n",
       "\n",
       "                                                  long   website  brand  \\\n",
       "666  Artur Dobiegała i Olga Długokęcka ze Stowarzys...  wyborcza  agora   \n",
       "154  W czwartek przed zielonogórskim sądem odbyła s...  wyborcza  agora   \n",
       "557  Przypadający w dniu 26 stycznia Międzynarodowy...  wyborcza  agora   \n",
       "617  W poniedziałek gdańscy działacze Platformy wpa...  wyborcza  agora   \n",
       "538  Dwa lata temu, w listopadzie, Katarzyna P., wi...  wyborcza  agora   \n",
       "\n",
       "    country  \n",
       "666      pl  \n",
       "154      pl  \n",
       "557      pl  \n",
       "617      pl  \n",
       "538      pl  "
      ]
     },
     "execution_count": 10,
     "metadata": {},
     "output_type": "execute_result"
    }
   ],
   "source": [
    "wyborcza_articles.sample(5).head(5)"
   ]
  },
  {
   "cell_type": "markdown",
   "metadata": {
    "heading_collapsed": true
   },
   "source": [
    "## Gazeta"
   ]
  },
  {
   "cell_type": "code",
   "execution_count": 11,
   "metadata": {
    "hidden": true
   },
   "outputs": [],
   "source": [
    "gazeta_articles = []\n",
    "for filename in listdir('data/gazeta/articles'):\n",
    "    try:\n",
    "        gazeta_articles.append(pd.read_csv('data/gazeta/articles/'+filename, header = None))\n",
    "    except EmptyDataError:\n",
    "        pass # empty file\n",
    "gazeta_articles = pd.concat(gazeta_articles)\n",
    "gazeta_articles.columns = ['url', 'title', 'short', 'long', 'img', 'com']\n",
    "gazeta_articles = gazeta_articles[['title', 'short', 'long']]\n",
    "gazeta_articles = gazeta_articles[gazeta_articles['title'].duplicated() == False]\n",
    "gazeta_articles['website'] = 'gazeta'\n",
    "gazeta_articles['brand'] = 'agora'\n",
    "gazeta_articles['country'] = 'pl'"
   ]
  },
  {
   "cell_type": "code",
   "execution_count": 12,
   "metadata": {
    "hidden": true
   },
   "outputs": [
    {
     "data": {
      "text/plain": [
       "12075"
      ]
     },
     "execution_count": 12,
     "metadata": {},
     "output_type": "execute_result"
    }
   ],
   "source": [
    "len(gazeta_articles)"
   ]
  },
  {
   "cell_type": "code",
   "execution_count": 13,
   "metadata": {
    "hidden": true
   },
   "outputs": [
    {
     "data": {
      "text/html": [
       "<div>\n",
       "<style scoped>\n",
       "    .dataframe tbody tr th:only-of-type {\n",
       "        vertical-align: middle;\n",
       "    }\n",
       "\n",
       "    .dataframe tbody tr th {\n",
       "        vertical-align: top;\n",
       "    }\n",
       "\n",
       "    .dataframe thead th {\n",
       "        text-align: right;\n",
       "    }\n",
       "</style>\n",
       "<table border=\"1\" class=\"dataframe\">\n",
       "  <thead>\n",
       "    <tr style=\"text-align: right;\">\n",
       "      <th></th>\n",
       "      <th>title</th>\n",
       "      <th>short</th>\n",
       "      <th>long</th>\n",
       "      <th>website</th>\n",
       "      <th>brand</th>\n",
       "      <th>country</th>\n",
       "    </tr>\n",
       "  </thead>\n",
       "  <tbody>\n",
       "    <tr>\n",
       "      <th>53</th>\n",
       "      <td>\"Dzieciństwo w żelaznych sarkofagach\", czyli b...</td>\n",
       "      <td>Jak wygląda rzeczywistość bez szczepień? Bruta...</td>\n",
       "      <td>Obywatelski projekt nowelizacji ustawy przewid...</td>\n",
       "      <td>gazeta</td>\n",
       "      <td>agora</td>\n",
       "      <td>pl</td>\n",
       "    </tr>\n",
       "    <tr>\n",
       "      <th>6</th>\n",
       "      <td>Dziewanna wielkokwiatowa - właściwości, zastos...</td>\n",
       "      <td>Dziewanna wielkokwiatowa jest rośliną lecznicz...</td>\n",
       "      <td>Dziewanna wielkokwiatowa (verbascum densifloru...</td>\n",
       "      <td>gazeta</td>\n",
       "      <td>agora</td>\n",
       "      <td>pl</td>\n",
       "    </tr>\n",
       "    <tr>\n",
       "      <th>128</th>\n",
       "      <td>Wicemarszałkowie zajmą się Cimoszewiczem</td>\n",
       "      <td>Prezydium Sejmu rozpatrzy jednak wniosek Włodz...</td>\n",
       "      <td>Wicemarszałek Sejmu Tomasz Nałęcz (SdPl) twier...</td>\n",
       "      <td>gazeta</td>\n",
       "      <td>agora</td>\n",
       "      <td>pl</td>\n",
       "    </tr>\n",
       "    <tr>\n",
       "      <th>132</th>\n",
       "      <td>Dieta antyhistaminowa: na czym polega. Kto pow...</td>\n",
       "      <td>Dieta antyhistaminowa to dieta eliminacyjna, s...</td>\n",
       "      <td>Dieta antyhistaminowa - kiedy jest konieczna?\\...</td>\n",
       "      <td>gazeta</td>\n",
       "      <td>agora</td>\n",
       "      <td>pl</td>\n",
       "    </tr>\n",
       "    <tr>\n",
       "      <th>1</th>\n",
       "      <td>Prezes YouTube właśnie przyjechała do Polski. ...</td>\n",
       "      <td>Szefowa YouTube jest dzisiaj w Polsce. Plan po...</td>\n",
       "      <td>Prezes You Tube nazywa się Susan Wójcicki i je...</td>\n",
       "      <td>gazeta</td>\n",
       "      <td>agora</td>\n",
       "      <td>pl</td>\n",
       "    </tr>\n",
       "  </tbody>\n",
       "</table>\n",
       "</div>"
      ],
      "text/plain": [
       "                                                 title  \\\n",
       "53   \"Dzieciństwo w żelaznych sarkofagach\", czyli b...   \n",
       "6    Dziewanna wielkokwiatowa - właściwości, zastos...   \n",
       "128           Wicemarszałkowie zajmą się Cimoszewiczem   \n",
       "132  Dieta antyhistaminowa: na czym polega. Kto pow...   \n",
       "1    Prezes YouTube właśnie przyjechała do Polski. ...   \n",
       "\n",
       "                                                 short  \\\n",
       "53   Jak wygląda rzeczywistość bez szczepień? Bruta...   \n",
       "6    Dziewanna wielkokwiatowa jest rośliną lecznicz...   \n",
       "128  Prezydium Sejmu rozpatrzy jednak wniosek Włodz...   \n",
       "132  Dieta antyhistaminowa to dieta eliminacyjna, s...   \n",
       "1    Szefowa YouTube jest dzisiaj w Polsce. Plan po...   \n",
       "\n",
       "                                                  long website  brand country  \n",
       "53   Obywatelski projekt nowelizacji ustawy przewid...  gazeta  agora      pl  \n",
       "6    Dziewanna wielkokwiatowa (verbascum densifloru...  gazeta  agora      pl  \n",
       "128  Wicemarszałek Sejmu Tomasz Nałęcz (SdPl) twier...  gazeta  agora      pl  \n",
       "132  Dieta antyhistaminowa - kiedy jest konieczna?\\...  gazeta  agora      pl  \n",
       "1    Prezes You Tube nazywa się Susan Wójcicki i je...  gazeta  agora      pl  "
      ]
     },
     "execution_count": 13,
     "metadata": {},
     "output_type": "execute_result"
    }
   ],
   "source": [
    "gazeta_articles.sample(5).head()"
   ]
  },
  {
   "cell_type": "markdown",
   "metadata": {
    "heading_collapsed": true
   },
   "source": [
    "## Fakt"
   ]
  },
  {
   "cell_type": "code",
   "execution_count": 14,
   "metadata": {
    "hidden": true
   },
   "outputs": [],
   "source": [
    "fakt_articles = []\n",
    "for filename in listdir('data/fakt/articles'):\n",
    "    tmp_df = pd.read_csv('data/fakt/articles/'+filename, header = None)\n",
    "    tmp_df.columns = ['url', 'title', 'short', 'long', 'img', 'com',]\n",
    "    tmp_df[filename] = 1\n",
    "    tmp_df[filename] = tmp_df[filename].fillna(0)\n",
    "    fakt_articles.append(tmp_df)\n",
    "fakt_articles = pd.concat(fakt_articles, sort = False)\n",
    "fakt_articles = fakt_articles[~fakt_articles['long'].isna()]\n",
    "fakt_articles['long'] = fakt_articles.apply(lambda x: x['long'][len(x['short']):], axis = 1)\n",
    "fakt_articles = fakt_articles[['title', 'short', 'long']]\n",
    "fakt_articles = fakt_articles[fakt_articles['title'].duplicated() == False]\n",
    "fakt_articles['website'] = 'fakt'\n",
    "fakt_articles['country'] = 'de/ch'\n",
    "fakt_articles['brand'] = 'ringier'\n",
    "fakt_articles = fakt_articles.dropna()"
   ]
  },
  {
   "cell_type": "code",
   "execution_count": 15,
   "metadata": {
    "hidden": true
   },
   "outputs": [
    {
     "data": {
      "text/plain": [
       "19165"
      ]
     },
     "execution_count": 15,
     "metadata": {},
     "output_type": "execute_result"
    }
   ],
   "source": [
    "len(fakt_articles)"
   ]
  },
  {
   "cell_type": "code",
   "execution_count": 16,
   "metadata": {
    "hidden": true
   },
   "outputs": [
    {
     "data": {
      "text/html": [
       "<div>\n",
       "<style scoped>\n",
       "    .dataframe tbody tr th:only-of-type {\n",
       "        vertical-align: middle;\n",
       "    }\n",
       "\n",
       "    .dataframe tbody tr th {\n",
       "        vertical-align: top;\n",
       "    }\n",
       "\n",
       "    .dataframe thead th {\n",
       "        text-align: right;\n",
       "    }\n",
       "</style>\n",
       "<table border=\"1\" class=\"dataframe\">\n",
       "  <thead>\n",
       "    <tr style=\"text-align: right;\">\n",
       "      <th></th>\n",
       "      <th>title</th>\n",
       "      <th>short</th>\n",
       "      <th>long</th>\n",
       "      <th>website</th>\n",
       "      <th>country</th>\n",
       "      <th>brand</th>\n",
       "    </tr>\n",
       "  </thead>\n",
       "  <tbody>\n",
       "    <tr>\n",
       "      <th>0</th>\n",
       "      <td>Pierwsze posiedzenie Sejmu. Przemówienie Andrz...</td>\n",
       "      <td>Pierwsze posiedzenie Sejmu otworzył marszałek ...</td>\n",
       "      <td>Andrzej Duda wygłosił orędzie na inauguracyjn...</td>\n",
       "      <td>fakt</td>\n",
       "      <td>de/ch</td>\n",
       "      <td>ringier</td>\n",
       "    </tr>\n",
       "    <tr>\n",
       "      <th>1</th>\n",
       "      <td>Jędraszewski o gender, LGBT i karcie WHO: \"Obł...</td>\n",
       "      <td>Abp. Marek Jędraszewski wygłosił kazanie podcz...</td>\n",
       "      <td>Homilii arcybiskupa Marka Jędraszewskiego słu...</td>\n",
       "      <td>fakt</td>\n",
       "      <td>de/ch</td>\n",
       "      <td>ringier</td>\n",
       "    </tr>\n",
       "    <tr>\n",
       "      <th>2</th>\n",
       "      <td>Hołownia zdradził, ile do tej pory wyłożył z w...</td>\n",
       "      <td>Szymon Hołownia w niedzielę ogłosił swój start...</td>\n",
       "      <td>Szymon Hołownia w miniony weekend w Teatrze S...</td>\n",
       "      <td>fakt</td>\n",
       "      <td>de/ch</td>\n",
       "      <td>ringier</td>\n",
       "    </tr>\n",
       "  </tbody>\n",
       "</table>\n",
       "</div>"
      ],
      "text/plain": [
       "                                               title  \\\n",
       "0  Pierwsze posiedzenie Sejmu. Przemówienie Andrz...   \n",
       "1  Jędraszewski o gender, LGBT i karcie WHO: \"Obł...   \n",
       "2  Hołownia zdradził, ile do tej pory wyłożył z w...   \n",
       "\n",
       "                                               short  \\\n",
       "0  Pierwsze posiedzenie Sejmu otworzył marszałek ...   \n",
       "1  Abp. Marek Jędraszewski wygłosił kazanie podcz...   \n",
       "2  Szymon Hołownia w niedzielę ogłosił swój start...   \n",
       "\n",
       "                                                long website country    brand  \n",
       "0   Andrzej Duda wygłosił orędzie na inauguracyjn...    fakt   de/ch  ringier  \n",
       "1   Homilii arcybiskupa Marka Jędraszewskiego słu...    fakt   de/ch  ringier  \n",
       "2   Szymon Hołownia w miniony weekend w Teatrze S...    fakt   de/ch  ringier  "
      ]
     },
     "execution_count": 16,
     "metadata": {},
     "output_type": "execute_result"
    }
   ],
   "source": [
    "fakt_articles.head(3)"
   ]
  },
  {
   "cell_type": "markdown",
   "metadata": {
    "heading_collapsed": true
   },
   "source": [
    "## Onet"
   ]
  },
  {
   "cell_type": "code",
   "execution_count": 17,
   "metadata": {
    "hidden": true
   },
   "outputs": [],
   "source": [
    "onet_articles = []\n",
    "for filename in listdir('data/onet/articles'):\n",
    "    tmp_df = pd.read_csv('data/onet/articles/'+filename, header = None)\n",
    "    try:\n",
    "        tmp_df.columns = ['url', 'title', 'short', 'long', 'img', 'com',]\n",
    "    except:\n",
    "        tmp_df.columns = ['title', 'short', 'long', 'img', 'com',]\n",
    "    # tmp_df[filename] = 1\n",
    "    onet_articles.append(tmp_df)\n",
    "onet_articles = pd.concat(onet_articles, sort = False)\n",
    "onet_articles = onet_articles[['title', 'short', 'long']]\n",
    "onet_articles = onet_articles[onet_articles['title'].duplicated() == False]\n",
    "onet_articles = onet_articles.dropna()\n",
    "onet_articles['website'] = 'onet'\n",
    "onet_articles['country'] = 'de/ch'\n",
    "onet_articles['brand'] = 'ringier'"
   ]
  },
  {
   "cell_type": "code",
   "execution_count": 18,
   "metadata": {
    "hidden": true
   },
   "outputs": [
    {
     "data": {
      "text/plain": [
       "16472"
      ]
     },
     "execution_count": 18,
     "metadata": {},
     "output_type": "execute_result"
    }
   ],
   "source": [
    "len(onet_articles)"
   ]
  },
  {
   "cell_type": "code",
   "execution_count": 19,
   "metadata": {
    "hidden": true
   },
   "outputs": [
    {
     "data": {
      "text/html": [
       "<div>\n",
       "<style scoped>\n",
       "    .dataframe tbody tr th:only-of-type {\n",
       "        vertical-align: middle;\n",
       "    }\n",
       "\n",
       "    .dataframe tbody tr th {\n",
       "        vertical-align: top;\n",
       "    }\n",
       "\n",
       "    .dataframe thead th {\n",
       "        text-align: right;\n",
       "    }\n",
       "</style>\n",
       "<table border=\"1\" class=\"dataframe\">\n",
       "  <thead>\n",
       "    <tr style=\"text-align: right;\">\n",
       "      <th></th>\n",
       "      <th>title</th>\n",
       "      <th>short</th>\n",
       "      <th>long</th>\n",
       "      <th>website</th>\n",
       "      <th>country</th>\n",
       "      <th>brand</th>\n",
       "    </tr>\n",
       "  </thead>\n",
       "  <tbody>\n",
       "    <tr>\n",
       "      <th>0</th>\n",
       "      <td>Sondaż IBRiS dla Onetu. Spadają notowania Andr...</td>\n",
       "      <td>Prezydent Andrzej Duda cieszy się najwyższym z...</td>\n",
       "      <td>Andrzej Duda od wielu miesięcy cieszy się najw...</td>\n",
       "      <td>onet</td>\n",
       "      <td>de/ch</td>\n",
       "      <td>ringier</td>\n",
       "    </tr>\n",
       "    <tr>\n",
       "      <th>1</th>\n",
       "      <td>Bogdan Klich: to wielki strategiczny błąd prez...</td>\n",
       "      <td>- Decyzja wycofania polskich wojsk z Iraku pow...</td>\n",
       "      <td>- Głos opozycji jest niezbędny i trzeba go wys...</td>\n",
       "      <td>onet</td>\n",
       "      <td>de/ch</td>\n",
       "      <td>ringier</td>\n",
       "    </tr>\n",
       "    <tr>\n",
       "      <th>2</th>\n",
       "      <td>Izraelskie media informują o decyzji prezydent...</td>\n",
       "      <td>Izraelskie media informują za agencjami prasow...</td>\n",
       "      <td>Andrzej Duda, którego nie poproszono o wystąpi...</td>\n",
       "      <td>onet</td>\n",
       "      <td>de/ch</td>\n",
       "      <td>ringier</td>\n",
       "    </tr>\n",
       "  </tbody>\n",
       "</table>\n",
       "</div>"
      ],
      "text/plain": [
       "                                               title  \\\n",
       "0  Sondaż IBRiS dla Onetu. Spadają notowania Andr...   \n",
       "1  Bogdan Klich: to wielki strategiczny błąd prez...   \n",
       "2  Izraelskie media informują o decyzji prezydent...   \n",
       "\n",
       "                                               short  \\\n",
       "0  Prezydent Andrzej Duda cieszy się najwyższym z...   \n",
       "1  - Decyzja wycofania polskich wojsk z Iraku pow...   \n",
       "2  Izraelskie media informują za agencjami prasow...   \n",
       "\n",
       "                                                long website country    brand  \n",
       "0  Andrzej Duda od wielu miesięcy cieszy się najw...    onet   de/ch  ringier  \n",
       "1  - Głos opozycji jest niezbędny i trzeba go wys...    onet   de/ch  ringier  \n",
       "2  Andrzej Duda, którego nie poproszono o wystąpi...    onet   de/ch  ringier  "
      ]
     },
     "execution_count": 19,
     "metadata": {},
     "output_type": "execute_result"
    }
   ],
   "source": [
    "onet_articles.head(3)"
   ]
  },
  {
   "cell_type": "markdown",
   "metadata": {
    "heading_collapsed": true
   },
   "source": [
    "## Newsweek"
   ]
  },
  {
   "cell_type": "code",
   "execution_count": 20,
   "metadata": {
    "hidden": true
   },
   "outputs": [],
   "source": [
    "newsweek_articles = []\n",
    "for filename in listdir('data/newsweek/articles'):\n",
    "    tmp_df = pd.read_csv('data/newsweek/articles/'+filename, header = None)\n",
    "    tmp_df.columns = ['title', 'short', 'long', 'img', 'com',]\n",
    "    newsweek_articles.append(tmp_df)\n",
    "newsweek_articles = pd.concat(newsweek_articles, sort = False)\n",
    "newsweek_articles = newsweek_articles[['title', 'short', 'long']]\n",
    "newsweek_articles = newsweek_articles[newsweek_articles['title'].duplicated() == False]\n",
    "newsweek_articles = newsweek_articles.dropna()\n",
    "newsweek_articles['website'] = 'newsweek'\n",
    "newsweek_articles['country'] = 'de/ch'\n",
    "newsweek_articles['brand'] = 'ringier'"
   ]
  },
  {
   "cell_type": "code",
   "execution_count": 21,
   "metadata": {
    "hidden": true
   },
   "outputs": [
    {
     "data": {
      "text/plain": [
       "1605"
      ]
     },
     "execution_count": 21,
     "metadata": {},
     "output_type": "execute_result"
    }
   ],
   "source": [
    "len(newsweek_articles)"
   ]
  },
  {
   "cell_type": "code",
   "execution_count": 22,
   "metadata": {
    "hidden": true
   },
   "outputs": [
    {
     "data": {
      "text/html": [
       "<div>\n",
       "<style scoped>\n",
       "    .dataframe tbody tr th:only-of-type {\n",
       "        vertical-align: middle;\n",
       "    }\n",
       "\n",
       "    .dataframe tbody tr th {\n",
       "        vertical-align: top;\n",
       "    }\n",
       "\n",
       "    .dataframe thead th {\n",
       "        text-align: right;\n",
       "    }\n",
       "</style>\n",
       "<table border=\"1\" class=\"dataframe\">\n",
       "  <thead>\n",
       "    <tr style=\"text-align: right;\">\n",
       "      <th></th>\n",
       "      <th>title</th>\n",
       "      <th>short</th>\n",
       "      <th>long</th>\n",
       "      <th>website</th>\n",
       "      <th>country</th>\n",
       "      <th>brand</th>\n",
       "    </tr>\n",
       "  </thead>\n",
       "  <tbody>\n",
       "    <tr>\n",
       "      <th>0</th>\n",
       "      <td>OPINIA\\nPiS tak zohydza Unię Europejską, że wk...</td>\n",
       "      <td>Prezes Jarosław Kaczyński chce stworzyć nowe z...</td>\n",
       "      <td>Spektakl zatytułowany „zła unia” miał w minion...</td>\n",
       "      <td>newsweek</td>\n",
       "      <td>de/ch</td>\n",
       "      <td>ringier</td>\n",
       "    </tr>\n",
       "    <tr>\n",
       "      <th>1</th>\n",
       "      <td>„Jestem przekonany, że Biedroń będzie gryzł tr...</td>\n",
       "      <td>Jedną nogą w Brukseli Robert Biedroń chce walc...</td>\n",
       "      <td>Po niedzielnej konwencji w Słupsku, na której ...</td>\n",
       "      <td>newsweek</td>\n",
       "      <td>de/ch</td>\n",
       "      <td>ringier</td>\n",
       "    </tr>\n",
       "    <tr>\n",
       "      <th>2</th>\n",
       "      <td>Andrzej Duda walczy o wyborców Konfederacji?„N...</td>\n",
       "      <td>– Mam nadzieję, że mimo huraganowych ataków, k...</td>\n",
       "      <td>Kampania prezydencka jeszcze się nie rozpoczęł...</td>\n",
       "      <td>newsweek</td>\n",
       "      <td>de/ch</td>\n",
       "      <td>ringier</td>\n",
       "    </tr>\n",
       "  </tbody>\n",
       "</table>\n",
       "</div>"
      ],
      "text/plain": [
       "                                               title  \\\n",
       "0  OPINIA\\nPiS tak zohydza Unię Europejską, że wk...   \n",
       "1  „Jestem przekonany, że Biedroń będzie gryzł tr...   \n",
       "2  Andrzej Duda walczy o wyborców Konfederacji?„N...   \n",
       "\n",
       "                                               short  \\\n",
       "0  Prezes Jarosław Kaczyński chce stworzyć nowe z...   \n",
       "1  Jedną nogą w Brukseli Robert Biedroń chce walc...   \n",
       "2  – Mam nadzieję, że mimo huraganowych ataków, k...   \n",
       "\n",
       "                                                long   website country  \\\n",
       "0  Spektakl zatytułowany „zła unia” miał w minion...  newsweek   de/ch   \n",
       "1  Po niedzielnej konwencji w Słupsku, na której ...  newsweek   de/ch   \n",
       "2  Kampania prezydencka jeszcze się nie rozpoczęł...  newsweek   de/ch   \n",
       "\n",
       "     brand  \n",
       "0  ringier  \n",
       "1  ringier  \n",
       "2  ringier  "
      ]
     },
     "execution_count": 22,
     "metadata": {},
     "output_type": "execute_result"
    }
   ],
   "source": [
    "newsweek_articles.head(3)"
   ]
  },
  {
   "cell_type": "markdown",
   "metadata": {
    "heading_collapsed": true
   },
   "source": [
    "## TVN"
   ]
  },
  {
   "cell_type": "code",
   "execution_count": 23,
   "metadata": {
    "hidden": true
   },
   "outputs": [],
   "source": [
    "tvn_articles_list = []\n",
    "for filename in listdir('data/tvn/articles'):\n",
    "    tmp_df = pd.read_csv('data/tvn/articles/'+filename, header = None)\n",
    "    tmp_df.columns = ['title', 'short', 'long', 'img', 'com',]\n",
    "    tvn_articles_list.append(tmp_df)\n",
    "tvn_articles = pd.concat(tvn_articles_list, sort = False)\n",
    "tvn_articles = tvn_articles[['title', 'short', 'long']]\n",
    "tvn_articles = tvn_articles[tvn_articles['title'].duplicated() == False]\n",
    "tvn_articles = tvn_articles.dropna()\n",
    "tvn_articles['website'] = 'tvn'\n",
    "tvn_articles['country'] = 'us'\n",
    "tvn_articles['brand'] = 'discovery'"
   ]
  },
  {
   "cell_type": "code",
   "execution_count": 24,
   "metadata": {
    "hidden": true
   },
   "outputs": [
    {
     "data": {
      "text/plain": [
       "35232"
      ]
     },
     "execution_count": 24,
     "metadata": {},
     "output_type": "execute_result"
    }
   ],
   "source": [
    "len(tvn_articles)"
   ]
  },
  {
   "cell_type": "code",
   "execution_count": 25,
   "metadata": {
    "hidden": true
   },
   "outputs": [
    {
     "data": {
      "text/html": [
       "<div>\n",
       "<style scoped>\n",
       "    .dataframe tbody tr th:only-of-type {\n",
       "        vertical-align: middle;\n",
       "    }\n",
       "\n",
       "    .dataframe tbody tr th {\n",
       "        vertical-align: top;\n",
       "    }\n",
       "\n",
       "    .dataframe thead th {\n",
       "        text-align: right;\n",
       "    }\n",
       "</style>\n",
       "<table border=\"1\" class=\"dataframe\">\n",
       "  <thead>\n",
       "    <tr style=\"text-align: right;\">\n",
       "      <th></th>\n",
       "      <th>title</th>\n",
       "      <th>short</th>\n",
       "      <th>long</th>\n",
       "      <th>website</th>\n",
       "      <th>country</th>\n",
       "      <th>brand</th>\n",
       "    </tr>\n",
       "  </thead>\n",
       "  <tbody>\n",
       "    <tr>\n",
       "      <th>374</th>\n",
       "      <td>PO: Wyrok do przewidzenia. Działania CBA polit...</td>\n",
       "      <td>- Wyrok sądu wobec byłej posłanki PO Beaty Saw...</td>\n",
       "      <td>Zdaniem Olszewskiego, wyrok sądu wobec Sawicki...</td>\n",
       "      <td>tvn</td>\n",
       "      <td>us</td>\n",
       "      <td>discovery</td>\n",
       "    </tr>\n",
       "    <tr>\n",
       "      <th>195</th>\n",
       "      <td>Skazany za gwałt w Anglii, chce ułaskawienia w...</td>\n",
       "      <td>Sąd w Wielkiej Brytanii skazał Polaka na podwó...</td>\n",
       "      <td>- Po południu zarejestrowaliśmy to pismo. Prze...</td>\n",
       "      <td>tvn</td>\n",
       "      <td>us</td>\n",
       "      <td>discovery</td>\n",
       "    </tr>\n",
       "    <tr>\n",
       "      <th>138</th>\n",
       "      <td>W hołdzie Kilarowi - księga kondolencyjna w ur...</td>\n",
       "      <td>W niedzielę, w wieku 81 lat zmarł Wojciech Kil...</td>\n",
       "      <td>Księga kondolencyjna, w której wszyscy, którzy...</td>\n",
       "      <td>tvn</td>\n",
       "      <td>us</td>\n",
       "      <td>discovery</td>\n",
       "    </tr>\n",
       "    <tr>\n",
       "      <th>427</th>\n",
       "      <td>Niemiecki polityk ma nowych współlokatorów. To...</td>\n",
       "      <td>Martin Patzelt to polityk niemieckiej partii C...</td>\n",
       "      <td>Martin Patzelt był przez osiem lat naburmistrz...</td>\n",
       "      <td>tvn</td>\n",
       "      <td>us</td>\n",
       "      <td>discovery</td>\n",
       "    </tr>\n",
       "    <tr>\n",
       "      <th>820</th>\n",
       "      <td>Walka o przyszłość Hongkongu. Protesty \\nw roc...</td>\n",
       "      <td>Problemy gospodarcze i społeczne nie zostaną r...</td>\n",
       "      <td>Na przyjęciu z okazji rocznicy powrotu Hongkon...</td>\n",
       "      <td>tvn</td>\n",
       "      <td>us</td>\n",
       "      <td>discovery</td>\n",
       "    </tr>\n",
       "  </tbody>\n",
       "</table>\n",
       "</div>"
      ],
      "text/plain": [
       "                                                 title  \\\n",
       "374  PO: Wyrok do przewidzenia. Działania CBA polit...   \n",
       "195  Skazany za gwałt w Anglii, chce ułaskawienia w...   \n",
       "138  W hołdzie Kilarowi - księga kondolencyjna w ur...   \n",
       "427  Niemiecki polityk ma nowych współlokatorów. To...   \n",
       "820  Walka o przyszłość Hongkongu. Protesty \\nw roc...   \n",
       "\n",
       "                                                 short  \\\n",
       "374  - Wyrok sądu wobec byłej posłanki PO Beaty Saw...   \n",
       "195  Sąd w Wielkiej Brytanii skazał Polaka na podwó...   \n",
       "138  W niedzielę, w wieku 81 lat zmarł Wojciech Kil...   \n",
       "427  Martin Patzelt to polityk niemieckiej partii C...   \n",
       "820  Problemy gospodarcze i społeczne nie zostaną r...   \n",
       "\n",
       "                                                  long website country  \\\n",
       "374  Zdaniem Olszewskiego, wyrok sądu wobec Sawicki...     tvn      us   \n",
       "195  - Po południu zarejestrowaliśmy to pismo. Prze...     tvn      us   \n",
       "138  Księga kondolencyjna, w której wszyscy, którzy...     tvn      us   \n",
       "427  Martin Patzelt był przez osiem lat naburmistrz...     tvn      us   \n",
       "820  Na przyjęciu z okazji rocznicy powrotu Hongkon...     tvn      us   \n",
       "\n",
       "         brand  \n",
       "374  discovery  \n",
       "195  discovery  \n",
       "138  discovery  \n",
       "427  discovery  \n",
       "820  discovery  "
      ]
     },
     "execution_count": 25,
     "metadata": {},
     "output_type": "execute_result"
    }
   ],
   "source": [
    "tvn_articles.sample(5).head()"
   ]
  },
  {
   "cell_type": "markdown",
   "metadata": {},
   "source": [
    "## Sputnik"
   ]
  },
  {
   "cell_type": "code",
   "execution_count": 26,
   "metadata": {},
   "outputs": [],
   "source": [
    "sputnik_list = []\n",
    "for filename in listdir('data/sputnik/articles'):\n",
    "    tmp_df = pd.read_csv('data/sputnik/articles/'+filename, header = None)\n",
    "    tmp_df.columns = ['title', 'short', 'long', 'img', 'com',]\n",
    "    sputnik_list.append(tmp_df)\n",
    "sputnik_articles = pd.concat(sputnik_list, sort = False)\n",
    "sputnik_articles = sputnik_articles[['title', 'short', 'long']]\n",
    "sputnik_articles = sputnik_articles[sputnik_articles['title'].duplicated() == False]\n",
    "sputnik_articles = sputnik_articles.dropna()\n",
    "sputnik_articles['website'] = 'sputnik'\n",
    "sputnik_articles['country'] = 'ru'\n",
    "sputnik_articles['brand'] = 'sjegodnia'"
   ]
  },
  {
   "cell_type": "code",
   "execution_count": 27,
   "metadata": {},
   "outputs": [
    {
     "data": {
      "text/plain": [
       "16302"
      ]
     },
     "execution_count": 27,
     "metadata": {},
     "output_type": "execute_result"
    }
   ],
   "source": [
    "len(sputnik_articles)"
   ]
  },
  {
   "cell_type": "code",
   "execution_count": 28,
   "metadata": {},
   "outputs": [
    {
     "data": {
      "text/html": [
       "<div>\n",
       "<style scoped>\n",
       "    .dataframe tbody tr th:only-of-type {\n",
       "        vertical-align: middle;\n",
       "    }\n",
       "\n",
       "    .dataframe tbody tr th {\n",
       "        vertical-align: top;\n",
       "    }\n",
       "\n",
       "    .dataframe thead th {\n",
       "        text-align: right;\n",
       "    }\n",
       "</style>\n",
       "<table border=\"1\" class=\"dataframe\">\n",
       "  <thead>\n",
       "    <tr style=\"text-align: right;\">\n",
       "      <th></th>\n",
       "      <th>title</th>\n",
       "      <th>short</th>\n",
       "      <th>long</th>\n",
       "      <th>website</th>\n",
       "      <th>country</th>\n",
       "      <th>brand</th>\n",
       "    </tr>\n",
       "  </thead>\n",
       "  <tbody>\n",
       "    <tr>\n",
       "      <th>87</th>\n",
       "      <td>Bazy NATO w Polsce? Tego nie chcą Amerykanie!</td>\n",
       "      <td>Prezydent Duda bardzo kategorycznie domaga się...</td>\n",
       "      <td>Serdecznie Państwa witam.Przed mikrofonem Leon...</td>\n",
       "      <td>sputnik</td>\n",
       "      <td>ru</td>\n",
       "      <td>sjegodnia</td>\n",
       "    </tr>\n",
       "    <tr>\n",
       "      <th>25</th>\n",
       "      <td>30 lat minęło jak jeden dzień</td>\n",
       "      <td>6 lutego obchodziliśmy okrągłą rocznicę rozpoc...</td>\n",
       "      <td>/ JANEK SKARZYNSKI W Parlamencie Europejskim o...</td>\n",
       "      <td>sputnik</td>\n",
       "      <td>ru</td>\n",
       "      <td>sjegodnia</td>\n",
       "    </tr>\n",
       "    <tr>\n",
       "      <th>327</th>\n",
       "      <td>Media: USA zawieszą wsparcie dla Gwatemali, Ho...</td>\n",
       "      <td>Prezydent Stanów Zjednoczonych Donald Trump na...</td>\n",
       "      <td>„Na polecenie sekretarza stanu Mike'a Pompeo, ...</td>\n",
       "      <td>sputnik</td>\n",
       "      <td>ru</td>\n",
       "      <td>sjegodnia</td>\n",
       "    </tr>\n",
       "    <tr>\n",
       "      <th>62</th>\n",
       "      <td>Akrobatka wisiała na zębach nad wodospadem Nia...</td>\n",
       "      <td>Akrobatka Erendira Wallenda nowym osiągnięciem...</td>\n",
       "      <td>Trick, w którym Erendira Wallenda zawisła nad ...</td>\n",
       "      <td>sputnik</td>\n",
       "      <td>ru</td>\n",
       "      <td>sjegodnia</td>\n",
       "    </tr>\n",
       "    <tr>\n",
       "      <th>586</th>\n",
       "      <td>„Negocjacje z Rosją powinny być priorytetem dl...</td>\n",
       "      <td>Europoseł Nathan Gill powiedział, że negocjacj...</td>\n",
       "      <td>W XXI wieku oczekujemy od polityków, że będą r...</td>\n",
       "      <td>sputnik</td>\n",
       "      <td>ru</td>\n",
       "      <td>sjegodnia</td>\n",
       "    </tr>\n",
       "  </tbody>\n",
       "</table>\n",
       "</div>"
      ],
      "text/plain": [
       "                                                 title  \\\n",
       "87       Bazy NATO w Polsce? Tego nie chcą Amerykanie!   \n",
       "25                       30 lat minęło jak jeden dzień   \n",
       "327  Media: USA zawieszą wsparcie dla Gwatemali, Ho...   \n",
       "62   Akrobatka wisiała na zębach nad wodospadem Nia...   \n",
       "586  „Negocjacje z Rosją powinny być priorytetem dl...   \n",
       "\n",
       "                                                 short  \\\n",
       "87   Prezydent Duda bardzo kategorycznie domaga się...   \n",
       "25   6 lutego obchodziliśmy okrągłą rocznicę rozpoc...   \n",
       "327  Prezydent Stanów Zjednoczonych Donald Trump na...   \n",
       "62   Akrobatka Erendira Wallenda nowym osiągnięciem...   \n",
       "586  Europoseł Nathan Gill powiedział, że negocjacj...   \n",
       "\n",
       "                                                  long  website country  \\\n",
       "87   Serdecznie Państwa witam.Przed mikrofonem Leon...  sputnik      ru   \n",
       "25   / JANEK SKARZYNSKI W Parlamencie Europejskim o...  sputnik      ru   \n",
       "327  „Na polecenie sekretarza stanu Mike'a Pompeo, ...  sputnik      ru   \n",
       "62   Trick, w którym Erendira Wallenda zawisła nad ...  sputnik      ru   \n",
       "586  W XXI wieku oczekujemy od polityków, że będą r...  sputnik      ru   \n",
       "\n",
       "         brand  \n",
       "87   sjegodnia  \n",
       "25   sjegodnia  \n",
       "327  sjegodnia  \n",
       "62   sjegodnia  \n",
       "586  sjegodnia  "
      ]
     },
     "execution_count": 28,
     "metadata": {},
     "output_type": "execute_result"
    }
   ],
   "source": [
    "sputnik_articles.sample(5).head()"
   ]
  },
  {
   "cell_type": "markdown",
   "metadata": {},
   "source": [
    "## TVP"
   ]
  },
  {
   "cell_type": "code",
   "execution_count": null,
   "metadata": {},
   "outputs": [],
   "source": []
  },
  {
   "cell_type": "code",
   "execution_count": null,
   "metadata": {},
   "outputs": [],
   "source": []
  },
  {
   "cell_type": "code",
   "execution_count": null,
   "metadata": {},
   "outputs": [],
   "source": []
  },
  {
   "cell_type": "markdown",
   "metadata": {
    "heading_collapsed": true
   },
   "source": [
    "## Concentrate data"
   ]
  },
  {
   "cell_type": "code",
   "execution_count": 29,
   "metadata": {
    "hidden": true
   },
   "outputs": [],
   "source": [
    "df = pd.concat([\n",
    "    wyborcza_articles,\n",
    "    gazeta_articles,\n",
    "    fakt_articles,\n",
    "    onet_articles,\n",
    "    newsweek_articles,\n",
    "    tvn_articles,\n",
    "    sputnik_articles\n",
    "], axis = 0, sort = False)"
   ]
  },
  {
   "cell_type": "code",
   "execution_count": 30,
   "metadata": {
    "hidden": true
   },
   "outputs": [
    {
     "data": {
      "text/html": [
       "<div>\n",
       "<style scoped>\n",
       "    .dataframe tbody tr th:only-of-type {\n",
       "        vertical-align: middle;\n",
       "    }\n",
       "\n",
       "    .dataframe tbody tr th {\n",
       "        vertical-align: top;\n",
       "    }\n",
       "\n",
       "    .dataframe thead th {\n",
       "        text-align: right;\n",
       "    }\n",
       "</style>\n",
       "<table border=\"1\" class=\"dataframe\">\n",
       "  <thead>\n",
       "    <tr style=\"text-align: right;\">\n",
       "      <th></th>\n",
       "      <th>title</th>\n",
       "      <th>short</th>\n",
       "      <th>long</th>\n",
       "      <th>website</th>\n",
       "      <th>brand</th>\n",
       "      <th>country</th>\n",
       "    </tr>\n",
       "  </thead>\n",
       "  <tbody>\n",
       "    <tr>\n",
       "      <th>548</th>\n",
       "      <td>PO odwoła się \\nod umorzenia \"zakumuflowanej o...</td>\n",
       "      <td>Platforma Obywatelska odwoła się od umorzenia ...</td>\n",
       "      <td>- Z pewnością się odwołamy. Naszym zdaniem pra...</td>\n",
       "      <td>tvn</td>\n",
       "      <td>discovery</td>\n",
       "      <td>us</td>\n",
       "    </tr>\n",
       "    <tr>\n",
       "      <th>243</th>\n",
       "      <td>Ostatni wpis Leskiego przed śmiercią. Bolesne ...</td>\n",
       "      <td>\"Wbrew wielu szczegółom, to nie był aż tak zły...</td>\n",
       "      <td>Na kilka godzin przed śmiercią Krzysztof Lesk...</td>\n",
       "      <td>fakt</td>\n",
       "      <td>ringier</td>\n",
       "      <td>de/ch</td>\n",
       "    </tr>\n",
       "    <tr>\n",
       "      <th>757</th>\n",
       "      <td>Australia: pożary w centrum imigrantów</td>\n",
       "      <td>Mieszkańcy ośrodka dla imigrantów na peryferia...</td>\n",
       "      <td></td>\n",
       "      <td>onet</td>\n",
       "      <td>ringier</td>\n",
       "      <td>de/ch</td>\n",
       "    </tr>\n",
       "  </tbody>\n",
       "</table>\n",
       "</div>"
      ],
      "text/plain": [
       "                                                 title  \\\n",
       "548  PO odwoła się \\nod umorzenia \"zakumuflowanej o...   \n",
       "243  Ostatni wpis Leskiego przed śmiercią. Bolesne ...   \n",
       "757             Australia: pożary w centrum imigrantów   \n",
       "\n",
       "                                                 short  \\\n",
       "548  Platforma Obywatelska odwoła się od umorzenia ...   \n",
       "243  \"Wbrew wielu szczegółom, to nie był aż tak zły...   \n",
       "757  Mieszkańcy ośrodka dla imigrantów na peryferia...   \n",
       "\n",
       "                                                  long website      brand  \\\n",
       "548  - Z pewnością się odwołamy. Naszym zdaniem pra...     tvn  discovery   \n",
       "243   Na kilka godzin przed śmiercią Krzysztof Lesk...    fakt    ringier   \n",
       "757                                                       onet    ringier   \n",
       "\n",
       "    country  \n",
       "548      us  \n",
       "243   de/ch  \n",
       "757   de/ch  "
      ]
     },
     "execution_count": 30,
     "metadata": {},
     "output_type": "execute_result"
    }
   ],
   "source": [
    "df.sample(3).head(3)"
   ]
  },
  {
   "cell_type": "markdown",
   "metadata": {
    "heading_collapsed": true
   },
   "source": [
    "## Data check"
   ]
  },
  {
   "cell_type": "code",
   "execution_count": 31,
   "metadata": {
    "hidden": true
   },
   "outputs": [
    {
     "data": {
      "text/plain": [
       "array([['Pionierska wyprawa: chce zebrać tyle złotych, ile pokona kilometrów',\n",
       "        'Janusz Marmurowicz-Voss, absolwent kierunku zarządzanie na UMK, wyruszy w lipcu na wyprawę rowerową o nazwie \"Polska NAJ\". Celem jest zebranie funduszy na pomoc wybranej rodzinie w charytatywnej akcji \"Szlachetna Paczka\".',\n",
       "        'Wyprawa jest projektem pionierskim. Trasa liczy ponad 3000 km. – Zamierzam dotrzeć rowerem lub – jeśli nie będzie to możliwe z przyczyn czysto technicznych – pieszo do wszystkich geograficznie najdalej wysuniętych miejsc Polski: na północy, południu, wschodzie i zachodzie. Odwiedzę też geograficzny środek Polski, największą polską depresję i wejdę na najwyższy polski szczyt – mówi Janusz Marmurowicz-Voss.\\nPostanowił, że podróż po Polsce połączy ze zbieraniem środków na pomoc potrzebującym. Zgodnie z hasłem wyprawy „Szlachetne pomaganie przez aktywne działanie” chce zebrać minimum tyle złotych, ile kilometrów pokona. Zachęcając innych do wolontariatu podczas akcji „Szlachetna Paczka” lub innej organizacji niosącej pomoc potrzebującym, zamierza urzeczywistnić także drugie hasło wyprawy – „Daj uśmiech, otrzymaj uśmiech”.',\n",
       "        'wyborcza', 'agora', 'pl']], dtype=object)"
      ]
     },
     "execution_count": 31,
     "metadata": {},
     "output_type": "execute_result"
    }
   ],
   "source": [
    "df.sample(1).values"
   ]
  },
  {
   "cell_type": "code",
   "execution_count": 32,
   "metadata": {
    "hidden": true
   },
   "outputs": [],
   "source": [
    "df['long'] = df['long'].str.replace('\\n\\n', ' ').str.replace('\\n', ' ')"
   ]
  },
  {
   "cell_type": "markdown",
   "metadata": {},
   "source": [
    "## Data summary"
   ]
  },
  {
   "cell_type": "code",
   "execution_count": 36,
   "metadata": {},
   "outputs": [
    {
     "data": {
      "text/plain": [
       "<matplotlib.axes._subplots.AxesSubplot at 0x7f52204d2d68>"
      ]
     },
     "execution_count": 36,
     "metadata": {},
     "output_type": "execute_result"
    },
    {
     "data": {
      "image/png": "[encoded data removed]",
      "text/plain": [
       "<Figure size 432x288 with 1 Axes>"
      ]
     },
     "metadata": {
      "needs_background": "light"
     },
     "output_type": "display_data"
    }
   ],
   "source": [
    "df\\\n",
    "    [['website', 'title']]\\\n",
    "    .groupby('website')\\\n",
    "    .count()\\\n",
    "    .plot(kind = 'bar')"
   ]
  },
  {
   "cell_type": "code",
   "execution_count": 37,
   "metadata": {},
   "outputs": [
    {
     "data": {
      "text/plain": [
       "<matplotlib.axes._subplots.AxesSubplot at 0x7f522041f390>"
      ]
     },
     "execution_count": 37,
     "metadata": {},
     "output_type": "execute_result"
    },
    {
     "data": {
      "image/png": "[encoded data removed]",
      "text/plain": [
       "<Figure size 432x288 with 1 Axes>"
      ]
     },
     "metadata": {
      "needs_background": "light"
     },
     "output_type": "display_data"
    }
   ],
   "source": [
    "df\\\n",
    "    [['brand', 'title']]\\\n",
    "    .groupby('brand')\\\n",
    "    .count()\\\n",
    "    .plot(kind = 'bar', title = 'Ilość artykułów dla danych domów mediowych')"
   ]
  },
  {
   "cell_type": "markdown",
   "metadata": {},
   "source": [
    "# Write"
   ]
  },
  {
   "cell_type": "code",
   "execution_count": 35,
   "metadata": {},
   "outputs": [
    {
     "data": {
      "text/plain": [
       "137337"
      ]
     },
     "execution_count": 35,
     "metadata": {},
     "output_type": "execute_result"
    }
   ],
   "source": [
    "len(df)"
   ]
  },
  {
   "cell_type": "code",
   "execution_count": 38,
   "metadata": {},
   "outputs": [],
   "source": [
    "for i, tmp_df in enumerate(np.array_split(df, 10)):\n",
    "    tmp_df.to_csv('data/concatenated/'+str(i), index = False)"
   ]
  },
  {
   "cell_type": "code",
   "execution_count": null,
   "metadata": {},
   "outputs": [],
   "source": []
  }
 ],
 "metadata": {
  "kernelspec": {
   "display_name": "Python 3",
   "language": "python",
   "name": "python3"
  },
  "language_info": {
   "codemirror_mode": {
    "name": "ipython",
    "version": 3
   },
   "file_extension": ".py",
   "mimetype": "text/x-python",
   "name": "python",
   "nbconvert_exporter": "python",
   "pygments_lexer": "ipython3",
   "version": "3.6.9"
  },
  "toc": {
   "base_numbering": 1,
   "nav_menu": {},
   "number_sections": true,
   "sideBar": true,
   "skip_h1_title": false,
   "title_cell": "Table of Contents",
   "title_sidebar": "Contents",
   "toc_cell": false,
   "toc_position": {},
   "toc_section_display": true,
   "toc_window_display": false
  }
 },
 "nbformat": 4,
 "nbformat_minor": 2
}
