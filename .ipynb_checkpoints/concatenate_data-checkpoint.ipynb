{
 "cells": [
  {
   "cell_type": "code",
   "execution_count": 1,
   "metadata": {},
   "outputs": [],
   "source": [
    "import pandas as pd\n",
    "from os import listdir\n",
    "from pandas.errors import EmptyDataError\n",
    "from unidecode import unidecode\n",
    "import seaborn as sns\n",
    "import re\n",
    "from wordcloud import WordCloud\n",
    "from gensim.models import Word2Vec\n",
    "from sklearn.manifold import TSNE\n",
    "from sklearn.decomposition import PCA\n",
    "import matplotlib.pyplot as plt\n",
    "import numpy as np\n",
    "from scipy.spatial import distance\n",
    "\n",
    "sns.set(\n",
    "    rc = {\n",
    "        'figure.figsize': (10, 8)\n",
    "    },\n",
    "    style = 'darkgrid'\n",
    ")"
   ]
  },
  {
   "cell_type": "markdown",
   "metadata": {
    "heading_collapsed": true
   },
   "source": [
    "# Dictionaries"
   ]
  },
  {
   "cell_type": "code",
   "execution_count": 2,
   "metadata": {
    "hidden": true
   },
   "outputs": [],
   "source": [
    "grouping_orders = {\n",
    "    \"website\": {\n",
    "        \"columns_before\": ['website', 'sentiment'],\n",
    "        \"groupby\": [\"website\"],\n",
    "        \"columns_after\": ['fakt', 'gazeta', 'wyborcza'] \n",
    "    },\n",
    "    \"brand\": {\n",
    "        \"columns_before\": ['brand', 'sentiment'],\n",
    "        \"groupby\": [\"brand\"],\n",
    "        \"columns_after\": ['agora', 'ringier'] \n",
    "    },\n",
    "    \"country\": {\n",
    "        \"columns_before\": ['country', 'sentiment'],\n",
    "        \"groupby\": [\"country\"],\n",
    "        \"columns_after\": ['de/ch', 'pl'] \n",
    "    }\n",
    "}"
   ]
  },
  {
   "cell_type": "code",
   "execution_count": 3,
   "metadata": {
    "hidden": true
   },
   "outputs": [],
   "source": [
    "brand_keys = {\n",
    "    \"pl\": {\n",
    "        \"agora\": ['wyborcza', 'gazeta']\n",
    "    },\n",
    "    \"de/ch\": {\n",
    "        \"ringier\": ['fakt', 'onet', 'newsweek']\n",
    "    },\n",
    "    'us': {\n",
    "        \"discovery\": ['tvn']\n",
    "    }\n",
    "}"
   ]
  },
  {
   "cell_type": "code",
   "execution_count": 4,
   "metadata": {
    "hidden": true
   },
   "outputs": [],
   "source": [
    "osoba = ['ideał', 'wróg'] # wzór, wróg, nieprzyjaciel\n",
    "partia = ['postęp', 'zacofanie'] # rozwój, dobrobyt, \n",
    "poglad = ['swoboda', 'reżim'] # chaos, totalitaryzm, racjonalizm\n",
    "kraj = ['sojusznik', 'wróg'] # ostoja, oaza, \n",
    "keyword_reference_words = {\n",
    "    'sąd': ['sprawiedliwość', 'niesprawiedliwość'],\n",
    "    'imigranci': ['przyjaciele', 'wrogowie'],\n",
    "    'ekologia': ['', ''],\n",
    "    'emigracja': ['szansa', 'ucieczka'], # szansa\n",
    "    'pis': partia,\n",
    "    'platforma': partia,\n",
    "    'duda': osoba,\n",
    "    'morawiecki': osoba,\n",
    "    'szydło': osoba,\n",
    "    'kaczyński': osoba,\n",
    "    'kwaśniewski': osoba,\n",
    "    'lewica': poglad,\n",
    "    'prawica': poglad,\n",
    "    'lgbt': ['tolerancja', ''],\n",
    "    'europa': ['wspólnota', 'podział'], # rozłam\n",
    "    'rosja': kraj,\n",
    "    'stany': kraj,\n",
    "    'premier': osoba,\n",
    "    'prezydent': osoba,\n",
    "    'opozycja': partia,\n",
    "    'rząd': partia,\n",
    "    'sejm': partia,\n",
    "    'polska': ['oaza', ''],\n",
    "    'putin': ['sojusznik', 'wróg'],\n",
    "    'trump': ['sojusznik', 'wróg'],\n",
    "    'ukraina': kraj,\n",
    "    'media': ['', ''],\n",
    "    'bank': ['bezpieczeństwo', 'wyzysk'],\n",
    "    'niemcy': kraj,\n",
    "    'papież': osoba,\n",
    "    'kościół': ['oparcie', 'firma'],\n",
    "    'korwin': osoba,\n",
    "    'rydzyk': osoba,\n",
    "    'feminizm': ['równość', 'patriarchat'],\n",
    "    'leszek+miller': osoba,\n",
    "}"
   ]
  },
  {
   "cell_type": "code",
   "execution_count": 5,
   "metadata": {
    "hidden": true
   },
   "outputs": [],
   "source": [
    "decoder = {\n",
    "    '%B1': 'ą',\n",
    "    '%BF': 'ż',\n",
    "    '%B3': 'ł',\n",
    "    '%B6': 'ś',\n",
    "    '%F1': 'ń',\n",
    "    '%F3': 'ó'\n",
    "}\n",
    "with open('keywords', 'r') as f:\n",
    "    raws = f.read().split('\\n')\n",
    "keyword_dict = {}\n",
    "for raw in raws:\n",
    "    tmp_keyword = raw\n",
    "    for d1, d2 in decoder.items():\n",
    "        tmp_keyword = tmp_keyword.replace(d1, d2)\n",
    "    keyword_dict[tmp_keyword] = ''"
   ]
  },
  {
   "cell_type": "code",
   "execution_count": 6,
   "metadata": {
    "hidden": true
   },
   "outputs": [],
   "source": [
    "keyword_regex = {\n",
    "    'pis': r\"\\Dpis\\D|prawo i sprawiedliwość\"\n",
    "}"
   ]
  },
  {
   "cell_type": "markdown",
   "metadata": {},
   "source": [
    "# Read data"
   ]
  },
  {
   "cell_type": "markdown",
   "metadata": {
    "heading_collapsed": true
   },
   "source": [
    "## Wyborcza"
   ]
  },
  {
   "cell_type": "code",
   "execution_count": 7,
   "metadata": {
    "hidden": true
   },
   "outputs": [],
   "source": [
    "wyborcza_articles = []\n",
    "for filename in listdir('data/wyborcza/articles'):\n",
    "    try:\n",
    "        wyborcza_articles.append(pd.read_csv('data/wyborcza/articles/'+filename, header = None))\n",
    "    except EmptyDataError:\n",
    "        pass # empty file\n",
    "wyborcza_articles = pd.concat(wyborcza_articles)\n",
    "wyborcza_articles.columns = ['url', 'title', 'short', 'long', 'img', 'com']\n",
    "wyborcza_articles['short'] = wyborcza_articles['short'].str.replace(r'(.|..)\\n', '')\n",
    "wyborcza_articles = wyborcza_articles[~wyborcza_articles['long'].str.contains('W odpowiedzi do @', na = False) == True]\n",
    "wyborcza_articles = wyborcza_articles[['title', 'short', 'long']]\n",
    "wyborcza_articles = wyborcza_articles.dropna()\n",
    "wyborcza_articles = wyborcza_articles[wyborcza_articles['title'].duplicated() == False]\n",
    "wyborcza_articles = wyborcza_articles[wyborcza_articles['short'] != '0']\n",
    "wyborcza_articles['website'] = 'wyborcza'\n",
    "wyborcza_articles['brand'] = 'agora'\n",
    "wyborcza_articles['country'] = 'pl'"
   ]
  },
  {
   "cell_type": "code",
   "execution_count": 8,
   "metadata": {
    "hidden": true
   },
   "outputs": [],
   "source": [
    "wyborcza_articles = wyborcza_articles[\n",
    "    (\n",
    "        wyborcza_articles['title'] + ' ' +\n",
    "        wyborcza_articles['long'] + ' ' +\n",
    "        wyborcza_articles['short'] \n",
    "    ).str.contains(r\"\"+\"|\".join(list(keyword_reference_words.keys())).replace('+', ' ')) == True\n",
    "]"
   ]
  },
  {
   "cell_type": "code",
   "execution_count": 9,
   "metadata": {
    "hidden": true
   },
   "outputs": [
    {
     "data": {
      "text/plain": [
       "36486"
      ]
     },
     "execution_count": 9,
     "metadata": {},
     "output_type": "execute_result"
    }
   ],
   "source": [
    "len(wyborcza_articles)"
   ]
  },
  {
   "cell_type": "code",
   "execution_count": 10,
   "metadata": {
    "hidden": true
   },
   "outputs": [
    {
     "data": {
      "text/html": [
       "<div>\n",
       "<style scoped>\n",
       "    .dataframe tbody tr th:only-of-type {\n",
       "        vertical-align: middle;\n",
       "    }\n",
       "\n",
       "    .dataframe tbody tr th {\n",
       "        vertical-align: top;\n",
       "    }\n",
       "\n",
       "    .dataframe thead th {\n",
       "        text-align: right;\n",
       "    }\n",
       "</style>\n",
       "<table border=\"1\" class=\"dataframe\">\n",
       "  <thead>\n",
       "    <tr style=\"text-align: right;\">\n",
       "      <th></th>\n",
       "      <th>title</th>\n",
       "      <th>short</th>\n",
       "      <th>long</th>\n",
       "      <th>website</th>\n",
       "      <th>brand</th>\n",
       "      <th>country</th>\n",
       "    </tr>\n",
       "  </thead>\n",
       "  <tbody>\n",
       "    <tr>\n",
       "      <th>65</th>\n",
       "      <td>Jak żyją najbogatsi łodzianie</td>\n",
       "      <td>W Łódzkiem jest ok. 20 tys. bogatych ludzi. Za...</td>\n",
       "      <td>W MultiBanku majętni stanowią ok. 8 proc. klie...</td>\n",
       "      <td>wyborcza</td>\n",
       "      <td>agora</td>\n",
       "      <td>pl</td>\n",
       "    </tr>\n",
       "    <tr>\n",
       "      <th>248</th>\n",
       "      <td>Komisja Europejska wydaje nowe zalecenia ws. p...</td>\n",
       "      <td>1- Nowa ustawa nie rozwiązała problemu Trybuna...</td>\n",
       "      <td>Frans Timmermans, pierwszy wiceszef Komisji Eu...</td>\n",
       "      <td>wyborcza</td>\n",
       "      <td>agora</td>\n",
       "      <td>pl</td>\n",
       "    </tr>\n",
       "    <tr>\n",
       "      <th>1</th>\n",
       "      <td>Pijana rowerzystka butelką wódki chciała przek...</td>\n",
       "      <td>47-letnia kobieta kierowała rowerem w stanie n...</td>\n",
       "      <td>W środę policjanci otrzymali anonimowe zgłosze...</td>\n",
       "      <td>wyborcza</td>\n",
       "      <td>agora</td>\n",
       "      <td>pl</td>\n",
       "    </tr>\n",
       "    <tr>\n",
       "      <th>35</th>\n",
       "      <td>Rada Regionów KOD nie chce publicznych wypowie...</td>\n",
       "      <td>Tymczasowa Rada Regionów KOD zaapelowała w sob...</td>\n",
       "      <td>Oświadczenie TRR KOD to reakcja na ujawnienie ...</td>\n",
       "      <td>wyborcza</td>\n",
       "      <td>agora</td>\n",
       "      <td>pl</td>\n",
       "    </tr>\n",
       "    <tr>\n",
       "      <th>399</th>\n",
       "      <td>Akcja Gazety. Ponad 15 tysięcy w pięć dni</td>\n",
       "      <td>\"Choinkę darczyńców\" dla podopiecznych Fundacj...</td>\n",
       "      <td>W piątek na konto fundacji prowadzącej domowe ...</td>\n",
       "      <td>wyborcza</td>\n",
       "      <td>agora</td>\n",
       "      <td>pl</td>\n",
       "    </tr>\n",
       "  </tbody>\n",
       "</table>\n",
       "</div>"
      ],
      "text/plain": [
       "                                                 title  \\\n",
       "65                       Jak żyją najbogatsi łodzianie   \n",
       "248  Komisja Europejska wydaje nowe zalecenia ws. p...   \n",
       "1    Pijana rowerzystka butelką wódki chciała przek...   \n",
       "35   Rada Regionów KOD nie chce publicznych wypowie...   \n",
       "399          Akcja Gazety. Ponad 15 tysięcy w pięć dni   \n",
       "\n",
       "                                                 short  \\\n",
       "65   W Łódzkiem jest ok. 20 tys. bogatych ludzi. Za...   \n",
       "248  1- Nowa ustawa nie rozwiązała problemu Trybuna...   \n",
       "1    47-letnia kobieta kierowała rowerem w stanie n...   \n",
       "35   Tymczasowa Rada Regionów KOD zaapelowała w sob...   \n",
       "399  \"Choinkę darczyńców\" dla podopiecznych Fundacj...   \n",
       "\n",
       "                                                  long   website  brand  \\\n",
       "65   W MultiBanku majętni stanowią ok. 8 proc. klie...  wyborcza  agora   \n",
       "248  Frans Timmermans, pierwszy wiceszef Komisji Eu...  wyborcza  agora   \n",
       "1    W środę policjanci otrzymali anonimowe zgłosze...  wyborcza  agora   \n",
       "35   Oświadczenie TRR KOD to reakcja na ujawnienie ...  wyborcza  agora   \n",
       "399  W piątek na konto fundacji prowadzącej domowe ...  wyborcza  agora   \n",
       "\n",
       "    country  \n",
       "65       pl  \n",
       "248      pl  \n",
       "1        pl  \n",
       "35       pl  \n",
       "399      pl  "
      ]
     },
     "execution_count": 10,
     "metadata": {},
     "output_type": "execute_result"
    }
   ],
   "source": [
    "wyborcza_articles.sample(5).head(5)"
   ]
  },
  {
   "cell_type": "markdown",
   "metadata": {
    "heading_collapsed": true
   },
   "source": [
    "## Gazeta"
   ]
  },
  {
   "cell_type": "code",
   "execution_count": 11,
   "metadata": {
    "hidden": true
   },
   "outputs": [],
   "source": [
    "gazeta_articles = []\n",
    "for filename in listdir('data/gazeta/articles'):\n",
    "    try:\n",
    "        gazeta_articles.append(pd.read_csv('data/gazeta/articles/'+filename, header = None))\n",
    "    except EmptyDataError:\n",
    "        pass # empty file\n",
    "gazeta_articles = pd.concat(gazeta_articles)\n",
    "gazeta_articles.columns = ['url', 'title', 'short', 'long', 'img', 'com']\n",
    "gazeta_articles = gazeta_articles[['title', 'short', 'long']]\n",
    "gazeta_articles = gazeta_articles[gazeta_articles['title'].duplicated() == False]\n",
    "gazeta_articles['website'] = 'gazeta'\n",
    "gazeta_articles['brand'] = 'agora'\n",
    "gazeta_articles['country'] = 'pl'"
   ]
  },
  {
   "cell_type": "code",
   "execution_count": 12,
   "metadata": {
    "hidden": true
   },
   "outputs": [
    {
     "data": {
      "text/plain": [
       "12075"
      ]
     },
     "execution_count": 12,
     "metadata": {},
     "output_type": "execute_result"
    }
   ],
   "source": [
    "len(gazeta_articles)"
   ]
  },
  {
   "cell_type": "code",
   "execution_count": 13,
   "metadata": {
    "hidden": true
   },
   "outputs": [
    {
     "data": {
      "text/html": [
       "<div>\n",
       "<style scoped>\n",
       "    .dataframe tbody tr th:only-of-type {\n",
       "        vertical-align: middle;\n",
       "    }\n",
       "\n",
       "    .dataframe tbody tr th {\n",
       "        vertical-align: top;\n",
       "    }\n",
       "\n",
       "    .dataframe thead th {\n",
       "        text-align: right;\n",
       "    }\n",
       "</style>\n",
       "<table border=\"1\" class=\"dataframe\">\n",
       "  <thead>\n",
       "    <tr style=\"text-align: right;\">\n",
       "      <th></th>\n",
       "      <th>title</th>\n",
       "      <th>short</th>\n",
       "      <th>long</th>\n",
       "      <th>website</th>\n",
       "      <th>brand</th>\n",
       "      <th>country</th>\n",
       "    </tr>\n",
       "  </thead>\n",
       "  <tbody>\n",
       "    <tr>\n",
       "      <th>96</th>\n",
       "      <td>Kto jest oskarżony?</td>\n",
       "      <td>NaN</td>\n",
       "      <td>W PRL Rada Państwa była fasadowym ciałem, któr...</td>\n",
       "      <td>gazeta</td>\n",
       "      <td>agora</td>\n",
       "      <td>pl</td>\n",
       "    </tr>\n",
       "    <tr>\n",
       "      <th>38</th>\n",
       "      <td>Po 1,5 roku wyszedł z aresztu i złożył ślubowa...</td>\n",
       "      <td>Na piątkowej nadzwyczajnej sesji rady gminy śl...</td>\n",
       "      <td>Zbigniew Wojtera wyszedł z aresztu w Wigilię, ...</td>\n",
       "      <td>gazeta</td>\n",
       "      <td>agora</td>\n",
       "      <td>pl</td>\n",
       "    </tr>\n",
       "    <tr>\n",
       "      <th>20</th>\n",
       "      <td>Oto narodowcy, którzy zapewne wejdą do Sejmu z...</td>\n",
       "      <td>Część biorących miejsc na listach Pawła Kukiza...</td>\n",
       "      <td>Chcesz wiedzieć szybciej? Polub nas\\nListy Paw...</td>\n",
       "      <td>gazeta</td>\n",
       "      <td>agora</td>\n",
       "      <td>pl</td>\n",
       "    </tr>\n",
       "    <tr>\n",
       "      <th>121</th>\n",
       "      <td>Dwaj oszuści z Bielan w rękach kryminalnych</td>\n",
       "      <td>Kryminalni z Bielan zatrzymali oszustów, którz...</td>\n",
       "      <td>Artur G. i Rafał G. zostali rozpoznani przez p...</td>\n",
       "      <td>gazeta</td>\n",
       "      <td>agora</td>\n",
       "      <td>pl</td>\n",
       "    </tr>\n",
       "    <tr>\n",
       "      <th>75</th>\n",
       "      <td>Bridget Jones powraca. Odchudzona, samotna i.....</td>\n",
       "      <td>W sieci zadebiutował zwiastun \"Bridget Jones's...</td>\n",
       "      <td>W nowym filmie Bridget Jones jest czterdziesto...</td>\n",
       "      <td>gazeta</td>\n",
       "      <td>agora</td>\n",
       "      <td>pl</td>\n",
       "    </tr>\n",
       "  </tbody>\n",
       "</table>\n",
       "</div>"
      ],
      "text/plain": [
       "                                                 title  \\\n",
       "96                                 Kto jest oskarżony?   \n",
       "38   Po 1,5 roku wyszedł z aresztu i złożył ślubowa...   \n",
       "20   Oto narodowcy, którzy zapewne wejdą do Sejmu z...   \n",
       "121        Dwaj oszuści z Bielan w rękach kryminalnych   \n",
       "75   Bridget Jones powraca. Odchudzona, samotna i.....   \n",
       "\n",
       "                                                 short  \\\n",
       "96                                                 NaN   \n",
       "38   Na piątkowej nadzwyczajnej sesji rady gminy śl...   \n",
       "20   Część biorących miejsc na listach Pawła Kukiza...   \n",
       "121  Kryminalni z Bielan zatrzymali oszustów, którz...   \n",
       "75   W sieci zadebiutował zwiastun \"Bridget Jones's...   \n",
       "\n",
       "                                                  long website  brand country  \n",
       "96   W PRL Rada Państwa była fasadowym ciałem, któr...  gazeta  agora      pl  \n",
       "38   Zbigniew Wojtera wyszedł z aresztu w Wigilię, ...  gazeta  agora      pl  \n",
       "20   Chcesz wiedzieć szybciej? Polub nas\\nListy Paw...  gazeta  agora      pl  \n",
       "121  Artur G. i Rafał G. zostali rozpoznani przez p...  gazeta  agora      pl  \n",
       "75   W nowym filmie Bridget Jones jest czterdziesto...  gazeta  agora      pl  "
      ]
     },
     "execution_count": 13,
     "metadata": {},
     "output_type": "execute_result"
    }
   ],
   "source": [
    "gazeta_articles.sample(5).head()"
   ]
  },
  {
   "cell_type": "markdown",
   "metadata": {
    "heading_collapsed": true
   },
   "source": [
    "## Fakt"
   ]
  },
  {
   "cell_type": "code",
   "execution_count": 14,
   "metadata": {
    "hidden": true
   },
   "outputs": [],
   "source": [
    "fakt_articles = []\n",
    "for filename in listdir('data/fakt/articles'):\n",
    "    tmp_df = pd.read_csv('data/fakt/articles/'+filename, header = None)\n",
    "    tmp_df.columns = ['url', 'title', 'short', 'long', 'img', 'com',]\n",
    "    tmp_df[filename] = 1\n",
    "    tmp_df[filename] = tmp_df[filename].fillna(0)\n",
    "    fakt_articles.append(tmp_df)\n",
    "fakt_articles = pd.concat(fakt_articles, sort = False)\n",
    "fakt_articles = fakt_articles[~fakt_articles['long'].isna()]\n",
    "fakt_articles['long'] = fakt_articles.apply(lambda x: x['long'][len(x['short']):], axis = 1)\n",
    "fakt_articles = fakt_articles[['title', 'short', 'long']]\n",
    "fakt_articles = fakt_articles[fakt_articles['title'].duplicated() == False]\n",
    "fakt_articles['website'] = 'fakt'\n",
    "fakt_articles['country'] = 'de/ch'\n",
    "fakt_articles['brand'] = 'ringier'\n",
    "fakt_articles = fakt_articles.dropna()"
   ]
  },
  {
   "cell_type": "code",
   "execution_count": 15,
   "metadata": {
    "hidden": true
   },
   "outputs": [
    {
     "data": {
      "text/plain": [
       "19165"
      ]
     },
     "execution_count": 15,
     "metadata": {},
     "output_type": "execute_result"
    }
   ],
   "source": [
    "len(fakt_articles)"
   ]
  },
  {
   "cell_type": "code",
   "execution_count": 16,
   "metadata": {
    "hidden": true
   },
   "outputs": [
    {
     "data": {
      "text/html": [
       "<div>\n",
       "<style scoped>\n",
       "    .dataframe tbody tr th:only-of-type {\n",
       "        vertical-align: middle;\n",
       "    }\n",
       "\n",
       "    .dataframe tbody tr th {\n",
       "        vertical-align: top;\n",
       "    }\n",
       "\n",
       "    .dataframe thead th {\n",
       "        text-align: right;\n",
       "    }\n",
       "</style>\n",
       "<table border=\"1\" class=\"dataframe\">\n",
       "  <thead>\n",
       "    <tr style=\"text-align: right;\">\n",
       "      <th></th>\n",
       "      <th>title</th>\n",
       "      <th>short</th>\n",
       "      <th>long</th>\n",
       "      <th>website</th>\n",
       "      <th>country</th>\n",
       "      <th>brand</th>\n",
       "    </tr>\n",
       "  </thead>\n",
       "  <tbody>\n",
       "    <tr>\n",
       "      <th>0</th>\n",
       "      <td>Pierwsze posiedzenie Sejmu. Przemówienie Andrz...</td>\n",
       "      <td>Pierwsze posiedzenie Sejmu otworzył marszałek ...</td>\n",
       "      <td>Andrzej Duda wygłosił orędzie na inauguracyjn...</td>\n",
       "      <td>fakt</td>\n",
       "      <td>de/ch</td>\n",
       "      <td>ringier</td>\n",
       "    </tr>\n",
       "    <tr>\n",
       "      <th>1</th>\n",
       "      <td>Jędraszewski o gender, LGBT i karcie WHO: \"Obł...</td>\n",
       "      <td>Abp. Marek Jędraszewski wygłosił kazanie podcz...</td>\n",
       "      <td>Homilii arcybiskupa Marka Jędraszewskiego słu...</td>\n",
       "      <td>fakt</td>\n",
       "      <td>de/ch</td>\n",
       "      <td>ringier</td>\n",
       "    </tr>\n",
       "    <tr>\n",
       "      <th>2</th>\n",
       "      <td>Hołownia zdradził, ile do tej pory wyłożył z w...</td>\n",
       "      <td>Szymon Hołownia w niedzielę ogłosił swój start...</td>\n",
       "      <td>Szymon Hołownia w miniony weekend w Teatrze S...</td>\n",
       "      <td>fakt</td>\n",
       "      <td>de/ch</td>\n",
       "      <td>ringier</td>\n",
       "    </tr>\n",
       "  </tbody>\n",
       "</table>\n",
       "</div>"
      ],
      "text/plain": [
       "                                               title  \\\n",
       "0  Pierwsze posiedzenie Sejmu. Przemówienie Andrz...   \n",
       "1  Jędraszewski o gender, LGBT i karcie WHO: \"Obł...   \n",
       "2  Hołownia zdradził, ile do tej pory wyłożył z w...   \n",
       "\n",
       "                                               short  \\\n",
       "0  Pierwsze posiedzenie Sejmu otworzył marszałek ...   \n",
       "1  Abp. Marek Jędraszewski wygłosił kazanie podcz...   \n",
       "2  Szymon Hołownia w niedzielę ogłosił swój start...   \n",
       "\n",
       "                                                long website country    brand  \n",
       "0   Andrzej Duda wygłosił orędzie na inauguracyjn...    fakt   de/ch  ringier  \n",
       "1   Homilii arcybiskupa Marka Jędraszewskiego słu...    fakt   de/ch  ringier  \n",
       "2   Szymon Hołownia w miniony weekend w Teatrze S...    fakt   de/ch  ringier  "
      ]
     },
     "execution_count": 16,
     "metadata": {},
     "output_type": "execute_result"
    }
   ],
   "source": [
    "fakt_articles.head(3)"
   ]
  },
  {
   "cell_type": "markdown",
   "metadata": {
    "heading_collapsed": true
   },
   "source": [
    "## Onet"
   ]
  },
  {
   "cell_type": "code",
   "execution_count": 17,
   "metadata": {
    "hidden": true
   },
   "outputs": [],
   "source": [
    "onet_articles = []\n",
    "for filename in listdir('data/onet/articles'):\n",
    "    tmp_df = pd.read_csv('data/onet/articles/'+filename, header = None)\n",
    "    try:\n",
    "        tmp_df.columns = ['url', 'title', 'short', 'long', 'img', 'com',]\n",
    "    except:\n",
    "        tmp_df.columns = ['title', 'short', 'long', 'img', 'com',]\n",
    "    # tmp_df[filename] = 1\n",
    "    onet_articles.append(tmp_df)\n",
    "onet_articles = pd.concat(onet_articles, sort = False)\n",
    "onet_articles = onet_articles[['title', 'short', 'long']]\n",
    "onet_articles = onet_articles[onet_articles['title'].duplicated() == False]\n",
    "onet_articles = onet_articles.dropna()\n",
    "onet_articles['website'] = 'onet'\n",
    "onet_articles['country'] = 'de/ch'\n",
    "onet_articles['brand'] = 'ringier'"
   ]
  },
  {
   "cell_type": "code",
   "execution_count": 18,
   "metadata": {
    "hidden": true
   },
   "outputs": [
    {
     "data": {
      "text/plain": [
       "12968"
      ]
     },
     "execution_count": 18,
     "metadata": {},
     "output_type": "execute_result"
    }
   ],
   "source": [
    "len(onet_articles)"
   ]
  },
  {
   "cell_type": "code",
   "execution_count": 19,
   "metadata": {
    "hidden": true
   },
   "outputs": [
    {
     "data": {
      "text/html": [
       "<div>\n",
       "<style scoped>\n",
       "    .dataframe tbody tr th:only-of-type {\n",
       "        vertical-align: middle;\n",
       "    }\n",
       "\n",
       "    .dataframe tbody tr th {\n",
       "        vertical-align: top;\n",
       "    }\n",
       "\n",
       "    .dataframe thead th {\n",
       "        text-align: right;\n",
       "    }\n",
       "</style>\n",
       "<table border=\"1\" class=\"dataframe\">\n",
       "  <thead>\n",
       "    <tr style=\"text-align: right;\">\n",
       "      <th></th>\n",
       "      <th>title</th>\n",
       "      <th>short</th>\n",
       "      <th>long</th>\n",
       "      <th>website</th>\n",
       "      <th>country</th>\n",
       "      <th>brand</th>\n",
       "    </tr>\n",
       "  </thead>\n",
       "  <tbody>\n",
       "    <tr>\n",
       "      <th>0</th>\n",
       "      <td>Sondaż IBRiS dla Onetu. Spadają notowania Andr...</td>\n",
       "      <td>Prezydent Andrzej Duda cieszy się najwyższym z...</td>\n",
       "      <td>Andrzej Duda od wielu miesięcy cieszy się najw...</td>\n",
       "      <td>onet</td>\n",
       "      <td>de/ch</td>\n",
       "      <td>ringier</td>\n",
       "    </tr>\n",
       "    <tr>\n",
       "      <th>1</th>\n",
       "      <td>Bogdan Klich: to wielki strategiczny błąd prez...</td>\n",
       "      <td>- Decyzja wycofania polskich wojsk z Iraku pow...</td>\n",
       "      <td>- Głos opozycji jest niezbędny i trzeba go wys...</td>\n",
       "      <td>onet</td>\n",
       "      <td>de/ch</td>\n",
       "      <td>ringier</td>\n",
       "    </tr>\n",
       "    <tr>\n",
       "      <th>2</th>\n",
       "      <td>Izraelskie media informują o decyzji prezydent...</td>\n",
       "      <td>Izraelskie media informują za agencjami prasow...</td>\n",
       "      <td>Andrzej Duda, którego nie poproszono o wystąpi...</td>\n",
       "      <td>onet</td>\n",
       "      <td>de/ch</td>\n",
       "      <td>ringier</td>\n",
       "    </tr>\n",
       "  </tbody>\n",
       "</table>\n",
       "</div>"
      ],
      "text/plain": [
       "                                               title  \\\n",
       "0  Sondaż IBRiS dla Onetu. Spadają notowania Andr...   \n",
       "1  Bogdan Klich: to wielki strategiczny błąd prez...   \n",
       "2  Izraelskie media informują o decyzji prezydent...   \n",
       "\n",
       "                                               short  \\\n",
       "0  Prezydent Andrzej Duda cieszy się najwyższym z...   \n",
       "1  - Decyzja wycofania polskich wojsk z Iraku pow...   \n",
       "2  Izraelskie media informują za agencjami prasow...   \n",
       "\n",
       "                                                long website country    brand  \n",
       "0  Andrzej Duda od wielu miesięcy cieszy się najw...    onet   de/ch  ringier  \n",
       "1  - Głos opozycji jest niezbędny i trzeba go wys...    onet   de/ch  ringier  \n",
       "2  Andrzej Duda, którego nie poproszono o wystąpi...    onet   de/ch  ringier  "
      ]
     },
     "execution_count": 19,
     "metadata": {},
     "output_type": "execute_result"
    }
   ],
   "source": [
    "onet_articles.head(3)"
   ]
  },
  {
   "cell_type": "markdown",
   "metadata": {
    "heading_collapsed": true
   },
   "source": [
    "## Newsweek"
   ]
  },
  {
   "cell_type": "code",
   "execution_count": 20,
   "metadata": {
    "hidden": true
   },
   "outputs": [],
   "source": [
    "newsweek_articles = []\n",
    "for filename in listdir('data/newsweek/articles'):\n",
    "    tmp_df = pd.read_csv('data/newsweek/articles/'+filename, header = None)\n",
    "    tmp_df.columns = ['title', 'short', 'long', 'img', 'com',]\n",
    "    newsweek_articles.append(tmp_df)\n",
    "newsweek_articles = pd.concat(newsweek_articles, sort = False)\n",
    "newsweek_articles = newsweek_articles[['title', 'short', 'long']]\n",
    "newsweek_articles = newsweek_articles[newsweek_articles['title'].duplicated() == False]\n",
    "newsweek_articles = newsweek_articles.dropna()\n",
    "newsweek_articles['website'] = 'newsweek'\n",
    "newsweek_articles['country'] = 'de/ch'\n",
    "newsweek_articles['brand'] = 'ringier'"
   ]
  },
  {
   "cell_type": "code",
   "execution_count": 21,
   "metadata": {
    "hidden": true
   },
   "outputs": [
    {
     "data": {
      "text/plain": [
       "1605"
      ]
     },
     "execution_count": 21,
     "metadata": {},
     "output_type": "execute_result"
    }
   ],
   "source": [
    "len(newsweek_articles)"
   ]
  },
  {
   "cell_type": "code",
   "execution_count": 22,
   "metadata": {
    "hidden": true
   },
   "outputs": [
    {
     "data": {
      "text/html": [
       "<div>\n",
       "<style scoped>\n",
       "    .dataframe tbody tr th:only-of-type {\n",
       "        vertical-align: middle;\n",
       "    }\n",
       "\n",
       "    .dataframe tbody tr th {\n",
       "        vertical-align: top;\n",
       "    }\n",
       "\n",
       "    .dataframe thead th {\n",
       "        text-align: right;\n",
       "    }\n",
       "</style>\n",
       "<table border=\"1\" class=\"dataframe\">\n",
       "  <thead>\n",
       "    <tr style=\"text-align: right;\">\n",
       "      <th></th>\n",
       "      <th>title</th>\n",
       "      <th>short</th>\n",
       "      <th>long</th>\n",
       "      <th>website</th>\n",
       "      <th>country</th>\n",
       "      <th>brand</th>\n",
       "    </tr>\n",
       "  </thead>\n",
       "  <tbody>\n",
       "    <tr>\n",
       "      <th>0</th>\n",
       "      <td>OPINIA\\nPiS tak zohydza Unię Europejską, że wk...</td>\n",
       "      <td>Prezes Jarosław Kaczyński chce stworzyć nowe z...</td>\n",
       "      <td>Spektakl zatytułowany „zła unia” miał w minion...</td>\n",
       "      <td>newsweek</td>\n",
       "      <td>de/ch</td>\n",
       "      <td>ringier</td>\n",
       "    </tr>\n",
       "    <tr>\n",
       "      <th>1</th>\n",
       "      <td>„Jestem przekonany, że Biedroń będzie gryzł tr...</td>\n",
       "      <td>Jedną nogą w Brukseli Robert Biedroń chce walc...</td>\n",
       "      <td>Po niedzielnej konwencji w Słupsku, na której ...</td>\n",
       "      <td>newsweek</td>\n",
       "      <td>de/ch</td>\n",
       "      <td>ringier</td>\n",
       "    </tr>\n",
       "    <tr>\n",
       "      <th>2</th>\n",
       "      <td>Andrzej Duda walczy o wyborców Konfederacji?„N...</td>\n",
       "      <td>– Mam nadzieję, że mimo huraganowych ataków, k...</td>\n",
       "      <td>Kampania prezydencka jeszcze się nie rozpoczęł...</td>\n",
       "      <td>newsweek</td>\n",
       "      <td>de/ch</td>\n",
       "      <td>ringier</td>\n",
       "    </tr>\n",
       "  </tbody>\n",
       "</table>\n",
       "</div>"
      ],
      "text/plain": [
       "                                               title  \\\n",
       "0  OPINIA\\nPiS tak zohydza Unię Europejską, że wk...   \n",
       "1  „Jestem przekonany, że Biedroń będzie gryzł tr...   \n",
       "2  Andrzej Duda walczy o wyborców Konfederacji?„N...   \n",
       "\n",
       "                                               short  \\\n",
       "0  Prezes Jarosław Kaczyński chce stworzyć nowe z...   \n",
       "1  Jedną nogą w Brukseli Robert Biedroń chce walc...   \n",
       "2  – Mam nadzieję, że mimo huraganowych ataków, k...   \n",
       "\n",
       "                                                long   website country  \\\n",
       "0  Spektakl zatytułowany „zła unia” miał w minion...  newsweek   de/ch   \n",
       "1  Po niedzielnej konwencji w Słupsku, na której ...  newsweek   de/ch   \n",
       "2  Kampania prezydencka jeszcze się nie rozpoczęł...  newsweek   de/ch   \n",
       "\n",
       "     brand  \n",
       "0  ringier  \n",
       "1  ringier  \n",
       "2  ringier  "
      ]
     },
     "execution_count": 22,
     "metadata": {},
     "output_type": "execute_result"
    }
   ],
   "source": [
    "newsweek_articles.head(3)"
   ]
  },
  {
   "cell_type": "markdown",
   "metadata": {},
   "source": [
    "## TVN"
   ]
  },
  {
   "cell_type": "code",
   "execution_count": 23,
   "metadata": {},
   "outputs": [],
   "source": [
    "tvn_articles_list = []\n",
    "for filename in listdir('data/tvn/articles'):\n",
    "    tmp_df = pd.read_csv('data/tvn/articles/'+filename, header = None)\n",
    "    tmp_df.columns = ['title', 'short', 'long', 'img', 'com',]\n",
    "    tvn_articles_list.append(tmp_df)\n",
    "tvn_articles = pd.concat(tvn_articles_list, sort = False)\n",
    "tvn_articles = tvn_articles[['title', 'short', 'long']]\n",
    "tvn_articles = tvn_articles[tvn_articles['title'].duplicated() == False]\n",
    "tvn_articles = tvn_articles.dropna()\n",
    "tvn_articles['website'] = 'tvn'\n",
    "tvn_articles['country'] = 'us'\n",
    "tvn_articles['brand'] = 'discovery'"
   ]
  },
  {
   "cell_type": "code",
   "execution_count": 24,
   "metadata": {},
   "outputs": [
    {
     "data": {
      "text/plain": [
       "35232"
      ]
     },
     "execution_count": 24,
     "metadata": {},
     "output_type": "execute_result"
    }
   ],
   "source": [
    "len(tvn_articles)"
   ]
  },
  {
   "cell_type": "code",
   "execution_count": 25,
   "metadata": {},
   "outputs": [
    {
     "data": {
      "text/html": [
       "<div>\n",
       "<style scoped>\n",
       "    .dataframe tbody tr th:only-of-type {\n",
       "        vertical-align: middle;\n",
       "    }\n",
       "\n",
       "    .dataframe tbody tr th {\n",
       "        vertical-align: top;\n",
       "    }\n",
       "\n",
       "    .dataframe thead th {\n",
       "        text-align: right;\n",
       "    }\n",
       "</style>\n",
       "<table border=\"1\" class=\"dataframe\">\n",
       "  <thead>\n",
       "    <tr style=\"text-align: right;\">\n",
       "      <th></th>\n",
       "      <th>title</th>\n",
       "      <th>short</th>\n",
       "      <th>long</th>\n",
       "      <th>website</th>\n",
       "      <th>country</th>\n",
       "      <th>brand</th>\n",
       "    </tr>\n",
       "  </thead>\n",
       "  <tbody>\n",
       "    <tr>\n",
       "      <th>597</th>\n",
       "      <td>\"Nie ma zgody na takie metody\". Awantura na ob...</td>\n",
       "      <td>\"ORMO, ZOMO, cenzura\", \"Nie ma zgody na takie ...</td>\n",
       "      <td>Autor: TVN24</td>\n",
       "      <td>tvn</td>\n",
       "      <td>us</td>\n",
       "      <td>discovery</td>\n",
       "    </tr>\n",
       "    <tr>\n",
       "      <th>406</th>\n",
       "      <td>Do Rosji trafiło mięso sprzed 36 lat</td>\n",
       "      <td>Nie tylko do Polski trafiało stare, klikudzies...</td>\n",
       "      <td>Jak poinformował portal internetowy GZT.ru, mi...</td>\n",
       "      <td>tvn</td>\n",
       "      <td>us</td>\n",
       "      <td>discovery</td>\n",
       "    </tr>\n",
       "    <tr>\n",
       "      <th>155</th>\n",
       "      <td>\"Szanowny Panie Gistapo\"</td>\n",
       "      <td>Program \"Czarno na białym\" TVN24 pokazał donos...</td>\n",
       "      <td>\"Szanowna Władzo! Proszę przeprowadzić rewizje...</td>\n",
       "      <td>tvn</td>\n",
       "      <td>us</td>\n",
       "      <td>discovery</td>\n",
       "    </tr>\n",
       "    <tr>\n",
       "      <th>756</th>\n",
       "      <td>Grabarczyk zrezygnował z członkostwa w komitec...</td>\n",
       "      <td>Cezary Grabarczyk złożył rezygnację z członkos...</td>\n",
       "      <td>Grabarczyk jest wiceszefem PO i członkiem zarz...</td>\n",
       "      <td>tvn</td>\n",
       "      <td>us</td>\n",
       "      <td>discovery</td>\n",
       "    </tr>\n",
       "    <tr>\n",
       "      <th>636</th>\n",
       "      <td>Pierwszy papież na Cyprze</td>\n",
       "      <td>Papież Benedykt XVI wylądował po południu na p...</td>\n",
       "      <td>Główne cele 16. zagranicznej podróży papieża t...</td>\n",
       "      <td>tvn</td>\n",
       "      <td>us</td>\n",
       "      <td>discovery</td>\n",
       "    </tr>\n",
       "  </tbody>\n",
       "</table>\n",
       "</div>"
      ],
      "text/plain": [
       "                                                 title  \\\n",
       "597  \"Nie ma zgody na takie metody\". Awantura na ob...   \n",
       "406               Do Rosji trafiło mięso sprzed 36 lat   \n",
       "155                           \"Szanowny Panie Gistapo\"   \n",
       "756  Grabarczyk zrezygnował z członkostwa w komitec...   \n",
       "636                          Pierwszy papież na Cyprze   \n",
       "\n",
       "                                                 short  \\\n",
       "597  \"ORMO, ZOMO, cenzura\", \"Nie ma zgody na takie ...   \n",
       "406  Nie tylko do Polski trafiało stare, klikudzies...   \n",
       "155  Program \"Czarno na białym\" TVN24 pokazał donos...   \n",
       "756  Cezary Grabarczyk złożył rezygnację z członkos...   \n",
       "636  Papież Benedykt XVI wylądował po południu na p...   \n",
       "\n",
       "                                                  long website country  \\\n",
       "597                                       Autor: TVN24     tvn      us   \n",
       "406  Jak poinformował portal internetowy GZT.ru, mi...     tvn      us   \n",
       "155  \"Szanowna Władzo! Proszę przeprowadzić rewizje...     tvn      us   \n",
       "756  Grabarczyk jest wiceszefem PO i członkiem zarz...     tvn      us   \n",
       "636  Główne cele 16. zagranicznej podróży papieża t...     tvn      us   \n",
       "\n",
       "         brand  \n",
       "597  discovery  \n",
       "406  discovery  \n",
       "155  discovery  \n",
       "756  discovery  \n",
       "636  discovery  "
      ]
     },
     "execution_count": 25,
     "metadata": {},
     "output_type": "execute_result"
    }
   ],
   "source": [
    "tvn_articles.sample(5).head()"
   ]
  },
  {
   "cell_type": "markdown",
   "metadata": {},
   "source": [
    "## Sputnik"
   ]
  },
  {
   "cell_type": "code",
   "execution_count": 23,
   "metadata": {},
   "outputs": [],
   "source": [
    "sputnik_list = []\n",
    "for filename in listdir('data/sputnik/articles'):\n",
    "    tmp_df = pd.read_csv('data/sputnik/articles/'+filename, header = None)\n",
    "    tmp_df.columns = ['title', 'short', 'long', 'img', 'com',]\n",
    "    sputnik_list.append(tmp_df)\n",
    "sputnik_articles = pd.concat(sputnik_list, sort = False)\n",
    "sputnik_articles = sputnik_articles[['title', 'short', 'long']]\n",
    "sputnik_articles = sputnik_articles[tvn_articles['title'].duplicated() == False]\n",
    "sputnik_articles = sputnik_articles.dropna()\n",
    "sputnik_articles['website'] = 'sputnik'\n",
    "sputnik_articles['country'] = 'ru'\n",
    "sputnik_articles['brand'] = 'rossija_sjegodnia'"
   ]
  },
  {
   "cell_type": "code",
   "execution_count": 24,
   "metadata": {},
   "outputs": [
    {
     "data": {
      "text/plain": [
       "35232"
      ]
     },
     "execution_count": 24,
     "metadata": {},
     "output_type": "execute_result"
    }
   ],
   "source": [
    "len(sputnik_articles)"
   ]
  },
  {
   "cell_type": "code",
   "execution_count": 25,
   "metadata": {},
   "outputs": [
    {
     "data": {
      "text/html": [
       "<div>\n",
       "<style scoped>\n",
       "    .dataframe tbody tr th:only-of-type {\n",
       "        vertical-align: middle;\n",
       "    }\n",
       "\n",
       "    .dataframe tbody tr th {\n",
       "        vertical-align: top;\n",
       "    }\n",
       "\n",
       "    .dataframe thead th {\n",
       "        text-align: right;\n",
       "    }\n",
       "</style>\n",
       "<table border=\"1\" class=\"dataframe\">\n",
       "  <thead>\n",
       "    <tr style=\"text-align: right;\">\n",
       "      <th></th>\n",
       "      <th>title</th>\n",
       "      <th>short</th>\n",
       "      <th>long</th>\n",
       "      <th>website</th>\n",
       "      <th>country</th>\n",
       "      <th>brand</th>\n",
       "    </tr>\n",
       "  </thead>\n",
       "  <tbody>\n",
       "    <tr>\n",
       "      <th>597</th>\n",
       "      <td>\"Nie ma zgody na takie metody\". Awantura na ob...</td>\n",
       "      <td>\"ORMO, ZOMO, cenzura\", \"Nie ma zgody na takie ...</td>\n",
       "      <td>Autor: TVN24</td>\n",
       "      <td>tvn</td>\n",
       "      <td>us</td>\n",
       "      <td>discovery</td>\n",
       "    </tr>\n",
       "    <tr>\n",
       "      <th>406</th>\n",
       "      <td>Do Rosji trafiło mięso sprzed 36 lat</td>\n",
       "      <td>Nie tylko do Polski trafiało stare, klikudzies...</td>\n",
       "      <td>Jak poinformował portal internetowy GZT.ru, mi...</td>\n",
       "      <td>tvn</td>\n",
       "      <td>us</td>\n",
       "      <td>discovery</td>\n",
       "    </tr>\n",
       "    <tr>\n",
       "      <th>155</th>\n",
       "      <td>\"Szanowny Panie Gistapo\"</td>\n",
       "      <td>Program \"Czarno na białym\" TVN24 pokazał donos...</td>\n",
       "      <td>\"Szanowna Władzo! Proszę przeprowadzić rewizje...</td>\n",
       "      <td>tvn</td>\n",
       "      <td>us</td>\n",
       "      <td>discovery</td>\n",
       "    </tr>\n",
       "    <tr>\n",
       "      <th>756</th>\n",
       "      <td>Grabarczyk zrezygnował z członkostwa w komitec...</td>\n",
       "      <td>Cezary Grabarczyk złożył rezygnację z członkos...</td>\n",
       "      <td>Grabarczyk jest wiceszefem PO i członkiem zarz...</td>\n",
       "      <td>tvn</td>\n",
       "      <td>us</td>\n",
       "      <td>discovery</td>\n",
       "    </tr>\n",
       "    <tr>\n",
       "      <th>636</th>\n",
       "      <td>Pierwszy papież na Cyprze</td>\n",
       "      <td>Papież Benedykt XVI wylądował po południu na p...</td>\n",
       "      <td>Główne cele 16. zagranicznej podróży papieża t...</td>\n",
       "      <td>tvn</td>\n",
       "      <td>us</td>\n",
       "      <td>discovery</td>\n",
       "    </tr>\n",
       "  </tbody>\n",
       "</table>\n",
       "</div>"
      ],
      "text/plain": [
       "                                                 title  \\\n",
       "597  \"Nie ma zgody na takie metody\". Awantura na ob...   \n",
       "406               Do Rosji trafiło mięso sprzed 36 lat   \n",
       "155                           \"Szanowny Panie Gistapo\"   \n",
       "756  Grabarczyk zrezygnował z członkostwa w komitec...   \n",
       "636                          Pierwszy papież na Cyprze   \n",
       "\n",
       "                                                 short  \\\n",
       "597  \"ORMO, ZOMO, cenzura\", \"Nie ma zgody na takie ...   \n",
       "406  Nie tylko do Polski trafiało stare, klikudzies...   \n",
       "155  Program \"Czarno na białym\" TVN24 pokazał donos...   \n",
       "756  Cezary Grabarczyk złożył rezygnację z członkos...   \n",
       "636  Papież Benedykt XVI wylądował po południu na p...   \n",
       "\n",
       "                                                  long website country  \\\n",
       "597                                       Autor: TVN24     tvn      us   \n",
       "406  Jak poinformował portal internetowy GZT.ru, mi...     tvn      us   \n",
       "155  \"Szanowna Władzo! Proszę przeprowadzić rewizje...     tvn      us   \n",
       "756  Grabarczyk jest wiceszefem PO i członkiem zarz...     tvn      us   \n",
       "636  Główne cele 16. zagranicznej podróży papieża t...     tvn      us   \n",
       "\n",
       "         brand  \n",
       "597  discovery  \n",
       "406  discovery  \n",
       "155  discovery  \n",
       "756  discovery  \n",
       "636  discovery  "
      ]
     },
     "execution_count": 25,
     "metadata": {},
     "output_type": "execute_result"
    }
   ],
   "source": [
    "sputnik_articles.sample(5).head()"
   ]
  },
  {
   "cell_type": "code",
   "execution_count": null,
   "metadata": {},
   "outputs": [],
   "source": []
  },
  {
   "cell_type": "code",
   "execution_count": null,
   "metadata": {},
   "outputs": [],
   "source": []
  },
  {
   "cell_type": "code",
   "execution_count": null,
   "metadata": {},
   "outputs": [],
   "source": []
  },
  {
   "cell_type": "code",
   "execution_count": null,
   "metadata": {},
   "outputs": [],
   "source": []
  },
  {
   "cell_type": "markdown",
   "metadata": {
    "heading_collapsed": true
   },
   "source": [
    "## Concentrate data"
   ]
  },
  {
   "cell_type": "code",
   "execution_count": 26,
   "metadata": {
    "hidden": true
   },
   "outputs": [],
   "source": [
    "df = pd.concat([\n",
    "    wyborcza_articles,\n",
    "    gazeta_articles,\n",
    "    fakt_articles,\n",
    "    onet_articles,\n",
    "    newsweek_articles,\n",
    "    tvn_articles\n",
    "], axis = 0, sort = False)"
   ]
  },
  {
   "cell_type": "code",
   "execution_count": 27,
   "metadata": {
    "hidden": true
   },
   "outputs": [
    {
     "data": {
      "text/html": [
       "<div>\n",
       "<style scoped>\n",
       "    .dataframe tbody tr th:only-of-type {\n",
       "        vertical-align: middle;\n",
       "    }\n",
       "\n",
       "    .dataframe tbody tr th {\n",
       "        vertical-align: top;\n",
       "    }\n",
       "\n",
       "    .dataframe thead th {\n",
       "        text-align: right;\n",
       "    }\n",
       "</style>\n",
       "<table border=\"1\" class=\"dataframe\">\n",
       "  <thead>\n",
       "    <tr style=\"text-align: right;\">\n",
       "      <th></th>\n",
       "      <th>title</th>\n",
       "      <th>short</th>\n",
       "      <th>long</th>\n",
       "      <th>website</th>\n",
       "      <th>brand</th>\n",
       "      <th>country</th>\n",
       "    </tr>\n",
       "  </thead>\n",
       "  <tbody>\n",
       "    <tr>\n",
       "      <th>291</th>\n",
       "      <td>Jedyny \"krytyk\" Putina w Dumie: Działania Rosj...</td>\n",
       "      <td>- Obecne działania naszej Dumy mogą sprowokowa...</td>\n",
       "      <td>W czwartek 20 marca Duma przyjęła wcześniejszą...</td>\n",
       "      <td>tvn</td>\n",
       "      <td>discovery</td>\n",
       "      <td>us</td>\n",
       "    </tr>\n",
       "    <tr>\n",
       "      <th>82</th>\n",
       "      <td>Leszczyński Akwawit ma nowego właściciela</td>\n",
       "      <td>Leszczyńskie przedsiębiorstwo Akwawit należy j...</td>\n",
       "      <td>Przedsiębiorstwo Przemysłu Fermentacyjnego Akw...</td>\n",
       "      <td>wyborcza</td>\n",
       "      <td>agora</td>\n",
       "      <td>pl</td>\n",
       "    </tr>\n",
       "    <tr>\n",
       "      <th>477</th>\n",
       "      <td>Słynna bielska wytwórnia walczy z piractwem. U...</td>\n",
       "      <td>Studio Filmów Rysunkowych uruchomiło własny ka...</td>\n",
       "      <td>Studio Filmów Rysunkowych to jedna z najsłynni...</td>\n",
       "      <td>wyborcza</td>\n",
       "      <td>agora</td>\n",
       "      <td>pl</td>\n",
       "    </tr>\n",
       "  </tbody>\n",
       "</table>\n",
       "</div>"
      ],
      "text/plain": [
       "                                                 title  \\\n",
       "291  Jedyny \"krytyk\" Putina w Dumie: Działania Rosj...   \n",
       "82           Leszczyński Akwawit ma nowego właściciela   \n",
       "477  Słynna bielska wytwórnia walczy z piractwem. U...   \n",
       "\n",
       "                                                 short  \\\n",
       "291  - Obecne działania naszej Dumy mogą sprowokowa...   \n",
       "82   Leszczyńskie przedsiębiorstwo Akwawit należy j...   \n",
       "477  Studio Filmów Rysunkowych uruchomiło własny ka...   \n",
       "\n",
       "                                                  long   website      brand  \\\n",
       "291  W czwartek 20 marca Duma przyjęła wcześniejszą...       tvn  discovery   \n",
       "82   Przedsiębiorstwo Przemysłu Fermentacyjnego Akw...  wyborcza      agora   \n",
       "477  Studio Filmów Rysunkowych to jedna z najsłynni...  wyborcza      agora   \n",
       "\n",
       "    country  \n",
       "291      us  \n",
       "82       pl  \n",
       "477      pl  "
      ]
     },
     "execution_count": 27,
     "metadata": {},
     "output_type": "execute_result"
    }
   ],
   "source": [
    "df.sample(3).head(3)"
   ]
  },
  {
   "cell_type": "markdown",
   "metadata": {
    "heading_collapsed": true
   },
   "source": [
    "## Data check"
   ]
  },
  {
   "cell_type": "code",
   "execution_count": 28,
   "metadata": {
    "hidden": true
   },
   "outputs": [
    {
     "data": {
      "text/plain": [
       "array([['Kaczyński o dzieciach, które są \"przedmiotem eksperymentów\"',\n",
       "        'Sobota to dzień obfitujący w polityczne wydarzenia. Partie nie próżnują na chwilę przed wyborami do PE. Swoje konwencje zaplanowały PiS, KE i Wiosna Biedronia. Jarosław Kaczyński mówił o \"seksualizowaniu dzieci od kołyski\" i ataku na Kościół. - Żaden pedofil nie schowa się w żadnej kurii ani partii. Wybaczcie emocje, ale sam jestem ojcem - grzmiał z kolei Grzegorz Schetyna. Wszystkie wystąpienia liderów, także Roberta Biedronia, pośrednio nawiązywały do dokumentu Tomasza Sekielskiego o pedofilii w polskim Kościele, który dziś ma swoją premierę w internecie.',\n",
       "        ' O 10 wystartowały konwencje PiS w Bydgoszczy i KE w Płocku, a o 11 - Wiosny w Poznaniu. Prezes PiS Jarosław Kaczyński mówił o obronie prawa rodziców do wychowania dzieci. - By nie były seksualizowane niemal od kołyski. Żeby nie wprowadzano tych programów wychowawczych, które będą degenerować. By istniało w Polsce prawo do tego, by istniała normalna rodzina. To też jest dziś zagrożone. By pary homoseksualne nie mogły też eksperymentować z dziećmi, tzn. ich adoptować. Chodzi o to, by dzieci nie były przedmiotem eksperymentów, które są w interesie bardzo niewielkiej mniejszości - mówił Kaczyński. Prezes PiS Jarosław Kaczyński mówił także o obronie polskiej złotówki, która ma dziś rzekomo być zagrożona. - Ona nam umożliwia wzrost, ona w razie kryzysów, a one w gospodarce są nieuniknione, nas chroni. Ona umożliwia to, że już prawie od 30 lat idziemy do przodu. Ta złotówka jest dzisiaj zagrożona. Nasi konkurenci wyraźnie powiedzieli, że będą dążyli do wprowadzenia w Polsce euro. Jakie były skutki euro dla krajów południowej Europy - wszyscy wiemy. Przykładem modelowym jest Grecja. Jeśli przeprowadzić poważniejszą analizę, to na euro zyskują dwa państwa - Niemcy i Holandia - dowodził. - Trzecia sprawa to obrona 500 plus, obniżonego wieku emerytalnego, tańszych leków dla osób w starszym wieku, krótko mówiąc - polityki społecznej PiS. Mówiąc najkrócej, to obrona tego, by w Polsce była przywracana sprawiedliwość - podkreślił prezes PiS. Prezes PiS mówił również o konieczności ochrony \"naszych wartości, wszystkiego, co stanowi o naszej tradycji, o polskości\". Według Kaczyńskiego, to wszystko jest dziś atakowane. - Spójrzmy na atak na Kościół, przed tym trzeba się obronić, Polska musi pozostać Polską a Polacy - Polakami - mówił. Schetyna: Żaden pedofil nie schowa się ani w kurii, ani w żadnej partii Schetyna wyjawił, że jego ugrupowanie przygotowało radykalny program walki z pedofilią, który w szczegółach przedstawi jutro w Szczecinie. Zaznaczył, że \"walka z pedofilią to nie jest walka z Kościołem katolickim. zarzucił władzy, że nie rozlicza wpływowych pedofilów, bo nie jest to jej na rękę. - Dzieci nie głosują. Są słabe, bezbronne i zdane na pomoc dorosłym. Ale absolutnie chcę to wyraźnie powiedzieć. Hańbą dla każdego państwa i polityka jest przymykanie oka na ich krzywdę. Jeżeli dziś władza kalkuluje, że oprawca, pedofil jest wpływowy, może pomóc w wyborach i dlatego trzeba zostawić go w spokoju, to okrywa hańbą nie tylko siebie i urząd, który sprawuje, ale też tych, którzy na nich głosują. Chcę bardzo wyraźnie powiedzieć: tu nie może być żadnej kalkulacji. Jeżeli ktoś krzywdzi dzieci, to ma iść do więzienia. Koniec i kropka - mówił. Zapowiedział również, że KE uzyska w nowym budżecie UE \"dodatkowe 100 mld zł\". - Ruszymy z trzema programami: europejska ochrona zdrowia, europejskie płace i coś co dla równości w Polsce ma znaczenie podstawowe: narodowy program rozwoju wsi - poinformował polityk. - Chcę zwrócić się do polskich rolników, którzy już wiedzą, rozmawialiśmy o tym, że w przyszłym budżecie unijnym wynegocjowanym przez PiS ma być o 15 mld zł mniej na polską wieś. Takie są smutne fakty. To jest odpowiedzialność i nieudolność rządu PiS - ocenił Schetyna. Jak podkreślał, przykładów na narastające nierówności w Polsce jest wiele: między wsią, a miastem, między zamożnymi, a tymi, którym brakuje pieniędzy, są też nierówności między regionami. - Państwo musi te nierówności niwelować. Jednym z najważniejszych zadań jest wyrównanie życia na wsi i w mieście. A zadanie najpilniejsze, to ochrona zdrowia - bo tu chodzi o życie - mówił Schetyna. Biedroń w trakcie swojego wystąpienia pytał zebranych, czy kobietom w Polsce żyje się dobrze i czy mają równe prawa. Jak odpowiedział, Polska nie jest obecnie takim krajem. Lider Wiosny tłumaczył, że „najbardziej widać to gdy porówna się dwie grupy”. - Jedna jest olbrzymia, bo jest większością, a mówi głosem mniejszości i tak też jest dzisiaj traktowana. Nie ma gwarancji swoich podstawowych praw, a te prawa często są ograniczone i ograniczone prawa często nawet w swej formule ograniczonej nie są respektowane. Druga grupa jest malutka, ale żyje jej się wspaniale. Zdołała bowiem podporządkować sobie niemal wszystkich polityków i trzęsie dzisiaj całym krajem. Dostaje sowite dopłaty od państwa, płaci śmiesznie niskie podatki, jeździ limuzynami, najczęściej od bezdomnych, buduje sobie pałacyki. Stoi – faktycznie ponad prawem. Przestępstwa, za które inni idą do więzienia, ta grupa może dokonywać zupełnie bezkarnie – mówił. - Ta pierwsza grupa to oczywiście kobiety. W Polsce jest aż 19 mln Polek, które wciąż, w kraju w centrum Europy w 2019 roku, nie mają gwarancji równych praw. Ta druga grupa to polscy księża - 30 tys. mężczyzn oczywiście, którzy trzęsą całą Polską – dodał. Dokument o pedofilii w polskim Kościele katolickim \"Tylko nie mów nikomu\" będzie można zobaczyć na You Tube na kanale Tomasza Sekielskiego o 14.30. Film powstał dzięki datkom z publicznej zbiórki, dlatego będzie go można oglądać bez opłat i bez reklam. (Źródło: PAP)',\n",
       "        'fakt', 'ringier', 'de/ch']], dtype=object)"
      ]
     },
     "execution_count": 28,
     "metadata": {},
     "output_type": "execute_result"
    }
   ],
   "source": [
    "df.sample(1).values"
   ]
  },
  {
   "cell_type": "code",
   "execution_count": 29,
   "metadata": {
    "hidden": true
   },
   "outputs": [],
   "source": [
    "df['long'] = df['long'].str.replace('\\n\\n', ' ').str.replace('\\n', ' ')"
   ]
  },
  {
   "cell_type": "markdown",
   "metadata": {},
   "source": [
    "## Data summary"
   ]
  },
  {
   "cell_type": "code",
   "execution_count": 30,
   "metadata": {},
   "outputs": [
    {
     "data": {
      "text/plain": [
       "<matplotlib.axes._subplots.AxesSubplot at 0x7fab12dbde10>"
      ]
     },
     "execution_count": 30,
     "metadata": {},
     "output_type": "execute_result"
    },
    {
     "data": {
      "image/png": "[encoded data removed]",
      "text/plain": [
       "<Figure size 432x288 with 1 Axes>"
      ]
     },
     "metadata": {
      "needs_background": "light"
     },
     "output_type": "display_data"
    }
   ],
   "source": [
    "df\\\n",
    "    [['website', 'title']]\\\n",
    "    .groupby('website')\\\n",
    "    .count()\\\n",
    "    .plot(kind = 'bar')"
   ]
  },
  {
   "cell_type": "code",
   "execution_count": 31,
   "metadata": {},
   "outputs": [
    {
     "data": {
      "text/plain": [
       "<matplotlib.axes._subplots.AxesSubplot at 0x7fab131bca20>"
      ]
     },
     "execution_count": 31,
     "metadata": {},
     "output_type": "execute_result"
    },
    {
     "data": {
      "image/png": "[encoded data removed]",
      "text/plain": [
       "<Figure size 432x288 with 1 Axes>"
      ]
     },
     "metadata": {
      "needs_background": "light"
     },
     "output_type": "display_data"
    }
   ],
   "source": [
    "df\\\n",
    "    [['brand', 'title']]\\\n",
    "    .groupby('brand')\\\n",
    "    .count()\\\n",
    "    .plot(kind = 'bar', title = 'Ilość artykułów dla danych domów mediowych')"
   ]
  },
  {
   "cell_type": "markdown",
   "metadata": {},
   "source": [
    "# Write"
   ]
  },
  {
   "cell_type": "code",
   "execution_count": 31,
   "metadata": {},
   "outputs": [
    {
     "data": {
      "text/plain": [
       "108933"
      ]
     },
     "execution_count": 31,
     "metadata": {},
     "output_type": "execute_result"
    }
   ],
   "source": [
    "len(df)"
   ]
  },
  {
   "cell_type": "code",
   "execution_count": 35,
   "metadata": {},
   "outputs": [],
   "source": [
    "for i, tmp_df in enumerate(np.array_split(df, 10)):\n",
    "    tmp_df.to_csv('data/concatenated/'+str(i), index = False)"
   ]
  },
  {
   "cell_type": "code",
   "execution_count": null,
   "metadata": {},
   "outputs": [],
   "source": []
  }
 ],
 "metadata": {
  "kernelspec": {
   "display_name": "Python 3",
   "language": "python",
   "name": "python3"
  },
  "language_info": {
   "codemirror_mode": {
    "name": "ipython",
    "version": 3
   },
   "file_extension": ".py",
   "mimetype": "text/x-python",
   "name": "python",
   "nbconvert_exporter": "python",
   "pygments_lexer": "ipython3",
   "version": "3.6.9"
  },
  "toc": {
   "base_numbering": 1,
   "nav_menu": {},
   "number_sections": true,
   "sideBar": true,
   "skip_h1_title": false,
   "title_cell": "Table of Contents",
   "title_sidebar": "Contents",
   "toc_cell": false,
   "toc_position": {},
   "toc_section_display": true,
   "toc_window_display": false
  }
 },
 "nbformat": 4,
 "nbformat_minor": 2
}
