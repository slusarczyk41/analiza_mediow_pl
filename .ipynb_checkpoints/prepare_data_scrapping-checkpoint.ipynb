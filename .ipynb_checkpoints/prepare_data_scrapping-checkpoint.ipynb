{
 "cells": [
  {
   "cell_type": "code",
   "execution_count": 2,
   "metadata": {},
   "outputs": [],
   "source": [
    "import requests\n",
    "from selenium.webdriver import Chrome\n",
    "from selenium.webdriver.chrome.options import Options\n",
    "from selenium.common.exceptions import ElementNotInteractableException\n",
    "from os import makedirs, listdir\n",
    "from os.path import exists\n",
    "from bs4 import BeautifulSoup\n",
    "import csv\n",
    "from time import sleep\n",
    "# import pandas as pd"
   ]
  },
  {
   "cell_type": "code",
   "execution_count": 2,
   "metadata": {},
   "outputs": [],
   "source": [
    "driver = Chrome()"
   ]
  },
  {
   "cell_type": "markdown",
   "metadata": {},
   "source": [
    "# Gazeta Wyborcza i Gazeta.pl"
   ]
  },
  {
   "cell_type": "code",
   "execution_count": 2,
   "metadata": {},
   "outputs": [],
   "source": [
    "keyword = 'duda'"
   ]
  },
  {
   "cell_type": "markdown",
   "metadata": {
    "heading_collapsed": true
   },
   "source": [
    "## Get urls"
   ]
  },
  {
   "cell_type": "code",
   "execution_count": 229,
   "metadata": {
    "hidden": true
   },
   "outputs": [],
   "source": [
    "url_dir = 'data/urls/wyborcza_gazeta/'"
   ]
  },
  {
   "cell_type": "code",
   "execution_count": 69,
   "metadata": {
    "hidden": true
   },
   "outputs": [],
   "source": [
    "urls = []"
   ]
  },
  {
   "cell_type": "code",
   "execution_count": null,
   "metadata": {
    "hidden": true
   },
   "outputs": [],
   "source": [
    "for i in range(1, 10001):\n",
    "    txt_html = requests\\\n",
    "        .get(\"http://szukaj.gazeta.pl/wyszukaj/artykul?&query=\"+keyword+\"&sortMode=SCORE&pageNumber=\"+str(i))\\\n",
    "        .text\n",
    "    soup = BeautifulSoup(txt_html)\n",
    "    \n",
    "    elements = soup.find_all('section', 'elem')\n",
    "    if len(elements) != 0:\n",
    "        for elem in elements:\n",
    "            a = elem.header.h3.a\n",
    "            if a:\n",
    "                urls.append(a['href'])\n",
    "    else:\n",
    "        break"
   ]
  },
  {
   "cell_type": "code",
   "execution_count": 188,
   "metadata": {
    "hidden": true
   },
   "outputs": [],
   "source": [
    "urls = list(set(urls))"
   ]
  },
  {
   "cell_type": "code",
   "execution_count": 200,
   "metadata": {
    "hidden": true
   },
   "outputs": [
    {
     "data": {
      "text/plain": [
       "10250"
      ]
     },
     "execution_count": 200,
     "metadata": {},
     "output_type": "execute_result"
    }
   ],
   "source": [
    "len(urls)"
   ]
  },
  {
   "cell_type": "code",
   "execution_count": 273,
   "metadata": {
    "hidden": true
   },
   "outputs": [],
   "source": [
    "def make_dir(desired_dir):\n",
    "    if not exists(desired_dir):\n",
    "        makedirs(desired_dir)"
   ]
  },
  {
   "cell_type": "code",
   "execution_count": 274,
   "metadata": {
    "hidden": true
   },
   "outputs": [],
   "source": [
    "make_dir(url_dir)"
   ]
  },
  {
   "cell_type": "code",
   "execution_count": 242,
   "metadata": {
    "hidden": true
   },
   "outputs": [],
   "source": [
    "with open(url_dir+keyword, 'a') as f:\n",
    "    f.write('\\n'.join(urls))"
   ]
  },
  {
   "cell_type": "code",
   "execution_count": null,
   "metadata": {
    "hidden": true
   },
   "outputs": [],
   "source": []
  },
  {
   "cell_type": "code",
   "execution_count": null,
   "metadata": {
    "hidden": true
   },
   "outputs": [],
   "source": []
  },
  {
   "cell_type": "code",
   "execution_count": null,
   "metadata": {
    "hidden": true
   },
   "outputs": [],
   "source": [
    "# nohup python -u ./cmd.py > cmd.log &"
   ]
  },
  {
   "cell_type": "code",
   "execution_count": 10,
   "metadata": {
    "hidden": true
   },
   "outputs": [
    {
     "data": {
      "text/plain": [
       "73.9"
      ]
     },
     "execution_count": 10,
     "metadata": {},
     "output_type": "execute_result"
    }
   ],
   "source": [
    "739/10"
   ]
  },
  {
   "cell_type": "code",
   "execution_count": 3,
   "metadata": {
    "hidden": true
   },
   "outputs": [],
   "source": [
    "keyword = 'prezydent'"
   ]
  },
  {
   "cell_type": "code",
   "execution_count": 19,
   "metadata": {
    "hidden": true
   },
   "outputs": [],
   "source": [
    "txt_html = requests\\\n",
    "    .get(\"http://szukaj.gazeta.pl/wyszukaj/artykul?&query=\"+keyword+\"&sortMode=SCORE&pageNumber=74\")\\\n",
    "    .text\n",
    "soup = BeautifulSoup(txt_html)"
   ]
  },
  {
   "cell_type": "code",
   "execution_count": 20,
   "metadata": {
    "hidden": true
   },
   "outputs": [
    {
     "data": {
      "text/plain": [
       "11"
      ]
     },
     "execution_count": 20,
     "metadata": {},
     "output_type": "execute_result"
    }
   ],
   "source": [
    "len(soup.find_all('section', 'elem'))"
   ]
  },
  {
   "cell_type": "code",
   "execution_count": 21,
   "metadata": {
    "hidden": true
   },
   "outputs": [
    {
     "data": {
      "text/plain": [
       "<header>\n",
       "\t\t\t\t\t356 727 wyników w czasie 0,005 s\n",
       "\t\t\t\t</header>"
      ]
     },
     "execution_count": 21,
     "metadata": {},
     "output_type": "execute_result"
    }
   ],
   "source": [
    "soup.find('article', 'results-index').header"
   ]
  },
  {
   "cell_type": "code",
   "execution_count": null,
   "metadata": {
    "hidden": true
   },
   "outputs": [],
   "source": []
  },
  {
   "cell_type": "code",
   "execution_count": null,
   "metadata": {
    "hidden": true
   },
   "outputs": [],
   "source": [
    "for i in range(1, 10001):\n",
    "    \n",
    "    \n",
    "    elements = soup.find_all('section', 'elem')\n",
    "    if len(elements) != 0:\n",
    "        for elem in elements:\n",
    "            a = elem.header.h3.a\n",
    "            if a:\n",
    "                urls.append(a['href'])\n",
    "    else:\n",
    "        break"
   ]
  },
  {
   "cell_type": "markdown",
   "metadata": {},
   "source": [
    "## Get articles"
   ]
  },
  {
   "cell_type": "code",
   "execution_count": 12,
   "metadata": {},
   "outputs": [],
   "source": [
    "driver.get(\"http://szukaj.gazeta.pl/wyszukaj/artykul?query=duda&dxx=126213\")\n",
    "sleep(5)\n",
    "try:\n",
    "    driver\\\n",
    "        .find_element_by_xpath('//*[@id=\"rodoNotificationWrapper\"]/div[2]/div/div[3]/button')\\\n",
    "        .click()\n",
    "except:\n",
    "    pass"
   ]
  },
  {
   "cell_type": "code",
   "execution_count": 230,
   "metadata": {},
   "outputs": [],
   "source": [
    "with open(url_dir+keyword, 'r') as f:\n",
    "    urls = f.read().split('\\n')"
   ]
  },
  {
   "cell_type": "code",
   "execution_count": 288,
   "metadata": {},
   "outputs": [],
   "source": [
    "def get_data(url):\n",
    "    if 'wyborcza.pl' in url:\n",
    "        title = driver.find_element_by_class_name('art-title').text\n",
    "        lead = driver.find_element_by_class_name('article-lead').text\n",
    "        try:\n",
    "            content = driver.find_element_by_id('artykul').text\n",
    "        except:\n",
    "            content = driver.find_element_by_class_name('art_content').text\n",
    "        img_desc =  \"-@@@-\".join([x.text for x in driver.find_elements_by_class_name('article-image-desc')])\n",
    "        comments = \"-@@@-\".join([x.text for x in driver.find_elements_by_class_name('cBody') if x.text != ''])\n",
    "        return title, lead, content, img_desc, comments\n",
    "    elif 'gazeta.pl' in url:\n",
    "        title = driver.find_element_by_id('article_title').text\n",
    "        lead = driver.find_element_by_id('gazeta_article_lead').text\n",
    "        content = driver.find_element_by_class_name('art_content').text\n",
    "        img_desc =  \"-@@@-\".join([x.text for x in driver.find_elements_by_class_name('desc')])\n",
    "        comments = \"-@@@-\".join([x.find_elements_by_tag_name('p')[3].text for x in driver.find_elements_by_class_name('comment-body') if x.text != ''])\n",
    "        return title, lead, content, img_desc, comments"
   ]
  },
  {
   "cell_type": "code",
   "execution_count": null,
   "metadata": {},
   "outputs": [],
   "source": []
  },
  {
   "cell_type": "code",
   "execution_count": 8,
   "metadata": {},
   "outputs": [],
   "source": [
    "def get_data(url):\n",
    "    if 'wyborcza.pl' in url:\n",
    "        try:\n",
    "            title = driver.find_element_by_xpath('//*[@id=\"art-header\"]/div[2]/h1').text\n",
    "        except:\n",
    "            try:\n",
    "                title = driver.find_element_by_class_name('art-title').text\n",
    "            except:\n",
    "                try:\n",
    "                    title = driver.find_element_by_xpath('/html/body/div[5]/div[1]/div/header/div[2]').text\n",
    "                except:\n",
    "                    try:\n",
    "                        title = driver.find_element_by_xpath('/html/body/div[4]/div[1]/div/header/div[2]/h1').text\n",
    "                    except:\n",
    "                        try:\n",
    "                            title = driver.find_element_by_xpath('/html/body/main/div[1]/div/header/div[2]/h1').text\n",
    "                        except:\n",
    "                            try:\n",
    "                                title = driver.find_element_by_xpath('/html/body/div[5]/div[1]/div/header/div[2]/h1').text\n",
    "                            except:\n",
    "                                try:\n",
    "                                    title = driver.find_element_by_xpath('/html/body/div[4]/div[1]/div/header/div[2]').text\n",
    "                                except:\n",
    "                                    title = None\n",
    "        try:\n",
    "            lead = driver.find_element_by_class_name('article-lead').text\n",
    "        except:\n",
    "            try:\n",
    "                lead = driver.find_element_by_xpath('//*[@id=\"pagetype_art\"]/div[4]/div[2]/section/article/section').text\n",
    "            except:\n",
    "                lead = None\n",
    "        try:\n",
    "            content = driver.find_element_by_id('artykul').text\n",
    "        except:\n",
    "            try:\n",
    "                content = driver.find_element_by_class_name('art_content').text\n",
    "            except:\n",
    "                try:\n",
    "                    content = driver.find_element_by_xpath('//*[@id=\"artykul\"]').text\n",
    "                except:\n",
    "                    try:\n",
    "                        content = driver.find_element_by_xpath('//*[@id=\"pagetype_art\"]/main/div[2]/section/div/article/section[2]').text\n",
    "                    except:\n",
    "                        content = driver.find_element_by_xpath('//*[@id=\"pagetype_art\"]/main/div/section/div[1]/article/section[2]').text\n",
    "        img_desc =  \"-@@@-\".join([x.text for x in driver.find_elements_by_class_name('article-image-desc')])\n",
    "        comments = \"-@@@-\".join([x.text for x in driver.find_elements_by_class_name('cBody') if x.text != ''])\n",
    "        return [title, lead, content, img_desc, comments]\n",
    "    \n",
    "    elif 'gazeta.pl' in url:\n",
    "        try:\n",
    "            title = driver.find_element_by_xpath('//*[@id=\"article_title\"]').text\n",
    "        except:\n",
    "            title = driver.find_element_by_xpath('//*[@id=\"holder_101\"]').text\n",
    "        try:\n",
    "            lead = driver.find_element_by_id('gazeta_article_lead').text\n",
    "        except:\n",
    "            try:\n",
    "                lead = driver.find_element_by_xpath('//*[@id=\"gazeta_article_lead\"]').text\n",
    "            except:\n",
    "                lead = None\n",
    "        try:\n",
    "            content = driver.find_element_by_id('artykul').text\n",
    "        except:\n",
    "            content = driver.find_element_by_class_name('art_content').text\n",
    "        img_desc =  \"-@@@-\".join([x.text for x in driver.find_elements_by_class_name('desc')])\n",
    "        comments = \"-@@@-\".join([x.find_elements_by_tag_name('p')[3].text for x in driver.find_elements_by_class_name('comment-body') if x.text != ''])\n",
    "        return [title, lead, content, img_desc, comments]"
   ]
  },
  {
   "cell_type": "code",
   "execution_count": 4,
   "metadata": {},
   "outputs": [
    {
     "name": "stdout",
     "output_type": "stream",
     "text": [
      "952769\n",
      "712056\n"
     ]
    }
   ],
   "source": [
    "# prepare urls\n",
    "url_dir = 'data/wyborcza_gazeta/urls/'\n",
    "with open('keywords', 'r') as f:\n",
    "    keywords = f.read().split('\\n')\n",
    "\n",
    "all_urls = []\n",
    "for collected_url_file in listdir(url_dir):\n",
    "    if 'ipynb' not in collected_url_file:\n",
    "        with open(url_dir+collected_url_file, 'r') as f:\n",
    "            tmp_urls = f.read().split('\\n')\n",
    "        for tmp_url in tmp_urls:\n",
    "            all_urls.append(tmp_url)\n",
    "all_urls = list(set(all_urls))\n",
    "print(len(all_urls))\n",
    "all_urls = [x for x in all_urls if x != '']\n",
    "all_urls = [x for x in all_urls if 'gazeta.pl' in x or 'wyborcza.pl' in x]\n",
    "print(len(all_urls))"
   ]
  },
  {
   "cell_type": "code",
   "execution_count": 14,
   "metadata": {},
   "outputs": [
    {
     "ename": "NoSuchElementException",
     "evalue": "Message: no such element: Unable to locate element: {\"method\":\"css selector\",\"selector\":\"[id=\"wH_login_form\"]\"}\n  (Session info: chrome=79.0.3945.117)\n",
     "output_type": "error",
     "traceback": [
      "\u001b[0;31m---------------------------------------------------------------------------\u001b[0m",
      "\u001b[0;31mNoSuchElementException\u001b[0m                    Traceback (most recent call last)",
      "\u001b[0;32m<ipython-input-14-fed4132b07df>\u001b[0m in \u001b[0;36m<module>\u001b[0;34m\u001b[0m\n\u001b[1;32m      6\u001b[0m \u001b[0;32mexcept\u001b[0m\u001b[0;34m:\u001b[0m\u001b[0;34m\u001b[0m\u001b[0;34m\u001b[0m\u001b[0m\n\u001b[1;32m      7\u001b[0m     \u001b[0;32mpass\u001b[0m\u001b[0;34m\u001b[0m\u001b[0;34m\u001b[0m\u001b[0m\n\u001b[0;32m----> 8\u001b[0;31m \u001b[0mdriver\u001b[0m\u001b[0;34m.\u001b[0m\u001b[0mfind_element_by_id\u001b[0m\u001b[0;34m(\u001b[0m\u001b[0;34m'wH_login_form'\u001b[0m\u001b[0;34m)\u001b[0m\u001b[0;34m.\u001b[0m\u001b[0msubmit\u001b[0m\u001b[0;34m(\u001b[0m\u001b[0;34m)\u001b[0m\u001b[0;34m\u001b[0m\u001b[0;34m\u001b[0m\u001b[0m\n\u001b[0m\u001b[1;32m      9\u001b[0m \u001b[0;34m\u001b[0m\u001b[0m\n\u001b[1;32m     10\u001b[0m \u001b[0mdriver\u001b[0m\u001b[0;34m.\u001b[0m\u001b[0mfind_element_by_id\u001b[0m\u001b[0;34m(\u001b[0m\u001b[0;34m'wyborczaEmail'\u001b[0m\u001b[0;34m)\u001b[0m\u001b[0;34m.\u001b[0m\u001b[0msend_keys\u001b[0m\u001b[0;34m(\u001b[0m\u001b[0;34m'slusarczyk1@wp.pl'\u001b[0m\u001b[0;34m)\u001b[0m\u001b[0;34m\u001b[0m\u001b[0;34m\u001b[0m\u001b[0m\n",
      "\u001b[0;32m~/anaconda3/envs/py36/lib/python3.6/site-packages/selenium/webdriver/remote/webdriver.py\u001b[0m in \u001b[0;36mfind_element_by_id\u001b[0;34m(self, id_)\u001b[0m\n\u001b[1;32m    358\u001b[0m             \u001b[0melement\u001b[0m \u001b[0;34m=\u001b[0m \u001b[0mdriver\u001b[0m\u001b[0;34m.\u001b[0m\u001b[0mfind_element_by_id\u001b[0m\u001b[0;34m(\u001b[0m\u001b[0;34m'foo'\u001b[0m\u001b[0;34m)\u001b[0m\u001b[0;34m\u001b[0m\u001b[0;34m\u001b[0m\u001b[0m\n\u001b[1;32m    359\u001b[0m         \"\"\"\n\u001b[0;32m--> 360\u001b[0;31m         \u001b[0;32mreturn\u001b[0m \u001b[0mself\u001b[0m\u001b[0;34m.\u001b[0m\u001b[0mfind_element\u001b[0m\u001b[0;34m(\u001b[0m\u001b[0mby\u001b[0m\u001b[0;34m=\u001b[0m\u001b[0mBy\u001b[0m\u001b[0;34m.\u001b[0m\u001b[0mID\u001b[0m\u001b[0;34m,\u001b[0m \u001b[0mvalue\u001b[0m\u001b[0;34m=\u001b[0m\u001b[0mid_\u001b[0m\u001b[0;34m)\u001b[0m\u001b[0;34m\u001b[0m\u001b[0;34m\u001b[0m\u001b[0m\n\u001b[0m\u001b[1;32m    361\u001b[0m \u001b[0;34m\u001b[0m\u001b[0m\n\u001b[1;32m    362\u001b[0m     \u001b[0;32mdef\u001b[0m \u001b[0mfind_elements_by_id\u001b[0m\u001b[0;34m(\u001b[0m\u001b[0mself\u001b[0m\u001b[0;34m,\u001b[0m \u001b[0mid_\u001b[0m\u001b[0;34m)\u001b[0m\u001b[0;34m:\u001b[0m\u001b[0;34m\u001b[0m\u001b[0;34m\u001b[0m\u001b[0m\n",
      "\u001b[0;32m~/anaconda3/envs/py36/lib/python3.6/site-packages/selenium/webdriver/remote/webdriver.py\u001b[0m in \u001b[0;36mfind_element\u001b[0;34m(self, by, value)\u001b[0m\n\u001b[1;32m    976\u001b[0m         return self.execute(Command.FIND_ELEMENT, {\n\u001b[1;32m    977\u001b[0m             \u001b[0;34m'using'\u001b[0m\u001b[0;34m:\u001b[0m \u001b[0mby\u001b[0m\u001b[0;34m,\u001b[0m\u001b[0;34m\u001b[0m\u001b[0;34m\u001b[0m\u001b[0m\n\u001b[0;32m--> 978\u001b[0;31m             'value': value})['value']\n\u001b[0m\u001b[1;32m    979\u001b[0m \u001b[0;34m\u001b[0m\u001b[0m\n\u001b[1;32m    980\u001b[0m     \u001b[0;32mdef\u001b[0m \u001b[0mfind_elements\u001b[0m\u001b[0;34m(\u001b[0m\u001b[0mself\u001b[0m\u001b[0;34m,\u001b[0m \u001b[0mby\u001b[0m\u001b[0;34m=\u001b[0m\u001b[0mBy\u001b[0m\u001b[0;34m.\u001b[0m\u001b[0mID\u001b[0m\u001b[0;34m,\u001b[0m \u001b[0mvalue\u001b[0m\u001b[0;34m=\u001b[0m\u001b[0;32mNone\u001b[0m\u001b[0;34m)\u001b[0m\u001b[0;34m:\u001b[0m\u001b[0;34m\u001b[0m\u001b[0;34m\u001b[0m\u001b[0m\n",
      "\u001b[0;32m~/anaconda3/envs/py36/lib/python3.6/site-packages/selenium/webdriver/remote/webdriver.py\u001b[0m in \u001b[0;36mexecute\u001b[0;34m(self, driver_command, params)\u001b[0m\n\u001b[1;32m    319\u001b[0m         \u001b[0mresponse\u001b[0m \u001b[0;34m=\u001b[0m \u001b[0mself\u001b[0m\u001b[0;34m.\u001b[0m\u001b[0mcommand_executor\u001b[0m\u001b[0;34m.\u001b[0m\u001b[0mexecute\u001b[0m\u001b[0;34m(\u001b[0m\u001b[0mdriver_command\u001b[0m\u001b[0;34m,\u001b[0m \u001b[0mparams\u001b[0m\u001b[0;34m)\u001b[0m\u001b[0;34m\u001b[0m\u001b[0;34m\u001b[0m\u001b[0m\n\u001b[1;32m    320\u001b[0m         \u001b[0;32mif\u001b[0m \u001b[0mresponse\u001b[0m\u001b[0;34m:\u001b[0m\u001b[0;34m\u001b[0m\u001b[0;34m\u001b[0m\u001b[0m\n\u001b[0;32m--> 321\u001b[0;31m             \u001b[0mself\u001b[0m\u001b[0;34m.\u001b[0m\u001b[0merror_handler\u001b[0m\u001b[0;34m.\u001b[0m\u001b[0mcheck_response\u001b[0m\u001b[0;34m(\u001b[0m\u001b[0mresponse\u001b[0m\u001b[0;34m)\u001b[0m\u001b[0;34m\u001b[0m\u001b[0;34m\u001b[0m\u001b[0m\n\u001b[0m\u001b[1;32m    322\u001b[0m             response['value'] = self._unwrap_value(\n\u001b[1;32m    323\u001b[0m                 response.get('value', None))\n",
      "\u001b[0;32m~/anaconda3/envs/py36/lib/python3.6/site-packages/selenium/webdriver/remote/errorhandler.py\u001b[0m in \u001b[0;36mcheck_response\u001b[0;34m(self, response)\u001b[0m\n\u001b[1;32m    240\u001b[0m                 \u001b[0malert_text\u001b[0m \u001b[0;34m=\u001b[0m \u001b[0mvalue\u001b[0m\u001b[0;34m[\u001b[0m\u001b[0;34m'alert'\u001b[0m\u001b[0;34m]\u001b[0m\u001b[0;34m.\u001b[0m\u001b[0mget\u001b[0m\u001b[0;34m(\u001b[0m\u001b[0;34m'text'\u001b[0m\u001b[0;34m)\u001b[0m\u001b[0;34m\u001b[0m\u001b[0;34m\u001b[0m\u001b[0m\n\u001b[1;32m    241\u001b[0m             \u001b[0;32mraise\u001b[0m \u001b[0mexception_class\u001b[0m\u001b[0;34m(\u001b[0m\u001b[0mmessage\u001b[0m\u001b[0;34m,\u001b[0m \u001b[0mscreen\u001b[0m\u001b[0;34m,\u001b[0m \u001b[0mstacktrace\u001b[0m\u001b[0;34m,\u001b[0m \u001b[0malert_text\u001b[0m\u001b[0;34m)\u001b[0m\u001b[0;34m\u001b[0m\u001b[0;34m\u001b[0m\u001b[0m\n\u001b[0;32m--> 242\u001b[0;31m         \u001b[0;32mraise\u001b[0m \u001b[0mexception_class\u001b[0m\u001b[0;34m(\u001b[0m\u001b[0mmessage\u001b[0m\u001b[0;34m,\u001b[0m \u001b[0mscreen\u001b[0m\u001b[0;34m,\u001b[0m \u001b[0mstacktrace\u001b[0m\u001b[0;34m)\u001b[0m\u001b[0;34m\u001b[0m\u001b[0;34m\u001b[0m\u001b[0m\n\u001b[0m\u001b[1;32m    243\u001b[0m \u001b[0;34m\u001b[0m\u001b[0m\n\u001b[1;32m    244\u001b[0m     \u001b[0;32mdef\u001b[0m \u001b[0m_value_or_default\u001b[0m\u001b[0;34m(\u001b[0m\u001b[0mself\u001b[0m\u001b[0;34m,\u001b[0m \u001b[0mobj\u001b[0m\u001b[0;34m,\u001b[0m \u001b[0mkey\u001b[0m\u001b[0;34m,\u001b[0m \u001b[0mdefault\u001b[0m\u001b[0;34m)\u001b[0m\u001b[0;34m:\u001b[0m\u001b[0;34m\u001b[0m\u001b[0;34m\u001b[0m\u001b[0m\n",
      "\u001b[0;31mNoSuchElementException\u001b[0m: Message: no such element: Unable to locate element: {\"method\":\"css selector\",\"selector\":\"[id=\"wH_login_form\"]\"}\n  (Session info: chrome=79.0.3945.117)\n"
     ]
    }
   ],
   "source": [
    "driver.get(\"https://wyborcza.pl/0,0.html\")\n",
    "try:\n",
    "    driver\\\n",
    "        .find_element_by_xpath('//*[@id=\"rodoNotificationWrapper\"]/div[2]/div/div[3]/button')\\\n",
    "        .click()\n",
    "except:\n",
    "    pass\n",
    "driver.find_element_by_id('wH_login_form').submit()\n",
    "\n",
    "driver.find_element_by_id('wyborczaEmail').send_keys('slusarczyk1@wp.pl')\n",
    "driver.find_element_by_id('wyborczaPassword').send_keys('Sraniejebanko1')\n",
    "driver.find_element_by_xpath('/html/body/section/section[1]/form/div[4]/button').click()\n",
    "sleep(1)"
   ]
  },
  {
   "cell_type": "code",
   "execution_count": 16,
   "metadata": {},
   "outputs": [
    {
     "name": "stdout",
     "output_type": "stream",
     "text": [
      "Message: no such element: Unable to locate element: {\"method\":\"xpath\",\"selector\":\"//*[@id=\"pagetype_art\"]/main/div/section/div[1]/article/section[2]\"}\n",
      "  (Session info: chrome=79.0.3945.117)\n",
      "\n",
      "https://opole.wyborcza.pl/opole/56,35086,19802783,11-pieknych-studentek-kto-zostanie-miss-uniwersytetu-zdjecia.html\n",
      "----\n"
     ]
    }
   ],
   "source": [
    "# get article content\n",
    "bad_urls = []\n",
    "wyborcza_content = []\n",
    "gazeta_content = []\n",
    "i = 102\n",
    "error_counter = 0\n",
    "for n, article_url in enumerate(all_urls[112013:]):\n",
    "    # getpage\n",
    "    try:\n",
    "        driver.get(article_url)\n",
    "        if 'gazeta.pl' in driver.current_url:\n",
    "            try:\n",
    "                gazeta_content.append([article_url] + get_data(driver.current_url))\n",
    "            except:\n",
    "                sleep(2)\n",
    "                gazeta_content.append([article_url] + get_data(driver.current_url))\n",
    "        elif 'wyborcza.pl' in driver.current_url:\n",
    "            try:\n",
    "                wyborcza_content.append([article_url] + get_data(driver.current_url))\n",
    "            except:\n",
    "                sleep(2)\n",
    "                wyborcza_content.append([article_url] + get_data(driver.current_url))\n",
    "    except Exception as e:\n",
    "        error_counter = error_counter + 1\n",
    "        print(e)\n",
    "        print(article_url)\n",
    "        print('----')\n",
    "        break\n",
    "        try:\n",
    "            driver.close()\n",
    "        except:\n",
    "            pass\n",
    "        try:\n",
    "            driver = Chrome(options = opt)\n",
    "        except:\n",
    "            pass\n",
    "        bad_urls.append(article_url)\n",
    "        if error_counter > 1200:\n",
    "            break\n"
   ]
  },
  {
   "cell_type": "code",
   "execution_count": 12,
   "metadata": {},
   "outputs": [
    {
     "data": {
      "text/plain": [
       "'W mijającym właśnie roku szkolnym zmian w systemie edukacji i programach nauczania nie brakowało. W wyniku reformy oświaty o wcześniejszym obowiązku szkolnym we wrześniu 2015 roku do klas pierwszych poszły zarówno dzieci siedmioletnie, jak i sześcioletnie. W Lublinie naukę w podstawówkach rozpoczęło w półtora rocznika (wiele sześciolatków dostało odroczenia z poradni pedagogiczno-psychologicznych). W 195 klasach pierwszych uczyło się więc ponad cztery tysiące dzieci.'"
      ]
     },
     "execution_count": 12,
     "metadata": {},
     "output_type": "execute_result"
    }
   ],
   "source": [
    "driver.find_element_by_id('artykul').text"
   ]
  },
  {
   "cell_type": "code",
   "execution_count": null,
   "metadata": {},
   "outputs": [],
   "source": []
  },
  {
   "cell_type": "code",
   "execution_count": null,
   "metadata": {},
   "outputs": [],
   "source": []
  },
  {
   "cell_type": "code",
   "execution_count": null,
   "metadata": {},
   "outputs": [],
   "source": []
  },
  {
   "cell_type": "code",
   "execution_count": null,
   "metadata": {},
   "outputs": [],
   "source": []
  },
  {
   "cell_type": "code",
   "execution_count": 13,
   "metadata": {},
   "outputs": [],
   "source": [
    "test = 'https://wyborcza.pl/1,155290,17928296,Duda___zwiazkowcy___katastrofa_gornictwa.html'"
   ]
  },
  {
   "cell_type": "code",
   "execution_count": 14,
   "metadata": {},
   "outputs": [],
   "source": [
    "driver.get(test)\n",
    "# get_data(test)"
   ]
  },
  {
   "cell_type": "code",
   "execution_count": null,
   "metadata": {},
   "outputs": [],
   "source": []
  },
  {
   "cell_type": "code",
   "execution_count": 247,
   "metadata": {},
   "outputs": [],
   "source": [
    "bad_urls = []\n",
    "wyborcza_content = []\n",
    "gazeta_content = []\n",
    "\n",
    "for n, article_url in enumerate(urls):\n",
    "    if 'wyborcza.pl' in article_url or 'gazeta.plt' in article_url:\n",
    "        driver.get(article_url)\n",
    "        try:\n",
    "            if 'wyborcza.pl' in article_url:\n",
    "                wyborcza_content.append(get_data(article_url))\n",
    "            else:\n",
    "                gazeta_content.append(get_data(article_url))\n",
    "        except:\n",
    "            bad_urls.append(article_url)"
   ]
  },
  {
   "cell_type": "code",
   "execution_count": 271,
   "metadata": {},
   "outputs": [],
   "source": [
    "articles_dir = 'data/articles/wyborcza/'\n",
    "if not exists(articles_dir):\n",
    "    makedirs(articles_dir)\n",
    "    \n",
    "with open(articles_dir+keyword, 'w') as f:\n",
    "    writer =  csv.writer(f)\n",
    "    writer.writerows(wyborcza_content)"
   ]
  },
  {
   "cell_type": "code",
   "execution_count": 256,
   "metadata": {},
   "outputs": [],
   "source": [
    "articles_dir = 'data/articles/gazeta/'\n",
    "if not exists(articles_dir):\n",
    "    makedirs(articles_dir)\n",
    "    \n",
    "with open(articles_dir+keyword, 'w') as f:\n",
    "    writer =  csv.writer(f)\n",
    "    writer.writerows(gazeta_content)"
   ]
  },
  {
   "cell_type": "code",
   "execution_count": 257,
   "metadata": {},
   "outputs": [],
   "source": [
    "with open(url_dir+keyword+'_errors', 'a') as f:\n",
    "    f.write('\\n'.join(bad_urls))"
   ]
  },
  {
   "cell_type": "markdown",
   "metadata": {
    "heading_collapsed": true
   },
   "source": [
    "### Final scripts"
   ]
  },
  {
   "cell_type": "code",
   "execution_count": 26,
   "metadata": {
    "hidden": true
   },
   "outputs": [],
   "source": [
    "driver = Chrome()"
   ]
  },
  {
   "cell_type": "code",
   "execution_count": 3,
   "metadata": {
    "hidden": true
   },
   "outputs": [],
   "source": [
    "opt = Options()\n",
    "opt.add_argument(\"--headless\")"
   ]
  },
  {
   "cell_type": "code",
   "execution_count": 4,
   "metadata": {
    "hidden": true
   },
   "outputs": [],
   "source": [
    "driver = Chrome(options = opt)"
   ]
  },
  {
   "cell_type": "code",
   "execution_count": 5,
   "metadata": {
    "hidden": true
   },
   "outputs": [],
   "source": [
    "with open('keywords', 'r') as f:\n",
    "    keywords = f.read().split('\\n')"
   ]
  },
  {
   "cell_type": "code",
   "execution_count": 7,
   "metadata": {
    "hidden": true
   },
   "outputs": [
    {
     "data": {
      "text/plain": [
       "['pis', 'platforma', 'duda', 'morawiecki', 'szydło']"
      ]
     },
     "execution_count": 7,
     "metadata": {},
     "output_type": "execute_result"
    }
   ],
   "source": [
    "keywords[:5]"
   ]
  },
  {
   "cell_type": "code",
   "execution_count": 8,
   "metadata": {
    "hidden": true
   },
   "outputs": [
    {
     "data": {
      "text/plain": [
       "37"
      ]
     },
     "execution_count": 8,
     "metadata": {},
     "output_type": "execute_result"
    }
   ],
   "source": [
    "len(keywords)"
   ]
  },
  {
   "cell_type": "markdown",
   "metadata": {
    "hidden": true
   },
   "source": [
    "#### Messy one"
   ]
  },
  {
   "cell_type": "code",
   "execution_count": 9,
   "metadata": {
    "hidden": true
   },
   "outputs": [],
   "source": [
    "import requests\n",
    "from selenium.webdriver import Chrome\n",
    "from selenium.webdriver.chrome.options import Options\n",
    "from os import makedirs\n",
    "from os.path import exists\n",
    "from bs4 import BeautifulSoup\n",
    "import csv\n",
    "from time import sleep\n",
    "\n",
    "opt = Options()\n",
    "opt.add_argument(\"--headless\")\n",
    "\n",
    "with open('keywords', 'r') as f:\n",
    "    keywords = f.read().split('\\n')\n",
    "\n",
    "\n",
    "\n",
    "def make_dir(desired_dir):\n",
    "    if not exists(desired_dir):\n",
    "        makedirs(desired_dir)\n",
    "        \n",
    "def get_data(url):\n",
    "    if 'wyborcza.pl' in url:\n",
    "        title = driver.find_element_by_class_name('art-title').text\n",
    "        lead = driver.find_element_by_class_name('article-lead').text\n",
    "        content = driver.find_element_by_class_name('art_content').text\n",
    "        img_desc =  \"-@@@-\".join([x.text for x in driver.find_elements_by_class_name('article-image-desc')])\n",
    "        comments = \"-@@@-\".join([x.text for x in driver.find_elements_by_class_name('cBody') if x.text != ''])\n",
    "        return title, lead, content, img_desc, comments\n",
    "    elif 'gazeta.pl' in url:\n",
    "        title = driver.find_element_by_id('article_title').text\n",
    "        lead = driver.find_element_by_id('gazeta_article_lead').text\n",
    "        content = driver.find_element_by_class_name('art_content').text\n",
    "        img_desc =  \"-@@@-\".join([x.text for x in driver.find_elements_by_class_name('desc')])\n",
    "        comments = \"-@@@-\".join([x.find_elements_by_tag_name('p')[3].text for x in driver.find_elements_by_class_name('comment-body') if x.text != ''])\n",
    "        return title, lead, content, img_desc, comments\n",
    "\n",
    "    \n",
    "for keyword in keywords:\n",
    "    # get urls for that keyword using requests, for both wyborcza.pl and gazeta.pl\n",
    "    url_dir = 'data/wyborcza_gazeta/urls/'\n",
    "    urls = []\n",
    "    \n",
    "    for i in range(1, 2):\n",
    "        txt_html = requests\\\n",
    "            .get(\"http://szukaj.gazeta.pl/wyszukaj/artykul?&query=\"+keyword+\"&sortMode=SCORE&pageNumber=\"+str(i))\\\n",
    "            .text\n",
    "        soup = BeautifulSoup(txt_html)\n",
    "\n",
    "        elements = soup.find_all('section', 'elem')\n",
    "        if len(elements) != 0:\n",
    "            for elem in elements:\n",
    "                a = elem.header.h3.a\n",
    "                if a:\n",
    "                    urls.append(a['href'])\n",
    "        else:\n",
    "            break\n",
    "        \n",
    "    # save scrapped urls\n",
    "    make_dir(url_dir)\n",
    "    urls = list(set(urls))\n",
    "    with open(url_dir+keyword, 'w') as f:\n",
    "        f.write('\\n'.join(urls))\n",
    "    \n",
    "    # initialize selenium\n",
    "    driver = Chrome(options = opt)\n",
    "    driver.get(\"https://wyborcza.pl/0,0.html\")\n",
    "    try:\n",
    "        driver\\\n",
    "            .find_element_by_xpath('//*[@id=\"rodoNotificationWrapper\"]/div[2]/div/div[3]/button')\\\n",
    "            .click()\n",
    "    except:\n",
    "        pass\n",
    "    driver.find_element_by_id('wH_login_form').submit()\n",
    "    sleep(3)\n",
    "\n",
    "    driver.find_element_by_id('wyborczaEmail').send_keys('slusarczyk1@wp.pl')\n",
    "    driver.find_element_by_id('wyborczaPassword').send_keys('Sraniejebanko1')\n",
    "    sleep(1)\n",
    "    driver.find_element_by_xpath('/html/body/section/section[1]/form/div[4]/button').click()\n",
    "    sleep(3)\n",
    "    \n",
    "    # read backed up urls \n",
    "    with open(url_dir+keyword, 'r') as f:\n",
    "        urls = f.read().split('\\n')\n",
    "    \n",
    "    # get article content\n",
    "    bad_urls = []\n",
    "    wyborcza_content = []\n",
    "    gazeta_content = []\n",
    "\n",
    "    for article_url in urls:\n",
    "        if 'wyborcza.pl' in article_url or 'gazeta.plt' in article_url:\n",
    "            driver.get(article_url)\n",
    "            try:\n",
    "                if 'wyborcza.pl' in article_url:\n",
    "                    wyborcza_content.append(get_data(article_url))\n",
    "                else:\n",
    "                    gazeta_content.append(get_data(article_url))\n",
    "            except:\n",
    "                bad_urls.append(article_url)\n",
    "    \n",
    "    # save articles content for separately for wyborcza and gazeta\n",
    "    articles_dir = 'data/wyborcza/articles/'\n",
    "    make_dir(articles_dir)\n",
    "\n",
    "    with open(articles_dir+keyword, 'w') as f:\n",
    "        writer =  csv.writer(f)\n",
    "        writer.writerows(wyborcza_content)\n",
    "        \n",
    "    articles_dir = 'data/gazeta/articles/'\n",
    "    make_dir(articles_dir)\n",
    "\n",
    "    with open(articles_dir+keyword, 'w') as f:\n",
    "        writer =  csv.writer(f)\n",
    "        writer.writerows(gazeta_content)\n",
    "        \n",
    "    # and save urls script had problem with\n",
    "    with open(url_dir+keyword+'_errors', 'a') as f:\n",
    "        f.write('\\n'.join(bad_urls))\n",
    "        \n",
    "driver.close()"
   ]
  },
  {
   "cell_type": "code",
   "execution_count": 25,
   "metadata": {
    "hidden": true
   },
   "outputs": [],
   "source": [
    "driver.close()"
   ]
  },
  {
   "cell_type": "markdown",
   "metadata": {
    "hidden": true
   },
   "source": [
    "#### For articles"
   ]
  },
  {
   "cell_type": "code",
   "execution_count": null,
   "metadata": {
    "hidden": true
   },
   "outputs": [],
   "source": [
    "import requests\n",
    "from selenium.webdriver import Chrome\n",
    "from selenium.webdriver.chrome.options import Options\n",
    "from os import makedirs, listdir\n",
    "from os.path import exists\n",
    "from bs4 import BeautifulSoup\n",
    "import csv\n",
    "from time import sleep\n",
    "\n",
    "\n",
    "# imp functions\n",
    "def make_dir(desired_dir):\n",
    "    if not exists(desired_dir):\n",
    "        makedirs(desired_dir)\n",
    "        \n",
    "def get_data(url):\n",
    "    if 'wyborcza.pl' in url:\n",
    "        try:\n",
    "            title = driver.find_element_by_xpath('//*[@id=\"art-header\"]/div[2]/h1').text\n",
    "        except:\n",
    "            try:\n",
    "                title = driver.find_element_by_class_name('art-title').text\n",
    "            except:\n",
    "                try:\n",
    "                    title = driver.find_element_by_xpath('/html/body/div[5]/div[1]/div/header/div[2]').text\n",
    "                except:\n",
    "                    try:\n",
    "                        title = driver.find_element_by_xpath('/html/body/div[4]/div[1]/div/header/div[2]/h1').text\n",
    "                    except:\n",
    "                        try:\n",
    "                            title = driver.find_element_by_xpath('/html/body/main/div[1]/div/header/div[2]/h1').text\n",
    "                        except:\n",
    "                            try:\n",
    "                                title = driver.find_element_by_xpath('/html/body/div[5]/div[1]/div/header/div[2]/h1').text\n",
    "                            except:\n",
    "                                try:\n",
    "                                    title = driver.find_element_by_xpath('/html/body/div[4]/div[1]/div/header/div[2]').text\n",
    "                                except:\n",
    "                                    title = None\n",
    "                    \n",
    "        lead = driver.find_element_by_class_name('article-lead').text\n",
    "        try:\n",
    "            content = driver.find_element_by_id('artykul').text\n",
    "        except:\n",
    "            content = driver.find_element_by_class_name('art_content').text\n",
    "        img_desc =  \"-@@@-\".join([x.text for x in driver.find_elements_by_class_name('article-image-desc')])\n",
    "        comments = \"-@@@-\".join([x.text for x in driver.find_elements_by_class_name('cBody') if x.text != ''])\n",
    "        return [title, lead, content, img_desc, comments]\n",
    "    elif 'gazeta.pl' in url:\n",
    "        title = driver.find_element_by_xpath('//*[@id=\"article_title\"]').text\n",
    "        lead = driver.find_element_by_id('gazeta_article_lead').text\n",
    "        try:\n",
    "            content = driver.find_element_by_id('artykul').text\n",
    "        except:\n",
    "            content = driver.find_element_by_class_name('art_content').text\n",
    "        img_desc =  \"-@@@-\".join([x.text for x in driver.find_elements_by_class_name('desc')])\n",
    "        comments = \"-@@@-\".join([x.find_elements_by_tag_name('p')[3].text for x in driver.find_elements_by_class_name('comment-body') if x.text != ''])\n",
    "        return [title, lead, content, img_desc, comments]\n",
    "\n",
    "\n",
    "# prepare urls\n",
    "url_dir = 'data/wyborcza_gazeta/urls/'\n",
    "with open('keywords', 'r') as f:\n",
    "    keywords = f.read().split('\\n')\n",
    "\n",
    "all_urls = []\n",
    "for collected_url_file in listdir(url_dir):\n",
    "    if 'ipynb' not in collected_url_file:\n",
    "        with open(url_dir+collected_url_file, 'r') as f:\n",
    "            tmp_urls = f.read().split('\\n')\n",
    "        for tmp_url in tmp_urls:\n",
    "            all_urls.append(tmp_url)\n",
    "all_urls = list(set(all_urls))\n",
    "print(len(all_urls))\n",
    "all_urls = [x for x in all_urls if x != '']\n",
    "all_urls = [x for x in all_urls if 'gazeta.pl' in x or 'wyborcza.pl' in x]\n",
    "print(len(all_urls))\n",
    "\n",
    "\n",
    "# initialize selenium\n",
    "opt = Options()\n",
    "opt.add_argument(\"--headless\")\n",
    "driver = Chrome(options = opt)\n",
    "# driver = Chrome()\n",
    "driver.get(\"https://wyborcza.pl/0,0.html\")\n",
    "try:\n",
    "    driver\\\n",
    "        .find_element_by_xpath('//*[@id=\"rodoNotificationWrapper\"]/div[2]/div/div[3]/button')\\\n",
    "        .click()\n",
    "except:\n",
    "    pass\n",
    "driver.find_element_by_id('wH_login_form').submit()\n",
    "\n",
    "driver.find_element_by_id('wyborczaEmail').send_keys('slusarczyk1@wp.pl')\n",
    "driver.find_element_by_id('wyborczaPassword').send_keys('Sraniejebanko1')\n",
    "driver.find_element_by_xpath('/html/body/section/section[1]/form/div[4]/button').click()\n",
    "sleep(1)\n",
    "\n",
    "\n",
    "# get article content\n",
    "bad_urls = []\n",
    "wyborcza_content = []\n",
    "gazeta_content = []\n",
    "i = 0\n",
    "for n, article_url in enumerate(all_urls[:300]):\n",
    "    # getpage\n",
    "    try:\n",
    "        driver.get(article_url)\n",
    "        if 'gazeta.pl' in article_url:\n",
    "            gazeta_content.append([article_url] + get_data(article_url))\n",
    "        elif 'wyborcza.pl' in article_url:\n",
    "            wyborcza_content.append([article_url] + get_data(article_url))\n",
    "        print(':)')\n",
    "        print(article_url)\n",
    "    except Exception as e:\n",
    "        print(e)\n",
    "        print(article_url)\n",
    "        bad_urls.append(article_url)\n",
    "    # every 100 pages save to new file good and bad ones\n",
    "    if n % 200 == 0:\n",
    "        i += 1\n",
    "        \n",
    "        articles_dir = 'data/gazeta/articles/'\n",
    "        make_dir(articles_dir)\n",
    "        with open(articles_dir + str(i), 'w') as f:\n",
    "            writer =  csv.writer(f)\n",
    "            writer.writerows(gazeta_content)\n",
    "            \n",
    "        articles_dir = 'data/wyborcza/articles/'\n",
    "        make_dir(articles_dir)\n",
    "        with open(articles_dir + str(i), 'w') as f:\n",
    "            writer =  csv.writer(f)\n",
    "            writer.writerows(wyborcza_content)\n",
    "    \n",
    "with open(url_dir+'errors', 'w') as f:\n",
    "    f.write('\\n'.join(bad_urls))\n",
    "    \n",
    "driver.close()"
   ]
  },
  {
   "cell_type": "code",
   "execution_count": null,
   "metadata": {
    "hidden": true
   },
   "outputs": [],
   "source": []
  },
  {
   "cell_type": "markdown",
   "metadata": {
    "heading_collapsed": true
   },
   "source": [
    "# Fakt"
   ]
  },
  {
   "cell_type": "code",
   "execution_count": null,
   "metadata": {
    "hidden": true
   },
   "outputs": [],
   "source": [
    "# get done keywords and ignore them\n",
    "# get downloaded urls, remove anti-bot captcha \n",
    "\n",
    "# for that keyword get url list\n",
    "# save the list\n",
    "# filter them (without captcha) using done urls\n",
    "\n",
    "# for that keyword get articles content\n",
    "# or save it to errors\n",
    "\n",
    "# save articles to one file\n",
    "\n",
    "\n",
    "# fakt\n",
    "#   urls/<keyword>\n",
    "#   articles/<keyword>\n",
    "#   done_urls\n",
    "#   errors_urls"
   ]
  },
  {
   "cell_type": "code",
   "execution_count": null,
   "metadata": {
    "hidden": true
   },
   "outputs": [],
   "source": [
    "# !!! The source of articles is fakt, so the main folder I save thing is fakt, but there are sometimes articles \n",
    "# from other newspaper (same holding), onet.pl"
   ]
  },
  {
   "cell_type": "code",
   "execution_count": null,
   "metadata": {
    "hidden": true
   },
   "outputs": [],
   "source": [
    "from selenium.webdriver import Chrome\n",
    "from selenium.webdriver.chrome.options import Options\n",
    "from selenium.common.exceptions import ElementNotInteractableException\n",
    "from os import makedirs, listdir\n",
    "import csv\n",
    "from time import sleep\n",
    "\n",
    "\n",
    "\n",
    "o = Options()\n",
    "o.add_argument('--headless')\n",
    "driver = Chrome(options = o)\n",
    "\n",
    "\n",
    "done_keywords = listdir('data/fakt/urls')\n",
    "with open('keywords_pl', 'r') as f:\n",
    "    keywords = f.read().split('\\n')\n",
    "keywords = [x for x in keywords if x not in done_keywords]\n",
    "    \n",
    "    \n",
    "driver.get('https://www.fakt.pl/szukaj?q=duda')\n",
    "try:\n",
    "    driver.find_element_by_xpath('//*[@id=\"Fakt\"]/div[3]/div[1]/div[2]/div/div[3]/button[2]').click()\n",
    "except:\n",
    "    pass\n",
    "\n",
    "\n",
    "for keyword in keywords:\n",
    "    driver.get('https://www.fakt.pl/szukaj?q='+keyword)\n",
    "    \n",
    "    err_count = 0\n",
    "    for i in range(250):\n",
    "        try:\n",
    "            driver.find_element_by_class_name('bottomarrow').click()\n",
    "        except ElementNotInteractableException:\n",
    "            sleep(1)\n",
    "            err_count = err_count + 1\n",
    "            continue\n",
    "        sleep(3)\n",
    "\n",
    "        if err_count > 20:\n",
    "            break\n",
    "            \n",
    "    result_elements = driver.find_element_by_class_name('searchResults')\\\n",
    "      .find_elements_by_tag_name('a')\n",
    "    result_links = [x.get_attribute('href') for x in result_elements if x]\n",
    "            \n",
    "    with open('data/fakt/urls/'+keyword, 'a') as f:\n",
    "        f.write('\\n'.join(result_links))\n",
    "        \n",
    "    with open('data/fakt/urls/'+keyword, 'r') as f:\n",
    "        article_urls = list(set(f.read().split('\\n')))\n",
    "    \n",
    "    not_handled_urls = []\n",
    "    error_urls = []\n",
    "    onet_content = []\n",
    "    fakt_content = []\n",
    "    \n",
    "    for article_url in article_urls:\n",
    "        driver.get(article_url)\n",
    "        if 'onet.pl' in article_url:\n",
    "            if len(driver.find_elements_by_xpath('//*[@id=\"mainPageBody0\"]/section/div/article/main/div/div/div/a')) == 1:\n",
    "                try:\n",
    "                    driver.find_element_by_xpath('//*[@id=\"mainPageBody0\"]/section/div/article/main/div/div/div/a').click()\n",
    "                    title = driver.find_element_by_class_name('detailTitle').text.strip()\n",
    "                    short = driver.find_element_by_class_name('hyphenate').text.strip()\n",
    "                    long = \" \".join([x.text for x in driver.find_elements_by_class_name('hyphenate') if len(x.find_elements_by_tag_name('a')) == 0])\n",
    "                    desc = \"-@@@-\".join([x.text for x in driver.find_elements_by_class_name('imgDesc')])\n",
    "                    comments = None\n",
    "                    onet_content.append([article_url, title, short, long, desc, comments])\n",
    "                except:\n",
    "                    error_urls.append(article_url)\n",
    "            else:\n",
    "                not_handled_urls.append(article_url)\n",
    "        elif 'fakt.pl' in article_url:\n",
    "            try:\n",
    "                title = driver.find_element_by_class_name('title').text.strip()\n",
    "                short = driver.find_element_by_class_name('hyphenate').text.strip()\n",
    "                long = \" \".join([x.text for x in driver.find_elements_by_class_name('hyphenate') if len(x.find_elements_by_tag_name('a')) == 0])\n",
    "                desc = \"-@@@-\".join([x.text for x in driver.find_elements_by_class_name('imgDesc')])\n",
    "                comments = None\n",
    "                fakt_content.append([article_url, title, short, long, desc, comments])\n",
    "            except:\n",
    "                error_urls.append(article_url)\n",
    "        else:\n",
    "            not_handled_urls.append(article_url)\n",
    "            \n",
    "    with open('data/fakt/articles/'+keyword, 'a') as f:\n",
    "        writer =  csv.writer(f)\n",
    "        writer.writerows(fakt_content)\n",
    "    with open('data/onet/articles/'+keyword, 'a') as f:\n",
    "        writer =  csv.writer(f)\n",
    "        writer.writerows(onet_content)\n",
    "        \n",
    "with open('data/fakt/error_urls', 'a') as f:\n",
    "    f.write('\\n'.join(error_urls))\n",
    "with open('data/fakt/not_handled_urls', 'a') as f:\n",
    "    f.write('\\n'.join(not_handled_urls))"
   ]
  },
  {
   "cell_type": "code",
   "execution_count": null,
   "metadata": {
    "hidden": true
   },
   "outputs": [],
   "source": []
  },
  {
   "cell_type": "code",
   "execution_count": null,
   "metadata": {
    "hidden": true
   },
   "outputs": [],
   "source": []
  },
  {
   "cell_type": "code",
   "execution_count": null,
   "metadata": {
    "hidden": true
   },
   "outputs": [],
   "source": []
  },
  {
   "cell_type": "code",
   "execution_count": null,
   "metadata": {
    "hidden": true
   },
   "outputs": [],
   "source": [
    "o = Options()\n",
    "o.add_argument('--headless')\n",
    "driver = Chrome(options = o)"
   ]
  },
  {
   "cell_type": "code",
   "execution_count": 68,
   "metadata": {
    "hidden": true
   },
   "outputs": [],
   "source": [
    "done_urls = listdir('data/fakt/urls')"
   ]
  },
  {
   "cell_type": "code",
   "execution_count": 121,
   "metadata": {
    "hidden": true
   },
   "outputs": [],
   "source": [
    "o = Options()\n",
    "o.add_argument('--headless')\n",
    "driver = Chrome(options = o)"
   ]
  },
  {
   "cell_type": "code",
   "execution_count": 128,
   "metadata": {
    "hidden": true
   },
   "outputs": [],
   "source": [
    "driver = Chrome()"
   ]
  },
  {
   "cell_type": "code",
   "execution_count": 129,
   "metadata": {
    "hidden": true
   },
   "outputs": [],
   "source": [
    "driver.get('https://www.fakt.pl/szukaj?q='+keyword)"
   ]
  },
  {
   "cell_type": "code",
   "execution_count": 124,
   "metadata": {
    "hidden": true
   },
   "outputs": [],
   "source": [
    "try:\n",
    "    driver.find_element_by_xpath('//*[@id=\"Fakt\"]/div[3]/div[1]/div[2]/div/div[3]/button[2]').click()\n",
    "except:\n",
    "    pass"
   ]
  },
  {
   "cell_type": "code",
   "execution_count": 125,
   "metadata": {
    "hidden": true
   },
   "outputs": [],
   "source": [
    "err_count = 0\n",
    "for i in range(300):\n",
    "    try:\n",
    "        driver.find_element_by_class_name('bottomarrow').click()\n",
    "    except ElementNotInteractableException:\n",
    "        sleep(1)\n",
    "        err_count = err_count + 1\n",
    "        continue\n",
    "    sleep(3)\n",
    "    \n",
    "    if err_count > 20:\n",
    "        break"
   ]
  },
  {
   "cell_type": "code",
   "execution_count": 126,
   "metadata": {
    "hidden": true
   },
   "outputs": [],
   "source": [
    "result_elements = driver.find_element_by_class_name('searchResults')\\\n",
    "      .find_elements_by_tag_name('a')\n",
    "result_links = [x.get_attribute('href') for x in result_elements if x]"
   ]
  },
  {
   "cell_type": "code",
   "execution_count": 3,
   "metadata": {
    "hidden": true
   },
   "outputs": [],
   "source": [
    "driver.get('https://www.fakt.pl/pieniadze/zakupy/wlochy-sklep-internetowy-oferuje-karnawalowe-stroje-uchodzcow-fronda-oburzona/ez6ze49#slajd-1')"
   ]
  },
  {
   "cell_type": "code",
   "execution_count": 7,
   "metadata": {
    "hidden": true
   },
   "outputs": [],
   "source": [
    "title = driver.find_element_by_class_name('title').text.strip()\n",
    "short = driver.find_element_by_class_name('leadDetail').text.strip()\n",
    "article_body = driver.find_element_by_class_name('articleBody')\n",
    "long = \" \".join([x.text for x in article_body.find_elements_by_class_name('hyphenate') if len(x.text.split(' ')) > 10])\n",
    "desc = \"-@@@-\".join([x.text for x in driver.find_elements_by_class_name('imgDesc')])\n",
    "comments = None"
   ]
  },
  {
   "cell_type": "code",
   "execution_count": 8,
   "metadata": {
    "hidden": true
   },
   "outputs": [
    {
     "data": {
      "text/plain": [
       "'https://www.fakt.pl/pieniadze/zakupy/wlochy-sklep-internetowy-oferuje-karnawalowe-stroje-uchodzcow-fronda-oburzona/ez6ze49?utm_source=_viasg_fakt&utm_medium=direct&utm_campaign=leo_automatic&srcc=ucs&utm_v=2'"
      ]
     },
     "execution_count": 8,
     "metadata": {},
     "output_type": "execute_result"
    }
   ],
   "source": [
    "driver.current_url"
   ]
  },
  {
   "cell_type": "code",
   "execution_count": 127,
   "metadata": {
    "hidden": true
   },
   "outputs": [
    {
     "ename": "KeyboardInterrupt",
     "evalue": "",
     "output_type": "error",
     "traceback": [
      "\u001b[0;31m---------------------------------------------------------------------------\u001b[0m",
      "\u001b[0;31mKeyboardInterrupt\u001b[0m                         Traceback (most recent call last)",
      "\u001b[0;32m<ipython-input-127-e0134159f91f>\u001b[0m in \u001b[0;36m<module>\u001b[0;34m\u001b[0m\n\u001b[1;32m      5\u001b[0m \u001b[0;34m\u001b[0m\u001b[0m\n\u001b[1;32m      6\u001b[0m \u001b[0;32mfor\u001b[0m \u001b[0marticle_url\u001b[0m \u001b[0;32min\u001b[0m \u001b[0mresult_links\u001b[0m\u001b[0;34m:\u001b[0m\u001b[0;34m\u001b[0m\u001b[0;34m\u001b[0m\u001b[0m\n\u001b[0;32m----> 7\u001b[0;31m     \u001b[0mdriver\u001b[0m\u001b[0;34m.\u001b[0m\u001b[0mget\u001b[0m\u001b[0;34m(\u001b[0m\u001b[0marticle_url\u001b[0m\u001b[0;34m)\u001b[0m\u001b[0;34m\u001b[0m\u001b[0;34m\u001b[0m\u001b[0m\n\u001b[0m\u001b[1;32m      8\u001b[0m     \u001b[0;32mif\u001b[0m \u001b[0;34m'onet.pl'\u001b[0m \u001b[0;32min\u001b[0m \u001b[0marticle_url\u001b[0m\u001b[0;34m:\u001b[0m\u001b[0;34m\u001b[0m\u001b[0;34m\u001b[0m\u001b[0m\n\u001b[1;32m      9\u001b[0m         \u001b[0;32mif\u001b[0m \u001b[0mlen\u001b[0m\u001b[0;34m(\u001b[0m\u001b[0mdriver\u001b[0m\u001b[0;34m.\u001b[0m\u001b[0mfind_elements_by_xpath\u001b[0m\u001b[0;34m(\u001b[0m\u001b[0;34m'//*[@id=\"mainPageBody0\"]/section/div/article/main/div/div/div/a'\u001b[0m\u001b[0;34m)\u001b[0m\u001b[0;34m)\u001b[0m \u001b[0;34m==\u001b[0m \u001b[0;36m1\u001b[0m\u001b[0;34m:\u001b[0m\u001b[0;34m\u001b[0m\u001b[0;34m\u001b[0m\u001b[0m\n",
      "\u001b[0;32m~/anaconda3/envs/py36/lib/python3.6/site-packages/selenium/webdriver/remote/webdriver.py\u001b[0m in \u001b[0;36mget\u001b[0;34m(self, url)\u001b[0m\n\u001b[1;32m    331\u001b[0m         \u001b[0mLoads\u001b[0m \u001b[0ma\u001b[0m \u001b[0mweb\u001b[0m \u001b[0mpage\u001b[0m \u001b[0;32min\u001b[0m \u001b[0mthe\u001b[0m \u001b[0mcurrent\u001b[0m \u001b[0mbrowser\u001b[0m \u001b[0msession\u001b[0m\u001b[0;34m.\u001b[0m\u001b[0;34m\u001b[0m\u001b[0;34m\u001b[0m\u001b[0m\n\u001b[1;32m    332\u001b[0m         \"\"\"\n\u001b[0;32m--> 333\u001b[0;31m         \u001b[0mself\u001b[0m\u001b[0;34m.\u001b[0m\u001b[0mexecute\u001b[0m\u001b[0;34m(\u001b[0m\u001b[0mCommand\u001b[0m\u001b[0;34m.\u001b[0m\u001b[0mGET\u001b[0m\u001b[0;34m,\u001b[0m \u001b[0;34m{\u001b[0m\u001b[0;34m'url'\u001b[0m\u001b[0;34m:\u001b[0m \u001b[0murl\u001b[0m\u001b[0;34m}\u001b[0m\u001b[0;34m)\u001b[0m\u001b[0;34m\u001b[0m\u001b[0;34m\u001b[0m\u001b[0m\n\u001b[0m\u001b[1;32m    334\u001b[0m \u001b[0;34m\u001b[0m\u001b[0m\n\u001b[1;32m    335\u001b[0m     \u001b[0;34m@\u001b[0m\u001b[0mproperty\u001b[0m\u001b[0;34m\u001b[0m\u001b[0;34m\u001b[0m\u001b[0m\n",
      "\u001b[0;32m~/anaconda3/envs/py36/lib/python3.6/site-packages/selenium/webdriver/remote/webdriver.py\u001b[0m in \u001b[0;36mexecute\u001b[0;34m(self, driver_command, params)\u001b[0m\n\u001b[1;32m    317\u001b[0m \u001b[0;34m\u001b[0m\u001b[0m\n\u001b[1;32m    318\u001b[0m         \u001b[0mparams\u001b[0m \u001b[0;34m=\u001b[0m \u001b[0mself\u001b[0m\u001b[0;34m.\u001b[0m\u001b[0m_wrap_value\u001b[0m\u001b[0;34m(\u001b[0m\u001b[0mparams\u001b[0m\u001b[0;34m)\u001b[0m\u001b[0;34m\u001b[0m\u001b[0;34m\u001b[0m\u001b[0m\n\u001b[0;32m--> 319\u001b[0;31m         \u001b[0mresponse\u001b[0m \u001b[0;34m=\u001b[0m \u001b[0mself\u001b[0m\u001b[0;34m.\u001b[0m\u001b[0mcommand_executor\u001b[0m\u001b[0;34m.\u001b[0m\u001b[0mexecute\u001b[0m\u001b[0;34m(\u001b[0m\u001b[0mdriver_command\u001b[0m\u001b[0;34m,\u001b[0m \u001b[0mparams\u001b[0m\u001b[0;34m)\u001b[0m\u001b[0;34m\u001b[0m\u001b[0;34m\u001b[0m\u001b[0m\n\u001b[0m\u001b[1;32m    320\u001b[0m         \u001b[0;32mif\u001b[0m \u001b[0mresponse\u001b[0m\u001b[0;34m:\u001b[0m\u001b[0;34m\u001b[0m\u001b[0;34m\u001b[0m\u001b[0m\n\u001b[1;32m    321\u001b[0m             \u001b[0mself\u001b[0m\u001b[0;34m.\u001b[0m\u001b[0merror_handler\u001b[0m\u001b[0;34m.\u001b[0m\u001b[0mcheck_response\u001b[0m\u001b[0;34m(\u001b[0m\u001b[0mresponse\u001b[0m\u001b[0;34m)\u001b[0m\u001b[0;34m\u001b[0m\u001b[0;34m\u001b[0m\u001b[0m\n",
      "\u001b[0;32m~/anaconda3/envs/py36/lib/python3.6/site-packages/selenium/webdriver/remote/remote_connection.py\u001b[0m in \u001b[0;36mexecute\u001b[0;34m(self, command, params)\u001b[0m\n\u001b[1;32m    372\u001b[0m         \u001b[0mdata\u001b[0m \u001b[0;34m=\u001b[0m \u001b[0mutils\u001b[0m\u001b[0;34m.\u001b[0m\u001b[0mdump_json\u001b[0m\u001b[0;34m(\u001b[0m\u001b[0mparams\u001b[0m\u001b[0;34m)\u001b[0m\u001b[0;34m\u001b[0m\u001b[0;34m\u001b[0m\u001b[0m\n\u001b[1;32m    373\u001b[0m         \u001b[0murl\u001b[0m \u001b[0;34m=\u001b[0m \u001b[0;34m'%s%s'\u001b[0m \u001b[0;34m%\u001b[0m \u001b[0;34m(\u001b[0m\u001b[0mself\u001b[0m\u001b[0;34m.\u001b[0m\u001b[0m_url\u001b[0m\u001b[0;34m,\u001b[0m \u001b[0mpath\u001b[0m\u001b[0;34m)\u001b[0m\u001b[0;34m\u001b[0m\u001b[0;34m\u001b[0m\u001b[0m\n\u001b[0;32m--> 374\u001b[0;31m         \u001b[0;32mreturn\u001b[0m \u001b[0mself\u001b[0m\u001b[0;34m.\u001b[0m\u001b[0m_request\u001b[0m\u001b[0;34m(\u001b[0m\u001b[0mcommand_info\u001b[0m\u001b[0;34m[\u001b[0m\u001b[0;36m0\u001b[0m\u001b[0;34m]\u001b[0m\u001b[0;34m,\u001b[0m \u001b[0murl\u001b[0m\u001b[0;34m,\u001b[0m \u001b[0mbody\u001b[0m\u001b[0;34m=\u001b[0m\u001b[0mdata\u001b[0m\u001b[0;34m)\u001b[0m\u001b[0;34m\u001b[0m\u001b[0;34m\u001b[0m\u001b[0m\n\u001b[0m\u001b[1;32m    375\u001b[0m \u001b[0;34m\u001b[0m\u001b[0m\n\u001b[1;32m    376\u001b[0m     \u001b[0;32mdef\u001b[0m \u001b[0m_request\u001b[0m\u001b[0;34m(\u001b[0m\u001b[0mself\u001b[0m\u001b[0;34m,\u001b[0m \u001b[0mmethod\u001b[0m\u001b[0;34m,\u001b[0m \u001b[0murl\u001b[0m\u001b[0;34m,\u001b[0m \u001b[0mbody\u001b[0m\u001b[0;34m=\u001b[0m\u001b[0;32mNone\u001b[0m\u001b[0;34m)\u001b[0m\u001b[0;34m:\u001b[0m\u001b[0;34m\u001b[0m\u001b[0;34m\u001b[0m\u001b[0m\n",
      "\u001b[0;32m~/anaconda3/envs/py36/lib/python3.6/site-packages/selenium/webdriver/remote/remote_connection.py\u001b[0m in \u001b[0;36m_request\u001b[0;34m(self, method, url, body)\u001b[0m\n\u001b[1;32m    395\u001b[0m \u001b[0;34m\u001b[0m\u001b[0m\n\u001b[1;32m    396\u001b[0m         \u001b[0;32mif\u001b[0m \u001b[0mself\u001b[0m\u001b[0;34m.\u001b[0m\u001b[0mkeep_alive\u001b[0m\u001b[0;34m:\u001b[0m\u001b[0;34m\u001b[0m\u001b[0;34m\u001b[0m\u001b[0m\n\u001b[0;32m--> 397\u001b[0;31m             \u001b[0mresp\u001b[0m \u001b[0;34m=\u001b[0m \u001b[0mself\u001b[0m\u001b[0;34m.\u001b[0m\u001b[0m_conn\u001b[0m\u001b[0;34m.\u001b[0m\u001b[0mrequest\u001b[0m\u001b[0;34m(\u001b[0m\u001b[0mmethod\u001b[0m\u001b[0;34m,\u001b[0m \u001b[0murl\u001b[0m\u001b[0;34m,\u001b[0m \u001b[0mbody\u001b[0m\u001b[0;34m=\u001b[0m\u001b[0mbody\u001b[0m\u001b[0;34m,\u001b[0m \u001b[0mheaders\u001b[0m\u001b[0;34m=\u001b[0m\u001b[0mheaders\u001b[0m\u001b[0;34m)\u001b[0m\u001b[0;34m\u001b[0m\u001b[0;34m\u001b[0m\u001b[0m\n\u001b[0m\u001b[1;32m    398\u001b[0m \u001b[0;34m\u001b[0m\u001b[0m\n\u001b[1;32m    399\u001b[0m             \u001b[0mstatuscode\u001b[0m \u001b[0;34m=\u001b[0m \u001b[0mresp\u001b[0m\u001b[0;34m.\u001b[0m\u001b[0mstatus\u001b[0m\u001b[0;34m\u001b[0m\u001b[0;34m\u001b[0m\u001b[0m\n",
      "\u001b[0;32m~/anaconda3/envs/py36/lib/python3.6/site-packages/urllib3/request.py\u001b[0m in \u001b[0;36mrequest\u001b[0;34m(self, method, url, fields, headers, **urlopen_kw)\u001b[0m\n\u001b[1;32m     78\u001b[0m         \u001b[0;32melse\u001b[0m\u001b[0;34m:\u001b[0m\u001b[0;34m\u001b[0m\u001b[0;34m\u001b[0m\u001b[0m\n\u001b[1;32m     79\u001b[0m             return self.request_encode_body(\n\u001b[0;32m---> 80\u001b[0;31m                 \u001b[0mmethod\u001b[0m\u001b[0;34m,\u001b[0m \u001b[0murl\u001b[0m\u001b[0;34m,\u001b[0m \u001b[0mfields\u001b[0m\u001b[0;34m=\u001b[0m\u001b[0mfields\u001b[0m\u001b[0;34m,\u001b[0m \u001b[0mheaders\u001b[0m\u001b[0;34m=\u001b[0m\u001b[0mheaders\u001b[0m\u001b[0;34m,\u001b[0m \u001b[0;34m**\u001b[0m\u001b[0murlopen_kw\u001b[0m\u001b[0;34m\u001b[0m\u001b[0;34m\u001b[0m\u001b[0m\n\u001b[0m\u001b[1;32m     81\u001b[0m             )\n\u001b[1;32m     82\u001b[0m \u001b[0;34m\u001b[0m\u001b[0m\n",
      "\u001b[0;32m~/anaconda3/envs/py36/lib/python3.6/site-packages/urllib3/request.py\u001b[0m in \u001b[0;36mrequest_encode_body\u001b[0;34m(self, method, url, fields, headers, encode_multipart, multipart_boundary, **urlopen_kw)\u001b[0m\n\u001b[1;32m    169\u001b[0m         \u001b[0mextra_kw\u001b[0m\u001b[0;34m.\u001b[0m\u001b[0mupdate\u001b[0m\u001b[0;34m(\u001b[0m\u001b[0murlopen_kw\u001b[0m\u001b[0;34m)\u001b[0m\u001b[0;34m\u001b[0m\u001b[0;34m\u001b[0m\u001b[0m\n\u001b[1;32m    170\u001b[0m \u001b[0;34m\u001b[0m\u001b[0m\n\u001b[0;32m--> 171\u001b[0;31m         \u001b[0;32mreturn\u001b[0m \u001b[0mself\u001b[0m\u001b[0;34m.\u001b[0m\u001b[0murlopen\u001b[0m\u001b[0;34m(\u001b[0m\u001b[0mmethod\u001b[0m\u001b[0;34m,\u001b[0m \u001b[0murl\u001b[0m\u001b[0;34m,\u001b[0m \u001b[0;34m**\u001b[0m\u001b[0mextra_kw\u001b[0m\u001b[0;34m)\u001b[0m\u001b[0;34m\u001b[0m\u001b[0;34m\u001b[0m\u001b[0m\n\u001b[0m",
      "\u001b[0;32m~/anaconda3/envs/py36/lib/python3.6/site-packages/urllib3/poolmanager.py\u001b[0m in \u001b[0;36murlopen\u001b[0;34m(self, method, url, redirect, **kw)\u001b[0m\n\u001b[1;32m    328\u001b[0m             \u001b[0mresponse\u001b[0m \u001b[0;34m=\u001b[0m \u001b[0mconn\u001b[0m\u001b[0;34m.\u001b[0m\u001b[0murlopen\u001b[0m\u001b[0;34m(\u001b[0m\u001b[0mmethod\u001b[0m\u001b[0;34m,\u001b[0m \u001b[0murl\u001b[0m\u001b[0;34m,\u001b[0m \u001b[0;34m**\u001b[0m\u001b[0mkw\u001b[0m\u001b[0;34m)\u001b[0m\u001b[0;34m\u001b[0m\u001b[0;34m\u001b[0m\u001b[0m\n\u001b[1;32m    329\u001b[0m         \u001b[0;32melse\u001b[0m\u001b[0;34m:\u001b[0m\u001b[0;34m\u001b[0m\u001b[0;34m\u001b[0m\u001b[0m\n\u001b[0;32m--> 330\u001b[0;31m             \u001b[0mresponse\u001b[0m \u001b[0;34m=\u001b[0m \u001b[0mconn\u001b[0m\u001b[0;34m.\u001b[0m\u001b[0murlopen\u001b[0m\u001b[0;34m(\u001b[0m\u001b[0mmethod\u001b[0m\u001b[0;34m,\u001b[0m \u001b[0mu\u001b[0m\u001b[0;34m.\u001b[0m\u001b[0mrequest_uri\u001b[0m\u001b[0;34m,\u001b[0m \u001b[0;34m**\u001b[0m\u001b[0mkw\u001b[0m\u001b[0;34m)\u001b[0m\u001b[0;34m\u001b[0m\u001b[0;34m\u001b[0m\u001b[0m\n\u001b[0m\u001b[1;32m    331\u001b[0m \u001b[0;34m\u001b[0m\u001b[0m\n\u001b[1;32m    332\u001b[0m         \u001b[0mredirect_location\u001b[0m \u001b[0;34m=\u001b[0m \u001b[0mredirect\u001b[0m \u001b[0;32mand\u001b[0m \u001b[0mresponse\u001b[0m\u001b[0;34m.\u001b[0m\u001b[0mget_redirect_location\u001b[0m\u001b[0;34m(\u001b[0m\u001b[0;34m)\u001b[0m\u001b[0;34m\u001b[0m\u001b[0;34m\u001b[0m\u001b[0m\n",
      "\u001b[0;32m~/anaconda3/envs/py36/lib/python3.6/site-packages/urllib3/connectionpool.py\u001b[0m in \u001b[0;36murlopen\u001b[0;34m(self, method, url, body, headers, retries, redirect, assert_same_host, timeout, pool_timeout, release_conn, chunked, body_pos, **response_kw)\u001b[0m\n\u001b[1;32m    670\u001b[0m                 \u001b[0mbody\u001b[0m\u001b[0;34m=\u001b[0m\u001b[0mbody\u001b[0m\u001b[0;34m,\u001b[0m\u001b[0;34m\u001b[0m\u001b[0;34m\u001b[0m\u001b[0m\n\u001b[1;32m    671\u001b[0m                 \u001b[0mheaders\u001b[0m\u001b[0;34m=\u001b[0m\u001b[0mheaders\u001b[0m\u001b[0;34m,\u001b[0m\u001b[0;34m\u001b[0m\u001b[0;34m\u001b[0m\u001b[0m\n\u001b[0;32m--> 672\u001b[0;31m                 \u001b[0mchunked\u001b[0m\u001b[0;34m=\u001b[0m\u001b[0mchunked\u001b[0m\u001b[0;34m,\u001b[0m\u001b[0;34m\u001b[0m\u001b[0;34m\u001b[0m\u001b[0m\n\u001b[0m\u001b[1;32m    673\u001b[0m             )\n\u001b[1;32m    674\u001b[0m \u001b[0;34m\u001b[0m\u001b[0m\n",
      "\u001b[0;32m~/anaconda3/envs/py36/lib/python3.6/site-packages/urllib3/connectionpool.py\u001b[0m in \u001b[0;36m_make_request\u001b[0;34m(self, conn, method, url, timeout, chunked, **httplib_request_kw)\u001b[0m\n\u001b[1;32m    419\u001b[0m                     \u001b[0;31m# Python 3 (including for exceptions like SystemExit).\u001b[0m\u001b[0;34m\u001b[0m\u001b[0;34m\u001b[0m\u001b[0;34m\u001b[0m\u001b[0m\n\u001b[1;32m    420\u001b[0m                     \u001b[0;31m# Otherwise it looks like a bug in the code.\u001b[0m\u001b[0;34m\u001b[0m\u001b[0;34m\u001b[0m\u001b[0;34m\u001b[0m\u001b[0m\n\u001b[0;32m--> 421\u001b[0;31m                     \u001b[0msix\u001b[0m\u001b[0;34m.\u001b[0m\u001b[0mraise_from\u001b[0m\u001b[0;34m(\u001b[0m\u001b[0me\u001b[0m\u001b[0;34m,\u001b[0m \u001b[0;32mNone\u001b[0m\u001b[0;34m)\u001b[0m\u001b[0;34m\u001b[0m\u001b[0;34m\u001b[0m\u001b[0m\n\u001b[0m\u001b[1;32m    422\u001b[0m         \u001b[0;32mexcept\u001b[0m \u001b[0;34m(\u001b[0m\u001b[0mSocketTimeout\u001b[0m\u001b[0;34m,\u001b[0m \u001b[0mBaseSSLError\u001b[0m\u001b[0;34m,\u001b[0m \u001b[0mSocketError\u001b[0m\u001b[0;34m)\u001b[0m \u001b[0;32mas\u001b[0m \u001b[0me\u001b[0m\u001b[0;34m:\u001b[0m\u001b[0;34m\u001b[0m\u001b[0;34m\u001b[0m\u001b[0m\n\u001b[1;32m    423\u001b[0m             \u001b[0mself\u001b[0m\u001b[0;34m.\u001b[0m\u001b[0m_raise_timeout\u001b[0m\u001b[0;34m(\u001b[0m\u001b[0merr\u001b[0m\u001b[0;34m=\u001b[0m\u001b[0me\u001b[0m\u001b[0;34m,\u001b[0m \u001b[0murl\u001b[0m\u001b[0;34m=\u001b[0m\u001b[0murl\u001b[0m\u001b[0;34m,\u001b[0m \u001b[0mtimeout_value\u001b[0m\u001b[0;34m=\u001b[0m\u001b[0mread_timeout\u001b[0m\u001b[0;34m)\u001b[0m\u001b[0;34m\u001b[0m\u001b[0;34m\u001b[0m\u001b[0m\n",
      "\u001b[0;32m~/anaconda3/envs/py36/lib/python3.6/site-packages/urllib3/packages/six.py\u001b[0m in \u001b[0;36mraise_from\u001b[0;34m(value, from_value)\u001b[0m\n",
      "\u001b[0;32m~/anaconda3/envs/py36/lib/python3.6/site-packages/urllib3/connectionpool.py\u001b[0m in \u001b[0;36m_make_request\u001b[0;34m(self, conn, method, url, timeout, chunked, **httplib_request_kw)\u001b[0m\n\u001b[1;32m    414\u001b[0m                 \u001b[0;31m# Python 3\u001b[0m\u001b[0;34m\u001b[0m\u001b[0;34m\u001b[0m\u001b[0;34m\u001b[0m\u001b[0m\n\u001b[1;32m    415\u001b[0m                 \u001b[0;32mtry\u001b[0m\u001b[0;34m:\u001b[0m\u001b[0;34m\u001b[0m\u001b[0;34m\u001b[0m\u001b[0m\n\u001b[0;32m--> 416\u001b[0;31m                     \u001b[0mhttplib_response\u001b[0m \u001b[0;34m=\u001b[0m \u001b[0mconn\u001b[0m\u001b[0;34m.\u001b[0m\u001b[0mgetresponse\u001b[0m\u001b[0;34m(\u001b[0m\u001b[0;34m)\u001b[0m\u001b[0;34m\u001b[0m\u001b[0;34m\u001b[0m\u001b[0m\n\u001b[0m\u001b[1;32m    417\u001b[0m                 \u001b[0;32mexcept\u001b[0m \u001b[0mBaseException\u001b[0m \u001b[0;32mas\u001b[0m \u001b[0me\u001b[0m\u001b[0;34m:\u001b[0m\u001b[0;34m\u001b[0m\u001b[0;34m\u001b[0m\u001b[0m\n\u001b[1;32m    418\u001b[0m                     \u001b[0;31m# Remove the TypeError from the exception chain in\u001b[0m\u001b[0;34m\u001b[0m\u001b[0;34m\u001b[0m\u001b[0;34m\u001b[0m\u001b[0m\n",
      "\u001b[0;32m~/anaconda3/envs/py36/lib/python3.6/http/client.py\u001b[0m in \u001b[0;36mgetresponse\u001b[0;34m(self)\u001b[0m\n\u001b[1;32m   1344\u001b[0m         \u001b[0;32mtry\u001b[0m\u001b[0;34m:\u001b[0m\u001b[0;34m\u001b[0m\u001b[0;34m\u001b[0m\u001b[0m\n\u001b[1;32m   1345\u001b[0m             \u001b[0;32mtry\u001b[0m\u001b[0;34m:\u001b[0m\u001b[0;34m\u001b[0m\u001b[0;34m\u001b[0m\u001b[0m\n\u001b[0;32m-> 1346\u001b[0;31m                 \u001b[0mresponse\u001b[0m\u001b[0;34m.\u001b[0m\u001b[0mbegin\u001b[0m\u001b[0;34m(\u001b[0m\u001b[0;34m)\u001b[0m\u001b[0;34m\u001b[0m\u001b[0;34m\u001b[0m\u001b[0m\n\u001b[0m\u001b[1;32m   1347\u001b[0m             \u001b[0;32mexcept\u001b[0m \u001b[0mConnectionError\u001b[0m\u001b[0;34m:\u001b[0m\u001b[0;34m\u001b[0m\u001b[0;34m\u001b[0m\u001b[0m\n\u001b[1;32m   1348\u001b[0m                 \u001b[0mself\u001b[0m\u001b[0;34m.\u001b[0m\u001b[0mclose\u001b[0m\u001b[0;34m(\u001b[0m\u001b[0;34m)\u001b[0m\u001b[0;34m\u001b[0m\u001b[0;34m\u001b[0m\u001b[0m\n",
      "\u001b[0;32m~/anaconda3/envs/py36/lib/python3.6/http/client.py\u001b[0m in \u001b[0;36mbegin\u001b[0;34m(self)\u001b[0m\n\u001b[1;32m    305\u001b[0m         \u001b[0;31m# read until we get a non-100 response\u001b[0m\u001b[0;34m\u001b[0m\u001b[0;34m\u001b[0m\u001b[0;34m\u001b[0m\u001b[0m\n\u001b[1;32m    306\u001b[0m         \u001b[0;32mwhile\u001b[0m \u001b[0;32mTrue\u001b[0m\u001b[0;34m:\u001b[0m\u001b[0;34m\u001b[0m\u001b[0;34m\u001b[0m\u001b[0m\n\u001b[0;32m--> 307\u001b[0;31m             \u001b[0mversion\u001b[0m\u001b[0;34m,\u001b[0m \u001b[0mstatus\u001b[0m\u001b[0;34m,\u001b[0m \u001b[0mreason\u001b[0m \u001b[0;34m=\u001b[0m \u001b[0mself\u001b[0m\u001b[0;34m.\u001b[0m\u001b[0m_read_status\u001b[0m\u001b[0;34m(\u001b[0m\u001b[0;34m)\u001b[0m\u001b[0;34m\u001b[0m\u001b[0;34m\u001b[0m\u001b[0m\n\u001b[0m\u001b[1;32m    308\u001b[0m             \u001b[0;32mif\u001b[0m \u001b[0mstatus\u001b[0m \u001b[0;34m!=\u001b[0m \u001b[0mCONTINUE\u001b[0m\u001b[0;34m:\u001b[0m\u001b[0;34m\u001b[0m\u001b[0;34m\u001b[0m\u001b[0m\n\u001b[1;32m    309\u001b[0m                 \u001b[0;32mbreak\u001b[0m\u001b[0;34m\u001b[0m\u001b[0;34m\u001b[0m\u001b[0m\n",
      "\u001b[0;32m~/anaconda3/envs/py36/lib/python3.6/http/client.py\u001b[0m in \u001b[0;36m_read_status\u001b[0;34m(self)\u001b[0m\n\u001b[1;32m    266\u001b[0m \u001b[0;34m\u001b[0m\u001b[0m\n\u001b[1;32m    267\u001b[0m     \u001b[0;32mdef\u001b[0m \u001b[0m_read_status\u001b[0m\u001b[0;34m(\u001b[0m\u001b[0mself\u001b[0m\u001b[0;34m)\u001b[0m\u001b[0;34m:\u001b[0m\u001b[0;34m\u001b[0m\u001b[0;34m\u001b[0m\u001b[0m\n\u001b[0;32m--> 268\u001b[0;31m         \u001b[0mline\u001b[0m \u001b[0;34m=\u001b[0m \u001b[0mstr\u001b[0m\u001b[0;34m(\u001b[0m\u001b[0mself\u001b[0m\u001b[0;34m.\u001b[0m\u001b[0mfp\u001b[0m\u001b[0;34m.\u001b[0m\u001b[0mreadline\u001b[0m\u001b[0;34m(\u001b[0m\u001b[0m_MAXLINE\u001b[0m \u001b[0;34m+\u001b[0m \u001b[0;36m1\u001b[0m\u001b[0;34m)\u001b[0m\u001b[0;34m,\u001b[0m \u001b[0;34m\"iso-8859-1\"\u001b[0m\u001b[0;34m)\u001b[0m\u001b[0;34m\u001b[0m\u001b[0;34m\u001b[0m\u001b[0m\n\u001b[0m\u001b[1;32m    269\u001b[0m         \u001b[0;32mif\u001b[0m \u001b[0mlen\u001b[0m\u001b[0;34m(\u001b[0m\u001b[0mline\u001b[0m\u001b[0;34m)\u001b[0m \u001b[0;34m>\u001b[0m \u001b[0m_MAXLINE\u001b[0m\u001b[0;34m:\u001b[0m\u001b[0;34m\u001b[0m\u001b[0;34m\u001b[0m\u001b[0m\n\u001b[1;32m    270\u001b[0m             \u001b[0;32mraise\u001b[0m \u001b[0mLineTooLong\u001b[0m\u001b[0;34m(\u001b[0m\u001b[0;34m\"status line\"\u001b[0m\u001b[0;34m)\u001b[0m\u001b[0;34m\u001b[0m\u001b[0;34m\u001b[0m\u001b[0m\n",
      "\u001b[0;32m~/anaconda3/envs/py36/lib/python3.6/socket.py\u001b[0m in \u001b[0;36mreadinto\u001b[0;34m(self, b)\u001b[0m\n\u001b[1;32m    584\u001b[0m         \u001b[0;32mwhile\u001b[0m \u001b[0;32mTrue\u001b[0m\u001b[0;34m:\u001b[0m\u001b[0;34m\u001b[0m\u001b[0;34m\u001b[0m\u001b[0m\n\u001b[1;32m    585\u001b[0m             \u001b[0;32mtry\u001b[0m\u001b[0;34m:\u001b[0m\u001b[0;34m\u001b[0m\u001b[0;34m\u001b[0m\u001b[0m\n\u001b[0;32m--> 586\u001b[0;31m                 \u001b[0;32mreturn\u001b[0m \u001b[0mself\u001b[0m\u001b[0;34m.\u001b[0m\u001b[0m_sock\u001b[0m\u001b[0;34m.\u001b[0m\u001b[0mrecv_into\u001b[0m\u001b[0;34m(\u001b[0m\u001b[0mb\u001b[0m\u001b[0;34m)\u001b[0m\u001b[0;34m\u001b[0m\u001b[0;34m\u001b[0m\u001b[0m\n\u001b[0m\u001b[1;32m    587\u001b[0m             \u001b[0;32mexcept\u001b[0m \u001b[0mtimeout\u001b[0m\u001b[0;34m:\u001b[0m\u001b[0;34m\u001b[0m\u001b[0;34m\u001b[0m\u001b[0m\n\u001b[1;32m    588\u001b[0m                 \u001b[0mself\u001b[0m\u001b[0;34m.\u001b[0m\u001b[0m_timeout_occurred\u001b[0m \u001b[0;34m=\u001b[0m \u001b[0;32mTrue\u001b[0m\u001b[0;34m\u001b[0m\u001b[0;34m\u001b[0m\u001b[0m\n",
      "\u001b[0;31mKeyboardInterrupt\u001b[0m: "
     ]
    }
   ],
   "source": [
    "not_handled_urls = []\n",
    "error_urls = []\n",
    "onet_content = []\n",
    "fakt_content = []\n",
    "\n",
    "for article_url in result_links:\n",
    "    driver.get(article_url)\n",
    "    if 'onet.pl' in article_url:\n",
    "        if len(driver.find_elements_by_xpath('//*[@id=\"mainPageBody0\"]/section/div/article/main/div/div/div/a')) == 1:\n",
    "            try:\n",
    "                driver.find_element_by_xpath('//*[@id=\"mainPageBody0\"]/section/div/article/main/div/div/div/a').click()\n",
    "                title = driver.find_element_by_class_name('detailTitle').text.strip()\n",
    "                short = driver.find_element_by_class_name('hyphenate').text.strip()\n",
    "                long = \" \".join([x.text for x in driver.find_elements_by_class_name('hyphenate') if len(x.find_elements_by_tag_name('a')) == 0])\n",
    "                desc = \"-@@@-\".join([x.text for x in driver.find_elements_by_class_name('imgDesc')])\n",
    "                comments = None\n",
    "                onet_content.append([article_url, title, short, long, desc, comments])\n",
    "            except:\n",
    "                error_urls.append(article_url)\n",
    "        else:\n",
    "            not_handled_urls.append(article_url)\n",
    "    elif 'fakt.pl' in article_url:\n",
    "        try:\n",
    "            title = driver.find_element_by_class_name('title').text.strip()\n",
    "            short = driver.find_element_by_class_name('hyphenate').text.strip()\n",
    "            long = \" \".join([x.text for x in driver.find_elements_by_class_name('hyphenate') if len(x.find_elements_by_tag_name('a')) == 0])\n",
    "            desc = \"-@@@-\".join([x.text for x in driver.find_elements_by_class_name('imgDesc')])\n",
    "            comments = None\n",
    "            fakt_content.append([article_url, title, short, long, desc, comments])\n",
    "        except:\n",
    "            error_urls.append(article_url)\n",
    "    else:\n",
    "        not_handled_urls.append(article_url)"
   ]
  },
  {
   "cell_type": "code",
   "execution_count": null,
   "metadata": {
    "hidden": true
   },
   "outputs": [],
   "source": [
    "len(fakt_content)"
   ]
  },
  {
   "cell_type": "code",
   "execution_count": null,
   "metadata": {
    "hidden": true
   },
   "outputs": [],
   "source": [
    "not_handled_urls"
   ]
  },
  {
   "cell_type": "code",
   "execution_count": null,
   "metadata": {
    "hidden": true
   },
   "outputs": [],
   "source": [
    "error_urls"
   ]
  },
  {
   "cell_type": "code",
   "execution_count": null,
   "metadata": {
    "hidden": true
   },
   "outputs": [],
   "source": []
  },
  {
   "cell_type": "code",
   "execution_count": null,
   "metadata": {
    "hidden": true
   },
   "outputs": [],
   "source": []
  },
  {
   "cell_type": "code",
   "execution_count": 115,
   "metadata": {
    "hidden": true
   },
   "outputs": [],
   "source": [
    "driver.close()"
   ]
  },
  {
   "cell_type": "code",
   "execution_count": null,
   "metadata": {
    "hidden": true
   },
   "outputs": [],
   "source": []
  },
  {
   "cell_type": "code",
   "execution_count": null,
   "metadata": {
    "hidden": true
   },
   "outputs": [],
   "source": []
  },
  {
   "cell_type": "code",
   "execution_count": null,
   "metadata": {
    "hidden": true
   },
   "outputs": [],
   "source": []
  },
  {
   "cell_type": "code",
   "execution_count": null,
   "metadata": {
    "hidden": true
   },
   "outputs": [],
   "source": []
  },
  {
   "cell_type": "markdown",
   "metadata": {},
   "source": [
    "# Onet"
   ]
  },
  {
   "cell_type": "code",
   "execution_count": null,
   "metadata": {},
   "outputs": [],
   "source": []
  },
  {
   "cell_type": "markdown",
   "metadata": {},
   "source": [
    "# Newsweek"
   ]
  },
  {
   "cell_type": "code",
   "execution_count": null,
   "metadata": {},
   "outputs": [],
   "source": []
  },
  {
   "cell_type": "code",
   "execution_count": 54,
   "metadata": {},
   "outputs": [],
   "source": []
  },
  {
   "cell_type": "markdown",
   "metadata": {},
   "source": [
    "# Dziennik"
   ]
  },
  {
   "cell_type": "code",
   "execution_count": null,
   "metadata": {},
   "outputs": [],
   "source": [
    "# https://www.dziennik.pl/szukaj?c=1&b=1&o=1&s=0&search_term=&q=duda&page=41#result"
   ]
  },
  {
   "cell_type": "code",
   "execution_count": null,
   "metadata": {},
   "outputs": [],
   "source": []
  },
  {
   "cell_type": "code",
   "execution_count": null,
   "metadata": {},
   "outputs": [],
   "source": []
  },
  {
   "cell_type": "code",
   "execution_count": null,
   "metadata": {},
   "outputs": [],
   "source": []
  }
 ],
 "metadata": {
  "kernelspec": {
   "display_name": "Python 3",
   "language": "python",
   "name": "python3"
  },
  "language_info": {
   "codemirror_mode": {
    "name": "ipython",
    "version": 3
   },
   "file_extension": ".py",
   "mimetype": "text/x-python",
   "name": "python",
   "nbconvert_exporter": "python",
   "pygments_lexer": "ipython3",
   "version": "3.6.9"
  },
  "toc": {
   "base_numbering": 1,
   "nav_menu": {},
   "number_sections": true,
   "sideBar": true,
   "skip_h1_title": false,
   "title_cell": "Table of Contents",
   "title_sidebar": "Contents",
   "toc_cell": false,
   "toc_position": {},
   "toc_section_display": true,
   "toc_window_display": false
  }
 },
 "nbformat": 4,
 "nbformat_minor": 2
}
