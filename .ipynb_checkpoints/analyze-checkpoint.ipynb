{
 "cells": [
  {
   "cell_type": "code",
   "execution_count": 113,
   "metadata": {},
   "outputs": [],
   "source": [
    "import pandas as pd\n",
    "from os import listdir\n",
    "from pandas.errors import EmptyDataError\n",
    "from unidecode import unidecode\n",
    "import seaborn as sns\n",
    "import re\n",
    "from wordcloud import WordCloud\n",
    "from gensim.models import Word2Vec, KeyedVectors\n",
    "from sklearn.manifold import TSNE\n",
    "from sklearn.decomposition import PCA\n",
    "import matplotlib.pyplot as plt\n",
    "import numpy as np\n",
    "from scipy.spatial import distance\n",
    "from random import shuffle\n",
    "import pickle\n",
    "\n",
    "sns.set(\n",
    "    rc = {\n",
    "        'figure.figsize': (10, 8)\n",
    "    },\n",
    "    style = 'darkgrid'\n",
    ")"
   ]
  },
  {
   "cell_type": "code",
   "execution_count": 2,
   "metadata": {},
   "outputs": [],
   "source": [
    " df = pd.concat([\n",
    "    pd.read_csv('data/concatenated/'+filename)\n",
    "    for filename in\n",
    "    listdir('data/concatenated')\n",
    "])"
   ]
  },
  {
   "cell_type": "markdown",
   "metadata": {},
   "source": [
    "# Dictionares"
   ]
  },
  {
   "cell_type": "code",
   "execution_count": 3,
   "metadata": {},
   "outputs": [],
   "source": [
    "grouping_orders = {\n",
    "    \"website\": {\n",
    "        \"columns_before\": ['website', 'sentiment'],\n",
    "        \"groupby\": [\"website\"],\n",
    "        \"columns_after\": ['fakt', 'gazeta', 'wyborcza'] \n",
    "    },\n",
    "    \"brand\": {\n",
    "        \"columns_before\": ['brand', 'sentiment'],\n",
    "        \"groupby\": [\"brand\"],\n",
    "        \"columns_after\": ['agora', 'ringier'] \n",
    "    },\n",
    "    \"country\": {\n",
    "        \"columns_before\": ['country', 'sentiment'],\n",
    "        \"groupby\": [\"country\"],\n",
    "        \"columns_after\": ['de/ch', 'pl'] \n",
    "    }\n",
    "}"
   ]
  },
  {
   "cell_type": "code",
   "execution_count": 4,
   "metadata": {},
   "outputs": [],
   "source": [
    "brand_keys = {\n",
    "    \"pl\": {\n",
    "        \"agora\": ['wyborcza', 'gazeta']\n",
    "    },\n",
    "    \"de/ch\": {\n",
    "        \"ringier\": ['fakt', 'onet', 'newsweek']\n",
    "    },\n",
    "    'us': {\n",
    "        \"discovery\": ['tvn']\n",
    "    },\n",
    "    'ru': {\n",
    "        \"sjegodnia\": ['sputnik']\n",
    "    }\n",
    "}"
   ]
  },
  {
   "cell_type": "code",
   "execution_count": null,
   "metadata": {},
   "outputs": [],
   "source": []
  },
  {
   "cell_type": "code",
   "execution_count": 86,
   "metadata": {},
   "outputs": [],
   "source": [
    "osoba = ['wzór', 'wróg'] # wzór, wróg, nieprzyjaciel\n",
    "partia = ['postęp', 'zacofanie'] # rozwój, dobrobyt, \n",
    "poglad = ['swoboda', 'reżim'] # chaos, totalitaryzm, racjonalizm\n",
    "kraj = ['sojusznik', 'wróg'] # ostoja, oaza, \n",
    "keyword_reference_words = {\n",
    "    'najwyższy': {\n",
    "        'types': ['country'],\n",
    "        'references': ['sprawiedliwość', 'niesprawiedliwość'],\n",
    "    },\n",
    "    'imigranci': {\n",
    "        'types': ['country', 'global'],\n",
    "        'references': ['obywatele', 'terroryści'],\n",
    "    },\n",
    "    'ekologia': {\n",
    "        'types': ['global'],\n",
    "        'references': ['', ''],\n",
    "    },\n",
    "    'emigracja': {\n",
    "        'types': ['country'],\n",
    "        'references': ['szansa', 'ucieczka'],\n",
    "    },\n",
    "    'pis': {\n",
    "        'types': ['country'],\n",
    "        'references': partia,\n",
    "    },\n",
    "    'obywatelska': {\n",
    "        'types': ['country'],\n",
    "        'references': partia,\n",
    "    },\n",
    "    'duda': {\n",
    "        'types': ['country'],\n",
    "        'references': osoba,\n",
    "    },\n",
    "    'morawiecki': {\n",
    "        'types': ['country'],\n",
    "        'references': osoba,\n",
    "    },\n",
    "    'szydło': {\n",
    "        'types': ['country'],\n",
    "        'references': osoba,\n",
    "    },\n",
    "    'kaczyński': {\n",
    "        'types': ['country'],\n",
    "        'references': osoba,\n",
    "    },\n",
    "    'kwaśniewski': {\n",
    "        'types': ['country'],\n",
    "        'references': osoba,\n",
    "    },\n",
    "    'lewica': {\n",
    "        'types': ['country'],\n",
    "        'references': poglad,\n",
    "    },\n",
    "    'prawica': {\n",
    "        'types': ['country'],\n",
    "        'references': poglad,\n",
    "    },\n",
    "    'lgbt': {\n",
    "        'types': ['global', 'country'],\n",
    "        'references': ['tolerancja', ''],\n",
    "    },\n",
    "    'europa': {\n",
    "        'types': ['global'],\n",
    "        'references': ['unia', 'rozłam'],\n",
    "    },\n",
    "    'rosja': {\n",
    "        'types': ['global', 'country'],\n",
    "        'references': kraj,\n",
    "    },\n",
    "    'usa': {\n",
    "        'types': ['global', 'country'],\n",
    "        'references': kraj,\n",
    "    },\n",
    "    'premier': {\n",
    "        'types': ['country'],\n",
    "        'references': osoba,\n",
    "    },\n",
    "    'prezydent': {\n",
    "        'types': ['country'],\n",
    "        'references': osoba,\n",
    "    },\n",
    "    'opozycja': {\n",
    "        'types': ['country'],\n",
    "        'references': partia,\n",
    "    },\n",
    "    'rząd': {\n",
    "        'types': ['country'],\n",
    "        'references': partia,\n",
    "    },\n",
    "    'sejm': {\n",
    "        'types': ['country'],\n",
    "        'references': partia,\n",
    "    },\n",
    "    'polska': {\n",
    "        'types': ['global', 'country'],\n",
    "        'references': ['oaza', ''],\n",
    "    },\n",
    "    'putin': {\n",
    "        'types': ['global', 'country'],\n",
    "        'references': ['sojusznik', 'wróg'],\n",
    "    },\n",
    "    'trump': {\n",
    "        'types': ['global', 'country'],\n",
    "        'references': ['sojusznik', 'wróg'],\n",
    "    },\n",
    "    'ukraina': {\n",
    "        'types': ['global', 'country'],\n",
    "        'references': kraj,\n",
    "    },\n",
    "    'media': {\n",
    "        'types': ['country'],\n",
    "        'references': ['', ''],\n",
    "    },\n",
    "    'bank': {\n",
    "        'types': ['global'],\n",
    "        'references': ['bezpieczeństwo', 'wyzysk'],\n",
    "    },\n",
    "    'niemcy': {\n",
    "        'types': ['global', 'country'],\n",
    "        'references': kraj,\n",
    "    },\n",
    "    'papież': {\n",
    "        'types': ['global'],\n",
    "        'references': osoba,\n",
    "    },\n",
    "    'kościół': {\n",
    "        'types': ['country'],\n",
    "        'references': ['oparcie', 'firma'],\n",
    "    },\n",
    "    'korwin': {\n",
    "        'types': ['country'],\n",
    "        'references': osoba,\n",
    "    },\n",
    "    'rydzyk': {\n",
    "        'types': ['country'],\n",
    "        'references': osoba,\n",
    "    },\n",
    "    'feminizm': {\n",
    "        'types': ['country', 'global'],\n",
    "        'references': ['równość', 'patriarchat'],\n",
    "    },\n",
    "    'miller': {\n",
    "        'types': ['country'],\n",
    "        'references': osoba,\n",
    "    },\n",
    "}"
   ]
  },
  {
   "cell_type": "code",
   "execution_count": null,
   "metadata": {},
   "outputs": [],
   "source": [
    "decoder = {\n",
    "    '%B1': 'ą',\n",
    "    '%BF': 'ż',\n",
    "    '%B3': 'ł',\n",
    "    '%B6': 'ś',\n",
    "    '%F1': 'ń',\n",
    "    '%F3': 'ó'\n",
    "}\n",
    "with open('keywords', 'r') as f:\n",
    "    raws = f.read().split('\\n')\n",
    "keyword_dict = {}\n",
    "for raw in raws:\n",
    "    tmp_keyword = raw\n",
    "    for d1, d2 in decoder.items():\n",
    "        tmp_keyword = tmp_keyword.replace(d1, d2)\n",
    "    keyword_dict[tmp_keyword] = ''"
   ]
  },
  {
   "cell_type": "code",
   "execution_count": null,
   "metadata": {},
   "outputs": [],
   "source": [
    "keyword_regex = {\n",
    "    'pis': r\"\\Dpis\\D|prawo i sprawiedliwość\"\n",
    "}"
   ]
  },
  {
   "cell_type": "code",
   "execution_count": null,
   "metadata": {},
   "outputs": [],
   "source": []
  },
  {
   "cell_type": "code",
   "execution_count": null,
   "metadata": {},
   "outputs": [],
   "source": []
  },
  {
   "cell_type": "code",
   "execution_count": null,
   "metadata": {},
   "outputs": [],
   "source": []
  },
  {
   "cell_type": "code",
   "execution_count": null,
   "metadata": {},
   "outputs": [],
   "source": []
  },
  {
   "cell_type": "code",
   "execution_count": null,
   "metadata": {},
   "outputs": [],
   "source": []
  },
  {
   "cell_type": "markdown",
   "metadata": {},
   "source": [
    "# Analyze"
   ]
  },
  {
   "cell_type": "markdown",
   "metadata": {
    "heading_collapsed": true
   },
   "source": [
    "## Get emotions data from polish wordnet"
   ]
  },
  {
   "cell_type": "code",
   "execution_count": 22,
   "metadata": {
    "hidden": true
   },
   "outputs": [],
   "source": [
    "# http://plwordnet.pwr.wroc.pl//wordnet/download-wordnet?key=1iflsj&file=4.0\n",
    "# extract one file (słownik_anotacji_emocjonlanej) to home directory"
   ]
  },
  {
   "cell_type": "code",
   "execution_count": 23,
   "metadata": {
    "hidden": true
   },
   "outputs": [],
   "source": [
    "emotions = pd.read_csv('~/słownik_anotacji_emocjonlanej.csv')[['lemat', 'emocje']].dropna()"
   ]
  },
  {
   "cell_type": "code",
   "execution_count": 24,
   "metadata": {
    "hidden": true
   },
   "outputs": [
    {
     "data": {
      "text/html": [
       "<div>\n",
       "<style scoped>\n",
       "    .dataframe tbody tr th:only-of-type {\n",
       "        vertical-align: middle;\n",
       "    }\n",
       "\n",
       "    .dataframe tbody tr th {\n",
       "        vertical-align: top;\n",
       "    }\n",
       "\n",
       "    .dataframe thead th {\n",
       "        text-align: right;\n",
       "    }\n",
       "</style>\n",
       "<table border=\"1\" class=\"dataframe\">\n",
       "  <thead>\n",
       "    <tr style=\"text-align: right;\">\n",
       "      <th></th>\n",
       "      <th>lemat</th>\n",
       "      <th>emocje</th>\n",
       "    </tr>\n",
       "  </thead>\n",
       "  <tbody>\n",
       "    <tr>\n",
       "      <th>2</th>\n",
       "      <td>abstrakcyjny</td>\n",
       "      <td>wstręt;złość;zaskoczenie</td>\n",
       "    </tr>\n",
       "    <tr>\n",
       "      <th>3</th>\n",
       "      <td>abstrakcyjny</td>\n",
       "      <td>wstręt;złość</td>\n",
       "    </tr>\n",
       "    <tr>\n",
       "      <th>10</th>\n",
       "      <td>adorator</td>\n",
       "      <td>złość;radość</td>\n",
       "    </tr>\n",
       "    <tr>\n",
       "      <th>11</th>\n",
       "      <td>adorator</td>\n",
       "      <td>złość;cieszenie się na;radość;wstręt</td>\n",
       "    </tr>\n",
       "    <tr>\n",
       "      <th>18</th>\n",
       "      <td>afektowany</td>\n",
       "      <td>złość;smutek</td>\n",
       "    </tr>\n",
       "  </tbody>\n",
       "</table>\n",
       "</div>"
      ],
      "text/plain": [
       "           lemat                                emocje\n",
       "2   abstrakcyjny              wstręt;złość;zaskoczenie\n",
       "3   abstrakcyjny                          wstręt;złość\n",
       "10      adorator                          złość;radość\n",
       "11      adorator  złość;cieszenie się na;radość;wstręt\n",
       "18    afektowany                          złość;smutek"
      ]
     },
     "execution_count": 24,
     "metadata": {},
     "output_type": "execute_result"
    }
   ],
   "source": [
    "emotions.head()"
   ]
  },
  {
   "cell_type": "code",
   "execution_count": 25,
   "metadata": {
    "hidden": true
   },
   "outputs": [],
   "source": [
    "emotions['emocje'] = emotions['emocje'].str.replace(':', ';')"
   ]
  },
  {
   "cell_type": "code",
   "execution_count": 26,
   "metadata": {
    "hidden": true
   },
   "outputs": [],
   "source": [
    "pairs = [\n",
    "    ('złosć', 'negatywny'),\n",
    "    ('zlość', 'negatywny'),\n",
    "    ('złośc', 'negatywny'),\n",
    "    ('złość wstręt', 'negatywny'),\n",
    "    ('złość: nieużyteczność', 'negatywny'),\n",
    "    ('złóść', 'negatywny'),\n",
    "    ('bład', 'negatywny'),\n",
    "    ('brzydota', 'negatywny'),\n",
    "    ('błąd', 'negatywny'),\n",
    "    ('gniew', 'negatywny'),\n",
    "    ('krzywda', 'negatywny'),\n",
    "    ('nieszczęscie', 'negatywny'),\n",
    "    ('nieszczęście', 'negatywny'),\n",
    "    ('nieużyteczność', 'negatywny'),\n",
    "    ('złość', 'negatywny'),\n",
    "    ('strach', 'negatywny'),\n",
    "    ('strach wstręt', 'negatywny'),\n",
    "    ('smute', 'negatywny'),\n",
    "    ('smutek', 'negatywny'),\n",
    "    ('wstęt', 'negatywny'),\n",
    "    ('niewiedza', 'negatywny'),\n",
    "    ('negatywny wstręt', 'negatywny'),\n",
    "    ('negatywnyk', 'negatywny'),\n",
    "    ('negatywnyk: negatywny', 'negatywny'),\n",
    "    ('wstrę', 'negatywny'),\n",
    "    ('wstręt', 'negatywny'),\n",
    "    ('wstręt: negatywny', 'negatywny'),\n",
    "    ('negatywnyt', 'negatywny'),\n",
    "    ('s mutek', 'negatywny'),\n",
    "    ('wstret', 'negatywny'),\n",
    "    ('smitek', 'negatywny'),\n",
    "    (' negatywny', 'negatywny'),\n",
    "    \n",
    "    ('cieszenie sie', 'pozytywny'),\n",
    "    ('cieszenie sie na', 'pozytywny'),\n",
    "    ('cieszenie się na coś oczekiwanego', 'pozytywny'),\n",
    "    ('dobro', 'pozytywny'),\n",
    "    ('cieszenie sie', 'pozytywny'),\n",
    "    ('radoć', 'pozytywny'),\n",
    "    ('radość', 'pozytywny'),\n",
    "    ('radość: piękno', 'pozytywny'),\n",
    "    ('radość: szczęście', 'pozytywny'),\n",
    "    ('zaufanie', 'pozytywny'),\n",
    "    ('cieszenie się', 'pozytywny'),\n",
    "    ('cieszenie się na', 'pozytywny'),\n",
    "    ('ciesznie się na', 'pozytywny'),\n",
    "    ('piękno', 'pozytywny'),\n",
    "    ('pozytywny: piękno', 'pozytywny'),\n",
    "    ('pozytywny: szczęście', 'pozytywny'),\n",
    "    ('prawda', 'pozytywny'),\n",
    "    ('radosć', 'pozytywny'),\n",
    "    ('pozytywny: pozytywny', 'pozytywny'),\n",
    "    ('radośc', 'pozytywny'),\n",
    "    ('szczęście', 'pozytywny'),\n",
    "    ('użyteczność', 'pozytywny'),\n",
    "    ('wiedza', 'pozytywny'),\n",
    "    ('zufanie', 'pozytywny'),\n",
    "    ('pozytywny na', 'pozytywny'),\n",
    "    (' pozytywny', 'pozytywny'),\n",
    "    \n",
    "    ('zaskoczenie czymś nieprzewidywanym', ''),\n",
    "    ('oczekiwanie na', ''),\n",
    "    (' czymś nieprzewidywanym', ''),\n",
    "    ('-', ''),\n",
    "    ('zaskoczenie', ''),\n",
    "    ('pozytywnynegatywny', ''),\n",
    "]"
   ]
  },
  {
   "cell_type": "code",
   "execution_count": 27,
   "metadata": {
    "hidden": true
   },
   "outputs": [],
   "source": [
    "for pair in pairs:\n",
    "    emotions['emocje'] = emotions['emocje'].str.replace(pair[0], pair[1])"
   ]
  },
  {
   "cell_type": "code",
   "execution_count": 28,
   "metadata": {
    "hidden": true
   },
   "outputs": [],
   "source": [
    "emotions = pd.concat([\n",
    "    emotions['lemat'],\n",
    "    emotions['emocje']\\\n",
    "        .str.get_dummies(sep = ';')\\\n",
    "], axis = 1)"
   ]
  },
  {
   "cell_type": "code",
   "execution_count": 29,
   "metadata": {
    "hidden": true
   },
   "outputs": [],
   "source": [
    "emotions.loc[\n",
    "    emotions['pozytywny'] == emotions['negatywny']\n",
    ", 'ambiguous'] = True"
   ]
  },
  {
   "cell_type": "code",
   "execution_count": 30,
   "metadata": {
    "hidden": true
   },
   "outputs": [
    {
     "data": {
      "text/plain": [
       "56420"
      ]
     },
     "execution_count": 30,
     "metadata": {},
     "output_type": "execute_result"
    }
   ],
   "source": [
    "len(emotions)"
   ]
  },
  {
   "cell_type": "code",
   "execution_count": 31,
   "metadata": {
    "hidden": true
   },
   "outputs": [],
   "source": [
    "emotions = emotions[emotions['ambiguous'].isna()]\n",
    "emotions = emotions.drop('ambiguous', axis = 1)"
   ]
  },
  {
   "cell_type": "code",
   "execution_count": 32,
   "metadata": {
    "hidden": true
   },
   "outputs": [
    {
     "data": {
      "text/plain": [
       "47477"
      ]
     },
     "execution_count": 32,
     "metadata": {},
     "output_type": "execute_result"
    }
   ],
   "source": [
    "len(emotions)"
   ]
  },
  {
   "cell_type": "code",
   "execution_count": 33,
   "metadata": {
    "hidden": true
   },
   "outputs": [
    {
     "data": {
      "text/plain": [
       "31505"
      ]
     },
     "execution_count": 33,
     "metadata": {},
     "output_type": "execute_result"
    }
   ],
   "source": [
    "emotions['negatywny'].sum()"
   ]
  },
  {
   "cell_type": "code",
   "execution_count": 34,
   "metadata": {
    "hidden": true
   },
   "outputs": [
    {
     "data": {
      "text/plain": [
       "15972"
      ]
     },
     "execution_count": 34,
     "metadata": {},
     "output_type": "execute_result"
    }
   ],
   "source": [
    "emotions['pozytywny'].sum()"
   ]
  },
  {
   "cell_type": "code",
   "execution_count": 35,
   "metadata": {
    "hidden": true
   },
   "outputs": [
    {
     "data": {
      "text/html": [
       "<div>\n",
       "<style scoped>\n",
       "    .dataframe tbody tr th:only-of-type {\n",
       "        vertical-align: middle;\n",
       "    }\n",
       "\n",
       "    .dataframe tbody tr th {\n",
       "        vertical-align: top;\n",
       "    }\n",
       "\n",
       "    .dataframe thead th {\n",
       "        text-align: right;\n",
       "    }\n",
       "</style>\n",
       "<table border=\"1\" class=\"dataframe\">\n",
       "  <thead>\n",
       "    <tr style=\"text-align: right;\">\n",
       "      <th></th>\n",
       "      <th>lemat</th>\n",
       "      <th>negatywny</th>\n",
       "      <th>pozytywny</th>\n",
       "    </tr>\n",
       "  </thead>\n",
       "  <tbody>\n",
       "    <tr>\n",
       "      <th>107694</th>\n",
       "      <td>nieskwapliwość</td>\n",
       "      <td>0</td>\n",
       "      <td>1</td>\n",
       "    </tr>\n",
       "    <tr>\n",
       "      <th>154808</th>\n",
       "      <td>spokojniuchny</td>\n",
       "      <td>0</td>\n",
       "      <td>1</td>\n",
       "    </tr>\n",
       "    <tr>\n",
       "      <th>109344</th>\n",
       "      <td>subtelność</td>\n",
       "      <td>0</td>\n",
       "      <td>1</td>\n",
       "    </tr>\n",
       "    <tr>\n",
       "      <th>74825</th>\n",
       "      <td>uznaniowy</td>\n",
       "      <td>1</td>\n",
       "      <td>0</td>\n",
       "    </tr>\n",
       "    <tr>\n",
       "      <th>155569</th>\n",
       "      <td>kombinacyjnie</td>\n",
       "      <td>0</td>\n",
       "      <td>1</td>\n",
       "    </tr>\n",
       "  </tbody>\n",
       "</table>\n",
       "</div>"
      ],
      "text/plain": [
       "                 lemat  negatywny  pozytywny\n",
       "107694  nieskwapliwość          0          1\n",
       "154808   spokojniuchny          0          1\n",
       "109344      subtelność          0          1\n",
       "74825        uznaniowy          1          0\n",
       "155569   kombinacyjnie          0          1"
      ]
     },
     "execution_count": 35,
     "metadata": {},
     "output_type": "execute_result"
    }
   ],
   "source": [
    "emotions.sample(5).head()"
   ]
  },
  {
   "cell_type": "code",
   "execution_count": 36,
   "metadata": {
    "hidden": true
   },
   "outputs": [],
   "source": [
    "emotions = emotions.drop('negatywny', axis = 1)"
   ]
  },
  {
   "cell_type": "code",
   "execution_count": 37,
   "metadata": {
    "hidden": true
   },
   "outputs": [],
   "source": [
    "emotions.loc[emotions['pozytywny'] == 0, 'pozytywny'] = -1"
   ]
  },
  {
   "cell_type": "code",
   "execution_count": 38,
   "metadata": {
    "hidden": true
   },
   "outputs": [],
   "source": [
    "emotions.columns = ['lemat', 'sentyment']"
   ]
  },
  {
   "cell_type": "code",
   "execution_count": 39,
   "metadata": {
    "hidden": true
   },
   "outputs": [],
   "source": [
    "emotions = emotions.drop_duplicates()"
   ]
  },
  {
   "cell_type": "code",
   "execution_count": 40,
   "metadata": {
    "hidden": true
   },
   "outputs": [
    {
     "data": {
      "text/html": [
       "<div>\n",
       "<style scoped>\n",
       "    .dataframe tbody tr th:only-of-type {\n",
       "        vertical-align: middle;\n",
       "    }\n",
       "\n",
       "    .dataframe tbody tr th {\n",
       "        vertical-align: top;\n",
       "    }\n",
       "\n",
       "    .dataframe thead th {\n",
       "        text-align: right;\n",
       "    }\n",
       "</style>\n",
       "<table border=\"1\" class=\"dataframe\">\n",
       "  <thead>\n",
       "    <tr style=\"text-align: right;\">\n",
       "      <th></th>\n",
       "      <th>lemat</th>\n",
       "      <th>sentyment</th>\n",
       "    </tr>\n",
       "  </thead>\n",
       "  <tbody>\n",
       "    <tr>\n",
       "      <th>68449</th>\n",
       "      <td>letargiczny</td>\n",
       "      <td>-1</td>\n",
       "    </tr>\n",
       "    <tr>\n",
       "      <th>8470</th>\n",
       "      <td>wytłumaczyć</td>\n",
       "      <td>1</td>\n",
       "    </tr>\n",
       "    <tr>\n",
       "      <th>45315</th>\n",
       "      <td>człowiek wielkiego ducha</td>\n",
       "      <td>1</td>\n",
       "    </tr>\n",
       "    <tr>\n",
       "      <th>168779</th>\n",
       "      <td>fetyszystyczny</td>\n",
       "      <td>-1</td>\n",
       "    </tr>\n",
       "    <tr>\n",
       "      <th>27600</th>\n",
       "      <td>unifikator</td>\n",
       "      <td>1</td>\n",
       "    </tr>\n",
       "  </tbody>\n",
       "</table>\n",
       "</div>"
      ],
      "text/plain": [
       "                           lemat  sentyment\n",
       "68449                letargiczny         -1\n",
       "8470                 wytłumaczyć          1\n",
       "45315   człowiek wielkiego ducha          1\n",
       "168779            fetyszystyczny         -1\n",
       "27600                 unifikator          1"
      ]
     },
     "execution_count": 40,
     "metadata": {},
     "output_type": "execute_result"
    }
   ],
   "source": [
    "emotions.sample(5).head()"
   ]
  },
  {
   "cell_type": "code",
   "execution_count": 41,
   "metadata": {
    "hidden": true
   },
   "outputs": [],
   "source": [
    "emotions_dict = {x[0]:x[1] for x in emotions.values}"
   ]
  },
  {
   "cell_type": "markdown",
   "metadata": {
    "heading_collapsed": true
   },
   "source": [
    "## Titles/shorts"
   ]
  },
  {
   "cell_type": "code",
   "execution_count": 42,
   "metadata": {
    "hidden": true
   },
   "outputs": [
    {
     "data": {
      "text/html": [
       "<div>\n",
       "<style scoped>\n",
       "    .dataframe tbody tr th:only-of-type {\n",
       "        vertical-align: middle;\n",
       "    }\n",
       "\n",
       "    .dataframe tbody tr th {\n",
       "        vertical-align: top;\n",
       "    }\n",
       "\n",
       "    .dataframe thead th {\n",
       "        text-align: right;\n",
       "    }\n",
       "</style>\n",
       "<table border=\"1\" class=\"dataframe\">\n",
       "  <thead>\n",
       "    <tr style=\"text-align: right;\">\n",
       "      <th></th>\n",
       "      <th>lemat</th>\n",
       "      <th>sentyment</th>\n",
       "    </tr>\n",
       "  </thead>\n",
       "  <tbody>\n",
       "    <tr>\n",
       "      <th>161843</th>\n",
       "      <td>pośpieszyć</td>\n",
       "      <td>1</td>\n",
       "    </tr>\n",
       "    <tr>\n",
       "      <th>8634</th>\n",
       "      <td>zadra</td>\n",
       "      <td>-1</td>\n",
       "    </tr>\n",
       "    <tr>\n",
       "      <th>84046</th>\n",
       "      <td>niezły</td>\n",
       "      <td>1</td>\n",
       "    </tr>\n",
       "    <tr>\n",
       "      <th>131006</th>\n",
       "      <td>marzenie ściętej głowy</td>\n",
       "      <td>-1</td>\n",
       "    </tr>\n",
       "    <tr>\n",
       "      <th>44288</th>\n",
       "      <td>panienka spod latarni</td>\n",
       "      <td>-1</td>\n",
       "    </tr>\n",
       "  </tbody>\n",
       "</table>\n",
       "</div>"
      ],
      "text/plain": [
       "                         lemat  sentyment\n",
       "161843              pośpieszyć          1\n",
       "8634                     zadra         -1\n",
       "84046                   niezły          1\n",
       "131006  marzenie ściętej głowy         -1\n",
       "44288    panienka spod latarni         -1"
      ]
     },
     "execution_count": 42,
     "metadata": {},
     "output_type": "execute_result"
    }
   ],
   "source": [
    "emotions.sample(5).head()"
   ]
  },
  {
   "cell_type": "code",
   "execution_count": 43,
   "metadata": {
    "hidden": true
   },
   "outputs": [],
   "source": [
    "emotion_words = emotions_dict.keys()"
   ]
  },
  {
   "cell_type": "code",
   "execution_count": 44,
   "metadata": {
    "hidden": true
   },
   "outputs": [],
   "source": [
    "df['sentiment'] = df['long'].str.lower().apply(lambda x: sum([emotions_dict[a] \n",
    "                                         for a in str(x).split(' ')\n",
    "                                         if a in emotion_words]))"
   ]
  },
  {
   "cell_type": "code",
   "execution_count": 45,
   "metadata": {
    "hidden": true
   },
   "outputs": [],
   "source": [
    "grouped_data = {}\n",
    "for key, grouping_order in grouping_orders.items():\n",
    "    data_dict = {}\n",
    "    for keyword in keywords:\n",
    "        data_dict[keyword] = df\\\n",
    "            [(df[keyword] == 1)&(df['sentiment'] != 0)]\\\n",
    "            [grouping_order['columns_before']]\\\n",
    "            .groupby(grouping_order['groupby'])\\\n",
    "            .mean()\\\n",
    "            .values\\\n",
    "            .flatten()\n",
    "    res = pd.DataFrame().from_dict(\n",
    "        data_dict,\n",
    "        'index',\n",
    "        columns = grouping_order['columns_after']\n",
    "    )\n",
    "    res = (res - res.mean())/res.std()\n",
    "    grouped_data[key] = res"
   ]
  },
  {
   "cell_type": "code",
   "execution_count": 46,
   "metadata": {
    "hidden": true,
    "scrolled": true
   },
   "outputs": [
    {
     "data": {
      "image/png": "[encoded data removed]",
      "text/plain": [
       "<Figure size 432x288 with 2 Axes>"
      ]
     },
     "metadata": {
      "needs_background": "light"
     },
     "output_type": "display_data"
    }
   ],
   "source": [
    "sns.heatmap(grouped_data['brand']);"
   ]
  },
  {
   "cell_type": "code",
   "execution_count": 47,
   "metadata": {
    "hidden": true
   },
   "outputs": [],
   "source": [
    "# compare that chart (two websites in one company), and two websites from two different companies"
   ]
  },
  {
   "cell_type": "code",
   "execution_count": null,
   "metadata": {
    "hidden": true
   },
   "outputs": [],
   "source": []
  },
  {
   "cell_type": "markdown",
   "metadata": {
    "heading_collapsed": true
   },
   "source": [
    "## Regex"
   ]
  },
  {
   "cell_type": "code",
   "execution_count": 48,
   "metadata": {
    "hidden": true
   },
   "outputs": [],
   "source": [
    "wc = WordCloud()"
   ]
  },
  {
   "cell_type": "code",
   "execution_count": 49,
   "metadata": {
    "hidden": true
   },
   "outputs": [],
   "source": [
    "keyword_patterns = ['duda', 'dudy', 'dude']"
   ]
  },
  {
   "cell_type": "code",
   "execution_count": 50,
   "metadata": {
    "hidden": true
   },
   "outputs": [],
   "source": [
    "found_records = df[['long']][\n",
    "    df['long'].str.lower().str.contains(r'|'.join(keyword_patterns)) == True\n",
    "].values.flatten()"
   ]
  },
  {
   "cell_type": "code",
   "execution_count": 51,
   "metadata": {
    "hidden": true
   },
   "outputs": [],
   "source": [
    "keyword_words_before = []\n",
    "keyword_words_after = []\n",
    "for record in found_records:\n",
    "    tmp_string_list = re.sub(r'\\W+', ' ', record).lower().split(' ')\n",
    "    keyword_idxs = [n for n, x in enumerate(tmp_string_list) if x in keyword_patterns]\n",
    "    max_idx = len(tmp_string_list)\n",
    "    for keyword_idx in keyword_idxs:\n",
    "        if keyword_idx < max_idx - 2 and keyword_idx > 1:\n",
    "            keyword_context_before = tmp_string_list[keyword_idx-2 : keyword_idx]\n",
    "            keyword_words_before.append(keyword_context_before[0])\n",
    "            keyword_words_before.append(keyword_context_before[1])\n",
    "            keyword_context_after = tmp_string_list[keyword_idx+1 : keyword_idx+3]\n",
    "            keyword_words_after.append(keyword_context_after[0])\n",
    "            keyword_words_after.append(keyword_context_after[1])"
   ]
  },
  {
   "cell_type": "code",
   "execution_count": 52,
   "metadata": {
    "hidden": true
   },
   "outputs": [
    {
     "data": {
      "text/plain": [
       "<matplotlib.image.AxesImage at 0x7f7f1b5c06d8>"
      ]
     },
     "execution_count": 52,
     "metadata": {},
     "output_type": "execute_result"
    },
    {
     "data": {
      "image/png": "[encoded data removed]",
      "text/plain": [
       "<Figure size 432x288 with 1 Axes>"
      ]
     },
     "metadata": {
      "needs_background": "light"
     },
     "output_type": "display_data"
    }
   ],
   "source": [
    "plt.imshow(wc.generate(\" \".join(keyword_words_after)))"
   ]
  },
  {
   "cell_type": "code",
   "execution_count": null,
   "metadata": {
    "hidden": true
   },
   "outputs": [],
   "source": []
  },
  {
   "cell_type": "markdown",
   "metadata": {},
   "source": [
    "## Word2Vec"
   ]
  },
  {
   "cell_type": "code",
   "execution_count": 7,
   "metadata": {},
   "outputs": [],
   "source": [
    "df['whole_string'] = (\n",
    "    df['title'] + '. ' +\n",
    "    df['short'] + '. ' +\n",
    "    df['long']\n",
    ")"
   ]
  },
  {
   "cell_type": "code",
   "execution_count": 8,
   "metadata": {},
   "outputs": [],
   "source": [
    "def make_sentences(df):\n",
    "    sentences = []\n",
    "    for record in df['whole_string'].dropna().str.lower():\n",
    "        if record != None:\n",
    "            for sentence in record.split('.'):\n",
    "                sentences.append(re.sub(r'\\W+', ' ', sentence).lower().strip().split(' '))\n",
    "    return sentences"
   ]
  },
  {
   "cell_type": "code",
   "execution_count": 9,
   "metadata": {},
   "outputs": [],
   "source": [
    "models = {}\n",
    "models['model'] = Word2Vec(make_sentences(df), size = 100, min_count = 10, window = 6, workers = 2)\n",
    "for country, brand_dict in brand_keys.items():\n",
    "    models[country] = {}\n",
    "    for brand_name in df['brand'].unique():\n",
    "        models[country][brand_name] = {}\n",
    "        brand_data = make_sentences(df[df['brand'] == brand_name])\n",
    "        models[country][brand_name]['model'] = Word2Vec(brand_data, min_count = 10, window = 5, workers = 10)"
   ]
  },
  {
   "cell_type": "code",
   "execution_count": 10,
   "metadata": {},
   "outputs": [],
   "source": [
    "def unit_vector(vector):\n",
    "    return vector / np.linalg.norm(vector)\n",
    "def calculate_angle(v1, v2):\n",
    "    v1_u = unit_vector(v1)\n",
    "    v2_u = unit_vector(v2)\n",
    "    return abs(np.degrees(np.arccos(np.clip(np.dot(v1_u, v2_u), -1.0, 1.0))))"
   ]
  },
  {
   "cell_type": "code",
   "execution_count": 58,
   "metadata": {},
   "outputs": [],
   "source": [
    "def calculate_scores(point_of_view):\n",
    "    model_dict_keys = (\n",
    "        ('us', 'discovery'),\n",
    "        ('pl', 'agora'),\n",
    "        ('de/ch', 'ringier'),\n",
    "        ('ru', 'sjegodnia'),\n",
    "    )\n",
    "    results = []\n",
    "    df_idx = []\n",
    "    for keyword, k_properties in keyword_reference_words.items():\n",
    "        try:\n",
    "            if '' not in k_properties['references'] and point_of_view in k_properties['types']:\n",
    "                row = []\n",
    "                reference = k_properties['references']\n",
    "                for model_dict_key in model_dict_keys:\n",
    "                    # cosine similarity with one reference\n",
    "#                     keyword_v = models[model_dict_key[0]][model_dict_key[1]]['model'].wv[keyword]\n",
    "#                     reference_v = models['model'].wv[reference[0]]\n",
    "#                     score = distance.cosine(keyword_v, reference_v)\n",
    "                    # cosine similarity with two references\n",
    "                    keyword_vector = models[model_dict_key[0]][model_dict_key[1]]['model'].wv[keyword]\n",
    "                    positive_vector = models['model'].wv[reference[0]]\n",
    "                    negative_vector = models['model'].wv[reference[1]]\n",
    "                    positive_angle = calculate_angle(keyword_vector, positive_vector)\n",
    "                    negative_angle = calculate_angle(keyword_vector, negative_vector)\n",
    "                    score = positive_angle / (positive_angle+negative_angle)\n",
    "                    row.append(score)\n",
    "                results.append(row)\n",
    "                df_idx.append(keyword)\n",
    "        except KeyError:\n",
    "            print(keyword)\n",
    "    \n",
    "    return pd.DataFrame(results, columns = ['discovery [US]', 'agora [PL]', 'ringier [EU]', 'sjegodnia [RU]'], index = df_idx)"
   ]
  },
  {
   "cell_type": "code",
   "execution_count": 59,
   "metadata": {},
   "outputs": [],
   "source": [
    "def normalize(df):\n",
    "    result = df.copy()\n",
    "    for feature_name in df.columns:\n",
    "        max_value = df[feature_name].max()\n",
    "        min_value = df[feature_name].min()\n",
    "        result[feature_name] = (df[feature_name] - min_value) / (max_value - min_value)\n",
    "    return result"
   ]
  },
  {
   "cell_type": "code",
   "execution_count": 122,
   "metadata": {},
   "outputs": [
    {
     "name": "stdout",
     "output_type": "stream",
     "text": [
      "feminizm\n"
     ]
    },
    {
     "data": {
      "text/plain": [
       "<matplotlib.axes._subplots.AxesSubplot at 0x7f65fd7aa748>"
      ]
     },
     "execution_count": 122,
     "metadata": {},
     "output_type": "execute_result"
    },
    {
     "data": {
      "image/png": "[encoded data removed]",
      "text/plain": [
       "<Figure size 720x576 with 2 Axes>"
      ]
     },
     "metadata": {},
     "output_type": "display_data"
    }
   ],
   "source": [
    "vector_results = calculate_scores('global')\n",
    "sns.heatmap(normalize(vector_results), cmap = 'coolwarm', center = 0.5)"
   ]
  },
  {
   "cell_type": "code",
   "execution_count": 53,
   "metadata": {},
   "outputs": [
    {
     "data": {
      "text/plain": [
       "[('europa', 0.7494603991508484),\n",
       " ('rosja', 0.7234011888504028),\n",
       " ('ukraina', 0.7123920917510986),\n",
       " ('niepodległa', 0.6711875200271606),\n",
       " ('grecja', 0.649996280670166),\n",
       " ('francja', 0.6484516859054565),\n",
       " ('ameryka', 0.6483502984046936),\n",
       " ('turcja', 0.6436651349067688),\n",
       " ('bułgaria', 0.6362323760986328),\n",
       " ('serbia', 0.6219605803489685)]"
      ]
     },
     "execution_count": 53,
     "metadata": {},
     "output_type": "execute_result"
    }
   ],
   "source": [
    "models['model'].wv.most_similar('polska')"
   ]
  },
  {
   "cell_type": "code",
   "execution_count": 117,
   "metadata": {},
   "outputs": [],
   "source": [
    "with open('~/models', 'wb') as f:\n",
    "    pickle.dump(models, f)"
   ]
  },
  {
   "cell_type": "code",
   "execution_count": 119,
   "metadata": {},
   "outputs": [],
   "source": [
    "with open('~/models', 'rb') as f:\n",
    "    models = pickle.load(f)"
   ]
  },
  {
   "cell_type": "markdown",
   "metadata": {},
   "source": [
    "## Vectors validation with neutral words"
   ]
  },
  {
   "cell_type": "code",
   "execution_count": 120,
   "metadata": {},
   "outputs": [],
   "source": [
    "random_words = list(models['model'].wv.vocab.keys())\n",
    "shuffle(random_words)\n",
    "random_sample = random_words[:10]"
   ]
  },
  {
   "cell_type": "code",
   "execution_count": 121,
   "metadata": {},
   "outputs": [
    {
     "data": {
      "text/plain": [
       "{'model': <gensim.models.word2vec.Word2Vec at 0x7f65fceceda0>,\n",
       " 'pl': {'ringier': {'model': <gensim.models.word2vec.Word2Vec at 0x7f65ebbc7278>},\n",
       "  'discovery': {'model': <gensim.models.word2vec.Word2Vec at 0x7f65e53b9898>},\n",
       "  'agora': {'model': <gensim.models.word2vec.Word2Vec at 0x7f65db54d550>},\n",
       "  'sjegodnia': {'model': <gensim.models.word2vec.Word2Vec at 0x7f65ca4e1ba8>}},\n",
       " 'de/ch': {'ringier': {'model': <gensim.models.word2vec.Word2Vec at 0x7f65c41004e0>},\n",
       "  'discovery': {'model': <gensim.models.word2vec.Word2Vec at 0x7f65b2888240>},\n",
       "  'agora': {'model': <gensim.models.word2vec.Word2Vec at 0x7f65eb494a58>},\n",
       "  'sjegodnia': {'model': <gensim.models.word2vec.Word2Vec at 0x7f65fa966940>}},\n",
       " 'us': {'ringier': {'model': <gensim.models.word2vec.Word2Vec at 0x7f65c7f90198>},\n",
       "  'discovery': {'model': <gensim.models.word2vec.Word2Vec at 0x7f65e89b6240>},\n",
       "  'agora': {'model': <gensim.models.word2vec.Word2Vec at 0x7f65e989e6d8>},\n",
       "  'sjegodnia': {'model': <gensim.models.word2vec.Word2Vec at 0x7f65e997f8d0>}},\n",
       " 'ru': {'ringier': {'model': <gensim.models.word2vec.Word2Vec at 0x7f65ec148940>},\n",
       "  'discovery': {'model': <gensim.models.word2vec.Word2Vec at 0x7f65e9246cc0>},\n",
       "  'agora': {'model': <gensim.models.word2vec.Word2Vec at 0x7f65e0c2d320>},\n",
       "  'sjegodnia': {'model': <gensim.models.word2vec.Word2Vec at 0x7f65d2456da0>}}}"
      ]
     },
     "execution_count": 121,
     "metadata": {},
     "output_type": "execute_result"
    }
   ],
   "source": [
    "models"
   ]
  },
  {
   "cell_type": "code",
   "execution_count": null,
   "metadata": {},
   "outputs": [],
   "source": [
    "for model in models['']"
   ]
  },
  {
   "cell_type": "code",
   "execution_count": 111,
   "metadata": {},
   "outputs": [
    {
     "data": {
      "text/plain": [
       "['przywołuje',\n",
       " 'oparli',\n",
       " 'osłony',\n",
       " 'czołówek',\n",
       " 'opamiętajcie',\n",
       " 'pomorska',\n",
       " 'położyłam',\n",
       " 'stylizowanym',\n",
       " 'niepodzielną',\n",
       " 'zbliżona']"
      ]
     },
     "execution_count": 111,
     "metadata": {},
     "output_type": "execute_result"
    }
   ],
   "source": [
    "random_sample"
   ]
  },
  {
   "cell_type": "code",
   "execution_count": null,
   "metadata": {},
   "outputs": [],
   "source": []
  },
  {
   "cell_type": "code",
   "execution_count": null,
   "metadata": {},
   "outputs": [],
   "source": []
  },
  {
   "cell_type": "code",
   "execution_count": null,
   "metadata": {},
   "outputs": [],
   "source": []
  },
  {
   "cell_type": "markdown",
   "metadata": {
    "heading_collapsed": true
   },
   "source": [
    "## Convert to 2-d"
   ]
  },
  {
   "cell_type": "code",
   "execution_count": 53,
   "metadata": {
    "hidden": true
   },
   "outputs": [],
   "source": [
    "vectors = models['model'].wv.vectors\n",
    "words = models['model'].wv.vocab"
   ]
  },
  {
   "cell_type": "code",
   "execution_count": 54,
   "metadata": {
    "hidden": true
   },
   "outputs": [
    {
     "data": {
      "image/png": "[encoded data removed]",
      "text/plain": [
       "<Figure size 720x576 with 1 Axes>"
      ]
     },
     "metadata": {},
     "output_type": "display_data"
    }
   ],
   "source": [
    "pca = PCA(n_components = 100).fit(vectors)\n",
    "plt.plot(np.cumsum(pca.explained_variance_ratio_));"
   ]
  },
  {
   "cell_type": "code",
   "execution_count": 55,
   "metadata": {
    "hidden": true
   },
   "outputs": [],
   "source": [
    "pca_vectors = PCA(n_components = 90).fit_transform(vectors)"
   ]
  },
  {
   "cell_type": "code",
   "execution_count": 56,
   "metadata": {
    "hidden": true
   },
   "outputs": [],
   "source": [
    "tsne_vectors = TSNE(\n",
    "    n_components = 2, \n",
    "    n_jobs = 10,\n",
    "    learning_rate = 200,\n",
    "    n_iter = 1000,\n",
    "    n_iter_without_progress = 50\n",
    ").fit_transform(pca_vectors)"
   ]
  },
  {
   "cell_type": "code",
   "execution_count": 59,
   "metadata": {
    "hidden": true
   },
   "outputs": [
    {
     "data": {
      "image/png": "[encoded data removed]",
      "text/plain": [
       "<Figure size 720x576 with 1 Axes>"
      ]
     },
     "metadata": {},
     "output_type": "display_data"
    }
   ],
   "source": [
    "plt.plot(figsize = (12, 12))\n",
    "plt.scatter(\n",
    "    [x[0] for x in tsne_vectors],\n",
    "    [x[1] for x in tsne_vectors],\n",
    ")\n",
    "selected_word = 'duda'\n",
    "idx = list(models['model'].wv.vocab.keys()).index(selected_word)\n",
    "plt.annotate(selected_word, (tsne_vectors[idx][0], tsne_vectors[idx][1]), color = 'green')\n",
    "similar_words = [x[0] for x in models['model'].wv.most_similar(positive=[selected_word], topn=20)]\n",
    "for similar_word in similar_words:\n",
    "    idx = list(models['model'].wv.vocab.keys()).index(similar_word)\n",
    "    plt.annotate(similar_word, (tsne_vectors[idx][0], tsne_vectors[idx][1]), color = 'red')"
   ]
  },
  {
   "cell_type": "code",
   "execution_count": null,
   "metadata": {
    "hidden": true
   },
   "outputs": [],
   "source": []
  },
  {
   "cell_type": "code",
   "execution_count": null,
   "metadata": {
    "hidden": true
   },
   "outputs": [],
   "source": []
  },
  {
   "cell_type": "code",
   "execution_count": null,
   "metadata": {
    "hidden": true
   },
   "outputs": [],
   "source": []
  },
  {
   "cell_type": "code",
   "execution_count": null,
   "metadata": {
    "hidden": true
   },
   "outputs": [],
   "source": []
  },
  {
   "cell_type": "code",
   "execution_count": null,
   "metadata": {
    "hidden": true
   },
   "outputs": [],
   "source": []
  },
  {
   "cell_type": "code",
   "execution_count": null,
   "metadata": {
    "hidden": true
   },
   "outputs": [],
   "source": []
  }
 ],
 "metadata": {
  "kernelspec": {
   "display_name": "Python 3",
   "language": "python",
   "name": "python3"
  },
  "language_info": {
   "codemirror_mode": {
    "name": "ipython",
    "version": 3
   },
   "file_extension": ".py",
   "mimetype": "text/x-python",
   "name": "python",
   "nbconvert_exporter": "python",
   "pygments_lexer": "ipython3",
   "version": "3.6.9"
  },
  "toc": {
   "base_numbering": 1,
   "nav_menu": {},
   "number_sections": true,
   "sideBar": true,
   "skip_h1_title": false,
   "title_cell": "Table of Contents",
   "title_sidebar": "Contents",
   "toc_cell": false,
   "toc_position": {},
   "toc_section_display": true,
   "toc_window_display": false
  }
 },
 "nbformat": 4,
 "nbformat_minor": 2
}
