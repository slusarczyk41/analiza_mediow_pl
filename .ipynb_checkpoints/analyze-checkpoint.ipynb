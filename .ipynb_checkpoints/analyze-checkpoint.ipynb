{
 "cells": [
  {
   "cell_type": "code",
   "execution_count": 93,
   "metadata": {},
   "outputs": [],
   "source": [
    "import pandas as pd\n",
    "from os import listdir\n",
    "from pandas.errors import EmptyDataError\n",
    "from unidecode import unidecode\n",
    "import seaborn as sns\n",
    "import re\n",
    "from wordcloud import WordCloud\n",
    "from gensim.models import Word2Vec, KeyedVectors\n",
    "from sklearn.manifold import TSNE\n",
    "from sklearn.decomposition import PCA\n",
    "import matplotlib.pyplot as plt\n",
    "import numpy as np\n",
    "from scipy.spatial import distance\n",
    "from random import shuffle\n",
    "import pickle\n",
    "from itertools import combinations\n",
    "\n",
    "sns.set(\n",
    "    rc = {\n",
    "        'figure.figsize': (10, 8)\n",
    "    },\n",
    "    style = 'darkgrid'\n",
    ")"
   ]
  },
  {
   "cell_type": "code",
   "execution_count": 2,
   "metadata": {},
   "outputs": [],
   "source": [
    " df = pd.concat([\n",
    "    pd.read_csv('data/concatenated/'+filename)\n",
    "    for filename in\n",
    "    listdir('data/concatenated')\n",
    "])"
   ]
  },
  {
   "cell_type": "markdown",
   "metadata": {
    "heading_collapsed": true
   },
   "source": [
    "# Dictionares"
   ]
  },
  {
   "cell_type": "code",
   "execution_count": 3,
   "metadata": {
    "hidden": true
   },
   "outputs": [],
   "source": [
    "grouping_orders = {\n",
    "    \"website\": {\n",
    "        \"columns_before\": ['website', 'sentiment'],\n",
    "        \"groupby\": [\"website\"],\n",
    "        \"columns_after\": ['fakt', 'gazeta', 'wyborcza'] \n",
    "    },\n",
    "    \"brand\": {\n",
    "        \"columns_before\": ['brand', 'sentiment'],\n",
    "        \"groupby\": [\"brand\"],\n",
    "        \"columns_after\": ['agora', 'ringier'] \n",
    "    },\n",
    "    \"country\": {\n",
    "        \"columns_before\": ['country', 'sentiment'],\n",
    "        \"groupby\": [\"country\"],\n",
    "        \"columns_after\": ['de/ch', 'pl'] \n",
    "    }\n",
    "}"
   ]
  },
  {
   "cell_type": "code",
   "execution_count": 4,
   "metadata": {
    "hidden": true
   },
   "outputs": [],
   "source": [
    "brand_keys = {\n",
    "    \"pl\": {\n",
    "        \"agora\": ['wyborcza', 'gazeta']\n",
    "    },\n",
    "    \"de/ch\": {\n",
    "        \"ringier\": ['fakt', 'onet', 'newsweek']\n",
    "    },\n",
    "    'us': {\n",
    "        \"discovery\": ['tvn']\n",
    "    },\n",
    "    'ru': {\n",
    "        \"sjegodnia\": ['sputnik']\n",
    "    }\n",
    "}"
   ]
  },
  {
   "cell_type": "code",
   "execution_count": 5,
   "metadata": {
    "hidden": true
   },
   "outputs": [],
   "source": [
    "osoba = ['wzór', 'wróg'] # wzór, wróg, nieprzyjaciel\n",
    "partia = ['postęp', 'zacofanie'] # rozwój, dobrobyt, \n",
    "poglad = ['swoboda', 'reżim'] # chaos, totalitaryzm, racjonalizm\n",
    "kraj = ['sojusznik', 'wróg'] # ostoja, oaza, \n",
    "keyword_reference_words = {\n",
    "    'najwyższy': {\n",
    "        'types': ['country'],\n",
    "        'references': ['sprawiedliwość', 'niesprawiedliwość'],\n",
    "    },\n",
    "    'imigranci': {\n",
    "        'types': ['country', 'global'],\n",
    "        'references': ['obywatele', 'terroryści'],\n",
    "    },\n",
    "    'ekologia': {\n",
    "        'types': ['global'],\n",
    "        'references': ['', ''],\n",
    "    },\n",
    "    'emigracja': {\n",
    "        'types': ['country'],\n",
    "        'references': ['szansa', 'ucieczka'],\n",
    "    },\n",
    "    'pis': {\n",
    "        'types': ['country'],\n",
    "        'references': partia,\n",
    "    },\n",
    "    'obywatelska': {\n",
    "        'types': ['country'],\n",
    "        'references': partia,\n",
    "    },\n",
    "    'duda': {\n",
    "        'types': ['country'],\n",
    "        'references': osoba,\n",
    "    },\n",
    "    'morawiecki': {\n",
    "        'types': ['country'],\n",
    "        'references': osoba,\n",
    "    },\n",
    "    'szydło': {\n",
    "        'types': ['country'],\n",
    "        'references': osoba,\n",
    "    },\n",
    "    'kaczyński': {\n",
    "        'types': ['country'],\n",
    "        'references': osoba,\n",
    "    },\n",
    "    'kwaśniewski': {\n",
    "        'types': ['country'],\n",
    "        'references': osoba,\n",
    "    },\n",
    "    'lewica': {\n",
    "        'types': ['country'],\n",
    "        'references': poglad,\n",
    "    },\n",
    "    'prawica': {\n",
    "        'types': ['country'],\n",
    "        'references': poglad,\n",
    "    },\n",
    "    'lgbt': {\n",
    "        'types': ['global', 'country'],\n",
    "        'references': ['tolerancja', ''],\n",
    "    },\n",
    "    'europa': {\n",
    "        'types': ['global'],\n",
    "        'references': ['unia', 'rozłam'],\n",
    "    },\n",
    "    'rosja': {\n",
    "        'types': ['global', 'country'],\n",
    "        'references': kraj,\n",
    "    },\n",
    "    'usa': {\n",
    "        'types': ['global', 'country'],\n",
    "        'references': kraj,\n",
    "    },\n",
    "    'premier': {\n",
    "        'types': ['country'],\n",
    "        'references': osoba,\n",
    "    },\n",
    "    'prezydent': {\n",
    "        'types': ['country'],\n",
    "        'references': osoba,\n",
    "    },\n",
    "    'opozycja': {\n",
    "        'types': ['country'],\n",
    "        'references': partia,\n",
    "    },\n",
    "    'rząd': {\n",
    "        'types': ['country'],\n",
    "        'references': partia,\n",
    "    },\n",
    "    'sejm': {\n",
    "        'types': ['country'],\n",
    "        'references': partia,\n",
    "    },\n",
    "    'polska': {\n",
    "        'types': ['global', 'country'],\n",
    "        'references': ['oaza', ''],\n",
    "    },\n",
    "    'putin': {\n",
    "        'types': ['global', 'country'],\n",
    "        'references': ['sojusznik', 'wróg'],\n",
    "    },\n",
    "    'trump': {\n",
    "        'types': ['global', 'country'],\n",
    "        'references': ['sojusznik', 'wróg'],\n",
    "    },\n",
    "    'ukraina': {\n",
    "        'types': ['global', 'country'],\n",
    "        'references': kraj,\n",
    "    },\n",
    "    'media': {\n",
    "        'types': ['country'],\n",
    "        'references': ['', ''],\n",
    "    },\n",
    "    'bank': {\n",
    "        'types': ['global'],\n",
    "        'references': ['bezpieczeństwo', 'wyzysk'],\n",
    "    },\n",
    "    'niemcy': {\n",
    "        'types': ['global', 'country'],\n",
    "        'references': kraj,\n",
    "    },\n",
    "    'papież': {\n",
    "        'types': ['global'],\n",
    "        'references': osoba,\n",
    "    },\n",
    "    'kościół': {\n",
    "        'types': ['country'],\n",
    "        'references': ['oparcie', 'firma'],\n",
    "    },\n",
    "    'korwin': {\n",
    "        'types': ['country'],\n",
    "        'references': osoba,\n",
    "    },\n",
    "    'rydzyk': {\n",
    "        'types': ['country'],\n",
    "        'references': osoba,\n",
    "    },\n",
    "    'feminizm': {\n",
    "        'types': ['country', 'global'],\n",
    "        'references': ['równość', 'patriarchat'],\n",
    "    },\n",
    "    'miller': {\n",
    "        'types': ['country'],\n",
    "        'references': osoba,\n",
    "    },\n",
    "}"
   ]
  },
  {
   "cell_type": "code",
   "execution_count": 6,
   "metadata": {
    "hidden": true
   },
   "outputs": [],
   "source": [
    "decoder = {\n",
    "    '%B1': 'ą',\n",
    "    '%BF': 'ż',\n",
    "    '%B3': 'ł',\n",
    "    '%B6': 'ś',\n",
    "    '%F1': 'ń',\n",
    "    '%F3': 'ó'\n",
    "}\n",
    "with open('keywords', 'r') as f:\n",
    "    raws = f.read().split('\\n')\n",
    "keyword_dict = {}\n",
    "for raw in raws:\n",
    "    tmp_keyword = raw\n",
    "    for d1, d2 in decoder.items():\n",
    "        tmp_keyword = tmp_keyword.replace(d1, d2)\n",
    "    keyword_dict[tmp_keyword] = ''"
   ]
  },
  {
   "cell_type": "code",
   "execution_count": 7,
   "metadata": {
    "hidden": true
   },
   "outputs": [],
   "source": [
    "keyword_regex = {\n",
    "    'pis': r\"\\Dpis\\D|prawo i sprawiedliwość\"\n",
    "}"
   ]
  },
  {
   "cell_type": "code",
   "execution_count": 8,
   "metadata": {
    "hidden": true
   },
   "outputs": [
    {
     "data": {
      "text/plain": [
       "<matplotlib.axes._subplots.AxesSubplot at 0x7f83e6829048>"
      ]
     },
     "execution_count": 8,
     "metadata": {},
     "output_type": "execute_result"
    },
    {
     "data": {
      "image/png": "[encoded data removed]",
      "text/plain": [
       "<Figure size 432x288 with 1 Axes>"
      ]
     },
     "metadata": {
      "needs_background": "light"
     },
     "output_type": "display_data"
    }
   ],
   "source": [
    "df\\\n",
    "    [['brand', 'title']]\\\n",
    "    .groupby('brand')\\\n",
    "    .count()\\\n",
    "    .plot(kind = 'bar', title = 'Ilość artykułów dla danych domów mediowych')"
   ]
  },
  {
   "cell_type": "markdown",
   "metadata": {},
   "source": [
    "# Analyze"
   ]
  },
  {
   "cell_type": "markdown",
   "metadata": {},
   "source": [
    "## Word2Vec"
   ]
  },
  {
   "cell_type": "code",
   "execution_count": 9,
   "metadata": {},
   "outputs": [],
   "source": [
    "df['whole_string'] = (\n",
    "    df['title'] + '. ' +\n",
    "    df['short'] + '. ' +\n",
    "    df['long']\n",
    ")"
   ]
  },
  {
   "cell_type": "code",
   "execution_count": 10,
   "metadata": {},
   "outputs": [],
   "source": [
    "def make_sentences(df):\n",
    "    sentences = []\n",
    "    for record in df['whole_string'].dropna().str.lower():\n",
    "        if record != None:\n",
    "            for sentence in record.split('.'):\n",
    "                sentences.append(re.sub(r'\\W+', ' ', sentence).lower().strip().split(' '))\n",
    "    return sentences"
   ]
  },
  {
   "cell_type": "code",
   "execution_count": 31,
   "metadata": {},
   "outputs": [
    {
     "name": "stdout",
     "output_type": "stream",
     "text": [
      "discovery\n",
      "sjegodnia\n",
      "agora\n",
      "tvp_gov\n",
      "ringier\n"
     ]
    }
   ],
   "source": [
    "models = {}\n",
    "models['global'] = Word2Vec(make_sentences(df), size = 100, min_count = 7, window = 6, workers = 10)\n",
    "for brand_name in df['brand'].unique():\n",
    "    print(brand_name)\n",
    "    brand_data = make_sentences(df[df['brand'] == brand_name])\n",
    "    models[brand_name] = Word2Vec(brand_data, size = 100, min_count = 7, window = 6, workers = 10)"
   ]
  },
  {
   "cell_type": "code",
   "execution_count": 37,
   "metadata": {},
   "outputs": [],
   "source": [
    "def unit_vector(vector):\n",
    "    return vector / np.linalg.norm(vector)\n",
    "def calculate_angle(v1, v2):\n",
    "    v1_u = unit_vector(v1)\n",
    "    v2_u = unit_vector(v2)\n",
    "    return abs(np.degrees(np.arccos(np.clip(np.dot(v1_u, v2_u), -1.0, 1.0))))"
   ]
  },
  {
   "cell_type": "code",
   "execution_count": 51,
   "metadata": {},
   "outputs": [],
   "source": [
    "def calculate_scores(point_of_view, models, selected_keywords):\n",
    "    model_dict_keys = (\n",
    "        ('us', 'discovery'),\n",
    "        ('pl', 'agora'),\n",
    "        ('de/ch', 'ringier'),\n",
    "        ('ru', 'sjegodnia'),\n",
    "        ('pl', 'tvp_gov')\n",
    "    )\n",
    "    results = []\n",
    "    df_idx = []\n",
    "    for keyword, k_properties in keyword_reference_words.items():\n",
    "        try:\n",
    "            if '' not in k_properties['references'] and point_of_view in k_properties['types']:\n",
    "                row = []\n",
    "                reference = k_properties['references']\n",
    "                for model_dict_key in model_dict_keys:\n",
    "                    # cosine similarity with one reference\n",
    "#                     keyword_v = models[model_dict_key[0]][model_dict_key[1]]['model'].wv[keyword]\n",
    "#                     reference_v = models['model'].wv[reference[0]]\n",
    "#                     score = distance.cosine(keyword_v, reference_v)\n",
    "                    # cosine similarity with two references\n",
    "                    keyword_vector = models[model_dict_key[1]].wv[keyword]\n",
    "                    positive_vector = models['global'].wv[reference[0]]\n",
    "                    negative_vector = models['global'].wv[reference[1]]\n",
    "                    positive_angle = calculate_angle(keyword_vector, positive_vector)\n",
    "                    negative_angle = calculate_angle(keyword_vector, negative_vector)\n",
    "                    score = positive_angle / (positive_angle+negative_angle)\n",
    "                    row.append(score)\n",
    "                results.append(row)\n",
    "                df_idx.append(keyword)\n",
    "        except KeyError:\n",
    "            print(keyword)\n",
    "    \n",
    "    tmp_res = pd.DataFrame(results, columns = ['discovery [US]', 'agora [PL]', 'ringier [EU]', 'sjegodnia [RU]', 'TVP [PL]'], index = df_idx)\n",
    "    return tmp_res[tmp_res.index.isin(selected_keywords)]"
   ]
  },
  {
   "cell_type": "code",
   "execution_count": 52,
   "metadata": {},
   "outputs": [],
   "source": [
    "def normalize(df):\n",
    "    result = df.copy()\n",
    "    for feature_name in df.columns:\n",
    "        max_value = df[feature_name].max()\n",
    "        min_value = df[feature_name].min()\n",
    "        std = df[feature_name].std()\n",
    "        result[feature_name] = (df[feature_name] - min_value) / std #(max_value - min_value)\n",
    "    return result"
   ]
  },
  {
   "cell_type": "code",
   "execution_count": 56,
   "metadata": {},
   "outputs": [
    {
     "name": "stdout",
     "output_type": "stream",
     "text": [
      "feminizm\n"
     ]
    },
    {
     "data": {
      "text/plain": [
       "<matplotlib.axes._subplots.AxesSubplot at 0x7f833ef0e5f8>"
      ]
     },
     "execution_count": 56,
     "metadata": {},
     "output_type": "execute_result"
    },
    {
     "data": {
      "image/png": "[encoded data removed]",
      "text/plain": [
       "<Figure size 432x288 with 2 Axes>"
      ]
     },
     "metadata": {
      "needs_background": "light"
     },
     "output_type": "display_data"
    }
   ],
   "source": [
    "vector_results = calculate_scores('global', models, ['rosja', 'imigranci', 'europa', 'putin'])\n",
    "sns.heatmap(vector_results, cmap = 'coolwarm', center = 0.5)"
   ]
  },
  {
   "cell_type": "code",
   "execution_count": 41,
   "metadata": {},
   "outputs": [
    {
     "data": {
      "text/plain": [
       "[('europa', 0.7618128061294556),\n",
       " ('rosja', 0.7418935298919678),\n",
       " ('ukraina', 0.7406814098358154),\n",
       " ('bułgaria', 0.6559218168258667),\n",
       " ('ameryka', 0.6522462368011475),\n",
       " ('grecja', 0.6384208798408508),\n",
       " ('gruzja', 0.6291079521179199),\n",
       " ('niepodległa', 0.6266262531280518),\n",
       " ('serbia', 0.6224954128265381),\n",
       " ('francja', 0.6197077035903931)]"
      ]
     },
     "execution_count": 41,
     "metadata": {},
     "output_type": "execute_result"
    }
   ],
   "source": [
    "models['global'].wv.most_similar('polska')"
   ]
  },
  {
   "cell_type": "code",
   "execution_count": 110,
   "metadata": {},
   "outputs": [],
   "source": [
    "with open('/home/jacek/models', 'wb') as f:\n",
    "    pickle.dump(models, f)"
   ]
  },
  {
   "cell_type": "code",
   "execution_count": 111,
   "metadata": {},
   "outputs": [],
   "source": [
    "with open('/home/jacek/models', 'rb') as f:\n",
    "    models = pickle.load(f)"
   ]
  },
  {
   "cell_type": "markdown",
   "metadata": {},
   "source": [
    "## Difference in keyword and reference vectors across brands"
   ]
  },
  {
   "cell_type": "code",
   "execution_count": 66,
   "metadata": {},
   "outputs": [],
   "source": [
    "reference_words = list(set([\n",
    "    x \n",
    "    for y in\n",
    "    [\n",
    "        i['references']\n",
    "        for k, i in\n",
    "        keyword_reference_words.items()\n",
    "    ]\n",
    "    for x in\n",
    "    y\n",
    "    if x != ''\n",
    "]))"
   ]
  },
  {
   "cell_type": "code",
   "execution_count": 84,
   "metadata": {},
   "outputs": [],
   "source": [
    "keywords = [\n",
    "    k\n",
    "    for k, i in\n",
    "    keyword_reference_words.items()\n",
    "]"
   ]
  },
  {
   "cell_type": "code",
   "execution_count": 136,
   "metadata": {},
   "outputs": [],
   "source": [
    "model_words = list(models['sjegodnia'].wv.vocab)"
   ]
  },
  {
   "cell_type": "code",
   "execution_count": 92,
   "metadata": {},
   "outputs": [],
   "source": [
    "brands = ['discovery', 'sjegodnia', 'agora', 'tvp_gov', 'ringier', 'global']"
   ]
  },
  {
   "cell_type": "code",
   "execution_count": 96,
   "metadata": {},
   "outputs": [],
   "source": [
    "brands_comb = list(combinations(brands, 2))"
   ]
  },
  {
   "cell_type": "markdown",
   "metadata": {},
   "source": [
    "- Dla wszystkich kombinacji par domów mediowych:\n",
    "    - Dla każdego słowa kluczowego/odniesienia:\n",
    "        - Oblicz różnicę dla tego słowa w wektorach dla różnych domach mediowych\n",
    "        - Oblicz przeciętnie jak bardzo wartości w wektorze różnią się pomiędzy domami mediowymi\n",
    "    - Oblicz średnią dla wszystkich wyliczonych słów dla danej pary domów mediowych\n",
    "- Wylicz średnią dla wszystkich par\n",
    "- Porównaj, o ile mocniej wektory różnią się pomiędzy sobą w grupie wyrazów kluczowych i wyrazów odniesień"
   ]
  },
  {
   "cell_type": "code",
   "execution_count": 112,
   "metadata": {},
   "outputs": [],
   "source": [
    "def get_avg_diff(words):\n",
    "    return np.array([\n",
    "        np.array([\n",
    "            np.array((abs(models[a].wv[word] - models[b].wv[word]))).mean()\n",
    "            for word in\n",
    "            words\n",
    "            if word in models[a].wv.vocab and word in models[b].wv.vocab\n",
    "        ]).mean()\n",
    "        for a, b in\n",
    "        brands_comb\n",
    "    ]).mean()"
   ]
  },
  {
   "cell_type": "code",
   "execution_count": 114,
   "metadata": {},
   "outputs": [
    {
     "data": {
      "text/plain": [
       "1.3579595"
      ]
     },
     "execution_count": 114,
     "metadata": {},
     "output_type": "execute_result"
    }
   ],
   "source": [
    "get_avg_diff(keywords)"
   ]
  },
  {
   "cell_type": "code",
   "execution_count": 140,
   "metadata": {},
   "outputs": [
    {
     "data": {
      "text/plain": [
       "0.69321465"
      ]
     },
     "execution_count": 140,
     "metadata": {},
     "output_type": "execute_result"
    }
   ],
   "source": [
    "get_avg_diff(reference_words)"
   ]
  },
  {
   "cell_type": "code",
   "execution_count": 143,
   "metadata": {},
   "outputs": [
    {
     "name": "stdout",
     "output_type": "stream",
     "text": [
      "0.4119489\n",
      "0.45895344\n",
      "0.3923192\n",
      "0.39340314\n",
      "0.27553144\n",
      "0.46579668\n",
      "0.42239007\n",
      "0.46210945\n",
      "0.50245064\n",
      "0.36235622\n"
     ]
    }
   ],
   "source": [
    "for i in range(10):\n",
    "    shuffle(model_words)\n",
    "    random_words = model_words[:len(reference_words)]\n",
    "    print(get_avg_diff(random_words))"
   ]
  },
  {
   "cell_type": "code",
   "execution_count": 107,
   "metadata": {},
   "outputs": [],
   "source": [
    "# Jak widać różnice są dwukrotnie większe wśród wyrazów kluczowych, \n",
    "# w porównaniu do słów odniesień lub trzykrotne w porównaniu do innych losowych słów.\n",
    "# Wygląda na to że różnice w wektorach pomiędzy brandami mają znaczenie"
   ]
  },
  {
   "cell_type": "markdown",
   "metadata": {},
   "source": [
    "## Obvious patterns"
   ]
  },
  {
   "cell_type": "code",
   "execution_count": 151,
   "metadata": {},
   "outputs": [
    {
     "name": "stdout",
     "output_type": "stream",
     "text": [
      "feminizm\n"
     ]
    },
    {
     "data": {
      "text/plain": [
       "<matplotlib.axes._subplots.AxesSubplot at 0x7f839d9f6dd8>"
      ]
     },
     "execution_count": 151,
     "metadata": {},
     "output_type": "execute_result"
    },
    {
     "data": {
      "image/png": "[encoded data removed]",
      "text/plain": [
       "<Figure size 720x576 with 2 Axes>"
      ]
     },
     "metadata": {},
     "output_type": "display_data"
    }
   ],
   "source": [
    "vector_results = calculate_scores('global', models, ['rosja', 'europa', 'putin', 'ukraina', 'niemcy'])\n",
    "sns.heatmap(vector_results[['sjegodnia [RU]']], cmap = 'coolwarm', center = 0.5)"
   ]
  },
  {
   "cell_type": "markdown",
   "metadata": {
    "heading_collapsed": true
   },
   "source": [
    "## Get emotions data from polish wordnet"
   ]
  },
  {
   "cell_type": "code",
   "execution_count": 22,
   "metadata": {
    "hidden": true
   },
   "outputs": [],
   "source": [
    "# http://plwordnet.pwr.wroc.pl//wordnet/download-wordnet?key=1iflsj&file=4.0\n",
    "# extract one file (słownik_anotacji_emocjonlanej) to home directory"
   ]
  },
  {
   "cell_type": "code",
   "execution_count": 152,
   "metadata": {
    "hidden": true
   },
   "outputs": [],
   "source": [
    "emotions = pd.read_csv('~/słownik_anotacji_emocjonlanej.csv')[['lemat', 'emocje']].dropna()"
   ]
  },
  {
   "cell_type": "code",
   "execution_count": 153,
   "metadata": {
    "hidden": true
   },
   "outputs": [
    {
     "data": {
      "text/html": [
       "<div>\n",
       "<style scoped>\n",
       "    .dataframe tbody tr th:only-of-type {\n",
       "        vertical-align: middle;\n",
       "    }\n",
       "\n",
       "    .dataframe tbody tr th {\n",
       "        vertical-align: top;\n",
       "    }\n",
       "\n",
       "    .dataframe thead th {\n",
       "        text-align: right;\n",
       "    }\n",
       "</style>\n",
       "<table border=\"1\" class=\"dataframe\">\n",
       "  <thead>\n",
       "    <tr style=\"text-align: right;\">\n",
       "      <th></th>\n",
       "      <th>lemat</th>\n",
       "      <th>emocje</th>\n",
       "    </tr>\n",
       "  </thead>\n",
       "  <tbody>\n",
       "    <tr>\n",
       "      <th>2</th>\n",
       "      <td>abstrakcyjny</td>\n",
       "      <td>wstręt;złość;zaskoczenie</td>\n",
       "    </tr>\n",
       "    <tr>\n",
       "      <th>3</th>\n",
       "      <td>abstrakcyjny</td>\n",
       "      <td>wstręt;złość</td>\n",
       "    </tr>\n",
       "    <tr>\n",
       "      <th>10</th>\n",
       "      <td>adorator</td>\n",
       "      <td>złość;radość</td>\n",
       "    </tr>\n",
       "    <tr>\n",
       "      <th>11</th>\n",
       "      <td>adorator</td>\n",
       "      <td>złość;cieszenie się na;radość;wstręt</td>\n",
       "    </tr>\n",
       "    <tr>\n",
       "      <th>18</th>\n",
       "      <td>afektowany</td>\n",
       "      <td>złość;smutek</td>\n",
       "    </tr>\n",
       "  </tbody>\n",
       "</table>\n",
       "</div>"
      ],
      "text/plain": [
       "           lemat                                emocje\n",
       "2   abstrakcyjny              wstręt;złość;zaskoczenie\n",
       "3   abstrakcyjny                          wstręt;złość\n",
       "10      adorator                          złość;radość\n",
       "11      adorator  złość;cieszenie się na;radość;wstręt\n",
       "18    afektowany                          złość;smutek"
      ]
     },
     "execution_count": 153,
     "metadata": {},
     "output_type": "execute_result"
    }
   ],
   "source": [
    "emotions.head()"
   ]
  },
  {
   "cell_type": "code",
   "execution_count": 154,
   "metadata": {
    "hidden": true
   },
   "outputs": [],
   "source": [
    "emotions['emocje'] = emotions['emocje'].str.replace(':', ';')"
   ]
  },
  {
   "cell_type": "code",
   "execution_count": 155,
   "metadata": {
    "hidden": true
   },
   "outputs": [],
   "source": [
    "pairs = [\n",
    "    ('złosć', 'negatywny'),\n",
    "    ('zlość', 'negatywny'),\n",
    "    ('złośc', 'negatywny'),\n",
    "    ('złość wstręt', 'negatywny'),\n",
    "    ('złość: nieużyteczność', 'negatywny'),\n",
    "    ('złóść', 'negatywny'),\n",
    "    ('bład', 'negatywny'),\n",
    "    ('brzydota', 'negatywny'),\n",
    "    ('błąd', 'negatywny'),\n",
    "    ('gniew', 'negatywny'),\n",
    "    ('krzywda', 'negatywny'),\n",
    "    ('nieszczęscie', 'negatywny'),\n",
    "    ('nieszczęście', 'negatywny'),\n",
    "    ('nieużyteczność', 'negatywny'),\n",
    "    ('złość', 'negatywny'),\n",
    "    ('strach', 'negatywny'),\n",
    "    ('strach wstręt', 'negatywny'),\n",
    "    ('smute', 'negatywny'),\n",
    "    ('smutek', 'negatywny'),\n",
    "    ('wstęt', 'negatywny'),\n",
    "    ('niewiedza', 'negatywny'),\n",
    "    ('negatywny wstręt', 'negatywny'),\n",
    "    ('negatywnyk', 'negatywny'),\n",
    "    ('negatywnyk: negatywny', 'negatywny'),\n",
    "    ('wstrę', 'negatywny'),\n",
    "    ('wstręt', 'negatywny'),\n",
    "    ('wstręt: negatywny', 'negatywny'),\n",
    "    ('negatywnyt', 'negatywny'),\n",
    "    ('s mutek', 'negatywny'),\n",
    "    ('wstret', 'negatywny'),\n",
    "    ('smitek', 'negatywny'),\n",
    "    (' negatywny', 'negatywny'),\n",
    "    \n",
    "    ('cieszenie sie', 'pozytywny'),\n",
    "    ('cieszenie sie na', 'pozytywny'),\n",
    "    ('cieszenie się na coś oczekiwanego', 'pozytywny'),\n",
    "    ('dobro', 'pozytywny'),\n",
    "    ('cieszenie sie', 'pozytywny'),\n",
    "    ('radoć', 'pozytywny'),\n",
    "    ('radość', 'pozytywny'),\n",
    "    ('radość: piękno', 'pozytywny'),\n",
    "    ('radość: szczęście', 'pozytywny'),\n",
    "    ('zaufanie', 'pozytywny'),\n",
    "    ('cieszenie się', 'pozytywny'),\n",
    "    ('cieszenie się na', 'pozytywny'),\n",
    "    ('ciesznie się na', 'pozytywny'),\n",
    "    ('piękno', 'pozytywny'),\n",
    "    ('pozytywny: piękno', 'pozytywny'),\n",
    "    ('pozytywny: szczęście', 'pozytywny'),\n",
    "    ('prawda', 'pozytywny'),\n",
    "    ('radosć', 'pozytywny'),\n",
    "    ('pozytywny: pozytywny', 'pozytywny'),\n",
    "    ('radośc', 'pozytywny'),\n",
    "    ('szczęście', 'pozytywny'),\n",
    "    ('użyteczność', 'pozytywny'),\n",
    "    ('wiedza', 'pozytywny'),\n",
    "    ('zufanie', 'pozytywny'),\n",
    "    ('pozytywny na', 'pozytywny'),\n",
    "    (' pozytywny', 'pozytywny'),\n",
    "    \n",
    "    ('zaskoczenie czymś nieprzewidywanym', ''),\n",
    "    ('oczekiwanie na', ''),\n",
    "    (' czymś nieprzewidywanym', ''),\n",
    "    ('-', ''),\n",
    "    ('zaskoczenie', ''),\n",
    "    ('pozytywnynegatywny', ''),\n",
    "]"
   ]
  },
  {
   "cell_type": "code",
   "execution_count": 156,
   "metadata": {
    "hidden": true
   },
   "outputs": [],
   "source": [
    "for pair in pairs:\n",
    "    emotions['emocje'] = emotions['emocje'].str.replace(pair[0], pair[1])"
   ]
  },
  {
   "cell_type": "code",
   "execution_count": 157,
   "metadata": {
    "hidden": true
   },
   "outputs": [],
   "source": [
    "emotions = pd.concat([\n",
    "    emotions['lemat'],\n",
    "    emotions['emocje']\\\n",
    "        .str.get_dummies(sep = ';')\\\n",
    "], axis = 1)"
   ]
  },
  {
   "cell_type": "code",
   "execution_count": 158,
   "metadata": {
    "hidden": true
   },
   "outputs": [],
   "source": [
    "emotions.loc[\n",
    "    emotions['pozytywny'] == emotions['negatywny']\n",
    ", 'ambiguous'] = True"
   ]
  },
  {
   "cell_type": "code",
   "execution_count": 159,
   "metadata": {
    "hidden": true
   },
   "outputs": [
    {
     "data": {
      "text/plain": [
       "56420"
      ]
     },
     "execution_count": 159,
     "metadata": {},
     "output_type": "execute_result"
    }
   ],
   "source": [
    "len(emotions)"
   ]
  },
  {
   "cell_type": "code",
   "execution_count": 160,
   "metadata": {
    "hidden": true
   },
   "outputs": [],
   "source": [
    "emotions = emotions[emotions['ambiguous'].isna()]\n",
    "emotions = emotions.drop('ambiguous', axis = 1)"
   ]
  },
  {
   "cell_type": "code",
   "execution_count": 161,
   "metadata": {
    "hidden": true
   },
   "outputs": [
    {
     "data": {
      "text/plain": [
       "47477"
      ]
     },
     "execution_count": 161,
     "metadata": {},
     "output_type": "execute_result"
    }
   ],
   "source": [
    "len(emotions)"
   ]
  },
  {
   "cell_type": "code",
   "execution_count": 162,
   "metadata": {
    "hidden": true
   },
   "outputs": [
    {
     "data": {
      "text/plain": [
       "31505"
      ]
     },
     "execution_count": 162,
     "metadata": {},
     "output_type": "execute_result"
    }
   ],
   "source": [
    "emotions['negatywny'].sum()"
   ]
  },
  {
   "cell_type": "code",
   "execution_count": 163,
   "metadata": {
    "hidden": true
   },
   "outputs": [
    {
     "data": {
      "text/plain": [
       "15972"
      ]
     },
     "execution_count": 163,
     "metadata": {},
     "output_type": "execute_result"
    }
   ],
   "source": [
    "emotions['pozytywny'].sum()"
   ]
  },
  {
   "cell_type": "code",
   "execution_count": 164,
   "metadata": {
    "hidden": true
   },
   "outputs": [
    {
     "data": {
      "text/html": [
       "<div>\n",
       "<style scoped>\n",
       "    .dataframe tbody tr th:only-of-type {\n",
       "        vertical-align: middle;\n",
       "    }\n",
       "\n",
       "    .dataframe tbody tr th {\n",
       "        vertical-align: top;\n",
       "    }\n",
       "\n",
       "    .dataframe thead th {\n",
       "        text-align: right;\n",
       "    }\n",
       "</style>\n",
       "<table border=\"1\" class=\"dataframe\">\n",
       "  <thead>\n",
       "    <tr style=\"text-align: right;\">\n",
       "      <th></th>\n",
       "      <th>lemat</th>\n",
       "      <th>negatywny</th>\n",
       "      <th>pozytywny</th>\n",
       "    </tr>\n",
       "  </thead>\n",
       "  <tbody>\n",
       "    <tr>\n",
       "      <th>162853</th>\n",
       "      <td>zrypany</td>\n",
       "      <td>1</td>\n",
       "      <td>0</td>\n",
       "    </tr>\n",
       "    <tr>\n",
       "      <th>158506</th>\n",
       "      <td>humanizować się</td>\n",
       "      <td>0</td>\n",
       "      <td>1</td>\n",
       "    </tr>\n",
       "    <tr>\n",
       "      <th>29398</th>\n",
       "      <td>literacina</td>\n",
       "      <td>1</td>\n",
       "      <td>0</td>\n",
       "    </tr>\n",
       "    <tr>\n",
       "      <th>82735</th>\n",
       "      <td>niesolidarność</td>\n",
       "      <td>1</td>\n",
       "      <td>0</td>\n",
       "    </tr>\n",
       "    <tr>\n",
       "      <th>176077</th>\n",
       "      <td>narobić się</td>\n",
       "      <td>1</td>\n",
       "      <td>0</td>\n",
       "    </tr>\n",
       "  </tbody>\n",
       "</table>\n",
       "</div>"
      ],
      "text/plain": [
       "                  lemat  negatywny  pozytywny\n",
       "162853          zrypany          1          0\n",
       "158506  humanizować się          0          1\n",
       "29398        literacina          1          0\n",
       "82735    niesolidarność          1          0\n",
       "176077      narobić się          1          0"
      ]
     },
     "execution_count": 164,
     "metadata": {},
     "output_type": "execute_result"
    }
   ],
   "source": [
    "emotions.sample(5).head()"
   ]
  },
  {
   "cell_type": "code",
   "execution_count": 165,
   "metadata": {
    "hidden": true
   },
   "outputs": [],
   "source": [
    "emotions = emotions.drop('negatywny', axis = 1)"
   ]
  },
  {
   "cell_type": "code",
   "execution_count": 166,
   "metadata": {
    "hidden": true
   },
   "outputs": [],
   "source": [
    "emotions.loc[emotions['pozytywny'] == 0, 'pozytywny'] = -1"
   ]
  },
  {
   "cell_type": "code",
   "execution_count": 167,
   "metadata": {
    "hidden": true
   },
   "outputs": [],
   "source": [
    "emotions.columns = ['lemat', 'sentyment']"
   ]
  },
  {
   "cell_type": "code",
   "execution_count": 168,
   "metadata": {
    "hidden": true
   },
   "outputs": [],
   "source": [
    "emotions = emotions.drop_duplicates()"
   ]
  },
  {
   "cell_type": "code",
   "execution_count": 169,
   "metadata": {
    "hidden": true
   },
   "outputs": [
    {
     "data": {
      "text/html": [
       "<div>\n",
       "<style scoped>\n",
       "    .dataframe tbody tr th:only-of-type {\n",
       "        vertical-align: middle;\n",
       "    }\n",
       "\n",
       "    .dataframe tbody tr th {\n",
       "        vertical-align: top;\n",
       "    }\n",
       "\n",
       "    .dataframe thead th {\n",
       "        text-align: right;\n",
       "    }\n",
       "</style>\n",
       "<table border=\"1\" class=\"dataframe\">\n",
       "  <thead>\n",
       "    <tr style=\"text-align: right;\">\n",
       "      <th></th>\n",
       "      <th>lemat</th>\n",
       "      <th>sentyment</th>\n",
       "    </tr>\n",
       "  </thead>\n",
       "  <tbody>\n",
       "    <tr>\n",
       "      <th>148581</th>\n",
       "      <td>uparty jak kozioł</td>\n",
       "      <td>-1</td>\n",
       "    </tr>\n",
       "    <tr>\n",
       "      <th>123293</th>\n",
       "      <td>egalitarystyczny</td>\n",
       "      <td>1</td>\n",
       "    </tr>\n",
       "    <tr>\n",
       "      <th>85822</th>\n",
       "      <td>udany</td>\n",
       "      <td>1</td>\n",
       "    </tr>\n",
       "    <tr>\n",
       "      <th>161759</th>\n",
       "      <td>prozwierzęcy</td>\n",
       "      <td>1</td>\n",
       "    </tr>\n",
       "    <tr>\n",
       "      <th>52829</th>\n",
       "      <td>nabijać się</td>\n",
       "      <td>-1</td>\n",
       "    </tr>\n",
       "  </tbody>\n",
       "</table>\n",
       "</div>"
      ],
      "text/plain": [
       "                    lemat  sentyment\n",
       "148581  uparty jak kozioł         -1\n",
       "123293   egalitarystyczny          1\n",
       "85822               udany          1\n",
       "161759       prozwierzęcy          1\n",
       "52829         nabijać się         -1"
      ]
     },
     "execution_count": 169,
     "metadata": {},
     "output_type": "execute_result"
    }
   ],
   "source": [
    "emotions.sample(5).head()"
   ]
  },
  {
   "cell_type": "code",
   "execution_count": 170,
   "metadata": {
    "hidden": true
   },
   "outputs": [],
   "source": [
    "emotions_dict = {x[0]:x[1] for x in emotions.values}"
   ]
  },
  {
   "cell_type": "markdown",
   "metadata": {
    "heading_collapsed": true
   },
   "source": [
    "## Titles/shorts"
   ]
  },
  {
   "cell_type": "code",
   "execution_count": 171,
   "metadata": {
    "hidden": true
   },
   "outputs": [
    {
     "data": {
      "text/html": [
       "<div>\n",
       "<style scoped>\n",
       "    .dataframe tbody tr th:only-of-type {\n",
       "        vertical-align: middle;\n",
       "    }\n",
       "\n",
       "    .dataframe tbody tr th {\n",
       "        vertical-align: top;\n",
       "    }\n",
       "\n",
       "    .dataframe thead th {\n",
       "        text-align: right;\n",
       "    }\n",
       "</style>\n",
       "<table border=\"1\" class=\"dataframe\">\n",
       "  <thead>\n",
       "    <tr style=\"text-align: right;\">\n",
       "      <th></th>\n",
       "      <th>lemat</th>\n",
       "      <th>sentyment</th>\n",
       "    </tr>\n",
       "  </thead>\n",
       "  <tbody>\n",
       "    <tr>\n",
       "      <th>165551</th>\n",
       "      <td>pobiesiadować</td>\n",
       "      <td>1</td>\n",
       "    </tr>\n",
       "    <tr>\n",
       "      <th>150883</th>\n",
       "      <td>gównoburza</td>\n",
       "      <td>-1</td>\n",
       "    </tr>\n",
       "    <tr>\n",
       "      <th>7702</th>\n",
       "      <td>uprzedzenie</td>\n",
       "      <td>-1</td>\n",
       "    </tr>\n",
       "    <tr>\n",
       "      <th>10678</th>\n",
       "      <td>psi grosz</td>\n",
       "      <td>-1</td>\n",
       "    </tr>\n",
       "    <tr>\n",
       "      <th>85227</th>\n",
       "      <td>nowiusieńki</td>\n",
       "      <td>1</td>\n",
       "    </tr>\n",
       "  </tbody>\n",
       "</table>\n",
       "</div>"
      ],
      "text/plain": [
       "                lemat  sentyment\n",
       "165551  pobiesiadować          1\n",
       "150883     gównoburza         -1\n",
       "7702      uprzedzenie         -1\n",
       "10678       psi grosz         -1\n",
       "85227     nowiusieńki          1"
      ]
     },
     "execution_count": 171,
     "metadata": {},
     "output_type": "execute_result"
    }
   ],
   "source": [
    "emotions.sample(5).head()"
   ]
  },
  {
   "cell_type": "code",
   "execution_count": 172,
   "metadata": {
    "hidden": true
   },
   "outputs": [],
   "source": [
    "emotion_words = emotions_dict.keys()"
   ]
  },
  {
   "cell_type": "code",
   "execution_count": 173,
   "metadata": {
    "hidden": true
   },
   "outputs": [],
   "source": [
    "df['sentiment'] = df['long'].str.lower().apply(lambda x: sum([emotions_dict[a] \n",
    "                                         for a in str(x).split(' ')\n",
    "                                         if a in emotion_words]))"
   ]
  },
  {
   "cell_type": "code",
   "execution_count": 178,
   "metadata": {
    "hidden": true
   },
   "outputs": [
    {
     "ename": "KeyError",
     "evalue": "'najwyższy'",
     "output_type": "error",
     "traceback": [
      "\u001b[0;31m---------------------------------------------------------------------------\u001b[0m",
      "\u001b[0;31mKeyError\u001b[0m                                  Traceback (most recent call last)",
      "\u001b[0;32m~/anaconda3/envs/py36/lib/python3.6/site-packages/pandas/core/indexes/base.py\u001b[0m in \u001b[0;36mget_loc\u001b[0;34m(self, key, method, tolerance)\u001b[0m\n\u001b[1;32m   2896\u001b[0m             \u001b[0;32mtry\u001b[0m\u001b[0;34m:\u001b[0m\u001b[0;34m\u001b[0m\u001b[0;34m\u001b[0m\u001b[0m\n\u001b[0;32m-> 2897\u001b[0;31m                 \u001b[0;32mreturn\u001b[0m \u001b[0mself\u001b[0m\u001b[0;34m.\u001b[0m\u001b[0m_engine\u001b[0m\u001b[0;34m.\u001b[0m\u001b[0mget_loc\u001b[0m\u001b[0;34m(\u001b[0m\u001b[0mkey\u001b[0m\u001b[0;34m)\u001b[0m\u001b[0;34m\u001b[0m\u001b[0;34m\u001b[0m\u001b[0m\n\u001b[0m\u001b[1;32m   2898\u001b[0m             \u001b[0;32mexcept\u001b[0m \u001b[0mKeyError\u001b[0m\u001b[0;34m:\u001b[0m\u001b[0;34m\u001b[0m\u001b[0;34m\u001b[0m\u001b[0m\n",
      "\u001b[0;32mpandas/_libs/index.pyx\u001b[0m in \u001b[0;36mpandas._libs.index.IndexEngine.get_loc\u001b[0;34m()\u001b[0m\n",
      "\u001b[0;32mpandas/_libs/index.pyx\u001b[0m in \u001b[0;36mpandas._libs.index.IndexEngine.get_loc\u001b[0;34m()\u001b[0m\n",
      "\u001b[0;32mpandas/_libs/hashtable_class_helper.pxi\u001b[0m in \u001b[0;36mpandas._libs.hashtable.PyObjectHashTable.get_item\u001b[0;34m()\u001b[0m\n",
      "\u001b[0;32mpandas/_libs/hashtable_class_helper.pxi\u001b[0m in \u001b[0;36mpandas._libs.hashtable.PyObjectHashTable.get_item\u001b[0;34m()\u001b[0m\n",
      "\u001b[0;31mKeyError\u001b[0m: 'najwyższy'",
      "\nDuring handling of the above exception, another exception occurred:\n",
      "\u001b[0;31mKeyError\u001b[0m                                  Traceback (most recent call last)",
      "\u001b[0;32m<ipython-input-178-54494ac32a8c>\u001b[0m in \u001b[0;36m<module>\u001b[0;34m\u001b[0m\n\u001b[1;32m      4\u001b[0m     \u001b[0;32mfor\u001b[0m \u001b[0mkeyword\u001b[0m \u001b[0;32min\u001b[0m \u001b[0mkeywords\u001b[0m\u001b[0;34m:\u001b[0m\u001b[0;34m\u001b[0m\u001b[0;34m\u001b[0m\u001b[0m\n\u001b[1;32m      5\u001b[0m         \u001b[0mdata_dict\u001b[0m\u001b[0;34m[\u001b[0m\u001b[0mkeyword\u001b[0m\u001b[0;34m]\u001b[0m \u001b[0;34m=\u001b[0m \u001b[0mdf\u001b[0m\u001b[0;31m\\\u001b[0m\u001b[0;34m\u001b[0m\u001b[0;34m\u001b[0m\u001b[0m\n\u001b[0;32m----> 6\u001b[0;31m             \u001b[0;34m[\u001b[0m\u001b[0;34m(\u001b[0m\u001b[0mdf\u001b[0m\u001b[0;34m[\u001b[0m\u001b[0mkeyword\u001b[0m\u001b[0;34m]\u001b[0m \u001b[0;34m==\u001b[0m \u001b[0;36m1\u001b[0m\u001b[0;34m)\u001b[0m\u001b[0;34m&\u001b[0m\u001b[0;34m(\u001b[0m\u001b[0mdf\u001b[0m\u001b[0;34m[\u001b[0m\u001b[0;34m'sentiment'\u001b[0m\u001b[0;34m]\u001b[0m \u001b[0;34m!=\u001b[0m \u001b[0;36m0\u001b[0m\u001b[0;34m)\u001b[0m\u001b[0;34m]\u001b[0m\u001b[0;31m\\\u001b[0m\u001b[0;34m\u001b[0m\u001b[0;34m\u001b[0m\u001b[0m\n\u001b[0m\u001b[1;32m      7\u001b[0m             \u001b[0;34m[\u001b[0m\u001b[0mgrouping_order\u001b[0m\u001b[0;34m[\u001b[0m\u001b[0;34m'columns_before'\u001b[0m\u001b[0;34m]\u001b[0m\u001b[0;34m]\u001b[0m\u001b[0;31m\\\u001b[0m\u001b[0;34m\u001b[0m\u001b[0;34m\u001b[0m\u001b[0m\n\u001b[1;32m      8\u001b[0m             \u001b[0;34m.\u001b[0m\u001b[0mgroupby\u001b[0m\u001b[0;34m(\u001b[0m\u001b[0mgrouping_order\u001b[0m\u001b[0;34m[\u001b[0m\u001b[0;34m'groupby'\u001b[0m\u001b[0;34m]\u001b[0m\u001b[0;34m)\u001b[0m\u001b[0;31m\\\u001b[0m\u001b[0;34m\u001b[0m\u001b[0;34m\u001b[0m\u001b[0m\n",
      "\u001b[0;32m~/anaconda3/envs/py36/lib/python3.6/site-packages/pandas/core/frame.py\u001b[0m in \u001b[0;36m__getitem__\u001b[0;34m(self, key)\u001b[0m\n\u001b[1;32m   2993\u001b[0m             \u001b[0;32mif\u001b[0m \u001b[0mself\u001b[0m\u001b[0;34m.\u001b[0m\u001b[0mcolumns\u001b[0m\u001b[0;34m.\u001b[0m\u001b[0mnlevels\u001b[0m \u001b[0;34m>\u001b[0m \u001b[0;36m1\u001b[0m\u001b[0;34m:\u001b[0m\u001b[0;34m\u001b[0m\u001b[0;34m\u001b[0m\u001b[0m\n\u001b[1;32m   2994\u001b[0m                 \u001b[0;32mreturn\u001b[0m \u001b[0mself\u001b[0m\u001b[0;34m.\u001b[0m\u001b[0m_getitem_multilevel\u001b[0m\u001b[0;34m(\u001b[0m\u001b[0mkey\u001b[0m\u001b[0;34m)\u001b[0m\u001b[0;34m\u001b[0m\u001b[0;34m\u001b[0m\u001b[0m\n\u001b[0;32m-> 2995\u001b[0;31m             \u001b[0mindexer\u001b[0m \u001b[0;34m=\u001b[0m \u001b[0mself\u001b[0m\u001b[0;34m.\u001b[0m\u001b[0mcolumns\u001b[0m\u001b[0;34m.\u001b[0m\u001b[0mget_loc\u001b[0m\u001b[0;34m(\u001b[0m\u001b[0mkey\u001b[0m\u001b[0;34m)\u001b[0m\u001b[0;34m\u001b[0m\u001b[0;34m\u001b[0m\u001b[0m\n\u001b[0m\u001b[1;32m   2996\u001b[0m             \u001b[0;32mif\u001b[0m \u001b[0mis_integer\u001b[0m\u001b[0;34m(\u001b[0m\u001b[0mindexer\u001b[0m\u001b[0;34m)\u001b[0m\u001b[0;34m:\u001b[0m\u001b[0;34m\u001b[0m\u001b[0;34m\u001b[0m\u001b[0m\n\u001b[1;32m   2997\u001b[0m                 \u001b[0mindexer\u001b[0m \u001b[0;34m=\u001b[0m \u001b[0;34m[\u001b[0m\u001b[0mindexer\u001b[0m\u001b[0;34m]\u001b[0m\u001b[0;34m\u001b[0m\u001b[0;34m\u001b[0m\u001b[0m\n",
      "\u001b[0;32m~/anaconda3/envs/py36/lib/python3.6/site-packages/pandas/core/indexes/base.py\u001b[0m in \u001b[0;36mget_loc\u001b[0;34m(self, key, method, tolerance)\u001b[0m\n\u001b[1;32m   2897\u001b[0m                 \u001b[0;32mreturn\u001b[0m \u001b[0mself\u001b[0m\u001b[0;34m.\u001b[0m\u001b[0m_engine\u001b[0m\u001b[0;34m.\u001b[0m\u001b[0mget_loc\u001b[0m\u001b[0;34m(\u001b[0m\u001b[0mkey\u001b[0m\u001b[0;34m)\u001b[0m\u001b[0;34m\u001b[0m\u001b[0;34m\u001b[0m\u001b[0m\n\u001b[1;32m   2898\u001b[0m             \u001b[0;32mexcept\u001b[0m \u001b[0mKeyError\u001b[0m\u001b[0;34m:\u001b[0m\u001b[0;34m\u001b[0m\u001b[0;34m\u001b[0m\u001b[0m\n\u001b[0;32m-> 2899\u001b[0;31m                 \u001b[0;32mreturn\u001b[0m \u001b[0mself\u001b[0m\u001b[0;34m.\u001b[0m\u001b[0m_engine\u001b[0m\u001b[0;34m.\u001b[0m\u001b[0mget_loc\u001b[0m\u001b[0;34m(\u001b[0m\u001b[0mself\u001b[0m\u001b[0;34m.\u001b[0m\u001b[0m_maybe_cast_indexer\u001b[0m\u001b[0;34m(\u001b[0m\u001b[0mkey\u001b[0m\u001b[0;34m)\u001b[0m\u001b[0;34m)\u001b[0m\u001b[0;34m\u001b[0m\u001b[0;34m\u001b[0m\u001b[0m\n\u001b[0m\u001b[1;32m   2900\u001b[0m         \u001b[0mindexer\u001b[0m \u001b[0;34m=\u001b[0m \u001b[0mself\u001b[0m\u001b[0;34m.\u001b[0m\u001b[0mget_indexer\u001b[0m\u001b[0;34m(\u001b[0m\u001b[0;34m[\u001b[0m\u001b[0mkey\u001b[0m\u001b[0;34m]\u001b[0m\u001b[0;34m,\u001b[0m \u001b[0mmethod\u001b[0m\u001b[0;34m=\u001b[0m\u001b[0mmethod\u001b[0m\u001b[0;34m,\u001b[0m \u001b[0mtolerance\u001b[0m\u001b[0;34m=\u001b[0m\u001b[0mtolerance\u001b[0m\u001b[0;34m)\u001b[0m\u001b[0;34m\u001b[0m\u001b[0;34m\u001b[0m\u001b[0m\n\u001b[1;32m   2901\u001b[0m         \u001b[0;32mif\u001b[0m \u001b[0mindexer\u001b[0m\u001b[0;34m.\u001b[0m\u001b[0mndim\u001b[0m \u001b[0;34m>\u001b[0m \u001b[0;36m1\u001b[0m \u001b[0;32mor\u001b[0m \u001b[0mindexer\u001b[0m\u001b[0;34m.\u001b[0m\u001b[0msize\u001b[0m \u001b[0;34m>\u001b[0m \u001b[0;36m1\u001b[0m\u001b[0;34m:\u001b[0m\u001b[0;34m\u001b[0m\u001b[0;34m\u001b[0m\u001b[0m\n",
      "\u001b[0;32mpandas/_libs/index.pyx\u001b[0m in \u001b[0;36mpandas._libs.index.IndexEngine.get_loc\u001b[0;34m()\u001b[0m\n",
      "\u001b[0;32mpandas/_libs/index.pyx\u001b[0m in \u001b[0;36mpandas._libs.index.IndexEngine.get_loc\u001b[0;34m()\u001b[0m\n",
      "\u001b[0;32mpandas/_libs/hashtable_class_helper.pxi\u001b[0m in \u001b[0;36mpandas._libs.hashtable.PyObjectHashTable.get_item\u001b[0;34m()\u001b[0m\n",
      "\u001b[0;32mpandas/_libs/hashtable_class_helper.pxi\u001b[0m in \u001b[0;36mpandas._libs.hashtable.PyObjectHashTable.get_item\u001b[0;34m()\u001b[0m\n",
      "\u001b[0;31mKeyError\u001b[0m: 'najwyższy'"
     ]
    }
   ],
   "source": [
    "grouped_data = {}\n",
    "for key, grouping_order in grouping_orders.items():\n",
    "    data_dict = {}\n",
    "    for keyword in keywords:\n",
    "        data_dict[keyword] = df\\\n",
    "            [(df[keyword] == 1)&(df['sentiment'] != 0)]\\\n",
    "            [grouping_order['columns_before']]\\\n",
    "            .groupby(grouping_order['groupby'])\\\n",
    "            .mean()\\\n",
    "            .values\\\n",
    "            .flatten()\n",
    "    res = pd.DataFrame().from_dict(\n",
    "        data_dict,\n",
    "        'index',\n",
    "        columns = grouping_order['columns_after']\n",
    "    )\n",
    "    res = (res - res.mean())/res.std()\n",
    "    grouped_data[key] = res"
   ]
  },
  {
   "cell_type": "code",
   "execution_count": 176,
   "metadata": {
    "hidden": true,
    "scrolled": true
   },
   "outputs": [
    {
     "ename": "TypeError",
     "evalue": "ufunc 'isnan' not supported for the input types, and the inputs could not be safely coerced to any supported types according to the casting rule ''safe''",
     "output_type": "error",
     "traceback": [
      "\u001b[0;31m---------------------------------------------------------------------------\u001b[0m",
      "\u001b[0;31mTypeError\u001b[0m                                 Traceback (most recent call last)",
      "\u001b[0;32m<ipython-input-176-031368894469>\u001b[0m in \u001b[0;36m<module>\u001b[0;34m\u001b[0m\n\u001b[0;32m----> 1\u001b[0;31m \u001b[0msns\u001b[0m\u001b[0;34m.\u001b[0m\u001b[0mheatmap\u001b[0m\u001b[0;34m(\u001b[0m\u001b[0mgrouped_data\u001b[0m\u001b[0;34m[\u001b[0m\u001b[0;34m'brand'\u001b[0m\u001b[0;34m]\u001b[0m\u001b[0;34m)\u001b[0m\u001b[0;34m;\u001b[0m\u001b[0;34m\u001b[0m\u001b[0;34m\u001b[0m\u001b[0m\n\u001b[0m",
      "\u001b[0;32m~/anaconda3/envs/py36/lib/python3.6/site-packages/seaborn/matrix.py\u001b[0m in \u001b[0;36mheatmap\u001b[0;34m(data, vmin, vmax, cmap, center, robust, annot, fmt, annot_kws, linewidths, linecolor, cbar, cbar_kws, cbar_ax, square, xticklabels, yticklabels, mask, ax, **kwargs)\u001b[0m\n\u001b[1;32m    515\u001b[0m     plotter = _HeatMapper(data, vmin, vmax, cmap, center, robust, annot, fmt,\n\u001b[1;32m    516\u001b[0m                           \u001b[0mannot_kws\u001b[0m\u001b[0;34m,\u001b[0m \u001b[0mcbar\u001b[0m\u001b[0;34m,\u001b[0m \u001b[0mcbar_kws\u001b[0m\u001b[0;34m,\u001b[0m \u001b[0mxticklabels\u001b[0m\u001b[0;34m,\u001b[0m\u001b[0;34m\u001b[0m\u001b[0;34m\u001b[0m\u001b[0m\n\u001b[0;32m--> 517\u001b[0;31m                           yticklabels, mask)\n\u001b[0m\u001b[1;32m    518\u001b[0m \u001b[0;34m\u001b[0m\u001b[0m\n\u001b[1;32m    519\u001b[0m     \u001b[0;31m# Add the pcolormesh kwargs here\u001b[0m\u001b[0;34m\u001b[0m\u001b[0;34m\u001b[0m\u001b[0;34m\u001b[0m\u001b[0m\n",
      "\u001b[0;32m~/anaconda3/envs/py36/lib/python3.6/site-packages/seaborn/matrix.py\u001b[0m in \u001b[0;36m__init__\u001b[0;34m(self, data, vmin, vmax, cmap, center, robust, annot, fmt, annot_kws, cbar, cbar_kws, xticklabels, yticklabels, mask)\u001b[0m\n\u001b[1;32m    165\u001b[0m         \u001b[0;31m# Determine good default values for the colormapping\u001b[0m\u001b[0;34m\u001b[0m\u001b[0;34m\u001b[0m\u001b[0;34m\u001b[0m\u001b[0m\n\u001b[1;32m    166\u001b[0m         self._determine_cmap_params(plot_data, vmin, vmax,\n\u001b[0;32m--> 167\u001b[0;31m                                     cmap, center, robust)\n\u001b[0m\u001b[1;32m    168\u001b[0m \u001b[0;34m\u001b[0m\u001b[0m\n\u001b[1;32m    169\u001b[0m         \u001b[0;31m# Sort out the annotations\u001b[0m\u001b[0;34m\u001b[0m\u001b[0;34m\u001b[0m\u001b[0;34m\u001b[0m\u001b[0m\n",
      "\u001b[0;32m~/anaconda3/envs/py36/lib/python3.6/site-packages/seaborn/matrix.py\u001b[0m in \u001b[0;36m_determine_cmap_params\u001b[0;34m(self, plot_data, vmin, vmax, cmap, center, robust)\u001b[0m\n\u001b[1;32m    202\u001b[0m                                cmap, center, robust):\n\u001b[1;32m    203\u001b[0m         \u001b[0;34m\"\"\"Use some heuristics to set good defaults for colorbar and range.\"\"\"\u001b[0m\u001b[0;34m\u001b[0m\u001b[0;34m\u001b[0m\u001b[0m\n\u001b[0;32m--> 204\u001b[0;31m         \u001b[0mcalc_data\u001b[0m \u001b[0;34m=\u001b[0m \u001b[0mplot_data\u001b[0m\u001b[0;34m.\u001b[0m\u001b[0mdata\u001b[0m\u001b[0;34m[\u001b[0m\u001b[0;34m~\u001b[0m\u001b[0mnp\u001b[0m\u001b[0;34m.\u001b[0m\u001b[0misnan\u001b[0m\u001b[0;34m(\u001b[0m\u001b[0mplot_data\u001b[0m\u001b[0;34m.\u001b[0m\u001b[0mdata\u001b[0m\u001b[0;34m)\u001b[0m\u001b[0;34m]\u001b[0m\u001b[0;34m\u001b[0m\u001b[0;34m\u001b[0m\u001b[0m\n\u001b[0m\u001b[1;32m    205\u001b[0m         \u001b[0;32mif\u001b[0m \u001b[0mvmin\u001b[0m \u001b[0;32mis\u001b[0m \u001b[0;32mNone\u001b[0m\u001b[0;34m:\u001b[0m\u001b[0;34m\u001b[0m\u001b[0;34m\u001b[0m\u001b[0m\n\u001b[1;32m    206\u001b[0m             \u001b[0mvmin\u001b[0m \u001b[0;34m=\u001b[0m \u001b[0mnp\u001b[0m\u001b[0;34m.\u001b[0m\u001b[0mpercentile\u001b[0m\u001b[0;34m(\u001b[0m\u001b[0mcalc_data\u001b[0m\u001b[0;34m,\u001b[0m \u001b[0;36m2\u001b[0m\u001b[0;34m)\u001b[0m \u001b[0;32mif\u001b[0m \u001b[0mrobust\u001b[0m \u001b[0;32melse\u001b[0m \u001b[0mcalc_data\u001b[0m\u001b[0;34m.\u001b[0m\u001b[0mmin\u001b[0m\u001b[0;34m(\u001b[0m\u001b[0;34m)\u001b[0m\u001b[0;34m\u001b[0m\u001b[0;34m\u001b[0m\u001b[0m\n",
      "\u001b[0;31mTypeError\u001b[0m: ufunc 'isnan' not supported for the input types, and the inputs could not be safely coerced to any supported types according to the casting rule ''safe''"
     ]
    }
   ],
   "source": [
    "sns.heatmap(grouped_data['brand']);"
   ]
  },
  {
   "cell_type": "code",
   "execution_count": 47,
   "metadata": {
    "hidden": true
   },
   "outputs": [],
   "source": [
    "# compare that chart (two websites in one company), and two websites from two different companies"
   ]
  },
  {
   "cell_type": "code",
   "execution_count": null,
   "metadata": {
    "hidden": true
   },
   "outputs": [],
   "source": []
  },
  {
   "cell_type": "markdown",
   "metadata": {
    "heading_collapsed": true
   },
   "source": [
    "## Regex"
   ]
  },
  {
   "cell_type": "code",
   "execution_count": 180,
   "metadata": {
    "hidden": true
   },
   "outputs": [],
   "source": [
    "wc = WordCloud()"
   ]
  },
  {
   "cell_type": "code",
   "execution_count": 181,
   "metadata": {
    "hidden": true
   },
   "outputs": [],
   "source": [
    "keyword_patterns = ['duda', 'dudy', 'dude']"
   ]
  },
  {
   "cell_type": "code",
   "execution_count": 182,
   "metadata": {
    "hidden": true
   },
   "outputs": [],
   "source": [
    "found_records = df[['long']][\n",
    "    df['long'].str.lower().str.contains(r'|'.join(keyword_patterns)) == True\n",
    "].values.flatten()"
   ]
  },
  {
   "cell_type": "code",
   "execution_count": 183,
   "metadata": {
    "hidden": true
   },
   "outputs": [],
   "source": [
    "keyword_words_before = []\n",
    "keyword_words_after = []\n",
    "for record in found_records:\n",
    "    tmp_string_list = re.sub(r'\\W+', ' ', record).lower().split(' ')\n",
    "    keyword_idxs = [n for n, x in enumerate(tmp_string_list) if x in keyword_patterns]\n",
    "    max_idx = len(tmp_string_list)\n",
    "    for keyword_idx in keyword_idxs:\n",
    "        if keyword_idx < max_idx - 2 and keyword_idx > 1:\n",
    "            keyword_context_before = tmp_string_list[keyword_idx-2 : keyword_idx]\n",
    "            keyword_words_before.append(keyword_context_before[0])\n",
    "            keyword_words_before.append(keyword_context_before[1])\n",
    "            keyword_context_after = tmp_string_list[keyword_idx+1 : keyword_idx+3]\n",
    "            keyword_words_after.append(keyword_context_after[0])\n",
    "            keyword_words_after.append(keyword_context_after[1])"
   ]
  },
  {
   "cell_type": "code",
   "execution_count": 184,
   "metadata": {
    "hidden": true
   },
   "outputs": [
    {
     "data": {
      "text/plain": [
       "<matplotlib.image.AxesImage at 0x7f839132a588>"
      ]
     },
     "execution_count": 184,
     "metadata": {},
     "output_type": "execute_result"
    },
    {
     "data": {
      "image/png": "[encoded data removed]",
      "text/plain": [
       "<Figure size 720x576 with 1 Axes>"
      ]
     },
     "metadata": {},
     "output_type": "display_data"
    }
   ],
   "source": [
    "plt.imshow(wc.generate(\" \".join(keyword_words_after)))"
   ]
  },
  {
   "cell_type": "code",
   "execution_count": null,
   "metadata": {
    "hidden": true
   },
   "outputs": [],
   "source": []
  },
  {
   "cell_type": "code",
   "execution_count": null,
   "metadata": {
    "hidden": true
   },
   "outputs": [],
   "source": []
  },
  {
   "cell_type": "code",
   "execution_count": null,
   "metadata": {
    "hidden": true
   },
   "outputs": [],
   "source": []
  },
  {
   "cell_type": "code",
   "execution_count": null,
   "metadata": {
    "hidden": true
   },
   "outputs": [],
   "source": []
  },
  {
   "cell_type": "code",
   "execution_count": null,
   "metadata": {
    "hidden": true
   },
   "outputs": [],
   "source": []
  }
 ],
 "metadata": {
  "kernelspec": {
   "display_name": "Python 3",
   "language": "python",
   "name": "python3"
  },
  "language_info": {
   "codemirror_mode": {
    "name": "ipython",
    "version": 3
   },
   "file_extension": ".py",
   "mimetype": "text/x-python",
   "name": "python",
   "nbconvert_exporter": "python",
   "pygments_lexer": "ipython3",
   "version": "3.6.9"
  },
  "toc": {
   "base_numbering": 1,
   "nav_menu": {},
   "number_sections": true,
   "sideBar": true,
   "skip_h1_title": false,
   "title_cell": "Table of Contents",
   "title_sidebar": "Contents",
   "toc_cell": false,
   "toc_position": {},
   "toc_section_display": true,
   "toc_window_display": false
  }
 },
 "nbformat": 4,
 "nbformat_minor": 2
}
