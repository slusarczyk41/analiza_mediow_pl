{
 "cells": [
  {
   "cell_type": "code",
   "execution_count": 393,
   "metadata": {},
   "outputs": [],
   "source": [
    "import pandas as pd\n",
    "from os import listdir\n",
    "from pandas.errors import EmptyDataError\n",
    "from unidecode import unidecode\n",
    "import seaborn as sns\n",
    "import re\n",
    "from wordcloud import WordCloud\n",
    "from gensim.models import Word2Vec\n",
    "from sklearn.manifold import TSNE\n",
    "from sklearn.decomposition import PCA\n",
    "import matplotlib.pyplot as plt\n",
    "\n",
    "sns.set(\n",
    "    rc = {\n",
    "        'figure.figsize': (10, 8)\n",
    "    },\n",
    "    style = 'darkgrid'\n",
    ")"
   ]
  },
  {
   "cell_type": "markdown",
   "metadata": {},
   "source": [
    "# Dictionaries"
   ]
  },
  {
   "cell_type": "code",
   "execution_count": 281,
   "metadata": {},
   "outputs": [],
   "source": [
    "grouping_orders = {\n",
    "    \"website\": {\n",
    "        \"columns_before\": ['website', 'sentiment'],\n",
    "        \"groupby\": [\"website\"],\n",
    "        \"columns_after\": ['fakt', 'gazeta', 'wyborcza'] \n",
    "    },\n",
    "    \"brand\": {\n",
    "        \"columns_before\": ['brand', 'sentiment'],\n",
    "        \"groupby\": [\"brand\"],\n",
    "        \"columns_after\": ['agora', 'ringier'] \n",
    "    },\n",
    "    \"country\": {\n",
    "        \"columns_before\": ['country', 'sentiment'],\n",
    "        \"groupby\": [\"country\"],\n",
    "        \"columns_after\": ['de/ch', 'pl'] \n",
    "    }\n",
    "}"
   ]
  },
  {
   "cell_type": "code",
   "execution_count": 384,
   "metadata": {},
   "outputs": [],
   "source": [
    "brand_keys = {\n",
    "    \"pl\": {\n",
    "        \"agora\": ['wyborcza', 'gazeta']\n",
    "    },\n",
    "    \"de/ch\": {\n",
    "        \"ringier\": ['fakt']\n",
    "    }\n",
    "}"
   ]
  },
  {
   "cell_type": "markdown",
   "metadata": {
    "heading_collapsed": true
   },
   "source": [
    "# Read data"
   ]
  },
  {
   "cell_type": "markdown",
   "metadata": {
    "heading_collapsed": true,
    "hidden": true
   },
   "source": [
    "## Wyborcza"
   ]
  },
  {
   "cell_type": "code",
   "execution_count": 282,
   "metadata": {
    "hidden": true
   },
   "outputs": [],
   "source": [
    "wyborcza_articles = []\n",
    "for filename in listdir('data/wyborcza/articles'):\n",
    "    wyborcza_articles.append(pd.read_csv('data/wyborcza/articles/'+filename, header = None))\n",
    "wyborcza_articles = pd.concat(wyborcza_articles)\n",
    "wyborcza_articles.columns = ['url', 'title', 'short', 'long', 'img', 'com']\n",
    "wyborcza_articles['short'] = wyborcza_articles['short'].str.replace(r'(.|..)\\n', '')\n",
    "wyborcza_articles = wyborcza_articles[~wyborcza_articles['long'].str.contains('W odpowiedzi do @', na = False) == True]\n",
    "wyborcza_articles['website'] = 'wyborcza'\n",
    "wyborcza_articles['brand'] = 'agora'\n",
    "wyborcza_articles['country'] = 'pl'"
   ]
  },
  {
   "cell_type": "code",
   "execution_count": 283,
   "metadata": {
    "hidden": true
   },
   "outputs": [
    {
     "data": {
      "text/html": [
       "<div>\n",
       "<style scoped>\n",
       "    .dataframe tbody tr th:only-of-type {\n",
       "        vertical-align: middle;\n",
       "    }\n",
       "\n",
       "    .dataframe tbody tr th {\n",
       "        vertical-align: top;\n",
       "    }\n",
       "\n",
       "    .dataframe thead th {\n",
       "        text-align: right;\n",
       "    }\n",
       "</style>\n",
       "<table border=\"1\" class=\"dataframe\">\n",
       "  <thead>\n",
       "    <tr style=\"text-align: right;\">\n",
       "      <th></th>\n",
       "      <th>url</th>\n",
       "      <th>title</th>\n",
       "      <th>short</th>\n",
       "      <th>long</th>\n",
       "      <th>img</th>\n",
       "      <th>com</th>\n",
       "      <th>website</th>\n",
       "      <th>brand</th>\n",
       "      <th>country</th>\n",
       "    </tr>\n",
       "  </thead>\n",
       "  <tbody>\n",
       "    <tr>\n",
       "      <th>1</th>\n",
       "      <td>https://wyborcza.pl/1,155287,7439653,Zdecydowa...</td>\n",
       "      <td>Zdecydowana większość newsów pochodzi z gazet</td>\n",
       "      <td>Z badań przeprowadzonych przez Pew Research Ce...</td>\n",
       "      <td>Choć rośnie liczba źródeł wiadomości na platfo...</td>\n",
       "      <td>NaN</td>\n",
       "      <td>NaN</td>\n",
       "      <td>wyborcza</td>\n",
       "      <td>agora</td>\n",
       "      <td>pl</td>\n",
       "    </tr>\n",
       "    <tr>\n",
       "      <th>2</th>\n",
       "      <td>https://lodz.wyborcza.pl/lodz/7,35136,23016701...</td>\n",
       "      <td>Gwiazdy na łódzkiej premierze filmu \"Pomiędzy ...</td>\n",
       "      <td>Łódź filmowa doczekała się kolejnej premiery. ...</td>\n",
       "      <td>\"Pomiędzy słowami\" to ostatni film Urszuli An...</td>\n",
       "      <td>MARCIN STĘPIEŃ</td>\n",
       "      <td>NaN</td>\n",
       "      <td>wyborcza</td>\n",
       "      <td>agora</td>\n",
       "      <td>pl</td>\n",
       "    </tr>\n",
       "    <tr>\n",
       "      <th>3</th>\n",
       "      <td>https://wyborcza.pl/1,75399,17168698,Putin_sie...</td>\n",
       "      <td>Putin się zgrał. \"Bracia na wieki\" zza wielkie...</td>\n",
       "      <td>CO DZIŚ W ROSJI PISZCZY? Kiedy nawet bratnie r...</td>\n",
       "      <td>Spełniło się marzenie gospodarzy Kremla. Od la...</td>\n",
       "      <td>Wacław Radziwinowicz</td>\n",
       "      <td>\"a mialo byc tak pieknie... wywiady mialy byc....</td>\n",
       "      <td>wyborcza</td>\n",
       "      <td>agora</td>\n",
       "      <td>pl</td>\n",
       "    </tr>\n",
       "  </tbody>\n",
       "</table>\n",
       "</div>"
      ],
      "text/plain": [
       "                                                 url  \\\n",
       "1  https://wyborcza.pl/1,155287,7439653,Zdecydowa...   \n",
       "2  https://lodz.wyborcza.pl/lodz/7,35136,23016701...   \n",
       "3  https://wyborcza.pl/1,75399,17168698,Putin_sie...   \n",
       "\n",
       "                                               title  \\\n",
       "1      Zdecydowana większość newsów pochodzi z gazet   \n",
       "2  Gwiazdy na łódzkiej premierze filmu \"Pomiędzy ...   \n",
       "3  Putin się zgrał. \"Bracia na wieki\" zza wielkie...   \n",
       "\n",
       "                                               short  \\\n",
       "1  Z badań przeprowadzonych przez Pew Research Ce...   \n",
       "2  Łódź filmowa doczekała się kolejnej premiery. ...   \n",
       "3  CO DZIŚ W ROSJI PISZCZY? Kiedy nawet bratnie r...   \n",
       "\n",
       "                                                long                   img  \\\n",
       "1  Choć rośnie liczba źródeł wiadomości na platfo...                   NaN   \n",
       "2   \"Pomiędzy słowami\" to ostatni film Urszuli An...        MARCIN STĘPIEŃ   \n",
       "3  Spełniło się marzenie gospodarzy Kremla. Od la...  Wacław Radziwinowicz   \n",
       "\n",
       "                                                 com   website  brand country  \n",
       "1                                                NaN  wyborcza  agora      pl  \n",
       "2                                                NaN  wyborcza  agora      pl  \n",
       "3  \"a mialo byc tak pieknie... wywiady mialy byc....  wyborcza  agora      pl  "
      ]
     },
     "execution_count": 283,
     "metadata": {},
     "output_type": "execute_result"
    }
   ],
   "source": [
    "wyborcza_articles.head(3)"
   ]
  },
  {
   "cell_type": "markdown",
   "metadata": {
    "heading_collapsed": true,
    "hidden": true
   },
   "source": [
    "## Gazeta"
   ]
  },
  {
   "cell_type": "code",
   "execution_count": 284,
   "metadata": {
    "hidden": true
   },
   "outputs": [],
   "source": [
    "gazeta_articles = []\n",
    "for filename in listdir('data/gazeta/articles'):\n",
    "    try:\n",
    "        gazeta_articles.append(pd.read_csv('data/gazeta/articles/'+filename, header = None))\n",
    "    except EmptyDataError:\n",
    "        pass # empty file\n",
    "gazeta_articles = pd.concat(gazeta_articles)\n",
    "gazeta_articles.columns = ['url', 'title', 'short', 'long', 'img', 'com']\n",
    "gazeta_articles['website'] = 'gazeta'\n",
    "gazeta_articles['brand'] = 'agora'\n",
    "gazeta_articles['country'] = 'pl'"
   ]
  },
  {
   "cell_type": "code",
   "execution_count": 285,
   "metadata": {
    "hidden": true
   },
   "outputs": [
    {
     "data": {
      "text/html": [
       "<div>\n",
       "<style scoped>\n",
       "    .dataframe tbody tr th:only-of-type {\n",
       "        vertical-align: middle;\n",
       "    }\n",
       "\n",
       "    .dataframe tbody tr th {\n",
       "        vertical-align: top;\n",
       "    }\n",
       "\n",
       "    .dataframe thead th {\n",
       "        text-align: right;\n",
       "    }\n",
       "</style>\n",
       "<table border=\"1\" class=\"dataframe\">\n",
       "  <thead>\n",
       "    <tr style=\"text-align: right;\">\n",
       "      <th></th>\n",
       "      <th>url</th>\n",
       "      <th>title</th>\n",
       "      <th>short</th>\n",
       "      <th>long</th>\n",
       "      <th>img</th>\n",
       "      <th>com</th>\n",
       "      <th>website</th>\n",
       "      <th>brand</th>\n",
       "      <th>country</th>\n",
       "    </tr>\n",
       "  </thead>\n",
       "  <tbody>\n",
       "    <tr>\n",
       "      <th>0</th>\n",
       "      <td>http://metrowarszawa.gazeta.pl/metrowarszawa/7...</td>\n",
       "      <td>Warszawa. Będą dwie nowe stacje na I linii met...</td>\n",
       "      <td>Ratusz podpisał umowę z firmą Metroprojekt, kt...</td>\n",
       "      <td>\"Jak zapowiadałem w kampanii wyborczej pracuje...</td>\n",
       "      <td>Fot. Urząd Miasta Warszawa</td>\n",
       "      <td>Najpierw powinna powstać III linia, a dopiero ...</td>\n",
       "      <td>gazeta</td>\n",
       "      <td>agora</td>\n",
       "      <td>pl</td>\n",
       "    </tr>\n",
       "    <tr>\n",
       "      <th>1</th>\n",
       "      <td>http://wiadomosci.gazeta.pl/wiadomosci/1,11487...</td>\n",
       "      <td>Prezydent Duda w Paryżu o uchodźcach: Pomagać ...</td>\n",
       "      <td>Wsparcie finansowe dla uchodźców zapowiedział ...</td>\n",
       "      <td>Chcesz wiedzieć szybciej? Polub nas\\n- Trzeba ...</td>\n",
       "      <td>Fot. Prezydent.pl</td>\n",
       "      <td>Brawo Duda. Trzeba opieprzyć tych baranów z za...</td>\n",
       "      <td>gazeta</td>\n",
       "      <td>agora</td>\n",
       "      <td>pl</td>\n",
       "    </tr>\n",
       "    <tr>\n",
       "      <th>2</th>\n",
       "      <td>http://podroze.gazeta.pl/podroze/7,114158,2496...</td>\n",
       "      <td>Grecy szukają osób, które zgodziłyby się zamie...</td>\n",
       "      <td>Jeśli kiedykolwiek marzyłeś o tym, aby zamiesz...</td>\n",
       "      <td>Andikitira to grecka wyspa zaliczana do Wysp J...</td>\n",
       "      <td>fot. Shutterstock</td>\n",
       "      <td>Lepsze jest 500€ niż pincetplus.\\nJadę!-@@@-Ta...</td>\n",
       "      <td>gazeta</td>\n",
       "      <td>agora</td>\n",
       "      <td>pl</td>\n",
       "    </tr>\n",
       "  </tbody>\n",
       "</table>\n",
       "</div>"
      ],
      "text/plain": [
       "                                                 url  \\\n",
       "0  http://metrowarszawa.gazeta.pl/metrowarszawa/7...   \n",
       "1  http://wiadomosci.gazeta.pl/wiadomosci/1,11487...   \n",
       "2  http://podroze.gazeta.pl/podroze/7,114158,2496...   \n",
       "\n",
       "                                               title  \\\n",
       "0  Warszawa. Będą dwie nowe stacje na I linii met...   \n",
       "1  Prezydent Duda w Paryżu o uchodźcach: Pomagać ...   \n",
       "2  Grecy szukają osób, które zgodziłyby się zamie...   \n",
       "\n",
       "                                               short  \\\n",
       "0  Ratusz podpisał umowę z firmą Metroprojekt, kt...   \n",
       "1  Wsparcie finansowe dla uchodźców zapowiedział ...   \n",
       "2  Jeśli kiedykolwiek marzyłeś o tym, aby zamiesz...   \n",
       "\n",
       "                                                long  \\\n",
       "0  \"Jak zapowiadałem w kampanii wyborczej pracuje...   \n",
       "1  Chcesz wiedzieć szybciej? Polub nas\\n- Trzeba ...   \n",
       "2  Andikitira to grecka wyspa zaliczana do Wysp J...   \n",
       "\n",
       "                          img  \\\n",
       "0  Fot. Urząd Miasta Warszawa   \n",
       "1           Fot. Prezydent.pl   \n",
       "2           fot. Shutterstock   \n",
       "\n",
       "                                                 com website  brand country  \n",
       "0  Najpierw powinna powstać III linia, a dopiero ...  gazeta  agora      pl  \n",
       "1  Brawo Duda. Trzeba opieprzyć tych baranów z za...  gazeta  agora      pl  \n",
       "2  Lepsze jest 500€ niż pincetplus.\\nJadę!-@@@-Ta...  gazeta  agora      pl  "
      ]
     },
     "execution_count": 285,
     "metadata": {},
     "output_type": "execute_result"
    }
   ],
   "source": [
    "gazeta_articles.head(3)"
   ]
  },
  {
   "cell_type": "markdown",
   "metadata": {
    "heading_collapsed": true,
    "hidden": true
   },
   "source": [
    "## Add keywords to wyborcza and gazeta"
   ]
  },
  {
   "cell_type": "code",
   "execution_count": 286,
   "metadata": {
    "hidden": true
   },
   "outputs": [
    {
     "data": {
      "text/plain": [
       "['duda',\n",
       " 'premier',\n",
       " 'kwa%B6niewski',\n",
       " 'imigranci',\n",
       " 'lgbt',\n",
       " 'bank',\n",
       " 'ko%B6ci%F3%B3',\n",
       " 'rydzyk',\n",
       " 'feminizm',\n",
       " 'emigracja',\n",
       " 'lewica',\n",
       " 'prezydent',\n",
       " 'trump',\n",
       " 'kaczy%F1ski',\n",
       " 'pis',\n",
       " 'stany',\n",
       " 's%B1d+najwy%BFszy',\n",
       " 'prawica',\n",
       " 'sejm',\n",
       " 'szyd%B3o',\n",
       " 'ukraina',\n",
       " 'opozycja',\n",
       " 'polska',\n",
       " 'leszek+miller',\n",
       " 'rosja',\n",
       " 'unia+europejska',\n",
       " 'platforma',\n",
       " 'rz%B1d',\n",
       " 'niemcy',\n",
       " 'media',\n",
       " 'morawiecki',\n",
       " 'putin',\n",
       " 'papie%BF',\n",
       " 'korwin',\n",
       " 'ekologia']"
      ]
     },
     "execution_count": 286,
     "metadata": {},
     "output_type": "execute_result"
    }
   ],
   "source": [
    "listdir('data/wyborcza_gazeta/urls')"
   ]
  },
  {
   "cell_type": "code",
   "execution_count": 287,
   "metadata": {
    "hidden": true
   },
   "outputs": [],
   "source": [
    "decoder = {\n",
    "    '%B1': 'ą',\n",
    "    '%BF': 'ż',\n",
    "    '%B3': 'ł',\n",
    "    '%B6': 'ś',\n",
    "    '%F1': 'ń',\n",
    "    '%F3': 'ó'\n",
    "}"
   ]
  },
  {
   "cell_type": "code",
   "execution_count": 288,
   "metadata": {
    "hidden": true
   },
   "outputs": [],
   "source": [
    "keyword_urls = {}\n",
    "keywords = []\n",
    "for filename in listdir('data/wyborcza_gazeta/urls'):\n",
    "    with open('data/wyborcza_gazeta/urls/'+filename, 'r') as f:\n",
    "        urls = [x for x in f.read().split('\\n') if 'gazeta.pl' in x or 'wyborcza.pl' in x]\n",
    "        for key in decoder.keys():\n",
    "            filename = filename.replace(key, decoder[key])\n",
    "        keyword_urls[filename] = urls\n",
    "        keywords.append(filename)"
   ]
  },
  {
   "cell_type": "code",
   "execution_count": 289,
   "metadata": {
    "hidden": true
   },
   "outputs": [],
   "source": [
    "keywords_df = pd.concat([\n",
    "    pd.DataFrame(\n",
    "        pd.Series([1 for x in keyword_urls[key]], name = key, index = keyword_urls[key]),\n",
    "    ) for key in keyword_urls.keys()  \n",
    "], axis = 1, sort = False).fillna(0)"
   ]
  },
  {
   "cell_type": "code",
   "execution_count": 290,
   "metadata": {
    "hidden": true
   },
   "outputs": [
    {
     "data": {
      "text/plain": [
       "18083"
      ]
     },
     "execution_count": 290,
     "metadata": {},
     "output_type": "execute_result"
    }
   ],
   "source": [
    "len(wyborcza_articles)"
   ]
  },
  {
   "cell_type": "code",
   "execution_count": 291,
   "metadata": {
    "hidden": true
   },
   "outputs": [],
   "source": [
    "wyborcza_articles = pd.merge(\n",
    "    wyborcza_articles, \n",
    "    keywords_df, \n",
    "    left_on = 'url', \n",
    "    right_on = keywords_df.index\n",
    ")"
   ]
  },
  {
   "cell_type": "code",
   "execution_count": 292,
   "metadata": {
    "hidden": true
   },
   "outputs": [
    {
     "data": {
      "text/plain": [
       "17909"
      ]
     },
     "execution_count": 292,
     "metadata": {},
     "output_type": "execute_result"
    }
   ],
   "source": [
    "len(wyborcza_articles)"
   ]
  },
  {
   "cell_type": "code",
   "execution_count": 293,
   "metadata": {
    "hidden": true
   },
   "outputs": [
    {
     "data": {
      "text/plain": [
       "3780"
      ]
     },
     "execution_count": 293,
     "metadata": {},
     "output_type": "execute_result"
    }
   ],
   "source": [
    "len(gazeta_articles)"
   ]
  },
  {
   "cell_type": "code",
   "execution_count": 294,
   "metadata": {
    "hidden": true
   },
   "outputs": [],
   "source": [
    "gazeta_articles = pd.merge(\n",
    "    gazeta_articles, \n",
    "    keywords_df, \n",
    "    left_on = 'url', \n",
    "    right_on = keywords_df.index\n",
    ")"
   ]
  },
  {
   "cell_type": "code",
   "execution_count": 295,
   "metadata": {
    "hidden": true
   },
   "outputs": [
    {
     "data": {
      "text/plain": [
       "3738"
      ]
     },
     "execution_count": 295,
     "metadata": {},
     "output_type": "execute_result"
    }
   ],
   "source": [
    "len(gazeta_articles)"
   ]
  },
  {
   "cell_type": "markdown",
   "metadata": {
    "heading_collapsed": true,
    "hidden": true
   },
   "source": [
    "## Fakt"
   ]
  },
  {
   "cell_type": "code",
   "execution_count": 296,
   "metadata": {
    "hidden": true
   },
   "outputs": [],
   "source": [
    "fakt_articles = []\n",
    "for filename in listdir('data/fakt/articles'):\n",
    "    tmp_df = pd.read_csv('data/fakt/articles/'+filename, header = None)\n",
    "    tmp_df.columns = ['url', 'title', 'short', 'long', 'img', 'com',]\n",
    "    tmp_df[filename] = 1\n",
    "    tmp_df[filename] = tmp_df[filename].fillna(0)\n",
    "    fakt_articles.append(tmp_df)\n",
    "fakt_articles = pd.concat(fakt_articles, sort = False)\n",
    "fakt_articles = fakt_articles[~fakt_articles['long'].isna()]\n",
    "fakt_articles['long'] = fakt_articles.apply(lambda x: x['long'][len(x['short']):], axis = 1)\n",
    "fakt_articles['website'] = 'fakt'\n",
    "fakt_articles['country'] = 'de/ch'\n",
    "fakt_articles['brand'] = 'ringier'\n",
    "\n",
    "for keyword in keywords:\n",
    "    if keyword not in fakt_articles.columns:\n",
    "        fakt_articles[keyword] = 0"
   ]
  },
  {
   "cell_type": "code",
   "execution_count": 297,
   "metadata": {
    "hidden": true
   },
   "outputs": [
    {
     "data": {
      "text/html": [
       "<div>\n",
       "<style scoped>\n",
       "    .dataframe tbody tr th:only-of-type {\n",
       "        vertical-align: middle;\n",
       "    }\n",
       "\n",
       "    .dataframe tbody tr th {\n",
       "        vertical-align: top;\n",
       "    }\n",
       "\n",
       "    .dataframe thead th {\n",
       "        text-align: right;\n",
       "    }\n",
       "</style>\n",
       "<table border=\"1\" class=\"dataframe\">\n",
       "  <thead>\n",
       "    <tr style=\"text-align: right;\">\n",
       "      <th></th>\n",
       "      <th>url</th>\n",
       "      <th>title</th>\n",
       "      <th>short</th>\n",
       "      <th>long</th>\n",
       "      <th>img</th>\n",
       "      <th>com</th>\n",
       "      <th>imigranci</th>\n",
       "      <th>emigracja</th>\n",
       "      <th>sąd+najwyższy</th>\n",
       "      <th>ekologia</th>\n",
       "      <th>...</th>\n",
       "      <th>rosja</th>\n",
       "      <th>unia+europejska</th>\n",
       "      <th>platforma</th>\n",
       "      <th>rząd</th>\n",
       "      <th>niemcy</th>\n",
       "      <th>media</th>\n",
       "      <th>morawiecki</th>\n",
       "      <th>putin</th>\n",
       "      <th>papież</th>\n",
       "      <th>korwin</th>\n",
       "    </tr>\n",
       "  </thead>\n",
       "  <tbody>\n",
       "    <tr>\n",
       "      <th>0</th>\n",
       "      <td>https://www.fakt.pl/wydarzenia/swiat/gwalt-w-r...</td>\n",
       "      <td>Oto gwałciciele z Rimini!</td>\n",
       "      <td>Włoskie media opublikowały zdjęcia z kamer mon...</td>\n",
       "      <td>Śledczy są pewni, że znajdujący się na zdjęci...</td>\n",
       "      <td>Oto gwałciciele z Rimini!</td>\n",
       "      <td>NaN</td>\n",
       "      <td>1.0</td>\n",
       "      <td>NaN</td>\n",
       "      <td>NaN</td>\n",
       "      <td>NaN</td>\n",
       "      <td>...</td>\n",
       "      <td>0</td>\n",
       "      <td>0</td>\n",
       "      <td>0</td>\n",
       "      <td>0</td>\n",
       "      <td>0</td>\n",
       "      <td>0</td>\n",
       "      <td>0</td>\n",
       "      <td>0</td>\n",
       "      <td>0</td>\n",
       "      <td>0</td>\n",
       "    </tr>\n",
       "    <tr>\n",
       "      <th>1</th>\n",
       "      <td>https://www.fakt.pl/wydarzenia/swiat/bitwa-pol...</td>\n",
       "      <td>Krwawa jatka Polaków pod kościołem</td>\n",
       "      <td>Do nocnej rozróby z udziałem naszych rodaków d...</td>\n",
       "      <td>Do bójki z udziałem ok. 30 osób doszło w półn...</td>\n",
       "      <td>Bitwa Polaków na ulicach Londynu</td>\n",
       "      <td>NaN</td>\n",
       "      <td>1.0</td>\n",
       "      <td>NaN</td>\n",
       "      <td>NaN</td>\n",
       "      <td>NaN</td>\n",
       "      <td>...</td>\n",
       "      <td>0</td>\n",
       "      <td>0</td>\n",
       "      <td>0</td>\n",
       "      <td>0</td>\n",
       "      <td>0</td>\n",
       "      <td>0</td>\n",
       "      <td>0</td>\n",
       "      <td>0</td>\n",
       "      <td>0</td>\n",
       "      <td>0</td>\n",
       "    </tr>\n",
       "    <tr>\n",
       "      <th>2</th>\n",
       "      <td>https://www.fakt.pl/wydarzenia/swiat/kaliforni...</td>\n",
       "      <td>Kalifornia pozwała Trumpa. Idzie o miliony</td>\n",
       "      <td>Władze Kalifornii pozwały prezydenta USA Donal...</td>\n",
       "      <td>Administracja Donalda Trumpa ustami prokurato...</td>\n",
       "      <td>Donald Trump</td>\n",
       "      <td>NaN</td>\n",
       "      <td>1.0</td>\n",
       "      <td>NaN</td>\n",
       "      <td>NaN</td>\n",
       "      <td>NaN</td>\n",
       "      <td>...</td>\n",
       "      <td>0</td>\n",
       "      <td>0</td>\n",
       "      <td>0</td>\n",
       "      <td>0</td>\n",
       "      <td>0</td>\n",
       "      <td>0</td>\n",
       "      <td>0</td>\n",
       "      <td>0</td>\n",
       "      <td>0</td>\n",
       "      <td>0</td>\n",
       "    </tr>\n",
       "  </tbody>\n",
       "</table>\n",
       "<p>3 rows × 44 columns</p>\n",
       "</div>"
      ],
      "text/plain": [
       "                                                 url  \\\n",
       "0  https://www.fakt.pl/wydarzenia/swiat/gwalt-w-r...   \n",
       "1  https://www.fakt.pl/wydarzenia/swiat/bitwa-pol...   \n",
       "2  https://www.fakt.pl/wydarzenia/swiat/kaliforni...   \n",
       "\n",
       "                                        title  \\\n",
       "0                   Oto gwałciciele z Rimini!   \n",
       "1          Krwawa jatka Polaków pod kościołem   \n",
       "2  Kalifornia pozwała Trumpa. Idzie o miliony   \n",
       "\n",
       "                                               short  \\\n",
       "0  Włoskie media opublikowały zdjęcia z kamer mon...   \n",
       "1  Do nocnej rozróby z udziałem naszych rodaków d...   \n",
       "2  Władze Kalifornii pozwały prezydenta USA Donal...   \n",
       "\n",
       "                                                long  \\\n",
       "0   Śledczy są pewni, że znajdujący się na zdjęci...   \n",
       "1   Do bójki z udziałem ok. 30 osób doszło w półn...   \n",
       "2   Administracja Donalda Trumpa ustami prokurato...   \n",
       "\n",
       "                                img  com  imigranci  emigracja  sąd+najwyższy  \\\n",
       "0         Oto gwałciciele z Rimini!  NaN        1.0        NaN            NaN   \n",
       "1  Bitwa Polaków na ulicach Londynu  NaN        1.0        NaN            NaN   \n",
       "2                      Donald Trump  NaN        1.0        NaN            NaN   \n",
       "\n",
       "   ekologia  ... rosja unia+europejska platforma  rząd  niemcy  media  \\\n",
       "0       NaN  ...     0               0         0     0       0      0   \n",
       "1       NaN  ...     0               0         0     0       0      0   \n",
       "2       NaN  ...     0               0         0     0       0      0   \n",
       "\n",
       "   morawiecki  putin  papież  korwin  \n",
       "0           0      0       0       0  \n",
       "1           0      0       0       0  \n",
       "2           0      0       0       0  \n",
       "\n",
       "[3 rows x 44 columns]"
      ]
     },
     "execution_count": 297,
     "metadata": {},
     "output_type": "execute_result"
    }
   ],
   "source": [
    "fakt_articles.head(3)"
   ]
  },
  {
   "cell_type": "markdown",
   "metadata": {
    "heading_collapsed": true,
    "hidden": true
   },
   "source": [
    "## Concentrate data"
   ]
  },
  {
   "cell_type": "code",
   "execution_count": 298,
   "metadata": {
    "hidden": true
   },
   "outputs": [],
   "source": [
    "df = pd.concat([\n",
    "    wyborcza_articles,\n",
    "    gazeta_articles,\n",
    "    fakt_articles\n",
    "], axis = 0, sort = False)"
   ]
  },
  {
   "cell_type": "code",
   "execution_count": 299,
   "metadata": {
    "hidden": true
   },
   "outputs": [
    {
     "data": {
      "text/html": [
       "<div>\n",
       "<style scoped>\n",
       "    .dataframe tbody tr th:only-of-type {\n",
       "        vertical-align: middle;\n",
       "    }\n",
       "\n",
       "    .dataframe tbody tr th {\n",
       "        vertical-align: top;\n",
       "    }\n",
       "\n",
       "    .dataframe thead th {\n",
       "        text-align: right;\n",
       "    }\n",
       "</style>\n",
       "<table border=\"1\" class=\"dataframe\">\n",
       "  <thead>\n",
       "    <tr style=\"text-align: right;\">\n",
       "      <th></th>\n",
       "      <th>url</th>\n",
       "      <th>title</th>\n",
       "      <th>short</th>\n",
       "      <th>long</th>\n",
       "      <th>img</th>\n",
       "      <th>com</th>\n",
       "      <th>website</th>\n",
       "      <th>brand</th>\n",
       "      <th>country</th>\n",
       "      <th>duda</th>\n",
       "      <th>...</th>\n",
       "      <th>unia+europejska</th>\n",
       "      <th>platforma</th>\n",
       "      <th>rząd</th>\n",
       "      <th>niemcy</th>\n",
       "      <th>media</th>\n",
       "      <th>morawiecki</th>\n",
       "      <th>putin</th>\n",
       "      <th>papież</th>\n",
       "      <th>korwin</th>\n",
       "      <th>ekologia</th>\n",
       "    </tr>\n",
       "  </thead>\n",
       "  <tbody>\n",
       "    <tr>\n",
       "      <th>14656</th>\n",
       "      <td>https://wyborcza.pl/1,75968,11618923,Miller_ma...</td>\n",
       "      <td>Miller maleje i mnie to nie dziwi</td>\n",
       "      <td>Leszek Miller objął partię, która odniosła pre...</td>\n",
       "      <td>Janusz Palikot odniósł zaś spektakularny sukce...</td>\n",
       "      <td>Agnieszka Kublik (fot.)</td>\n",
       "      <td>NaN</td>\n",
       "      <td>wyborcza</td>\n",
       "      <td>agora</td>\n",
       "      <td>pl</td>\n",
       "      <td>0.0</td>\n",
       "      <td>...</td>\n",
       "      <td>0.0</td>\n",
       "      <td>0.0</td>\n",
       "      <td>0.0</td>\n",
       "      <td>0.0</td>\n",
       "      <td>0.0</td>\n",
       "      <td>0.0</td>\n",
       "      <td>0.0</td>\n",
       "      <td>0.0</td>\n",
       "      <td>0.0</td>\n",
       "      <td>0.0</td>\n",
       "    </tr>\n",
       "    <tr>\n",
       "      <th>14877</th>\n",
       "      <td>https://wroclaw.wyborcza.pl/wroclaw/7,35771,21...</td>\n",
       "      <td>Wypadek na trasie Wrocław - Poznań. Utrudnieni...</td>\n",
       "      <td>Jedna osoba została ranna w wypadku, do jakieg...</td>\n",
       "      <td>W miejscowości Wysoki Kościół zderzyły się dwa...</td>\n",
       "      <td>Wypadek (Fot. Jarosław Kubalski / Agencja Gazeta)</td>\n",
       "      <td>NaN</td>\n",
       "      <td>wyborcza</td>\n",
       "      <td>agora</td>\n",
       "      <td>pl</td>\n",
       "      <td>0.0</td>\n",
       "      <td>...</td>\n",
       "      <td>0.0</td>\n",
       "      <td>0.0</td>\n",
       "      <td>0.0</td>\n",
       "      <td>0.0</td>\n",
       "      <td>0.0</td>\n",
       "      <td>0.0</td>\n",
       "      <td>0.0</td>\n",
       "      <td>0.0</td>\n",
       "      <td>0.0</td>\n",
       "      <td>0.0</td>\n",
       "    </tr>\n",
       "    <tr>\n",
       "      <th>8576</th>\n",
       "      <td>https://trojmiasto.wyborcza.pl/trojmiasto/1,35...</td>\n",
       "      <td>Dyskusja na gdyńskim forum o Polsce i o świecie</td>\n",
       "      <td>O kryzysie w gospodarce morskiej, nowych zjawi...</td>\n",
       "      <td>9 października odbyło się w Gdyni jedno z najb...</td>\n",
       "      <td>NaN</td>\n",
       "      <td>NaN</td>\n",
       "      <td>wyborcza</td>\n",
       "      <td>agora</td>\n",
       "      <td>pl</td>\n",
       "      <td>0.0</td>\n",
       "      <td>...</td>\n",
       "      <td>1.0</td>\n",
       "      <td>0.0</td>\n",
       "      <td>0.0</td>\n",
       "      <td>0.0</td>\n",
       "      <td>0.0</td>\n",
       "      <td>0.0</td>\n",
       "      <td>0.0</td>\n",
       "      <td>0.0</td>\n",
       "      <td>0.0</td>\n",
       "      <td>0.0</td>\n",
       "    </tr>\n",
       "  </tbody>\n",
       "</table>\n",
       "<p>3 rows × 44 columns</p>\n",
       "</div>"
      ],
      "text/plain": [
       "                                                     url  \\\n",
       "14656  https://wyborcza.pl/1,75968,11618923,Miller_ma...   \n",
       "14877  https://wroclaw.wyborcza.pl/wroclaw/7,35771,21...   \n",
       "8576   https://trojmiasto.wyborcza.pl/trojmiasto/1,35...   \n",
       "\n",
       "                                                   title  \\\n",
       "14656                  Miller maleje i mnie to nie dziwi   \n",
       "14877  Wypadek na trasie Wrocław - Poznań. Utrudnieni...   \n",
       "8576     Dyskusja na gdyńskim forum o Polsce i o świecie   \n",
       "\n",
       "                                                   short  \\\n",
       "14656  Leszek Miller objął partię, która odniosła pre...   \n",
       "14877  Jedna osoba została ranna w wypadku, do jakieg...   \n",
       "8576   O kryzysie w gospodarce morskiej, nowych zjawi...   \n",
       "\n",
       "                                                    long  \\\n",
       "14656  Janusz Palikot odniósł zaś spektakularny sukce...   \n",
       "14877  W miejscowości Wysoki Kościół zderzyły się dwa...   \n",
       "8576   9 października odbyło się w Gdyni jedno z najb...   \n",
       "\n",
       "                                                     img  com   website  \\\n",
       "14656                            Agnieszka Kublik (fot.)  NaN  wyborcza   \n",
       "14877  Wypadek (Fot. Jarosław Kubalski / Agencja Gazeta)  NaN  wyborcza   \n",
       "8576                                                 NaN  NaN  wyborcza   \n",
       "\n",
       "       brand country  duda  ...  unia+europejska  platforma  rząd  niemcy  \\\n",
       "14656  agora      pl   0.0  ...              0.0        0.0   0.0     0.0   \n",
       "14877  agora      pl   0.0  ...              0.0        0.0   0.0     0.0   \n",
       "8576   agora      pl   0.0  ...              1.0        0.0   0.0     0.0   \n",
       "\n",
       "       media  morawiecki  putin  papież  korwin  ekologia  \n",
       "14656    0.0         0.0    0.0     0.0     0.0       0.0  \n",
       "14877    0.0         0.0    0.0     0.0     0.0       0.0  \n",
       "8576     0.0         0.0    0.0     0.0     0.0       0.0  \n",
       "\n",
       "[3 rows x 44 columns]"
      ]
     },
     "execution_count": 299,
     "metadata": {},
     "output_type": "execute_result"
    }
   ],
   "source": [
    "df.sample(3).head(3)"
   ]
  },
  {
   "cell_type": "markdown",
   "metadata": {},
   "source": [
    "# Analyze"
   ]
  },
  {
   "cell_type": "markdown",
   "metadata": {
    "heading_collapsed": true
   },
   "source": [
    "## Get emotions data from polish wordnet"
   ]
  },
  {
   "cell_type": "code",
   "execution_count": 300,
   "metadata": {
    "hidden": true
   },
   "outputs": [],
   "source": [
    "# http://plwordnet.pwr.wroc.pl//wordnet/download-wordnet?key=1iflsj&file=4.0\n",
    "# extract one file (słownik_anotacji_emocjonlanej) to home directory"
   ]
  },
  {
   "cell_type": "code",
   "execution_count": 301,
   "metadata": {
    "hidden": true
   },
   "outputs": [],
   "source": [
    "emotions = pd.read_csv('~/słownik_anotacji_emocjonlanej.csv')[['lemat', 'emocje']].dropna()"
   ]
  },
  {
   "cell_type": "code",
   "execution_count": 302,
   "metadata": {
    "hidden": true
   },
   "outputs": [
    {
     "data": {
      "text/html": [
       "<div>\n",
       "<style scoped>\n",
       "    .dataframe tbody tr th:only-of-type {\n",
       "        vertical-align: middle;\n",
       "    }\n",
       "\n",
       "    .dataframe tbody tr th {\n",
       "        vertical-align: top;\n",
       "    }\n",
       "\n",
       "    .dataframe thead th {\n",
       "        text-align: right;\n",
       "    }\n",
       "</style>\n",
       "<table border=\"1\" class=\"dataframe\">\n",
       "  <thead>\n",
       "    <tr style=\"text-align: right;\">\n",
       "      <th></th>\n",
       "      <th>lemat</th>\n",
       "      <th>emocje</th>\n",
       "    </tr>\n",
       "  </thead>\n",
       "  <tbody>\n",
       "    <tr>\n",
       "      <th>2</th>\n",
       "      <td>abstrakcyjny</td>\n",
       "      <td>wstręt;złość;zaskoczenie</td>\n",
       "    </tr>\n",
       "    <tr>\n",
       "      <th>3</th>\n",
       "      <td>abstrakcyjny</td>\n",
       "      <td>wstręt;złość</td>\n",
       "    </tr>\n",
       "    <tr>\n",
       "      <th>10</th>\n",
       "      <td>adorator</td>\n",
       "      <td>złość;radość</td>\n",
       "    </tr>\n",
       "    <tr>\n",
       "      <th>11</th>\n",
       "      <td>adorator</td>\n",
       "      <td>złość;cieszenie się na;radość;wstręt</td>\n",
       "    </tr>\n",
       "    <tr>\n",
       "      <th>18</th>\n",
       "      <td>afektowany</td>\n",
       "      <td>złość;smutek</td>\n",
       "    </tr>\n",
       "  </tbody>\n",
       "</table>\n",
       "</div>"
      ],
      "text/plain": [
       "           lemat                                emocje\n",
       "2   abstrakcyjny              wstręt;złość;zaskoczenie\n",
       "3   abstrakcyjny                          wstręt;złość\n",
       "10      adorator                          złość;radość\n",
       "11      adorator  złość;cieszenie się na;radość;wstręt\n",
       "18    afektowany                          złość;smutek"
      ]
     },
     "execution_count": 302,
     "metadata": {},
     "output_type": "execute_result"
    }
   ],
   "source": [
    "emotions.head()"
   ]
  },
  {
   "cell_type": "code",
   "execution_count": 303,
   "metadata": {
    "hidden": true
   },
   "outputs": [],
   "source": [
    "emotions['emocje'] = emotions['emocje'].str.replace(':', ';')"
   ]
  },
  {
   "cell_type": "code",
   "execution_count": 304,
   "metadata": {
    "hidden": true
   },
   "outputs": [],
   "source": [
    "pairs = [\n",
    "    ('złosć', 'negatywny'),\n",
    "    ('zlość', 'negatywny'),\n",
    "    ('złośc', 'negatywny'),\n",
    "    ('złość wstręt', 'negatywny'),\n",
    "    ('złość: nieużyteczność', 'negatywny'),\n",
    "    ('złóść', 'negatywny'),\n",
    "    ('bład', 'negatywny'),\n",
    "    ('brzydota', 'negatywny'),\n",
    "    ('błąd', 'negatywny'),\n",
    "    ('gniew', 'negatywny'),\n",
    "    ('krzywda', 'negatywny'),\n",
    "    ('nieszczęscie', 'negatywny'),\n",
    "    ('nieszczęście', 'negatywny'),\n",
    "    ('nieużyteczność', 'negatywny'),\n",
    "    ('złość', 'negatywny'),\n",
    "    ('strach', 'negatywny'),\n",
    "    ('strach wstręt', 'negatywny'),\n",
    "    ('smute', 'negatywny'),\n",
    "    ('smutek', 'negatywny'),\n",
    "    ('wstęt', 'negatywny'),\n",
    "    ('niewiedza', 'negatywny'),\n",
    "    ('negatywny wstręt', 'negatywny'),\n",
    "    ('negatywnyk', 'negatywny'),\n",
    "    ('negatywnyk: negatywny', 'negatywny'),\n",
    "    ('wstrę', 'negatywny'),\n",
    "    ('wstręt', 'negatywny'),\n",
    "    ('wstręt: negatywny', 'negatywny'),\n",
    "    ('negatywnyt', 'negatywny'),\n",
    "    ('s mutek', 'negatywny'),\n",
    "    ('wstret', 'negatywny'),\n",
    "    ('smitek', 'negatywny'),\n",
    "    (' negatywny', 'negatywny'),\n",
    "    \n",
    "    ('cieszenie sie', 'pozytywny'),\n",
    "    ('cieszenie sie na', 'pozytywny'),\n",
    "    ('cieszenie się na coś oczekiwanego', 'pozytywny'),\n",
    "    ('dobro', 'pozytywny'),\n",
    "    ('cieszenie sie', 'pozytywny'),\n",
    "    ('radoć', 'pozytywny'),\n",
    "    ('radość', 'pozytywny'),\n",
    "    ('radość: piękno', 'pozytywny'),\n",
    "    ('radość: szczęście', 'pozytywny'),\n",
    "    ('zaufanie', 'pozytywny'),\n",
    "    ('cieszenie się', 'pozytywny'),\n",
    "    ('cieszenie się na', 'pozytywny'),\n",
    "    ('ciesznie się na', 'pozytywny'),\n",
    "    ('piękno', 'pozytywny'),\n",
    "    ('pozytywny: piękno', 'pozytywny'),\n",
    "    ('pozytywny: szczęście', 'pozytywny'),\n",
    "    ('prawda', 'pozytywny'),\n",
    "    ('radosć', 'pozytywny'),\n",
    "    ('pozytywny: pozytywny', 'pozytywny'),\n",
    "    ('radośc', 'pozytywny'),\n",
    "    ('szczęście', 'pozytywny'),\n",
    "    ('użyteczność', 'pozytywny'),\n",
    "    ('wiedza', 'pozytywny'),\n",
    "    ('zufanie', 'pozytywny'),\n",
    "    ('pozytywny na', 'pozytywny'),\n",
    "    (' pozytywny', 'pozytywny'),\n",
    "    \n",
    "    ('zaskoczenie czymś nieprzewidywanym', ''),\n",
    "    ('oczekiwanie na', ''),\n",
    "    (' czymś nieprzewidywanym', ''),\n",
    "    ('-', ''),\n",
    "    ('zaskoczenie', ''),\n",
    "    ('pozytywnynegatywny', ''),\n",
    "]"
   ]
  },
  {
   "cell_type": "code",
   "execution_count": 305,
   "metadata": {
    "hidden": true
   },
   "outputs": [],
   "source": [
    "for pair in pairs:\n",
    "    emotions['emocje'] = emotions['emocje'].str.replace(pair[0], pair[1])"
   ]
  },
  {
   "cell_type": "code",
   "execution_count": 306,
   "metadata": {
    "hidden": true
   },
   "outputs": [],
   "source": [
    "emotions = pd.concat([\n",
    "    emotions['lemat'],\n",
    "    emotions['emocje']\\\n",
    "        .str.get_dummies(sep = ';')\\\n",
    "], axis = 1)"
   ]
  },
  {
   "cell_type": "code",
   "execution_count": 307,
   "metadata": {
    "hidden": true
   },
   "outputs": [],
   "source": [
    "emotions.loc[\n",
    "    emotions['pozytywny'] == emotions['negatywny']\n",
    ", 'ambiguous'] = True"
   ]
  },
  {
   "cell_type": "code",
   "execution_count": 308,
   "metadata": {
    "hidden": true
   },
   "outputs": [
    {
     "data": {
      "text/plain": [
       "56420"
      ]
     },
     "execution_count": 308,
     "metadata": {},
     "output_type": "execute_result"
    }
   ],
   "source": [
    "len(emotions)"
   ]
  },
  {
   "cell_type": "code",
   "execution_count": 309,
   "metadata": {
    "hidden": true
   },
   "outputs": [],
   "source": [
    "emotions = emotions[emotions['ambiguous'].isna()]\n",
    "emotions = emotions.drop('ambiguous', axis = 1)"
   ]
  },
  {
   "cell_type": "code",
   "execution_count": 310,
   "metadata": {
    "hidden": true
   },
   "outputs": [
    {
     "data": {
      "text/plain": [
       "47477"
      ]
     },
     "execution_count": 310,
     "metadata": {},
     "output_type": "execute_result"
    }
   ],
   "source": [
    "len(emotions)"
   ]
  },
  {
   "cell_type": "code",
   "execution_count": 311,
   "metadata": {
    "hidden": true
   },
   "outputs": [
    {
     "data": {
      "text/plain": [
       "31505"
      ]
     },
     "execution_count": 311,
     "metadata": {},
     "output_type": "execute_result"
    }
   ],
   "source": [
    "emotions['negatywny'].sum()"
   ]
  },
  {
   "cell_type": "code",
   "execution_count": 312,
   "metadata": {
    "hidden": true
   },
   "outputs": [
    {
     "data": {
      "text/plain": [
       "15972"
      ]
     },
     "execution_count": 312,
     "metadata": {},
     "output_type": "execute_result"
    }
   ],
   "source": [
    "emotions['pozytywny'].sum()"
   ]
  },
  {
   "cell_type": "code",
   "execution_count": 313,
   "metadata": {
    "hidden": true
   },
   "outputs": [
    {
     "data": {
      "text/html": [
       "<div>\n",
       "<style scoped>\n",
       "    .dataframe tbody tr th:only-of-type {\n",
       "        vertical-align: middle;\n",
       "    }\n",
       "\n",
       "    .dataframe tbody tr th {\n",
       "        vertical-align: top;\n",
       "    }\n",
       "\n",
       "    .dataframe thead th {\n",
       "        text-align: right;\n",
       "    }\n",
       "</style>\n",
       "<table border=\"1\" class=\"dataframe\">\n",
       "  <thead>\n",
       "    <tr style=\"text-align: right;\">\n",
       "      <th></th>\n",
       "      <th>lemat</th>\n",
       "      <th>negatywny</th>\n",
       "      <th>pozytywny</th>\n",
       "    </tr>\n",
       "  </thead>\n",
       "  <tbody>\n",
       "    <tr>\n",
       "      <th>10528</th>\n",
       "      <td>lenistwo</td>\n",
       "      <td>1</td>\n",
       "      <td>0</td>\n",
       "    </tr>\n",
       "    <tr>\n",
       "      <th>84948</th>\n",
       "      <td>alarm</td>\n",
       "      <td>1</td>\n",
       "      <td>0</td>\n",
       "    </tr>\n",
       "    <tr>\n",
       "      <th>83536</th>\n",
       "      <td>lewackość</td>\n",
       "      <td>1</td>\n",
       "      <td>0</td>\n",
       "    </tr>\n",
       "    <tr>\n",
       "      <th>8276</th>\n",
       "      <td>wyczerpanie</td>\n",
       "      <td>1</td>\n",
       "      <td>0</td>\n",
       "    </tr>\n",
       "    <tr>\n",
       "      <th>158693</th>\n",
       "      <td>schlewać się</td>\n",
       "      <td>1</td>\n",
       "      <td>0</td>\n",
       "    </tr>\n",
       "  </tbody>\n",
       "</table>\n",
       "</div>"
      ],
      "text/plain": [
       "               lemat  negatywny  pozytywny\n",
       "10528       lenistwo          1          0\n",
       "84948          alarm          1          0\n",
       "83536      lewackość          1          0\n",
       "8276     wyczerpanie          1          0\n",
       "158693  schlewać się          1          0"
      ]
     },
     "execution_count": 313,
     "metadata": {},
     "output_type": "execute_result"
    }
   ],
   "source": [
    "emotions.sample(5).head()"
   ]
  },
  {
   "cell_type": "code",
   "execution_count": 314,
   "metadata": {
    "hidden": true
   },
   "outputs": [],
   "source": [
    "emotions = emotions.drop('negatywny', axis = 1)"
   ]
  },
  {
   "cell_type": "code",
   "execution_count": 315,
   "metadata": {
    "hidden": true
   },
   "outputs": [],
   "source": [
    "emotions.loc[emotions['pozytywny'] == 0, 'pozytywny'] = -1"
   ]
  },
  {
   "cell_type": "code",
   "execution_count": 316,
   "metadata": {
    "hidden": true
   },
   "outputs": [],
   "source": [
    "emotions.columns = ['lemat', 'sentyment']"
   ]
  },
  {
   "cell_type": "code",
   "execution_count": 317,
   "metadata": {
    "hidden": true
   },
   "outputs": [],
   "source": [
    "emotions = emotions.drop_duplicates()"
   ]
  },
  {
   "cell_type": "code",
   "execution_count": 318,
   "metadata": {
    "hidden": true
   },
   "outputs": [
    {
     "data": {
      "text/html": [
       "<div>\n",
       "<style scoped>\n",
       "    .dataframe tbody tr th:only-of-type {\n",
       "        vertical-align: middle;\n",
       "    }\n",
       "\n",
       "    .dataframe tbody tr th {\n",
       "        vertical-align: top;\n",
       "    }\n",
       "\n",
       "    .dataframe thead th {\n",
       "        text-align: right;\n",
       "    }\n",
       "</style>\n",
       "<table border=\"1\" class=\"dataframe\">\n",
       "  <thead>\n",
       "    <tr style=\"text-align: right;\">\n",
       "      <th></th>\n",
       "      <th>lemat</th>\n",
       "      <th>sentyment</th>\n",
       "    </tr>\n",
       "  </thead>\n",
       "  <tbody>\n",
       "    <tr>\n",
       "      <th>8753</th>\n",
       "      <td>zapał</td>\n",
       "      <td>1</td>\n",
       "    </tr>\n",
       "    <tr>\n",
       "      <th>7467</th>\n",
       "      <td>tumult</td>\n",
       "      <td>-1</td>\n",
       "    </tr>\n",
       "    <tr>\n",
       "      <th>8717</th>\n",
       "      <td>zamieszanie</td>\n",
       "      <td>-1</td>\n",
       "    </tr>\n",
       "    <tr>\n",
       "      <th>6467</th>\n",
       "      <td>ścisk</td>\n",
       "      <td>-1</td>\n",
       "    </tr>\n",
       "    <tr>\n",
       "      <th>8549</th>\n",
       "      <td>władza</td>\n",
       "      <td>1</td>\n",
       "    </tr>\n",
       "  </tbody>\n",
       "</table>\n",
       "</div>"
      ],
      "text/plain": [
       "            lemat  sentyment\n",
       "8753        zapał          1\n",
       "7467       tumult         -1\n",
       "8717  zamieszanie         -1\n",
       "6467        ścisk         -1\n",
       "8549       władza          1"
      ]
     },
     "execution_count": 318,
     "metadata": {},
     "output_type": "execute_result"
    }
   ],
   "source": [
    "emotions.sample(5).head()"
   ]
  },
  {
   "cell_type": "code",
   "execution_count": 319,
   "metadata": {
    "hidden": true
   },
   "outputs": [],
   "source": [
    "emotions_dict = {x[0]:x[1] for x in emotions.values}"
   ]
  },
  {
   "cell_type": "markdown",
   "metadata": {
    "heading_collapsed": true
   },
   "source": [
    "## Titles/shorts"
   ]
  },
  {
   "cell_type": "code",
   "execution_count": 320,
   "metadata": {
    "hidden": true
   },
   "outputs": [
    {
     "data": {
      "text/html": [
       "<div>\n",
       "<style scoped>\n",
       "    .dataframe tbody tr th:only-of-type {\n",
       "        vertical-align: middle;\n",
       "    }\n",
       "\n",
       "    .dataframe tbody tr th {\n",
       "        vertical-align: top;\n",
       "    }\n",
       "\n",
       "    .dataframe thead th {\n",
       "        text-align: right;\n",
       "    }\n",
       "</style>\n",
       "<table border=\"1\" class=\"dataframe\">\n",
       "  <thead>\n",
       "    <tr style=\"text-align: right;\">\n",
       "      <th></th>\n",
       "      <th>lemat</th>\n",
       "      <th>sentyment</th>\n",
       "    </tr>\n",
       "  </thead>\n",
       "  <tbody>\n",
       "    <tr>\n",
       "      <th>104325</th>\n",
       "      <td>nadrealność</td>\n",
       "      <td>-1</td>\n",
       "    </tr>\n",
       "    <tr>\n",
       "      <th>29075</th>\n",
       "      <td>elegancik</td>\n",
       "      <td>-1</td>\n",
       "    </tr>\n",
       "    <tr>\n",
       "      <th>84263</th>\n",
       "      <td>patriotyczność</td>\n",
       "      <td>1</td>\n",
       "    </tr>\n",
       "    <tr>\n",
       "      <th>138151</th>\n",
       "      <td>hollywoodzko</td>\n",
       "      <td>1</td>\n",
       "    </tr>\n",
       "    <tr>\n",
       "      <th>25609</th>\n",
       "      <td>nienaturalność</td>\n",
       "      <td>-1</td>\n",
       "    </tr>\n",
       "  </tbody>\n",
       "</table>\n",
       "</div>"
      ],
      "text/plain": [
       "                 lemat  sentyment\n",
       "104325     nadrealność         -1\n",
       "29075        elegancik         -1\n",
       "84263   patriotyczność          1\n",
       "138151    hollywoodzko          1\n",
       "25609   nienaturalność         -1"
      ]
     },
     "execution_count": 320,
     "metadata": {},
     "output_type": "execute_result"
    }
   ],
   "source": [
    "emotions.sample(5).head()"
   ]
  },
  {
   "cell_type": "code",
   "execution_count": 321,
   "metadata": {
    "hidden": true
   },
   "outputs": [],
   "source": [
    "emotion_words = emotions_dict.keys()"
   ]
  },
  {
   "cell_type": "code",
   "execution_count": 322,
   "metadata": {
    "hidden": true
   },
   "outputs": [],
   "source": [
    "df['sentiment'] = df['long'].str.lower().apply(lambda x: sum([emotions_dict[a] \n",
    "                                         for a in str(x).split(' ')\n",
    "                                         if a in emotion_words]))"
   ]
  },
  {
   "cell_type": "code",
   "execution_count": 323,
   "metadata": {
    "hidden": true
   },
   "outputs": [],
   "source": [
    "grouped_data = {}\n",
    "for key, grouping_order in grouping_orders.items():\n",
    "    data_dict = {}\n",
    "    for keyword in keywords:\n",
    "        data_dict[keyword] = df\\\n",
    "            [(df[keyword] == 1)&(df['sentiment'] != 0)]\\\n",
    "            [grouping_order['columns_before']]\\\n",
    "            .groupby(grouping_order['groupby'])\\\n",
    "            .mean()\\\n",
    "            .values\\\n",
    "            .flatten()\n",
    "    res = pd.DataFrame().from_dict(\n",
    "        data_dict,\n",
    "        'index',\n",
    "        columns = grouping_order['columns_after']\n",
    "    )\n",
    "    res = (res - res.mean())/res.std()\n",
    "    grouped_data[key] = res"
   ]
  },
  {
   "cell_type": "code",
   "execution_count": 324,
   "metadata": {
    "hidden": true,
    "scrolled": true
   },
   "outputs": [
    {
     "data": {
      "image/png": "[encoded data removed]",
      "text/plain": [
       "<Figure size 720x576 with 2 Axes>"
      ]
     },
     "metadata": {},
     "output_type": "display_data"
    }
   ],
   "source": [
    "sns.heatmap(grouped_data['brand']);"
   ]
  },
  {
   "cell_type": "code",
   "execution_count": null,
   "metadata": {
    "hidden": true
   },
   "outputs": [],
   "source": [
    "# compare that chart (two websites in one company), and two websites from two different companies"
   ]
  },
  {
   "cell_type": "code",
   "execution_count": null,
   "metadata": {
    "hidden": true
   },
   "outputs": [],
   "source": []
  },
  {
   "cell_type": "markdown",
   "metadata": {
    "heading_collapsed": true
   },
   "source": [
    "## Regex"
   ]
  },
  {
   "cell_type": "code",
   "execution_count": null,
   "metadata": {
    "hidden": true
   },
   "outputs": [],
   "source": [
    "wc = WordCloud()"
   ]
  },
  {
   "cell_type": "code",
   "execution_count": null,
   "metadata": {
    "hidden": true
   },
   "outputs": [],
   "source": [
    "keyword_patterns = ['duda', 'dudy', 'dude']"
   ]
  },
  {
   "cell_type": "code",
   "execution_count": null,
   "metadata": {
    "hidden": true
   },
   "outputs": [],
   "source": [
    "found_records = df[['long']][\n",
    "    df['long'].str.lower().str.contains(r'|'.join(keyword_patterns)) == True\n",
    "].values.flatten()"
   ]
  },
  {
   "cell_type": "code",
   "execution_count": null,
   "metadata": {
    "hidden": true
   },
   "outputs": [],
   "source": [
    "keyword_words_before = []\n",
    "keyword_words_after = []\n",
    "for record in found_records:\n",
    "    tmp_string_list = re.sub(r'\\W+', ' ', record).lower().split(' ')\n",
    "    keyword_idxs = [n for n, x in enumerate(tmp_string_list) if x in keyword_patterns]\n",
    "    max_idx = len(tmp_string_list)\n",
    "    for keyword_idx in keyword_idxs:\n",
    "        if keyword_idx < max_idx - 2 and keyword_idx > 1:\n",
    "            keyword_context_before = tmp_string_list[keyword_idx-2 : keyword_idx]\n",
    "            keyword_words_before.append(keyword_context_before[0])\n",
    "            keyword_words_before.append(keyword_context_before[1])\n",
    "            keyword_context_after = tmp_string_list[keyword_idx+1 : keyword_idx+3]\n",
    "            keyword_words_after.append(keyword_context_after[0])\n",
    "            keyword_words_after.append(keyword_context_after[1])"
   ]
  },
  {
   "cell_type": "code",
   "execution_count": null,
   "metadata": {
    "hidden": true
   },
   "outputs": [],
   "source": [
    "plt.imshow(wc.generate(\" \".join(keyword_words_after)))"
   ]
  },
  {
   "cell_type": "code",
   "execution_count": null,
   "metadata": {
    "hidden": true
   },
   "outputs": [],
   "source": []
  },
  {
   "cell_type": "markdown",
   "metadata": {},
   "source": [
    "## Word2Vec"
   ]
  },
  {
   "cell_type": "code",
   "execution_count": 383,
   "metadata": {},
   "outputs": [],
   "source": [
    "def make_sentences(df):\n",
    "    sentences = []\n",
    "    for record in (df['title'].fillna('')+'. '+df['short'].fillna('')+' '+df['long'].fillna('')).str.lower():\n",
    "        if record != None:\n",
    "            for sentence in record.split('.'):\n",
    "                sentences.append(re.sub(r'\\W+', ' ', sentence).lower().strip().split(' '))\n",
    "    return sentences"
   ]
  },
  {
   "cell_type": "code",
   "execution_count": 386,
   "metadata": {},
   "outputs": [],
   "source": [
    "models = {}\n",
    "for country, brand_dict in brand_keys.items():\n",
    "    models[country] = {}\n",
    "    country_data = make_sentences(df[df['country'] == country])\n",
    "    models[country]['model'] = Word2Vec(country_data, min_count=10)\n",
    "    for brand_name, websites in brand_dict.items():\n",
    "        models[country][brand_name] = {}\n",
    "        brand_data = make_sentences(df[df['brand'] == brand_name])\n",
    "        models[country][brand_name]['model'] = Word2Vec(brand_data, min_count=10)\n",
    "        for website_name in websites:\n",
    "            models[country][brand_name][website_name] = {}\n",
    "            website_data = make_sentences(df[df['website'] == website_name])\n",
    "            models[country][brand_name][website_name]['model'] = Word2Vec(website_data, min_count=10)"
   ]
  },
  {
   "cell_type": "code",
   "execution_count": 387,
   "metadata": {},
   "outputs": [],
   "source": [
    "models['model'] = Word2Vec(make_sentences(df), min_count=10)"
   ]
  },
  {
   "cell_type": "code",
   "execution_count": 391,
   "metadata": {},
   "outputs": [],
   "source": [
    "vectors = models['model'].wv.vectors\n",
    "words = models['model'].wv.vocab"
   ]
  },
  {
   "cell_type": "code",
   "execution_count": null,
   "metadata": {},
   "outputs": [],
   "source": [
    "dim_reduction = TSNE(n_components = 3, n_jobs = 10).fit(vectors)"
   ]
  },
  {
   "cell_type": "code",
   "execution_count": null,
   "metadata": {},
   "outputs": [],
   "source": [
    "sum(dim_reduction.explained_variance_ratio_)*100"
   ]
  },
  {
   "cell_type": "code",
   "execution_count": null,
   "metadata": {},
   "outputs": [],
   "source": []
  },
  {
   "cell_type": "code",
   "execution_count": null,
   "metadata": {},
   "outputs": [],
   "source": []
  },
  {
   "cell_type": "code",
   "execution_count": null,
   "metadata": {},
   "outputs": [],
   "source": []
  },
  {
   "cell_type": "code",
   "execution_count": null,
   "metadata": {},
   "outputs": [],
   "source": []
  },
  {
   "cell_type": "code",
   "execution_count": 377,
   "metadata": {},
   "outputs": [
    {
     "data": {
      "text/plain": [
       "[('bruksela', 0.7089409232139587),\n",
       " ('komisja', 0.7066569328308105),\n",
       " ('gospodarka', 0.7061931490898132),\n",
       " ('wspólnota', 0.6883198618888855),\n",
       " ('europejska', 0.6852787733078003)]"
      ]
     },
     "execution_count": 377,
     "metadata": {},
     "output_type": "execute_result"
    }
   ],
   "source": [
    "wv.wv.most_similar(positive=['unia'], topn=5)"
   ]
  },
  {
   "cell_type": "code",
   "execution_count": 381,
   "metadata": {},
   "outputs": [
    {
     "data": {
      "text/plain": [
       "array([ 1.2100538 , -0.6590945 , -0.49855638,  0.30723706,  0.4976728 ,\n",
       "       -0.8990864 ,  0.70294344, -0.94739664, -0.33689886,  0.88038284,\n",
       "        0.77264625, -0.93541414, -0.30654228, -0.9078585 ,  0.4457265 ,\n",
       "        0.6668901 ,  2.1521    ,  1.9721675 ,  0.21214767, -0.16089168,\n",
       "        2.293079  ,  0.6372554 , -2.0010557 , -0.766652  , -0.5498926 ,\n",
       "       -1.5570703 ,  0.42277595,  0.6132108 ,  0.5454722 , -0.9618312 ,\n",
       "       -0.3270264 , -1.0505576 ,  2.32185   ,  1.1064017 ,  0.61862636,\n",
       "       -0.6685954 , -0.3251235 ,  0.69587713,  0.5514734 , -0.82953775,\n",
       "       -1.7176147 ,  0.5618557 , -0.7313055 ,  1.7376264 , -0.38638195,\n",
       "       -0.9632755 ,  0.13907753,  1.5275971 ,  0.5045047 ,  1.1138102 ,\n",
       "       -0.77183616, -1.7961152 , -1.4181918 , -0.81025624,  0.7626897 ,\n",
       "       -0.68268293, -2.8573604 , -0.34180167, -1.2710521 , -1.0408807 ,\n",
       "        2.1072822 ,  0.68945515, -1.8821734 , -1.779229  ,  1.4641725 ,\n",
       "       -0.86896497,  1.1627046 , -1.5840974 ,  0.1869738 , -0.16665457,\n",
       "        1.2336887 ,  0.9344631 , -0.71741647,  2.7667067 , -1.2086225 ,\n",
       "        2.3474264 ,  0.20312597,  1.3960415 , -0.0876072 ,  1.3837601 ,\n",
       "        0.46381643, -0.12456902,  1.8849512 , -1.1478661 , -0.25186414,\n",
       "        0.6253969 , -0.68318784,  3.1308646 ,  1.1390573 , -0.9771888 ,\n",
       "       -1.8924761 , -0.15163343, -0.7825548 , -0.57307833,  1.4431111 ,\n",
       "       -0.5057277 , -1.3250904 ,  0.14413163, -0.6866324 ,  1.3724619 ],\n",
       "      dtype=float32)"
      ]
     },
     "execution_count": 381,
     "metadata": {},
     "output_type": "execute_result"
    }
   ],
   "source": [
    "wv.wv['duda']"
   ]
  },
  {
   "cell_type": "code",
   "execution_count": 382,
   "metadata": {},
   "outputs": [],
   "source": [
    "from sklearn.decomposition import PCA"
   ]
  },
  {
   "cell_type": "code",
   "execution_count": null,
   "metadata": {},
   "outputs": [],
   "source": []
  },
  {
   "cell_type": "code",
   "execution_count": null,
   "metadata": {},
   "outputs": [],
   "source": []
  },
  {
   "cell_type": "code",
   "execution_count": null,
   "metadata": {},
   "outputs": [],
   "source": []
  }
 ],
 "metadata": {
  "kernelspec": {
   "display_name": "Python 3",
   "language": "python",
   "name": "python3"
  },
  "language_info": {
   "codemirror_mode": {
    "name": "ipython",
    "version": 3
   },
   "file_extension": ".py",
   "mimetype": "text/x-python",
   "name": "python",
   "nbconvert_exporter": "python",
   "pygments_lexer": "ipython3",
   "version": "3.6.9"
  },
  "toc": {
   "base_numbering": 1,
   "nav_menu": {},
   "number_sections": true,
   "sideBar": true,
   "skip_h1_title": false,
   "title_cell": "Table of Contents",
   "title_sidebar": "Contents",
   "toc_cell": false,
   "toc_position": {},
   "toc_section_display": true,
   "toc_window_display": false
  }
 },
 "nbformat": 4,
 "nbformat_minor": 2
}
