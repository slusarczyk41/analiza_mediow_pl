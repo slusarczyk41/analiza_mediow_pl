{
 "cells": [
  {
   "cell_type": "code",
   "execution_count": 1,
   "metadata": {},
   "outputs": [],
   "source": [
    "import pandas as pd"
   ]
  },
  {
   "cell_type": "code",
   "execution_count": 28,
   "metadata": {},
   "outputs": [],
   "source": [
    "df = pd.read_csv('data/gazeta/articles/2', header = None)\n",
    "df.columns = ['url', 'title', 'short', 'long', 'img', 'com']"
   ]
  },
  {
   "cell_type": "code",
   "execution_count": 29,
   "metadata": {},
   "outputs": [
    {
     "data": {
      "text/plain": [
       "0                               Wałęsa pisze do biskupów\n",
       "1      Sąd Najwyższy odrzucił protest PiS ws. okręgu ...\n",
       "2      Rosja zaczęła eksport ropy z rurociągu Odessa-...\n",
       "3      Nowy prezes Inteligo. Co to oznacza dla klientów?\n",
       "4                 Atomowa odwilż idzie do Iranu z Rosji?\n",
       "                             ...                        \n",
       "123    Skandaliczny incydent. Zabili owcę, rozebrali ...\n",
       "124                  Nie było konfrontacji w sprawie LFO\n",
       "125                Papież prosi prawosławie o wybaczenie\n",
       "126                                   Zatrucia pokarmowe\n",
       "127    Marcin Dubieniecki ma pracować dla koncernu na...\n",
       "Name: title, Length: 128, dtype: object"
      ]
     },
     "execution_count": 29,
     "metadata": {},
     "output_type": "execute_result"
    }
   ],
   "source": [
    "df['title']"
   ]
  },
  {
   "cell_type": "code",
   "execution_count": null,
   "metadata": {},
   "outputs": [],
   "source": []
  }
 ],
 "metadata": {
  "kernelspec": {
   "display_name": "Python 3",
   "language": "python",
   "name": "python3"
  },
  "language_info": {
   "codemirror_mode": {
    "name": "ipython",
    "version": 3
   },
   "file_extension": ".py",
   "mimetype": "text/x-python",
   "name": "python",
   "nbconvert_exporter": "python",
   "pygments_lexer": "ipython3",
   "version": "3.6.9"
  },
  "toc": {
   "base_numbering": 1,
   "nav_menu": {},
   "number_sections": true,
   "sideBar": true,
   "skip_h1_title": false,
   "title_cell": "Table of Contents",
   "title_sidebar": "Contents",
   "toc_cell": false,
   "toc_position": {},
   "toc_section_display": true,
   "toc_window_display": false
  }
 },
 "nbformat": 4,
 "nbformat_minor": 2
}
