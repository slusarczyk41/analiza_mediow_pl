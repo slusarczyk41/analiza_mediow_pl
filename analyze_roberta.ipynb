{
 "cells": [
  {
   "cell_type": "code",
   "execution_count": 27,
   "metadata": {},
   "outputs": [],
   "source": [
    "from fairseq.models.roberta import RobertaModel, RobertaHubInterface\n",
    "from fairseq import hub_utils\n",
    "from os import listdir\n",
    "import pandas as pd"
   ]
  },
  {
   "cell_type": "code",
   "execution_count": null,
   "metadata": {},
   "outputs": [],
   "source": []
  },
  {
   "cell_type": "code",
   "execution_count": null,
   "metadata": {},
   "outputs": [],
   "source": []
  },
  {
   "cell_type": "code",
   "execution_count": null,
   "metadata": {},
   "outputs": [],
   "source": [
    "def load_model(brand, filename):\n",
    "    loaded = hub_utils.from_pretrained(\n",
    "        model_name_or_path=\"/my_roberta/my_models/\"+brand,\n",
    "        checkpoint_file=filename,\n",
    "        data_name_or_path=\"/my_roberta/data-bin/\"+brand,\n",
    "        bpe=\"sentencepiece\",\n",
    "        sentencepiece_vocab='/my_roberta/my_data/{}/{}.spm.model.model'.format(brand, brand),\n",
    "        load_checkpoint_heads=True,\n",
    "        archive_map=RobertaModel.hub_models(),\n",
    "        cpu=True\n",
    "    )\n",
    "    return RobertaHubInterface(loaded['args'], loaded['task'], loaded['models'][0])"
   ]
  },
  {
   "cell_type": "code",
   "execution_count": 178,
   "metadata": {},
   "outputs": [],
   "source": [
    "sentence_keys = [\n",
    "    {\n",
    "        \"sentence\": \"{} to <mask> polityk.\",\n",
    "        \"keywords\": (\"Andrzej Duda\", \"Jarosław Kaczyński\", \"Donald Tusk\"),\n",
    "        \"reference\": {\n",
    "            \"good\": [\" \"+x for x in [\"ważny\", \"doświadczony\", \"dobry\", \"uczciwy\", \"silny\", \"skuteczny\",\n",
    "                                     \"utalentowany\", \"mądry\", \"kompetentny\", \"doskonały\"]],\n",
    "            \"bad\": [\" \"+x for x in  [\"niebezpieczny\", \"słaby\", \"zły\", \"arogancki\", \"nieudolny\"]]\n",
    "        }\n",
    "    }\n",
    "]"
   ]
  },
  {
   "cell_type": "code",
   "execution_count": 179,
   "metadata": {},
   "outputs": [],
   "source": [
    "df_list = []\n",
    "for brand in ['agora', 'tvp', 'ringier']:\n",
    "    ten_last_models = list(sorted(listdir('/my_roberta/my_models/'+brand)))[-12:-2]\n",
    "    for model_name in ten_last_models:\n",
    "        model = load_model(brand, model_name)\n",
    "        for sentence_key in sentence_keys:\n",
    "            row = []\n",
    "            for key in sentence_key[\"keywords\"]:\n",
    "                predictions = model.fill_mask(sentence_key[\"sentence\"].format(key), 100)\n",
    "                try:\n",
    "                    good_p = sum([x[1] for x in predictions if x[2] in sentence_key[\"reference\"][\"good\"]])\n",
    "                    bad_p = sum([x[1] for x in predictions if x[2] in sentence_key[\"reference\"][\"bad\"]])\n",
    "                    score = good_p / (good_p+bad_p)\n",
    "                    df_list.append([\n",
    "                        brand,\n",
    "                        model_name,\n",
    "                        key,\n",
    "                        score\n",
    "                    ])\n",
    "                except:\n",
    "                    df_list.append([\n",
    "                        brand,\n",
    "                        model_name,\n",
    "                        key,\n",
    "                        None\n",
    "                    ])"
   ]
  },
  {
   "cell_type": "code",
   "execution_count": 180,
   "metadata": {},
   "outputs": [],
   "source": [
    "df = pd.DataFrame(df_list, columns = ['brand', 'model', 'keyword', 'score'])"
   ]
  },
  {
   "cell_type": "code",
   "execution_count": 181,
   "metadata": {},
   "outputs": [
    {
     "data": {
      "text/html": [
       "<div>\n",
       "<style scoped>\n",
       "    .dataframe tbody tr th:only-of-type {\n",
       "        vertical-align: middle;\n",
       "    }\n",
       "\n",
       "    .dataframe tbody tr th {\n",
       "        vertical-align: top;\n",
       "    }\n",
       "\n",
       "    .dataframe thead th {\n",
       "        text-align: right;\n",
       "    }\n",
       "</style>\n",
       "<table border=\"1\" class=\"dataframe\">\n",
       "  <thead>\n",
       "    <tr style=\"text-align: right;\">\n",
       "      <th></th>\n",
       "      <th>brand</th>\n",
       "      <th>model</th>\n",
       "      <th>keyword</th>\n",
       "      <th>score</th>\n",
       "    </tr>\n",
       "  </thead>\n",
       "  <tbody>\n",
       "    <tr>\n",
       "      <td>31</td>\n",
       "      <td>tvp</td>\n",
       "      <td>checkpoint364.pt</td>\n",
       "      <td>Jarosław Kaczyński</td>\n",
       "      <td>1.0</td>\n",
       "    </tr>\n",
       "    <tr>\n",
       "      <td>34</td>\n",
       "      <td>tvp</td>\n",
       "      <td>checkpoint365.pt</td>\n",
       "      <td>Jarosław Kaczyński</td>\n",
       "      <td>1.0</td>\n",
       "    </tr>\n",
       "    <tr>\n",
       "      <td>37</td>\n",
       "      <td>tvp</td>\n",
       "      <td>checkpoint366.pt</td>\n",
       "      <td>Jarosław Kaczyński</td>\n",
       "      <td>1.0</td>\n",
       "    </tr>\n",
       "    <tr>\n",
       "      <td>40</td>\n",
       "      <td>tvp</td>\n",
       "      <td>checkpoint367.pt</td>\n",
       "      <td>Jarosław Kaczyński</td>\n",
       "      <td>1.0</td>\n",
       "    </tr>\n",
       "    <tr>\n",
       "      <td>43</td>\n",
       "      <td>tvp</td>\n",
       "      <td>checkpoint368.pt</td>\n",
       "      <td>Jarosław Kaczyński</td>\n",
       "      <td>1.0</td>\n",
       "    </tr>\n",
       "    <tr>\n",
       "      <td>46</td>\n",
       "      <td>tvp</td>\n",
       "      <td>checkpoint369.pt</td>\n",
       "      <td>Jarosław Kaczyński</td>\n",
       "      <td>1.0</td>\n",
       "    </tr>\n",
       "    <tr>\n",
       "      <td>49</td>\n",
       "      <td>tvp</td>\n",
       "      <td>checkpoint370.pt</td>\n",
       "      <td>Jarosław Kaczyński</td>\n",
       "      <td>1.0</td>\n",
       "    </tr>\n",
       "    <tr>\n",
       "      <td>52</td>\n",
       "      <td>tvp</td>\n",
       "      <td>checkpoint371.pt</td>\n",
       "      <td>Jarosław Kaczyński</td>\n",
       "      <td>1.0</td>\n",
       "    </tr>\n",
       "    <tr>\n",
       "      <td>55</td>\n",
       "      <td>tvp</td>\n",
       "      <td>checkpoint372.pt</td>\n",
       "      <td>Jarosław Kaczyński</td>\n",
       "      <td>1.0</td>\n",
       "    </tr>\n",
       "    <tr>\n",
       "      <td>58</td>\n",
       "      <td>tvp</td>\n",
       "      <td>checkpoint373.pt</td>\n",
       "      <td>Jarosław Kaczyński</td>\n",
       "      <td>1.0</td>\n",
       "    </tr>\n",
       "  </tbody>\n",
       "</table>\n",
       "</div>"
      ],
      "text/plain": [
       "   brand             model             keyword  score\n",
       "31   tvp  checkpoint364.pt  Jarosław Kaczyński    1.0\n",
       "34   tvp  checkpoint365.pt  Jarosław Kaczyński    1.0\n",
       "37   tvp  checkpoint366.pt  Jarosław Kaczyński    1.0\n",
       "40   tvp  checkpoint367.pt  Jarosław Kaczyński    1.0\n",
       "43   tvp  checkpoint368.pt  Jarosław Kaczyński    1.0\n",
       "46   tvp  checkpoint369.pt  Jarosław Kaczyński    1.0\n",
       "49   tvp  checkpoint370.pt  Jarosław Kaczyński    1.0\n",
       "52   tvp  checkpoint371.pt  Jarosław Kaczyński    1.0\n",
       "55   tvp  checkpoint372.pt  Jarosław Kaczyński    1.0\n",
       "58   tvp  checkpoint373.pt  Jarosław Kaczyński    1.0"
      ]
     },
     "execution_count": 181,
     "metadata": {},
     "output_type": "execute_result"
    }
   ],
   "source": [
    "df[\n",
    "    (df['brand'] == 'tvp') &\n",
    "    (df['keyword'] == 'Jarosław Kaczyński')\n",
    "\n",
    "]"
   ]
  },
  {
   "cell_type": "code",
   "execution_count": 182,
   "metadata": {},
   "outputs": [
    {
     "data": {
      "text/html": [
       "<div>\n",
       "<style scoped>\n",
       "    .dataframe tbody tr th:only-of-type {\n",
       "        vertical-align: middle;\n",
       "    }\n",
       "\n",
       "    .dataframe tbody tr th {\n",
       "        vertical-align: top;\n",
       "    }\n",
       "\n",
       "    .dataframe thead th {\n",
       "        text-align: right;\n",
       "    }\n",
       "</style>\n",
       "<table border=\"1\" class=\"dataframe\">\n",
       "  <thead>\n",
       "    <tr style=\"text-align: right;\">\n",
       "      <th></th>\n",
       "      <th>score</th>\n",
       "    </tr>\n",
       "    <tr>\n",
       "      <th>brand</th>\n",
       "      <th></th>\n",
       "    </tr>\n",
       "  </thead>\n",
       "  <tbody>\n",
       "    <tr>\n",
       "      <td>agora</td>\n",
       "      <td>0.997874</td>\n",
       "    </tr>\n",
       "    <tr>\n",
       "      <td>ringier</td>\n",
       "      <td>0.986804</td>\n",
       "    </tr>\n",
       "    <tr>\n",
       "      <td>tvp</td>\n",
       "      <td>0.998448</td>\n",
       "    </tr>\n",
       "  </tbody>\n",
       "</table>\n",
       "</div>"
      ],
      "text/plain": [
       "            score\n",
       "brand            \n",
       "agora    0.997874\n",
       "ringier  0.986804\n",
       "tvp      0.998448"
      ]
     },
     "execution_count": 182,
     "metadata": {},
     "output_type": "execute_result"
    }
   ],
   "source": [
    "df\\\n",
    "    .groupby('brand')\\\n",
    "    .mean()"
   ]
  },
  {
   "cell_type": "code",
   "execution_count": 183,
   "metadata": {},
   "outputs": [],
   "source": [
    "results = df\\\n",
    "    .groupby(['brand', 'keyword'])\\\n",
    "    .mean()\\\n",
    "    .reset_index()\\\n",
    "    .pivot('keyword', 'brand', 'score')"
   ]
  },
  {
   "cell_type": "code",
   "execution_count": 184,
   "metadata": {},
   "outputs": [
    {
     "data": {
      "text/html": [
       "<div>\n",
       "<style scoped>\n",
       "    .dataframe tbody tr th:only-of-type {\n",
       "        vertical-align: middle;\n",
       "    }\n",
       "\n",
       "    .dataframe tbody tr th {\n",
       "        vertical-align: top;\n",
       "    }\n",
       "\n",
       "    .dataframe thead th {\n",
       "        text-align: right;\n",
       "    }\n",
       "</style>\n",
       "<table border=\"1\" class=\"dataframe\">\n",
       "  <thead>\n",
       "    <tr style=\"text-align: right;\">\n",
       "      <th>brand</th>\n",
       "      <th>agora</th>\n",
       "      <th>ringier</th>\n",
       "      <th>tvp</th>\n",
       "    </tr>\n",
       "    <tr>\n",
       "      <th>keyword</th>\n",
       "      <th></th>\n",
       "      <th></th>\n",
       "      <th></th>\n",
       "    </tr>\n",
       "  </thead>\n",
       "  <tbody>\n",
       "    <tr>\n",
       "      <td>Andrzej Duda</td>\n",
       "      <td>1.000000</td>\n",
       "      <td>0.998645</td>\n",
       "      <td>1.000000</td>\n",
       "    </tr>\n",
       "    <tr>\n",
       "      <td>Donald Tusk</td>\n",
       "      <td>0.997775</td>\n",
       "      <td>0.984653</td>\n",
       "      <td>0.995343</td>\n",
       "    </tr>\n",
       "    <tr>\n",
       "      <td>Jarosław Kaczyński</td>\n",
       "      <td>0.995849</td>\n",
       "      <td>0.977113</td>\n",
       "      <td>1.000000</td>\n",
       "    </tr>\n",
       "  </tbody>\n",
       "</table>\n",
       "</div>"
      ],
      "text/plain": [
       "brand                  agora   ringier       tvp\n",
       "keyword                                         \n",
       "Andrzej Duda        1.000000  0.998645  1.000000\n",
       "Donald Tusk         0.997775  0.984653  0.995343\n",
       "Jarosław Kaczyński  0.995849  0.977113  1.000000"
      ]
     },
     "execution_count": 184,
     "metadata": {},
     "output_type": "execute_result"
    }
   ],
   "source": [
    "results.head()"
   ]
  },
  {
   "cell_type": "code",
   "execution_count": 185,
   "metadata": {},
   "outputs": [
    {
     "data": {
      "text/plain": [
       "brand\n",
       "agora      0.997874\n",
       "ringier    0.986804\n",
       "tvp        0.998448\n",
       "dtype: float64"
      ]
     },
     "execution_count": 185,
     "metadata": {},
     "output_type": "execute_result"
    }
   ],
   "source": [
    "results.mean()"
   ]
  },
  {
   "cell_type": "code",
   "execution_count": 186,
   "metadata": {},
   "outputs": [],
   "source": [
    "results_norm = (results - results.mean()) / results.std()"
   ]
  },
  {
   "cell_type": "code",
   "execution_count": 187,
   "metadata": {},
   "outputs": [
    {
     "data": {
      "text/html": [
       "<div>\n",
       "<style scoped>\n",
       "    .dataframe tbody tr th:only-of-type {\n",
       "        vertical-align: middle;\n",
       "    }\n",
       "\n",
       "    .dataframe tbody tr th {\n",
       "        vertical-align: top;\n",
       "    }\n",
       "\n",
       "    .dataframe thead th {\n",
       "        text-align: right;\n",
       "    }\n",
       "</style>\n",
       "<table border=\"1\" class=\"dataframe\">\n",
       "  <thead>\n",
       "    <tr style=\"text-align: right;\">\n",
       "      <th>brand</th>\n",
       "      <th>agora</th>\n",
       "      <th>ringier</th>\n",
       "      <th>tvp</th>\n",
       "    </tr>\n",
       "    <tr>\n",
       "      <th>keyword</th>\n",
       "      <th></th>\n",
       "      <th></th>\n",
       "      <th></th>\n",
       "    </tr>\n",
       "  </thead>\n",
       "  <tbody>\n",
       "    <tr>\n",
       "      <td>Andrzej Duda</td>\n",
       "      <td>1.023163</td>\n",
       "      <td>1.083791</td>\n",
       "      <td>0.577350</td>\n",
       "    </tr>\n",
       "    <tr>\n",
       "      <td>Donald Tusk</td>\n",
       "      <td>-0.048059</td>\n",
       "      <td>-0.196863</td>\n",
       "      <td>-1.154701</td>\n",
       "    </tr>\n",
       "    <tr>\n",
       "      <td>Jarosław Kaczyński</td>\n",
       "      <td>-0.975104</td>\n",
       "      <td>-0.886928</td>\n",
       "      <td>0.577350</td>\n",
       "    </tr>\n",
       "  </tbody>\n",
       "</table>\n",
       "</div>"
      ],
      "text/plain": [
       "brand                  agora   ringier       tvp\n",
       "keyword                                         \n",
       "Andrzej Duda        1.023163  1.083791  0.577350\n",
       "Donald Tusk        -0.048059 -0.196863 -1.154701\n",
       "Jarosław Kaczyński -0.975104 -0.886928  0.577350"
      ]
     },
     "execution_count": 187,
     "metadata": {},
     "output_type": "execute_result"
    }
   ],
   "source": [
    "results_norm.head()"
   ]
  },
  {
   "cell_type": "code",
   "execution_count": 188,
   "metadata": {},
   "outputs": [],
   "source": [
    "results_scaled = ((results_norm.T - results_norm.min(axis=1)) / (results_norm.max(axis=1) - results_norm.min(axis=1))).T"
   ]
  },
  {
   "cell_type": "code",
   "execution_count": 189,
   "metadata": {},
   "outputs": [
    {
     "data": {
      "text/html": [
       "<div>\n",
       "<style scoped>\n",
       "    .dataframe tbody tr th:only-of-type {\n",
       "        vertical-align: middle;\n",
       "    }\n",
       "\n",
       "    .dataframe tbody tr th {\n",
       "        vertical-align: top;\n",
       "    }\n",
       "\n",
       "    .dataframe thead th {\n",
       "        text-align: right;\n",
       "    }\n",
       "</style>\n",
       "<table border=\"1\" class=\"dataframe\">\n",
       "  <thead>\n",
       "    <tr style=\"text-align: right;\">\n",
       "      <th>brand</th>\n",
       "      <th>agora</th>\n",
       "      <th>ringier</th>\n",
       "      <th>tvp</th>\n",
       "    </tr>\n",
       "    <tr>\n",
       "      <th>keyword</th>\n",
       "      <th></th>\n",
       "      <th></th>\n",
       "      <th></th>\n",
       "    </tr>\n",
       "  </thead>\n",
       "  <tbody>\n",
       "    <tr>\n",
       "      <td>Andrzej Duda</td>\n",
       "      <td>0.880286</td>\n",
       "      <td>1.000000</td>\n",
       "      <td>0.0</td>\n",
       "    </tr>\n",
       "    <tr>\n",
       "      <td>Donald Tusk</td>\n",
       "      <td>1.000000</td>\n",
       "      <td>0.865536</td>\n",
       "      <td>0.0</td>\n",
       "    </tr>\n",
       "    <tr>\n",
       "      <td>Jarosław Kaczyński</td>\n",
       "      <td>0.000000</td>\n",
       "      <td>0.056798</td>\n",
       "      <td>1.0</td>\n",
       "    </tr>\n",
       "  </tbody>\n",
       "</table>\n",
       "</div>"
      ],
      "text/plain": [
       "brand                  agora   ringier  tvp\n",
       "keyword                                    \n",
       "Andrzej Duda        0.880286  1.000000  0.0\n",
       "Donald Tusk         1.000000  0.865536  0.0\n",
       "Jarosław Kaczyński  0.000000  0.056798  1.0"
      ]
     },
     "execution_count": 189,
     "metadata": {},
     "output_type": "execute_result"
    }
   ],
   "source": [
    "results_scaled.head()"
   ]
  },
  {
   "cell_type": "code",
   "execution_count": null,
   "metadata": {},
   "outputs": [],
   "source": []
  },
  {
   "cell_type": "code",
   "execution_count": null,
   "metadata": {},
   "outputs": [],
   "source": []
  },
  {
   "cell_type": "code",
   "execution_count": null,
   "metadata": {},
   "outputs": [],
   "source": []
  },
  {
   "cell_type": "code",
   "execution_count": null,
   "metadata": {},
   "outputs": [],
   "source": []
  },
  {
   "cell_type": "code",
   "execution_count": null,
   "metadata": {},
   "outputs": [],
   "source": []
  },
  {
   "cell_type": "code",
   "execution_count": null,
   "metadata": {},
   "outputs": [],
   "source": []
  }
 ],
 "metadata": {
  "kernelspec": {
   "display_name": "Python 3",
   "language": "python",
   "name": "python3"
  },
  "language_info": {
   "codemirror_mode": {
    "name": "ipython",
    "version": 3
   },
   "file_extension": ".py",
   "mimetype": "text/x-python",
   "name": "python",
   "nbconvert_exporter": "python",
   "pygments_lexer": "ipython3",
   "version": "3.7.4"
  }
 },
 "nbformat": 4,
 "nbformat_minor": 2
}
