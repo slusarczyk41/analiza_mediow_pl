{
 "cells": [
  {
   "cell_type": "code",
   "execution_count": 36,
   "metadata": {},
   "outputs": [],
   "source": [
    "import pandas as pd\n",
    "from os import listdir\n",
    "from pandas.errors import EmptyDataError\n",
    "from unidecode import unidecode\n",
    "import seaborn as sns\n",
    "import re\n",
    "from wordcloud import WordCloud\n",
    "from gensim.models import Word2Vec\n",
    "from sklearn.manifold import TSNE\n",
    "from sklearn.decomposition import PCA\n",
    "import matplotlib.pyplot as plt\n",
    "import numpy as np\n",
    "from scipy.spatial import distance\n",
    "\n",
    "sns.set(\n",
    "    rc = {\n",
    "        'figure.figsize': (10, 8)\n",
    "    },\n",
    "    style = 'darkgrid'\n",
    ")"
   ]
  },
  {
   "cell_type": "markdown",
   "metadata": {
    "heading_collapsed": true
   },
   "source": [
    "# Dictionaries"
   ]
  },
  {
   "cell_type": "code",
   "execution_count": 37,
   "metadata": {
    "hidden": true
   },
   "outputs": [],
   "source": [
    "grouping_orders = {\n",
    "    \"website\": {\n",
    "        \"columns_before\": ['website', 'sentiment'],\n",
    "        \"groupby\": [\"website\"],\n",
    "        \"columns_after\": ['fakt', 'gazeta', 'wyborcza'] \n",
    "    },\n",
    "    \"brand\": {\n",
    "        \"columns_before\": ['brand', 'sentiment'],\n",
    "        \"groupby\": [\"brand\"],\n",
    "        \"columns_after\": ['agora', 'ringier'] \n",
    "    },\n",
    "    \"country\": {\n",
    "        \"columns_before\": ['country', 'sentiment'],\n",
    "        \"groupby\": [\"country\"],\n",
    "        \"columns_after\": ['de/ch', 'pl'] \n",
    "    }\n",
    "}"
   ]
  },
  {
   "cell_type": "code",
   "execution_count": 38,
   "metadata": {
    "hidden": true
   },
   "outputs": [],
   "source": [
    "brand_keys = {\n",
    "    \"pl\": {\n",
    "        \"agora\": ['wyborcza', 'gazeta']\n",
    "    },\n",
    "    \"de/ch\": {\n",
    "        \"ringier\": ['fakt', 'onet', 'newsweek']\n",
    "    },\n",
    "    'us': {\n",
    "        \"discovery\": ['tvn']\n",
    "    }\n",
    "}"
   ]
  },
  {
   "cell_type": "code",
   "execution_count": 39,
   "metadata": {
    "hidden": true
   },
   "outputs": [],
   "source": [
    "osoba = ['ideał', 'wróg'] # wzór, wróg, nieprzyjaciel\n",
    "partia = ['postęp', 'zacofanie'] # rozwój, dobrobyt, \n",
    "poglad = ['swoboda', 'reżim'] # chaos, totalitaryzm, racjonalizm\n",
    "kraj = ['sojusznik', 'wróg'] # ostoja, oaza, \n",
    "keyword_reference_words = {\n",
    "    'sąd': ['sprawiedliwość', 'niesprawiedliwość'],\n",
    "    'imigranci': ['przyjaciele', 'wrogowie'],\n",
    "    'ekologia': ['', ''],\n",
    "    'emigracja': ['szansa', 'ucieczka'], # szansa\n",
    "    'pis': partia,\n",
    "    'platforma': partia,\n",
    "    'duda': osoba,\n",
    "    'morawiecki': osoba,\n",
    "    'szydło': osoba,\n",
    "    'kaczyński': osoba,\n",
    "    'kwaśniewski': osoba,\n",
    "    'lewica': poglad,\n",
    "    'prawica': poglad,\n",
    "    'lgbt': ['tolerancja', ''],\n",
    "    'europa': ['wspólnota', 'podział'], # rozłam\n",
    "    'rosja': kraj,\n",
    "    'stany': kraj,\n",
    "    'premier': osoba,\n",
    "    'prezydent': osoba,\n",
    "    'opozycja': partia,\n",
    "    'rząd': partia,\n",
    "    'sejm': partia,\n",
    "    'polska': ['oaza', ''],\n",
    "    'putin': ['sojusznik', 'wróg'],\n",
    "    'trump': ['sojusznik', 'wróg'],\n",
    "    'ukraina': kraj,\n",
    "    'media': ['', ''],\n",
    "    'bank': ['bezpieczeństwo', 'wyzysk'],\n",
    "    'niemcy': kraj,\n",
    "    'papież': osoba,\n",
    "    'kościół': ['oparcie', 'firma'],\n",
    "    'korwin': osoba,\n",
    "    'rydzyk': osoba,\n",
    "    'feminizm': ['równość', 'patriarchat'],\n",
    "    'leszek+miller': osoba,\n",
    "}"
   ]
  },
  {
   "cell_type": "code",
   "execution_count": 40,
   "metadata": {
    "hidden": true
   },
   "outputs": [],
   "source": [
    "decoder = {\n",
    "    '%B1': 'ą',\n",
    "    '%BF': 'ż',\n",
    "    '%B3': 'ł',\n",
    "    '%B6': 'ś',\n",
    "    '%F1': 'ń',\n",
    "    '%F3': 'ó'\n",
    "}\n",
    "with open('keywords', 'r') as f:\n",
    "    raws = f.read().split('\\n')\n",
    "keyword_dict = {}\n",
    "for raw in raws:\n",
    "    tmp_keyword = raw\n",
    "    for d1, d2 in decoder.items():\n",
    "        tmp_keyword = tmp_keyword.replace(d1, d2)\n",
    "    keyword_dict[tmp_keyword] = ''"
   ]
  },
  {
   "cell_type": "code",
   "execution_count": 41,
   "metadata": {
    "hidden": true
   },
   "outputs": [],
   "source": [
    "keyword_regex = {\n",
    "    'pis': r\"\\Dpis\\D|prawo i sprawiedliwość\"\n",
    "}"
   ]
  },
  {
   "cell_type": "markdown",
   "metadata": {},
   "source": [
    "# Read data"
   ]
  },
  {
   "cell_type": "markdown",
   "metadata": {
    "heading_collapsed": true
   },
   "source": [
    "## Wyborcza"
   ]
  },
  {
   "cell_type": "code",
   "execution_count": 42,
   "metadata": {
    "hidden": true
   },
   "outputs": [],
   "source": [
    "wyborcza_articles = []\n",
    "for filename in listdir('data/wyborcza/articles'):\n",
    "    try:\n",
    "        wyborcza_articles.append(pd.read_csv('data/wyborcza/articles/'+filename, header = None))\n",
    "    except EmptyDataError:\n",
    "        pass # empty file\n",
    "wyborcza_articles = pd.concat(wyborcza_articles)\n",
    "wyborcza_articles.columns = ['url', 'title', 'short', 'long', 'img', 'com']\n",
    "wyborcza_articles['short'] = wyborcza_articles['short'].str.replace(r'(.|..)\\n', '')\n",
    "wyborcza_articles = wyborcza_articles[~wyborcza_articles['long'].str.contains('W odpowiedzi do @', na = False) == True]\n",
    "wyborcza_articles = wyborcza_articles[['title', 'short', 'long']]\n",
    "wyborcza_articles = wyborcza_articles.dropna()\n",
    "wyborcza_articles = wyborcza_articles[wyborcza_articles['title'].duplicated() == False]\n",
    "wyborcza_articles = wyborcza_articles[wyborcza_articles['short'] != '0']\n",
    "wyborcza_articles['website'] = 'wyborcza'\n",
    "wyborcza_articles['brand'] = 'agora'\n",
    "wyborcza_articles['country'] = 'pl'"
   ]
  },
  {
   "cell_type": "code",
   "execution_count": 43,
   "metadata": {
    "hidden": true
   },
   "outputs": [],
   "source": [
    "wyborcza_articles = wyborcza_articles[\n",
    "    (\n",
    "        wyborcza_articles['title'] + ' ' +\n",
    "        wyborcza_articles['long'] + ' ' +\n",
    "        wyborcza_articles['short'] \n",
    "    ).str.contains(r\"\"+\"|\".join(list(keyword_reference_words.keys())).replace('+', ' ')) == True\n",
    "]"
   ]
  },
  {
   "cell_type": "code",
   "execution_count": 44,
   "metadata": {
    "hidden": true
   },
   "outputs": [
    {
     "data": {
      "text/plain": [
       "36486"
      ]
     },
     "execution_count": 44,
     "metadata": {},
     "output_type": "execute_result"
    }
   ],
   "source": [
    "len(wyborcza_articles)"
   ]
  },
  {
   "cell_type": "code",
   "execution_count": 45,
   "metadata": {
    "hidden": true
   },
   "outputs": [
    {
     "data": {
      "text/html": [
       "<div>\n",
       "<style scoped>\n",
       "    .dataframe tbody tr th:only-of-type {\n",
       "        vertical-align: middle;\n",
       "    }\n",
       "\n",
       "    .dataframe tbody tr th {\n",
       "        vertical-align: top;\n",
       "    }\n",
       "\n",
       "    .dataframe thead th {\n",
       "        text-align: right;\n",
       "    }\n",
       "</style>\n",
       "<table border=\"1\" class=\"dataframe\">\n",
       "  <thead>\n",
       "    <tr style=\"text-align: right;\">\n",
       "      <th></th>\n",
       "      <th>title</th>\n",
       "      <th>short</th>\n",
       "      <th>long</th>\n",
       "      <th>website</th>\n",
       "      <th>brand</th>\n",
       "      <th>country</th>\n",
       "    </tr>\n",
       "  </thead>\n",
       "  <tbody>\n",
       "    <tr>\n",
       "      <th>250</th>\n",
       "      <td>Rządzi od kilkunastu lat i to nie koniec. Prez...</td>\n",
       "      <td>Adam Fudali oficjalnie potwierdził swój start ...</td>\n",
       "      <td>Prezydent Rybnika rządzi miastem od 1998 r., a...</td>\n",
       "      <td>wyborcza</td>\n",
       "      <td>agora</td>\n",
       "      <td>pl</td>\n",
       "    </tr>\n",
       "    <tr>\n",
       "      <th>556</th>\n",
       "      <td>Ks. Anatol Konach: Może też wybiorą teologię</td>\n",
       "      <td>Modlitwa to nie tylko słowa, to rytm, aura, ja...</td>\n",
       "      <td>Dziadek księdza Anatola - Grzegorz - pracował ...</td>\n",
       "      <td>wyborcza</td>\n",
       "      <td>agora</td>\n",
       "      <td>pl</td>\n",
       "    </tr>\n",
       "    <tr>\n",
       "      <th>489</th>\n",
       "      <td>Gądecki Stanisław</td>\n",
       "      <td>Koleżanki ze szkolnej ławy wypowiadają się o n...</td>\n",
       "      <td>Stanisław Gądecki urodził się w Strzelnie (pow...</td>\n",
       "      <td>wyborcza</td>\n",
       "      <td>agora</td>\n",
       "      <td>pl</td>\n",
       "    </tr>\n",
       "    <tr>\n",
       "      <th>56</th>\n",
       "      <td>Fraktalna struktura piękna</td>\n",
       "      <td>Pół wieku temu fraktale były gwiazdami mediów....</td>\n",
       "      <td>Księga Natury pisana jest językiem matematyki,...</td>\n",
       "      <td>wyborcza</td>\n",
       "      <td>agora</td>\n",
       "      <td>pl</td>\n",
       "    </tr>\n",
       "    <tr>\n",
       "      <th>544</th>\n",
       "      <td>Debata prezydencka. Eksperci \"Wyborczej\": Iskr...</td>\n",
       "      <td>1Moim zdaniem to pierwszy skandal tej debaty. ...</td>\n",
       "      <td>Paweł Wroński: Pytanie Dudy: co pan zrobił, by...</td>\n",
       "      <td>wyborcza</td>\n",
       "      <td>agora</td>\n",
       "      <td>pl</td>\n",
       "    </tr>\n",
       "  </tbody>\n",
       "</table>\n",
       "</div>"
      ],
      "text/plain": [
       "                                                 title  \\\n",
       "250  Rządzi od kilkunastu lat i to nie koniec. Prez...   \n",
       "556       Ks. Anatol Konach: Może też wybiorą teologię   \n",
       "489                                  Gądecki Stanisław   \n",
       "56                          Fraktalna struktura piękna   \n",
       "544  Debata prezydencka. Eksperci \"Wyborczej\": Iskr...   \n",
       "\n",
       "                                                 short  \\\n",
       "250  Adam Fudali oficjalnie potwierdził swój start ...   \n",
       "556  Modlitwa to nie tylko słowa, to rytm, aura, ja...   \n",
       "489  Koleżanki ze szkolnej ławy wypowiadają się o n...   \n",
       "56   Pół wieku temu fraktale były gwiazdami mediów....   \n",
       "544  1Moim zdaniem to pierwszy skandal tej debaty. ...   \n",
       "\n",
       "                                                  long   website  brand  \\\n",
       "250  Prezydent Rybnika rządzi miastem od 1998 r., a...  wyborcza  agora   \n",
       "556  Dziadek księdza Anatola - Grzegorz - pracował ...  wyborcza  agora   \n",
       "489  Stanisław Gądecki urodził się w Strzelnie (pow...  wyborcza  agora   \n",
       "56   Księga Natury pisana jest językiem matematyki,...  wyborcza  agora   \n",
       "544  Paweł Wroński: Pytanie Dudy: co pan zrobił, by...  wyborcza  agora   \n",
       "\n",
       "    country  \n",
       "250      pl  \n",
       "556      pl  \n",
       "489      pl  \n",
       "56       pl  \n",
       "544      pl  "
      ]
     },
     "execution_count": 45,
     "metadata": {},
     "output_type": "execute_result"
    }
   ],
   "source": [
    "wyborcza_articles.sample(5).head(5)"
   ]
  },
  {
   "cell_type": "markdown",
   "metadata": {
    "heading_collapsed": true
   },
   "source": [
    "## Gazeta"
   ]
  },
  {
   "cell_type": "code",
   "execution_count": 46,
   "metadata": {
    "hidden": true
   },
   "outputs": [],
   "source": [
    "gazeta_articles = []\n",
    "for filename in listdir('data/gazeta/articles'):\n",
    "    try:\n",
    "        gazeta_articles.append(pd.read_csv('data/gazeta/articles/'+filename, header = None))\n",
    "    except EmptyDataError:\n",
    "        pass # empty file\n",
    "gazeta_articles = pd.concat(gazeta_articles)\n",
    "gazeta_articles.columns = ['url', 'title', 'short', 'long', 'img', 'com']\n",
    "gazeta_articles = gazeta_articles[['title', 'short', 'long']]\n",
    "gazeta_articles = gazeta_articles[gazeta_articles['title'].duplicated() == False]\n",
    "gazeta_articles['website'] = 'gazeta'\n",
    "gazeta_articles['brand'] = 'agora'\n",
    "gazeta_articles['country'] = 'pl'"
   ]
  },
  {
   "cell_type": "code",
   "execution_count": 47,
   "metadata": {
    "hidden": true
   },
   "outputs": [
    {
     "data": {
      "text/plain": [
       "12075"
      ]
     },
     "execution_count": 47,
     "metadata": {},
     "output_type": "execute_result"
    }
   ],
   "source": [
    "len(gazeta_articles)"
   ]
  },
  {
   "cell_type": "code",
   "execution_count": 48,
   "metadata": {
    "hidden": true
   },
   "outputs": [
    {
     "data": {
      "text/html": [
       "<div>\n",
       "<style scoped>\n",
       "    .dataframe tbody tr th:only-of-type {\n",
       "        vertical-align: middle;\n",
       "    }\n",
       "\n",
       "    .dataframe tbody tr th {\n",
       "        vertical-align: top;\n",
       "    }\n",
       "\n",
       "    .dataframe thead th {\n",
       "        text-align: right;\n",
       "    }\n",
       "</style>\n",
       "<table border=\"1\" class=\"dataframe\">\n",
       "  <thead>\n",
       "    <tr style=\"text-align: right;\">\n",
       "      <th></th>\n",
       "      <th>title</th>\n",
       "      <th>short</th>\n",
       "      <th>long</th>\n",
       "      <th>website</th>\n",
       "      <th>brand</th>\n",
       "      <th>country</th>\n",
       "    </tr>\n",
       "  </thead>\n",
       "  <tbody>\n",
       "    <tr>\n",
       "      <th>0</th>\n",
       "      <td>Euro 2008: Jedenastka na mecz z Niemcami!</td>\n",
       "      <td>Boruc, Wasilewski, Bąk, Żewłakow, Bronowicki -...</td>\n",
       "      <td>Leo desperacko szuka napastnika na Euro\\n\\nLeo...</td>\n",
       "      <td>gazeta</td>\n",
       "      <td>agora</td>\n",
       "      <td>pl</td>\n",
       "    </tr>\n",
       "    <tr>\n",
       "      <th>9</th>\n",
       "      <td>Niemcy zastanawiają się jak lepiej integrować ...</td>\n",
       "      <td>Kanclerz Angela Merkel otwarcie dyskutuje z im...</td>\n",
       "      <td>Do bezprecedensowego w historii Niemiec spotka...</td>\n",
       "      <td>gazeta</td>\n",
       "      <td>agora</td>\n",
       "      <td>pl</td>\n",
       "    </tr>\n",
       "    <tr>\n",
       "      <th>13</th>\n",
       "      <td>Pieniądze na 500+ z łatania VAT? Luka mniejsza...</td>\n",
       "      <td>Według Centrum Analiz Społeczno-Ekonomicznych ...</td>\n",
       "      <td>&gt;&gt;&gt; Zobacz także: Arktyka na celowniku mocarst...</td>\n",
       "      <td>gazeta</td>\n",
       "      <td>agora</td>\n",
       "      <td>pl</td>\n",
       "    </tr>\n",
       "    <tr>\n",
       "      <th>4</th>\n",
       "      <td>Wielki powrót generała Auna</td>\n",
       "      <td>Po wielkim zwycięstwie w wyborach parlamentarn...</td>\n",
       "      <td>Na wąskich drogach wśród uginających się pod c...</td>\n",
       "      <td>gazeta</td>\n",
       "      <td>agora</td>\n",
       "      <td>pl</td>\n",
       "    </tr>\n",
       "    <tr>\n",
       "      <th>87</th>\n",
       "      <td>Komisje wyborcze Jonkowo - 2015</td>\n",
       "      <td>Lista obwodowych komisji wyborczych w mieście ...</td>\n",
       "      <td>Obwodowa komisja wyborcza nr 1\\nGmina: gm. Jon...</td>\n",
       "      <td>gazeta</td>\n",
       "      <td>agora</td>\n",
       "      <td>pl</td>\n",
       "    </tr>\n",
       "  </tbody>\n",
       "</table>\n",
       "</div>"
      ],
      "text/plain": [
       "                                                title  \\\n",
       "0           Euro 2008: Jedenastka na mecz z Niemcami!   \n",
       "9   Niemcy zastanawiają się jak lepiej integrować ...   \n",
       "13  Pieniądze na 500+ z łatania VAT? Luka mniejsza...   \n",
       "4                         Wielki powrót generała Auna   \n",
       "87                    Komisje wyborcze Jonkowo - 2015   \n",
       "\n",
       "                                                short  \\\n",
       "0   Boruc, Wasilewski, Bąk, Żewłakow, Bronowicki -...   \n",
       "9   Kanclerz Angela Merkel otwarcie dyskutuje z im...   \n",
       "13  Według Centrum Analiz Społeczno-Ekonomicznych ...   \n",
       "4   Po wielkim zwycięstwie w wyborach parlamentarn...   \n",
       "87  Lista obwodowych komisji wyborczych w mieście ...   \n",
       "\n",
       "                                                 long website  brand country  \n",
       "0   Leo desperacko szuka napastnika na Euro\\n\\nLeo...  gazeta  agora      pl  \n",
       "9   Do bezprecedensowego w historii Niemiec spotka...  gazeta  agora      pl  \n",
       "13  >>> Zobacz także: Arktyka na celowniku mocarst...  gazeta  agora      pl  \n",
       "4   Na wąskich drogach wśród uginających się pod c...  gazeta  agora      pl  \n",
       "87  Obwodowa komisja wyborcza nr 1\\nGmina: gm. Jon...  gazeta  agora      pl  "
      ]
     },
     "execution_count": 48,
     "metadata": {},
     "output_type": "execute_result"
    }
   ],
   "source": [
    "gazeta_articles.sample(5).head()"
   ]
  },
  {
   "cell_type": "markdown",
   "metadata": {
    "heading_collapsed": true
   },
   "source": [
    "## Fakt"
   ]
  },
  {
   "cell_type": "code",
   "execution_count": 49,
   "metadata": {
    "hidden": true
   },
   "outputs": [],
   "source": [
    "fakt_articles = []\n",
    "for filename in listdir('data/fakt/articles'):\n",
    "    tmp_df = pd.read_csv('data/fakt/articles/'+filename, header = None)\n",
    "    tmp_df.columns = ['url', 'title', 'short', 'long', 'img', 'com',]\n",
    "    tmp_df[filename] = 1\n",
    "    tmp_df[filename] = tmp_df[filename].fillna(0)\n",
    "    fakt_articles.append(tmp_df)\n",
    "fakt_articles = pd.concat(fakt_articles, sort = False)\n",
    "fakt_articles = fakt_articles[~fakt_articles['long'].isna()]\n",
    "fakt_articles['long'] = fakt_articles.apply(lambda x: x['long'][len(x['short']):], axis = 1)\n",
    "fakt_articles = fakt_articles[['title', 'short', 'long']]\n",
    "fakt_articles = fakt_articles[fakt_articles['title'].duplicated() == False]\n",
    "fakt_articles['website'] = 'fakt'\n",
    "fakt_articles['country'] = 'de/ch'\n",
    "fakt_articles['brand'] = 'ringier'\n",
    "fakt_articles = fakt_articles.dropna()"
   ]
  },
  {
   "cell_type": "code",
   "execution_count": 50,
   "metadata": {
    "hidden": true
   },
   "outputs": [
    {
     "data": {
      "text/plain": [
       "19165"
      ]
     },
     "execution_count": 50,
     "metadata": {},
     "output_type": "execute_result"
    }
   ],
   "source": [
    "len(fakt_articles)"
   ]
  },
  {
   "cell_type": "code",
   "execution_count": 51,
   "metadata": {
    "hidden": true
   },
   "outputs": [
    {
     "data": {
      "text/html": [
       "<div>\n",
       "<style scoped>\n",
       "    .dataframe tbody tr th:only-of-type {\n",
       "        vertical-align: middle;\n",
       "    }\n",
       "\n",
       "    .dataframe tbody tr th {\n",
       "        vertical-align: top;\n",
       "    }\n",
       "\n",
       "    .dataframe thead th {\n",
       "        text-align: right;\n",
       "    }\n",
       "</style>\n",
       "<table border=\"1\" class=\"dataframe\">\n",
       "  <thead>\n",
       "    <tr style=\"text-align: right;\">\n",
       "      <th></th>\n",
       "      <th>title</th>\n",
       "      <th>short</th>\n",
       "      <th>long</th>\n",
       "      <th>website</th>\n",
       "      <th>country</th>\n",
       "      <th>brand</th>\n",
       "    </tr>\n",
       "  </thead>\n",
       "  <tbody>\n",
       "    <tr>\n",
       "      <th>0</th>\n",
       "      <td>Pierwsze posiedzenie Sejmu. Przemówienie Andrz...</td>\n",
       "      <td>Pierwsze posiedzenie Sejmu otworzył marszałek ...</td>\n",
       "      <td>Andrzej Duda wygłosił orędzie na inauguracyjn...</td>\n",
       "      <td>fakt</td>\n",
       "      <td>de/ch</td>\n",
       "      <td>ringier</td>\n",
       "    </tr>\n",
       "    <tr>\n",
       "      <th>1</th>\n",
       "      <td>Jędraszewski o gender, LGBT i karcie WHO: \"Obł...</td>\n",
       "      <td>Abp. Marek Jędraszewski wygłosił kazanie podcz...</td>\n",
       "      <td>Homilii arcybiskupa Marka Jędraszewskiego słu...</td>\n",
       "      <td>fakt</td>\n",
       "      <td>de/ch</td>\n",
       "      <td>ringier</td>\n",
       "    </tr>\n",
       "    <tr>\n",
       "      <th>2</th>\n",
       "      <td>Hołownia zdradził, ile do tej pory wyłożył z w...</td>\n",
       "      <td>Szymon Hołownia w niedzielę ogłosił swój start...</td>\n",
       "      <td>Szymon Hołownia w miniony weekend w Teatrze S...</td>\n",
       "      <td>fakt</td>\n",
       "      <td>de/ch</td>\n",
       "      <td>ringier</td>\n",
       "    </tr>\n",
       "  </tbody>\n",
       "</table>\n",
       "</div>"
      ],
      "text/plain": [
       "                                               title  \\\n",
       "0  Pierwsze posiedzenie Sejmu. Przemówienie Andrz...   \n",
       "1  Jędraszewski o gender, LGBT i karcie WHO: \"Obł...   \n",
       "2  Hołownia zdradził, ile do tej pory wyłożył z w...   \n",
       "\n",
       "                                               short  \\\n",
       "0  Pierwsze posiedzenie Sejmu otworzył marszałek ...   \n",
       "1  Abp. Marek Jędraszewski wygłosił kazanie podcz...   \n",
       "2  Szymon Hołownia w niedzielę ogłosił swój start...   \n",
       "\n",
       "                                                long website country    brand  \n",
       "0   Andrzej Duda wygłosił orędzie na inauguracyjn...    fakt   de/ch  ringier  \n",
       "1   Homilii arcybiskupa Marka Jędraszewskiego słu...    fakt   de/ch  ringier  \n",
       "2   Szymon Hołownia w miniony weekend w Teatrze S...    fakt   de/ch  ringier  "
      ]
     },
     "execution_count": 51,
     "metadata": {},
     "output_type": "execute_result"
    }
   ],
   "source": [
    "fakt_articles.head(3)"
   ]
  },
  {
   "cell_type": "markdown",
   "metadata": {
    "heading_collapsed": true
   },
   "source": [
    "## Onet"
   ]
  },
  {
   "cell_type": "code",
   "execution_count": 52,
   "metadata": {
    "hidden": true
   },
   "outputs": [],
   "source": [
    "onet_articles = []\n",
    "for filename in listdir('data/onet/articles'):\n",
    "    tmp_df = pd.read_csv('data/onet/articles/'+filename, header = None)\n",
    "    try:\n",
    "        tmp_df.columns = ['url', 'title', 'short', 'long', 'img', 'com',]\n",
    "    except:\n",
    "        tmp_df.columns = ['title', 'short', 'long', 'img', 'com',]\n",
    "    # tmp_df[filename] = 1\n",
    "    onet_articles.append(tmp_df)\n",
    "onet_articles = pd.concat(onet_articles, sort = False)\n",
    "onet_articles = onet_articles[['title', 'short', 'long']]\n",
    "onet_articles = onet_articles[onet_articles['title'].duplicated() == False]\n",
    "onet_articles = onet_articles.dropna()\n",
    "onet_articles['website'] = 'onet'\n",
    "onet_articles['country'] = 'de/ch'\n",
    "onet_articles['brand'] = 'ringier'"
   ]
  },
  {
   "cell_type": "code",
   "execution_count": 53,
   "metadata": {
    "hidden": true
   },
   "outputs": [
    {
     "data": {
      "text/plain": [
       "16472"
      ]
     },
     "execution_count": 53,
     "metadata": {},
     "output_type": "execute_result"
    }
   ],
   "source": [
    "len(onet_articles)"
   ]
  },
  {
   "cell_type": "code",
   "execution_count": 54,
   "metadata": {
    "hidden": true
   },
   "outputs": [
    {
     "data": {
      "text/html": [
       "<div>\n",
       "<style scoped>\n",
       "    .dataframe tbody tr th:only-of-type {\n",
       "        vertical-align: middle;\n",
       "    }\n",
       "\n",
       "    .dataframe tbody tr th {\n",
       "        vertical-align: top;\n",
       "    }\n",
       "\n",
       "    .dataframe thead th {\n",
       "        text-align: right;\n",
       "    }\n",
       "</style>\n",
       "<table border=\"1\" class=\"dataframe\">\n",
       "  <thead>\n",
       "    <tr style=\"text-align: right;\">\n",
       "      <th></th>\n",
       "      <th>title</th>\n",
       "      <th>short</th>\n",
       "      <th>long</th>\n",
       "      <th>website</th>\n",
       "      <th>country</th>\n",
       "      <th>brand</th>\n",
       "    </tr>\n",
       "  </thead>\n",
       "  <tbody>\n",
       "    <tr>\n",
       "      <th>0</th>\n",
       "      <td>Sondaż IBRiS dla Onetu. Spadają notowania Andr...</td>\n",
       "      <td>Prezydent Andrzej Duda cieszy się najwyższym z...</td>\n",
       "      <td>Andrzej Duda od wielu miesięcy cieszy się najw...</td>\n",
       "      <td>onet</td>\n",
       "      <td>de/ch</td>\n",
       "      <td>ringier</td>\n",
       "    </tr>\n",
       "    <tr>\n",
       "      <th>1</th>\n",
       "      <td>Bogdan Klich: to wielki strategiczny błąd prez...</td>\n",
       "      <td>- Decyzja wycofania polskich wojsk z Iraku pow...</td>\n",
       "      <td>- Głos opozycji jest niezbędny i trzeba go wys...</td>\n",
       "      <td>onet</td>\n",
       "      <td>de/ch</td>\n",
       "      <td>ringier</td>\n",
       "    </tr>\n",
       "    <tr>\n",
       "      <th>2</th>\n",
       "      <td>Izraelskie media informują o decyzji prezydent...</td>\n",
       "      <td>Izraelskie media informują za agencjami prasow...</td>\n",
       "      <td>Andrzej Duda, którego nie poproszono o wystąpi...</td>\n",
       "      <td>onet</td>\n",
       "      <td>de/ch</td>\n",
       "      <td>ringier</td>\n",
       "    </tr>\n",
       "  </tbody>\n",
       "</table>\n",
       "</div>"
      ],
      "text/plain": [
       "                                               title  \\\n",
       "0  Sondaż IBRiS dla Onetu. Spadają notowania Andr...   \n",
       "1  Bogdan Klich: to wielki strategiczny błąd prez...   \n",
       "2  Izraelskie media informują o decyzji prezydent...   \n",
       "\n",
       "                                               short  \\\n",
       "0  Prezydent Andrzej Duda cieszy się najwyższym z...   \n",
       "1  - Decyzja wycofania polskich wojsk z Iraku pow...   \n",
       "2  Izraelskie media informują za agencjami prasow...   \n",
       "\n",
       "                                                long website country    brand  \n",
       "0  Andrzej Duda od wielu miesięcy cieszy się najw...    onet   de/ch  ringier  \n",
       "1  - Głos opozycji jest niezbędny i trzeba go wys...    onet   de/ch  ringier  \n",
       "2  Andrzej Duda, którego nie poproszono o wystąpi...    onet   de/ch  ringier  "
      ]
     },
     "execution_count": 54,
     "metadata": {},
     "output_type": "execute_result"
    }
   ],
   "source": [
    "onet_articles.head(3)"
   ]
  },
  {
   "cell_type": "markdown",
   "metadata": {
    "heading_collapsed": true
   },
   "source": [
    "## Newsweek"
   ]
  },
  {
   "cell_type": "code",
   "execution_count": 55,
   "metadata": {
    "hidden": true
   },
   "outputs": [],
   "source": [
    "newsweek_articles = []\n",
    "for filename in listdir('data/newsweek/articles'):\n",
    "    tmp_df = pd.read_csv('data/newsweek/articles/'+filename, header = None)\n",
    "    tmp_df.columns = ['title', 'short', 'long', 'img', 'com',]\n",
    "    newsweek_articles.append(tmp_df)\n",
    "newsweek_articles = pd.concat(newsweek_articles, sort = False)\n",
    "newsweek_articles = newsweek_articles[['title', 'short', 'long']]\n",
    "newsweek_articles = newsweek_articles[newsweek_articles['title'].duplicated() == False]\n",
    "newsweek_articles = newsweek_articles.dropna()\n",
    "newsweek_articles['website'] = 'newsweek'\n",
    "newsweek_articles['country'] = 'de/ch'\n",
    "newsweek_articles['brand'] = 'ringier'"
   ]
  },
  {
   "cell_type": "code",
   "execution_count": 56,
   "metadata": {
    "hidden": true
   },
   "outputs": [
    {
     "data": {
      "text/plain": [
       "1605"
      ]
     },
     "execution_count": 56,
     "metadata": {},
     "output_type": "execute_result"
    }
   ],
   "source": [
    "len(newsweek_articles)"
   ]
  },
  {
   "cell_type": "code",
   "execution_count": 57,
   "metadata": {
    "hidden": true
   },
   "outputs": [
    {
     "data": {
      "text/html": [
       "<div>\n",
       "<style scoped>\n",
       "    .dataframe tbody tr th:only-of-type {\n",
       "        vertical-align: middle;\n",
       "    }\n",
       "\n",
       "    .dataframe tbody tr th {\n",
       "        vertical-align: top;\n",
       "    }\n",
       "\n",
       "    .dataframe thead th {\n",
       "        text-align: right;\n",
       "    }\n",
       "</style>\n",
       "<table border=\"1\" class=\"dataframe\">\n",
       "  <thead>\n",
       "    <tr style=\"text-align: right;\">\n",
       "      <th></th>\n",
       "      <th>title</th>\n",
       "      <th>short</th>\n",
       "      <th>long</th>\n",
       "      <th>website</th>\n",
       "      <th>country</th>\n",
       "      <th>brand</th>\n",
       "    </tr>\n",
       "  </thead>\n",
       "  <tbody>\n",
       "    <tr>\n",
       "      <th>0</th>\n",
       "      <td>OPINIA\\nPiS tak zohydza Unię Europejską, że wk...</td>\n",
       "      <td>Prezes Jarosław Kaczyński chce stworzyć nowe z...</td>\n",
       "      <td>Spektakl zatytułowany „zła unia” miał w minion...</td>\n",
       "      <td>newsweek</td>\n",
       "      <td>de/ch</td>\n",
       "      <td>ringier</td>\n",
       "    </tr>\n",
       "    <tr>\n",
       "      <th>1</th>\n",
       "      <td>„Jestem przekonany, że Biedroń będzie gryzł tr...</td>\n",
       "      <td>Jedną nogą w Brukseli Robert Biedroń chce walc...</td>\n",
       "      <td>Po niedzielnej konwencji w Słupsku, na której ...</td>\n",
       "      <td>newsweek</td>\n",
       "      <td>de/ch</td>\n",
       "      <td>ringier</td>\n",
       "    </tr>\n",
       "    <tr>\n",
       "      <th>2</th>\n",
       "      <td>Andrzej Duda walczy o wyborców Konfederacji?„N...</td>\n",
       "      <td>– Mam nadzieję, że mimo huraganowych ataków, k...</td>\n",
       "      <td>Kampania prezydencka jeszcze się nie rozpoczęł...</td>\n",
       "      <td>newsweek</td>\n",
       "      <td>de/ch</td>\n",
       "      <td>ringier</td>\n",
       "    </tr>\n",
       "  </tbody>\n",
       "</table>\n",
       "</div>"
      ],
      "text/plain": [
       "                                               title  \\\n",
       "0  OPINIA\\nPiS tak zohydza Unię Europejską, że wk...   \n",
       "1  „Jestem przekonany, że Biedroń będzie gryzł tr...   \n",
       "2  Andrzej Duda walczy o wyborców Konfederacji?„N...   \n",
       "\n",
       "                                               short  \\\n",
       "0  Prezes Jarosław Kaczyński chce stworzyć nowe z...   \n",
       "1  Jedną nogą w Brukseli Robert Biedroń chce walc...   \n",
       "2  – Mam nadzieję, że mimo huraganowych ataków, k...   \n",
       "\n",
       "                                                long   website country  \\\n",
       "0  Spektakl zatytułowany „zła unia” miał w minion...  newsweek   de/ch   \n",
       "1  Po niedzielnej konwencji w Słupsku, na której ...  newsweek   de/ch   \n",
       "2  Kampania prezydencka jeszcze się nie rozpoczęł...  newsweek   de/ch   \n",
       "\n",
       "     brand  \n",
       "0  ringier  \n",
       "1  ringier  \n",
       "2  ringier  "
      ]
     },
     "execution_count": 57,
     "metadata": {},
     "output_type": "execute_result"
    }
   ],
   "source": [
    "newsweek_articles.head(3)"
   ]
  },
  {
   "cell_type": "markdown",
   "metadata": {
    "heading_collapsed": true
   },
   "source": [
    "## TVN"
   ]
  },
  {
   "cell_type": "code",
   "execution_count": 58,
   "metadata": {
    "hidden": true
   },
   "outputs": [],
   "source": [
    "tvn_articles_list = []\n",
    "for filename in listdir('data/tvn/articles'):\n",
    "    tmp_df = pd.read_csv('data/tvn/articles/'+filename, header = None)\n",
    "    tmp_df.columns = ['title', 'short', 'long', 'img', 'com',]\n",
    "    tvn_articles_list.append(tmp_df)\n",
    "tvn_articles = pd.concat(tvn_articles_list, sort = False)\n",
    "tvn_articles = tvn_articles[['title', 'short', 'long']]\n",
    "tvn_articles = tvn_articles[tvn_articles['title'].duplicated() == False]\n",
    "tvn_articles = tvn_articles.dropna()\n",
    "tvn_articles['website'] = 'tvn'\n",
    "tvn_articles['country'] = 'us'\n",
    "tvn_articles['brand'] = 'discovery'"
   ]
  },
  {
   "cell_type": "code",
   "execution_count": 59,
   "metadata": {
    "hidden": true
   },
   "outputs": [
    {
     "data": {
      "text/plain": [
       "35232"
      ]
     },
     "execution_count": 59,
     "metadata": {},
     "output_type": "execute_result"
    }
   ],
   "source": [
    "len(tvn_articles)"
   ]
  },
  {
   "cell_type": "code",
   "execution_count": 60,
   "metadata": {
    "hidden": true
   },
   "outputs": [
    {
     "data": {
      "text/html": [
       "<div>\n",
       "<style scoped>\n",
       "    .dataframe tbody tr th:only-of-type {\n",
       "        vertical-align: middle;\n",
       "    }\n",
       "\n",
       "    .dataframe tbody tr th {\n",
       "        vertical-align: top;\n",
       "    }\n",
       "\n",
       "    .dataframe thead th {\n",
       "        text-align: right;\n",
       "    }\n",
       "</style>\n",
       "<table border=\"1\" class=\"dataframe\">\n",
       "  <thead>\n",
       "    <tr style=\"text-align: right;\">\n",
       "      <th></th>\n",
       "      <th>title</th>\n",
       "      <th>short</th>\n",
       "      <th>long</th>\n",
       "      <th>website</th>\n",
       "      <th>country</th>\n",
       "      <th>brand</th>\n",
       "    </tr>\n",
       "  </thead>\n",
       "  <tbody>\n",
       "    <tr>\n",
       "      <th>185</th>\n",
       "      <td>Był dyrektorem w agencji ochrony na finale WOŚ...</td>\n",
       "      <td>Dariusz S., zatrzymany w poniedziałek ochronia...</td>\n",
       "      <td>W poniedziałek portal tvn24.pl poinformował, ż...</td>\n",
       "      <td>tvn</td>\n",
       "      <td>us</td>\n",
       "      <td>discovery</td>\n",
       "    </tr>\n",
       "    <tr>\n",
       "      <th>183</th>\n",
       "      <td>Adopcyjne rekordy na Paluchu. Nigdy nie było t...</td>\n",
       "      <td>Jeszcze nigdy w warszawskim schronisku na Palu...</td>\n",
       "      <td>Schronisko bije właśnie adopcyjne rekordy. W 2...</td>\n",
       "      <td>tvn</td>\n",
       "      <td>us</td>\n",
       "      <td>discovery</td>\n",
       "    </tr>\n",
       "    <tr>\n",
       "      <th>775</th>\n",
       "      <td>Minister poprosił, Kownacki znalazł</td>\n",
       "      <td>Kancelaria Prezydenta oszczędza i daje małego ...</td>\n",
       "      <td>Prezydent ma oszczędzać Oszczędza rząd,... czy...</td>\n",
       "      <td>tvn</td>\n",
       "      <td>us</td>\n",
       "      <td>discovery</td>\n",
       "    </tr>\n",
       "    <tr>\n",
       "      <th>618</th>\n",
       "      <td>Lasek: trwa zacieranie śladów na miejscu katas...</td>\n",
       "      <td>- Dostęp do szczątków samolotu mają nieuprawni...</td>\n",
       "      <td>SBU: Rakietę wystrzelili rosyjscy wojskowi. Wi...</td>\n",
       "      <td>tvn</td>\n",
       "      <td>us</td>\n",
       "      <td>discovery</td>\n",
       "    </tr>\n",
       "    <tr>\n",
       "      <th>360</th>\n",
       "      <td>Węgrzyn się kaja i prosi premiera o miejsce na...</td>\n",
       "      <td>- Nie róbcie ze mnie homofoba - apelował w por...</td>\n",
       "      <td>28 marca Węgrzyn został wyrzucony z PO po przy...</td>\n",
       "      <td>tvn</td>\n",
       "      <td>us</td>\n",
       "      <td>discovery</td>\n",
       "    </tr>\n",
       "  </tbody>\n",
       "</table>\n",
       "</div>"
      ],
      "text/plain": [
       "                                                 title  \\\n",
       "185  Był dyrektorem w agencji ochrony na finale WOŚ...   \n",
       "183  Adopcyjne rekordy na Paluchu. Nigdy nie było t...   \n",
       "775                Minister poprosił, Kownacki znalazł   \n",
       "618  Lasek: trwa zacieranie śladów na miejscu katas...   \n",
       "360  Węgrzyn się kaja i prosi premiera o miejsce na...   \n",
       "\n",
       "                                                 short  \\\n",
       "185  Dariusz S., zatrzymany w poniedziałek ochronia...   \n",
       "183  Jeszcze nigdy w warszawskim schronisku na Palu...   \n",
       "775  Kancelaria Prezydenta oszczędza i daje małego ...   \n",
       "618  - Dostęp do szczątków samolotu mają nieuprawni...   \n",
       "360  - Nie róbcie ze mnie homofoba - apelował w por...   \n",
       "\n",
       "                                                  long website country  \\\n",
       "185  W poniedziałek portal tvn24.pl poinformował, ż...     tvn      us   \n",
       "183  Schronisko bije właśnie adopcyjne rekordy. W 2...     tvn      us   \n",
       "775  Prezydent ma oszczędzać Oszczędza rząd,... czy...     tvn      us   \n",
       "618  SBU: Rakietę wystrzelili rosyjscy wojskowi. Wi...     tvn      us   \n",
       "360  28 marca Węgrzyn został wyrzucony z PO po przy...     tvn      us   \n",
       "\n",
       "         brand  \n",
       "185  discovery  \n",
       "183  discovery  \n",
       "775  discovery  \n",
       "618  discovery  \n",
       "360  discovery  "
      ]
     },
     "execution_count": 60,
     "metadata": {},
     "output_type": "execute_result"
    }
   ],
   "source": [
    "tvn_articles.sample(5).head()"
   ]
  },
  {
   "cell_type": "markdown",
   "metadata": {
    "heading_collapsed": true
   },
   "source": [
    "## Sputnik"
   ]
  },
  {
   "cell_type": "code",
   "execution_count": 61,
   "metadata": {
    "hidden": true
   },
   "outputs": [],
   "source": [
    "sputnik_list = []\n",
    "for filename in listdir('data/sputnik/articles'):\n",
    "    tmp_df = pd.read_csv('data/sputnik/articles/'+filename, header = None)\n",
    "    tmp_df.columns = ['title', 'short', 'long', 'img', 'com',]\n",
    "    sputnik_list.append(tmp_df)\n",
    "sputnik_articles = pd.concat(sputnik_list, sort = False)\n",
    "sputnik_articles = sputnik_articles[['title', 'short', 'long']]\n",
    "sputnik_articles = sputnik_articles[sputnik_articles['title'].duplicated() == False]\n",
    "sputnik_articles = sputnik_articles.dropna()\n",
    "sputnik_articles['website'] = 'sputnik'\n",
    "sputnik_articles['country'] = 'ru'\n",
    "sputnik_articles['brand'] = 'sjegodnia'"
   ]
  },
  {
   "cell_type": "code",
   "execution_count": 62,
   "metadata": {
    "hidden": true
   },
   "outputs": [
    {
     "data": {
      "text/plain": [
       "16302"
      ]
     },
     "execution_count": 62,
     "metadata": {},
     "output_type": "execute_result"
    }
   ],
   "source": [
    "len(sputnik_articles)"
   ]
  },
  {
   "cell_type": "code",
   "execution_count": 63,
   "metadata": {
    "hidden": true
   },
   "outputs": [
    {
     "data": {
      "text/html": [
       "<div>\n",
       "<style scoped>\n",
       "    .dataframe tbody tr th:only-of-type {\n",
       "        vertical-align: middle;\n",
       "    }\n",
       "\n",
       "    .dataframe tbody tr th {\n",
       "        vertical-align: top;\n",
       "    }\n",
       "\n",
       "    .dataframe thead th {\n",
       "        text-align: right;\n",
       "    }\n",
       "</style>\n",
       "<table border=\"1\" class=\"dataframe\">\n",
       "  <thead>\n",
       "    <tr style=\"text-align: right;\">\n",
       "      <th></th>\n",
       "      <th>title</th>\n",
       "      <th>short</th>\n",
       "      <th>long</th>\n",
       "      <th>website</th>\n",
       "      <th>country</th>\n",
       "      <th>brand</th>\n",
       "    </tr>\n",
       "  </thead>\n",
       "  <tbody>\n",
       "    <tr>\n",
       "      <th>1294</th>\n",
       "      <td>Teheran: Współpraca Moskwy i Damaszku zawadza ...</td>\n",
       "      <td>Sekretarz Rady Najwyższej Bezpieczeństwa Narod...</td>\n",
       "      <td>„Ścisła współpraca Iranu, Rosji i Syrii w nied...</td>\n",
       "      <td>sputnik</td>\n",
       "      <td>ru</td>\n",
       "      <td>sjegodnia</td>\n",
       "    </tr>\n",
       "    <tr>\n",
       "      <th>1150</th>\n",
       "      <td>Amerykańskie lotnictwo wydało na pastwę losu s...</td>\n",
       "      <td>Amerykańskie siły powietrzne porzuciły swoich ...</td>\n",
       "      <td>Jak podaje The Washington Post, 28 czerwca ame...</td>\n",
       "      <td>sputnik</td>\n",
       "      <td>ru</td>\n",
       "      <td>sjegodnia</td>\n",
       "    </tr>\n",
       "    <tr>\n",
       "      <th>969</th>\n",
       "      <td>Chińska blogosfera o Su-57: USA mogą pozazdrościć</td>\n",
       "      <td>Dane techniczne i skuteczność bojowa rosyjskie...</td>\n",
       "      <td>Autor artykułu twierdzi, że Su-57 może latać z...</td>\n",
       "      <td>sputnik</td>\n",
       "      <td>ru</td>\n",
       "      <td>sjegodnia</td>\n",
       "    </tr>\n",
       "    <tr>\n",
       "      <th>821</th>\n",
       "      <td>Rosja ma tymczasowo ograniczyć wydobycie ropy ...</td>\n",
       "      <td>Rosyjscy producenci mają tymczasowo ograniczyć...</td>\n",
       "      <td>Według informatorów wniosek wysłało do koncern...</td>\n",
       "      <td>sputnik</td>\n",
       "      <td>ru</td>\n",
       "      <td>sjegodnia</td>\n",
       "    </tr>\n",
       "    <tr>\n",
       "      <th>17</th>\n",
       "      <td>Hollande zamiast Tuska?</td>\n",
       "      <td>Prezydent Francji François Hollande zamierza k...</td>\n",
       "      <td>REUTERS / Kay Nietfeld/POOLMerkel i Hollande: ...</td>\n",
       "      <td>sputnik</td>\n",
       "      <td>ru</td>\n",
       "      <td>sjegodnia</td>\n",
       "    </tr>\n",
       "  </tbody>\n",
       "</table>\n",
       "</div>"
      ],
      "text/plain": [
       "                                                  title  \\\n",
       "1294  Teheran: Współpraca Moskwy i Damaszku zawadza ...   \n",
       "1150  Amerykańskie lotnictwo wydało na pastwę losu s...   \n",
       "969   Chińska blogosfera o Su-57: USA mogą pozazdrościć   \n",
       "821   Rosja ma tymczasowo ograniczyć wydobycie ropy ...   \n",
       "17                              Hollande zamiast Tuska?   \n",
       "\n",
       "                                                  short  \\\n",
       "1294  Sekretarz Rady Najwyższej Bezpieczeństwa Narod...   \n",
       "1150  Amerykańskie siły powietrzne porzuciły swoich ...   \n",
       "969   Dane techniczne i skuteczność bojowa rosyjskie...   \n",
       "821   Rosyjscy producenci mają tymczasowo ograniczyć...   \n",
       "17    Prezydent Francji François Hollande zamierza k...   \n",
       "\n",
       "                                                   long  website country  \\\n",
       "1294  „Ścisła współpraca Iranu, Rosji i Syrii w nied...  sputnik      ru   \n",
       "1150  Jak podaje The Washington Post, 28 czerwca ame...  sputnik      ru   \n",
       "969   Autor artykułu twierdzi, że Su-57 może latać z...  sputnik      ru   \n",
       "821   Według informatorów wniosek wysłało do koncern...  sputnik      ru   \n",
       "17    REUTERS / Kay Nietfeld/POOLMerkel i Hollande: ...  sputnik      ru   \n",
       "\n",
       "          brand  \n",
       "1294  sjegodnia  \n",
       "1150  sjegodnia  \n",
       "969   sjegodnia  \n",
       "821   sjegodnia  \n",
       "17    sjegodnia  "
      ]
     },
     "execution_count": 63,
     "metadata": {},
     "output_type": "execute_result"
    }
   ],
   "source": [
    "sputnik_articles.sample(5).head()"
   ]
  },
  {
   "cell_type": "markdown",
   "metadata": {
    "heading_collapsed": true
   },
   "source": [
    "## TVP"
   ]
  },
  {
   "cell_type": "code",
   "execution_count": 64,
   "metadata": {
    "hidden": true
   },
   "outputs": [],
   "source": [
    "tvp_list = []\n",
    "for filename in listdir('data/sputnik/articles'):\n",
    "    tmp_df = pd.read_csv('data/sputnik/articles/'+filename, header = None)\n",
    "    tmp_df.columns = ['title', 'short', 'long', 'img', 'com',]\n",
    "    tvp_list.append(tmp_df)\n",
    "tvp_articles = pd.concat(tvp_list, sort = False)\n",
    "tvp_articles = tvp_articles[['title', 'short', 'long']]\n",
    "tvp_articles = tvp_articles[tvp_articles['title'].duplicated() == False]\n",
    "tvp_articles = tvp_articles.dropna()\n",
    "tvp_articles['website'] = 'tvp'\n",
    "tvp_articles['country'] = 'pl'\n",
    "tvp_articles['brand'] = 'tvp_gov'"
   ]
  },
  {
   "cell_type": "code",
   "execution_count": 65,
   "metadata": {
    "hidden": true
   },
   "outputs": [
    {
     "data": {
      "text/plain": [
       "16302"
      ]
     },
     "execution_count": 65,
     "metadata": {},
     "output_type": "execute_result"
    }
   ],
   "source": [
    "len(tvp_articles)"
   ]
  },
  {
   "cell_type": "code",
   "execution_count": 66,
   "metadata": {
    "hidden": true
   },
   "outputs": [
    {
     "data": {
      "text/html": [
       "<div>\n",
       "<style scoped>\n",
       "    .dataframe tbody tr th:only-of-type {\n",
       "        vertical-align: middle;\n",
       "    }\n",
       "\n",
       "    .dataframe tbody tr th {\n",
       "        vertical-align: top;\n",
       "    }\n",
       "\n",
       "    .dataframe thead th {\n",
       "        text-align: right;\n",
       "    }\n",
       "</style>\n",
       "<table border=\"1\" class=\"dataframe\">\n",
       "  <thead>\n",
       "    <tr style=\"text-align: right;\">\n",
       "      <th></th>\n",
       "      <th>title</th>\n",
       "      <th>short</th>\n",
       "      <th>long</th>\n",
       "      <th>website</th>\n",
       "      <th>country</th>\n",
       "      <th>brand</th>\n",
       "    </tr>\n",
       "  </thead>\n",
       "  <tbody>\n",
       "    <tr>\n",
       "      <th>740</th>\n",
       "      <td>Tymoszenko zamierza ukarać Poroszenkę za korup...</td>\n",
       "      <td>Ukraińska kandydatka na prezydenta, szefowa pa...</td>\n",
       "      <td>. Andriej Stenin Tymoszenko poinformowała o ro...</td>\n",
       "      <td>tvp</td>\n",
       "      <td>pl</td>\n",
       "      <td>tvp_gov</td>\n",
       "    </tr>\n",
       "    <tr>\n",
       "      <th>1222</th>\n",
       "      <td>„Naftohaz” uznał swoją bezradność bez rosyjski...</td>\n",
       "      <td>Dyrektor wykonawczy „Naftohazu Ukrainy” Jurij ...</td>\n",
       "      <td>Zaznaczył, że firma zwróciła się już do swoich...</td>\n",
       "      <td>tvp</td>\n",
       "      <td>pl</td>\n",
       "      <td>tvp_gov</td>\n",
       "    </tr>\n",
       "    <tr>\n",
       "      <th>670</th>\n",
       "      <td>Duda zdecydował: zmiany w Kodeksie karnym do T...</td>\n",
       "      <td>Prezydent Andrzej Duda skierował nowelizację K...</td>\n",
       "      <td>„Tryb postępowania z przedmiotową ustawą wzbud...</td>\n",
       "      <td>tvp</td>\n",
       "      <td>pl</td>\n",
       "      <td>tvp_gov</td>\n",
       "    </tr>\n",
       "    <tr>\n",
       "      <th>994</th>\n",
       "      <td>Japonia chce opóźnić podpisanie traktatu pokoj...</td>\n",
       "      <td>Japoński rząd zrezygnował z podpisania pod kon...</td>\n",
       "      <td>Z informacji gazety wynika, że japoński rząd c...</td>\n",
       "      <td>tvp</td>\n",
       "      <td>pl</td>\n",
       "      <td>tvp_gov</td>\n",
       "    </tr>\n",
       "    <tr>\n",
       "      <th>295</th>\n",
       "      <td>Dlaczego Polska stała się pariasem Unii Europe...</td>\n",
       "      <td>W Brukseli trwają przymiarki do przyszłego bud...</td>\n",
       "      <td>AP Photo / Virginia MayoTusk zapewnił Poroszen...</td>\n",
       "      <td>tvp</td>\n",
       "      <td>pl</td>\n",
       "      <td>tvp_gov</td>\n",
       "    </tr>\n",
       "  </tbody>\n",
       "</table>\n",
       "</div>"
      ],
      "text/plain": [
       "                                                  title  \\\n",
       "740   Tymoszenko zamierza ukarać Poroszenkę za korup...   \n",
       "1222  „Naftohaz” uznał swoją bezradność bez rosyjski...   \n",
       "670   Duda zdecydował: zmiany w Kodeksie karnym do T...   \n",
       "994   Japonia chce opóźnić podpisanie traktatu pokoj...   \n",
       "295   Dlaczego Polska stała się pariasem Unii Europe...   \n",
       "\n",
       "                                                  short  \\\n",
       "740   Ukraińska kandydatka na prezydenta, szefowa pa...   \n",
       "1222  Dyrektor wykonawczy „Naftohazu Ukrainy” Jurij ...   \n",
       "670   Prezydent Andrzej Duda skierował nowelizację K...   \n",
       "994   Japoński rząd zrezygnował z podpisania pod kon...   \n",
       "295   W Brukseli trwają przymiarki do przyszłego bud...   \n",
       "\n",
       "                                                   long website country  \\\n",
       "740   . Andriej Stenin Tymoszenko poinformowała o ro...     tvp      pl   \n",
       "1222  Zaznaczył, że firma zwróciła się już do swoich...     tvp      pl   \n",
       "670   „Tryb postępowania z przedmiotową ustawą wzbud...     tvp      pl   \n",
       "994   Z informacji gazety wynika, że japoński rząd c...     tvp      pl   \n",
       "295   AP Photo / Virginia MayoTusk zapewnił Poroszen...     tvp      pl   \n",
       "\n",
       "        brand  \n",
       "740   tvp_gov  \n",
       "1222  tvp_gov  \n",
       "670   tvp_gov  \n",
       "994   tvp_gov  \n",
       "295   tvp_gov  "
      ]
     },
     "execution_count": 66,
     "metadata": {},
     "output_type": "execute_result"
    }
   ],
   "source": [
    "tvp_articles.sample(5).head()"
   ]
  },
  {
   "cell_type": "markdown",
   "metadata": {
    "heading_collapsed": true
   },
   "source": [
    "## Concentrate data"
   ]
  },
  {
   "cell_type": "code",
   "execution_count": 74,
   "metadata": {
    "hidden": true
   },
   "outputs": [],
   "source": [
    "df = pd.concat([\n",
    "    wyborcza_articles,\n",
    "    gazeta_articles,\n",
    "    fakt_articles,\n",
    "    onet_articles,\n",
    "    newsweek_articles,\n",
    "    tvn_articles,\n",
    "    sputnik_articles,\n",
    "    tvp_articles\n",
    "], axis = 0, sort = False)"
   ]
  },
  {
   "cell_type": "code",
   "execution_count": 68,
   "metadata": {
    "hidden": true
   },
   "outputs": [
    {
     "data": {
      "text/html": [
       "<div>\n",
       "<style scoped>\n",
       "    .dataframe tbody tr th:only-of-type {\n",
       "        vertical-align: middle;\n",
       "    }\n",
       "\n",
       "    .dataframe tbody tr th {\n",
       "        vertical-align: top;\n",
       "    }\n",
       "\n",
       "    .dataframe thead th {\n",
       "        text-align: right;\n",
       "    }\n",
       "</style>\n",
       "<table border=\"1\" class=\"dataframe\">\n",
       "  <thead>\n",
       "    <tr style=\"text-align: right;\">\n",
       "      <th></th>\n",
       "      <th>title</th>\n",
       "      <th>short</th>\n",
       "      <th>long</th>\n",
       "      <th>website</th>\n",
       "      <th>brand</th>\n",
       "      <th>country</th>\n",
       "    </tr>\n",
       "  </thead>\n",
       "  <tbody>\n",
       "    <tr>\n",
       "      <th>1745</th>\n",
       "      <td>Ukraiński IPN wątpi w możliwość poprawy stosun...</td>\n",
       "      <td>Dyrektor ukraińskiego instytutu pamięci narodo...</td>\n",
       "      <td>/ Petras MalukasDuda o współpracy Polski, Litw...</td>\n",
       "      <td>sputnik</td>\n",
       "      <td>sjegodnia</td>\n",
       "      <td>ru</td>\n",
       "    </tr>\n",
       "    <tr>\n",
       "      <th>462</th>\n",
       "      <td>Były dziennikarz TVP zdradza sekrety stacji. \"...</td>\n",
       "      <td>Piotr Owczarski - były dziennikarz TVP - zdrad...</td>\n",
       "      <td>Były dziennikarz TVP kilka tygodni temu na je...</td>\n",
       "      <td>fakt</td>\n",
       "      <td>ringier</td>\n",
       "      <td>de/ch</td>\n",
       "    </tr>\n",
       "    <tr>\n",
       "      <th>57</th>\n",
       "      <td>Krakowski budżet 2019: wykup Wesołej niepewny</td>\n",
       "      <td>Sporo nowych inwestycji chcą wprowadzić do prz...</td>\n",
       "      <td>W środę krakowscy radni będą głosować nad przy...</td>\n",
       "      <td>wyborcza</td>\n",
       "      <td>agora</td>\n",
       "      <td>pl</td>\n",
       "    </tr>\n",
       "  </tbody>\n",
       "</table>\n",
       "</div>"
      ],
      "text/plain": [
       "                                                  title  \\\n",
       "1745  Ukraiński IPN wątpi w możliwość poprawy stosun...   \n",
       "462   Były dziennikarz TVP zdradza sekrety stacji. \"...   \n",
       "57        Krakowski budżet 2019: wykup Wesołej niepewny   \n",
       "\n",
       "                                                  short  \\\n",
       "1745  Dyrektor ukraińskiego instytutu pamięci narodo...   \n",
       "462   Piotr Owczarski - były dziennikarz TVP - zdrad...   \n",
       "57    Sporo nowych inwestycji chcą wprowadzić do prz...   \n",
       "\n",
       "                                                   long   website      brand  \\\n",
       "1745  / Petras MalukasDuda o współpracy Polski, Litw...   sputnik  sjegodnia   \n",
       "462    Były dziennikarz TVP kilka tygodni temu na je...      fakt    ringier   \n",
       "57    W środę krakowscy radni będą głosować nad przy...  wyborcza      agora   \n",
       "\n",
       "     country  \n",
       "1745      ru  \n",
       "462    de/ch  \n",
       "57        pl  "
      ]
     },
     "execution_count": 68,
     "metadata": {},
     "output_type": "execute_result"
    }
   ],
   "source": [
    "df.sample(3).head(3)"
   ]
  },
  {
   "cell_type": "markdown",
   "metadata": {
    "heading_collapsed": true
   },
   "source": [
    "## Data check"
   ]
  },
  {
   "cell_type": "code",
   "execution_count": 69,
   "metadata": {
    "hidden": true
   },
   "outputs": [
    {
     "data": {
      "text/plain": [
       "array([['Niemiecka neonazistka Beate Zschaepe skazana na dożywocie',\n",
       "        'Wyższy Sąd Krajowy w Monachium skazał dziś na dożywotnie więzienie neonazistkę Beate Zschaepe za współudział w 10 zabójstwach, popełnionych w latach 2000-2007 na terenie Niemiec przez Narodowosocjalistyczne Podziemie (NSU).',\n",
       "        '43-letnia kobieta oskarżona była o współudział w zamordowaniu ośmiu tureckich drobnych przedsiębiorców i jednego greckiego restauratora oraz niemieckiej policjantki. Członkowie NSU dokonali ponadto 15 napadów na banki i dwóch zamachów bombowych. Zschaepe była przez niemal 14 lat partnerką życiową członków NSU Uwe Mundlosa i Uwe Boehnharda w czasach, gdy popełniali zbrodnie - zdaniem prokuratury - z motywów rasistowskich. Twierdziła, że nic nie wiedziała o planach zamachów. Mundlos i Boehnhard popełnili w listopadzie 2011 roku samobójstwo, otoczeni przez policję w przyczepie kempingowej po nieudanym napadzie na bank w Eisenach. Po śmierci swoich kompanów Zschaepe podpaliła ich wspólne mieszkanie w Zwickau w Saksonii, ostatnim miejscu pobytu trojga terrorystów, i oddała się w ręce policji. Neonazistowskie NSU działało od końca lat 90. Parlamentarne komisje śledcze powołane przez Bundestag oraz przez parlamenty regionalne wykazały, że policja popełniła rażące błędy. Błędy aparatu ścigania oraz pomoc ze strony skrajnie prawicowych sympatyków w niemieckim społeczeństwie umożliwiły neonazistowskim terrorystom bezkarne działanie przez ponad 10 lat. Chcesz być na bieżąco z najważniejszymi informacjami dnia? Polub Onet Wiadomości na Facebooku!',\n",
       "        'onet', 'ringier', 'de/ch']], dtype=object)"
      ]
     },
     "execution_count": 69,
     "metadata": {},
     "output_type": "execute_result"
    }
   ],
   "source": [
    "df.sample(1).values"
   ]
  },
  {
   "cell_type": "code",
   "execution_count": 70,
   "metadata": {
    "hidden": true
   },
   "outputs": [],
   "source": [
    "df['long'] = df['long'].str.replace('\\n\\n', ' ').str.replace('\\n', ' ')"
   ]
  },
  {
   "cell_type": "markdown",
   "metadata": {},
   "source": [
    "## Data summary"
   ]
  },
  {
   "cell_type": "code",
   "execution_count": 75,
   "metadata": {},
   "outputs": [
    {
     "data": {
      "text/plain": [
       "<matplotlib.axes._subplots.AxesSubplot at 0x7f23e8673278>"
      ]
     },
     "execution_count": 75,
     "metadata": {},
     "output_type": "execute_result"
    },
    {
     "data": {
      "image/png": "[encoded data removed]",
      "text/plain": [
       "<Figure size 720x576 with 1 Axes>"
      ]
     },
     "metadata": {},
     "output_type": "display_data"
    }
   ],
   "source": [
    "df\\\n",
    "    [['website', 'title']]\\\n",
    "    .groupby('website')\\\n",
    "    .count()\\\n",
    "    .plot(kind = 'bar')"
   ]
  },
  {
   "cell_type": "code",
   "execution_count": 76,
   "metadata": {},
   "outputs": [
    {
     "data": {
      "text/plain": [
       "<matplotlib.axes._subplots.AxesSubplot at 0x7f23e808fe48>"
      ]
     },
     "execution_count": 76,
     "metadata": {},
     "output_type": "execute_result"
    },
    {
     "data": {
      "image/png": "[encoded data removed]",
      "text/plain": [
       "<Figure size 720x576 with 1 Axes>"
      ]
     },
     "metadata": {},
     "output_type": "display_data"
    }
   ],
   "source": [
    "df\\\n",
    "    [['brand', 'title']]\\\n",
    "    .groupby('brand')\\\n",
    "    .count()\\\n",
    "    .plot(kind = 'bar', title = 'Ilość artykułów dla danych domów mediowych')"
   ]
  },
  {
   "cell_type": "markdown",
   "metadata": {},
   "source": [
    "# Write"
   ]
  },
  {
   "cell_type": "code",
   "execution_count": 77,
   "metadata": {},
   "outputs": [
    {
     "data": {
      "text/plain": [
       "153639"
      ]
     },
     "execution_count": 77,
     "metadata": {},
     "output_type": "execute_result"
    }
   ],
   "source": [
    "len(df)"
   ]
  },
  {
   "cell_type": "code",
   "execution_count": 78,
   "metadata": {},
   "outputs": [],
   "source": [
    "for i, tmp_df in enumerate(np.array_split(df, 10)):\n",
    "    tmp_df.to_csv('data/concatenated/'+str(i), index = False)"
   ]
  },
  {
   "cell_type": "code",
   "execution_count": null,
   "metadata": {},
   "outputs": [],
   "source": []
  }
 ],
 "metadata": {
  "kernelspec": {
   "display_name": "Python 3",
   "language": "python",
   "name": "python3"
  },
  "language_info": {
   "codemirror_mode": {
    "name": "ipython",
    "version": 3
   },
   "file_extension": ".py",
   "mimetype": "text/x-python",
   "name": "python",
   "nbconvert_exporter": "python",
   "pygments_lexer": "ipython3",
   "version": "3.7.4"
  },
  "toc": {
   "base_numbering": 1,
   "nav_menu": {},
   "number_sections": true,
   "sideBar": true,
   "skip_h1_title": false,
   "title_cell": "Table of Contents",
   "title_sidebar": "Contents",
   "toc_cell": false,
   "toc_position": {},
   "toc_section_display": true,
   "toc_window_display": false
  }
 },
 "nbformat": 4,
 "nbformat_minor": 2
}
