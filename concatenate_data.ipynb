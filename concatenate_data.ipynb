{
 "cells": [
  {
   "cell_type": "code",
   "execution_count": 1,
   "metadata": {},
   "outputs": [],
   "source": [
    "import pandas as pd\n",
    "from os import listdir\n",
    "from pandas.errors import EmptyDataError\n",
    "from unidecode import unidecode\n",
    "import seaborn as sns\n",
    "import re\n",
    "from wordcloud import WordCloud\n",
    "from gensim.models import Word2Vec\n",
    "from sklearn.manifold import TSNE\n",
    "from sklearn.decomposition import PCA\n",
    "import matplotlib.pyplot as plt\n",
    "import numpy as np\n",
    "from scipy.spatial import distance\n",
    "\n",
    "sns.set(\n",
    "    rc = {\n",
    "        'figure.figsize': (10, 8)\n",
    "    },\n",
    "    style = 'darkgrid'\n",
    ")"
   ]
  },
  {
   "cell_type": "markdown",
   "metadata": {
    "heading_collapsed": true
   },
   "source": [
    "# Dictionaries"
   ]
  },
  {
   "cell_type": "code",
   "execution_count": 2,
   "metadata": {
    "hidden": true
   },
   "outputs": [],
   "source": [
    "grouping_orders = {\n",
    "    \"website\": {\n",
    "        \"columns_before\": ['website', 'sentiment'],\n",
    "        \"groupby\": [\"website\"],\n",
    "        \"columns_after\": ['fakt', 'gazeta', 'wyborcza'] \n",
    "    },\n",
    "    \"brand\": {\n",
    "        \"columns_before\": ['brand', 'sentiment'],\n",
    "        \"groupby\": [\"brand\"],\n",
    "        \"columns_after\": ['agora', 'ringier'] \n",
    "    },\n",
    "    \"country\": {\n",
    "        \"columns_before\": ['country', 'sentiment'],\n",
    "        \"groupby\": [\"country\"],\n",
    "        \"columns_after\": ['de/ch', 'pl'] \n",
    "    }\n",
    "}"
   ]
  },
  {
   "cell_type": "code",
   "execution_count": 3,
   "metadata": {
    "hidden": true
   },
   "outputs": [],
   "source": [
    "brand_keys = {\n",
    "    \"pl\": {\n",
    "        \"agora\": ['wyborcza', 'gazeta']\n",
    "    },\n",
    "    \"de/ch\": {\n",
    "        \"ringier\": ['fakt', 'onet', 'newsweek']\n",
    "    },\n",
    "    'us': {\n",
    "        \"discovery\": ['tvn']\n",
    "    }\n",
    "}"
   ]
  },
  {
   "cell_type": "code",
   "execution_count": 4,
   "metadata": {
    "hidden": true
   },
   "outputs": [],
   "source": [
    "osoba = ['ideał', 'wróg'] # wzór, wróg, nieprzyjaciel\n",
    "partia = ['postęp', 'zacofanie'] # rozwój, dobrobyt, \n",
    "poglad = ['swoboda', 'reżim'] # chaos, totalitaryzm, racjonalizm\n",
    "kraj = ['sojusznik', 'wróg'] # ostoja, oaza, \n",
    "keyword_reference_words = {\n",
    "    'sąd': ['sprawiedliwość', 'niesprawiedliwość'],\n",
    "    'imigranci': ['przyjaciele', 'wrogowie'],\n",
    "    'ekologia': ['', ''],\n",
    "    'emigracja': ['szansa', 'ucieczka'], # szansa\n",
    "    'pis': partia,\n",
    "    'platforma': partia,\n",
    "    'duda': osoba,\n",
    "    'morawiecki': osoba,\n",
    "    'szydło': osoba,\n",
    "    'kaczyński': osoba,\n",
    "    'kwaśniewski': osoba,\n",
    "    'lewica': poglad,\n",
    "    'prawica': poglad,\n",
    "    'lgbt': ['tolerancja', ''],\n",
    "    'europa': ['wspólnota', 'podział'], # rozłam\n",
    "    'rosja': kraj,\n",
    "    'stany': kraj,\n",
    "    'premier': osoba,\n",
    "    'prezydent': osoba,\n",
    "    'opozycja': partia,\n",
    "    'rząd': partia,\n",
    "    'sejm': partia,\n",
    "    'polska': ['oaza', ''],\n",
    "    'putin': ['sojusznik', 'wróg'],\n",
    "    'trump': ['sojusznik', 'wróg'],\n",
    "    'ukraina': kraj,\n",
    "    'media': ['', ''],\n",
    "    'bank': ['bezpieczeństwo', 'wyzysk'],\n",
    "    'niemcy': kraj,\n",
    "    'papież': osoba,\n",
    "    'kościół': ['oparcie', 'firma'],\n",
    "    'korwin': osoba,\n",
    "    'rydzyk': osoba,\n",
    "    'feminizm': ['równość', 'patriarchat'],\n",
    "    'leszek+miller': osoba,\n",
    "}"
   ]
  },
  {
   "cell_type": "code",
   "execution_count": 5,
   "metadata": {
    "hidden": true
   },
   "outputs": [],
   "source": [
    "decoder = {\n",
    "    '%B1': 'ą',\n",
    "    '%BF': 'ż',\n",
    "    '%B3': 'ł',\n",
    "    '%B6': 'ś',\n",
    "    '%F1': 'ń',\n",
    "    '%F3': 'ó'\n",
    "}\n",
    "with open('keywords', 'r') as f:\n",
    "    raws = f.read().split('\\n')\n",
    "keyword_dict = {}\n",
    "for raw in raws:\n",
    "    tmp_keyword = raw\n",
    "    for d1, d2 in decoder.items():\n",
    "        tmp_keyword = tmp_keyword.replace(d1, d2)\n",
    "    keyword_dict[tmp_keyword] = ''"
   ]
  },
  {
   "cell_type": "code",
   "execution_count": 6,
   "metadata": {
    "hidden": true
   },
   "outputs": [],
   "source": [
    "keyword_regex = {\n",
    "    'pis': r\"\\Dpis\\D|prawo i sprawiedliwość\"\n",
    "}"
   ]
  },
  {
   "cell_type": "markdown",
   "metadata": {},
   "source": [
    "# Read data"
   ]
  },
  {
   "cell_type": "markdown",
   "metadata": {
    "heading_collapsed": true
   },
   "source": [
    "## Wyborcza"
   ]
  },
  {
   "cell_type": "code",
   "execution_count": 7,
   "metadata": {
    "hidden": true
   },
   "outputs": [],
   "source": [
    "wyborcza_articles = []\n",
    "for filename in listdir('data/wyborcza/articles'):\n",
    "    try:\n",
    "        wyborcza_articles.append(pd.read_csv('data/wyborcza/articles/'+filename, header = None))\n",
    "    except EmptyDataError:\n",
    "        pass # empty file\n",
    "wyborcza_articles = pd.concat(wyborcza_articles)\n",
    "wyborcza_articles.columns = ['url', 'title', 'short', 'long', 'img', 'com']\n",
    "wyborcza_articles['short'] = wyborcza_articles['short'].str.replace(r'(.|..)\\n', '')\n",
    "wyborcza_articles = wyborcza_articles[~wyborcza_articles['long'].str.contains('W odpowiedzi do @', na = False) == True]\n",
    "wyborcza_articles = wyborcza_articles[['title', 'short', 'long']]\n",
    "wyborcza_articles = wyborcza_articles.dropna()\n",
    "wyborcza_articles = wyborcza_articles[wyborcza_articles['title'].duplicated() == False]\n",
    "wyborcza_articles = wyborcza_articles[wyborcza_articles['short'] != '0']\n",
    "wyborcza_articles['website'] = 'wyborcza'\n",
    "wyborcza_articles['brand'] = 'agora'\n",
    "wyborcza_articles['country'] = 'pl'"
   ]
  },
  {
   "cell_type": "code",
   "execution_count": 8,
   "metadata": {
    "hidden": true
   },
   "outputs": [],
   "source": [
    "wyborcza_articles = wyborcza_articles[\n",
    "    (\n",
    "        wyborcza_articles['title'] + ' ' +\n",
    "        wyborcza_articles['long'] + ' ' +\n",
    "        wyborcza_articles['short'] \n",
    "    ).str.contains(r\"\"+\"|\".join(list(keyword_reference_words.keys())).replace('+', ' ')) == True\n",
    "]"
   ]
  },
  {
   "cell_type": "code",
   "execution_count": 9,
   "metadata": {
    "hidden": true
   },
   "outputs": [
    {
     "data": {
      "text/plain": [
       "36486"
      ]
     },
     "execution_count": 9,
     "metadata": {},
     "output_type": "execute_result"
    }
   ],
   "source": [
    "len(wyborcza_articles)"
   ]
  },
  {
   "cell_type": "code",
   "execution_count": 10,
   "metadata": {
    "hidden": true
   },
   "outputs": [
    {
     "data": {
      "text/html": [
       "<div>\n",
       "<style scoped>\n",
       "    .dataframe tbody tr th:only-of-type {\n",
       "        vertical-align: middle;\n",
       "    }\n",
       "\n",
       "    .dataframe tbody tr th {\n",
       "        vertical-align: top;\n",
       "    }\n",
       "\n",
       "    .dataframe thead th {\n",
       "        text-align: right;\n",
       "    }\n",
       "</style>\n",
       "<table border=\"1\" class=\"dataframe\">\n",
       "  <thead>\n",
       "    <tr style=\"text-align: right;\">\n",
       "      <th></th>\n",
       "      <th>title</th>\n",
       "      <th>short</th>\n",
       "      <th>long</th>\n",
       "      <th>website</th>\n",
       "      <th>brand</th>\n",
       "      <th>country</th>\n",
       "    </tr>\n",
       "  </thead>\n",
       "  <tbody>\n",
       "    <tr>\n",
       "      <th>65</th>\n",
       "      <td>Jak żyją najbogatsi łodzianie</td>\n",
       "      <td>W Łódzkiem jest ok. 20 tys. bogatych ludzi. Za...</td>\n",
       "      <td>W MultiBanku majętni stanowią ok. 8 proc. klie...</td>\n",
       "      <td>wyborcza</td>\n",
       "      <td>agora</td>\n",
       "      <td>pl</td>\n",
       "    </tr>\n",
       "    <tr>\n",
       "      <th>248</th>\n",
       "      <td>Komisja Europejska wydaje nowe zalecenia ws. p...</td>\n",
       "      <td>1- Nowa ustawa nie rozwiązała problemu Trybuna...</td>\n",
       "      <td>Frans Timmermans, pierwszy wiceszef Komisji Eu...</td>\n",
       "      <td>wyborcza</td>\n",
       "      <td>agora</td>\n",
       "      <td>pl</td>\n",
       "    </tr>\n",
       "    <tr>\n",
       "      <th>1</th>\n",
       "      <td>Pijana rowerzystka butelką wódki chciała przek...</td>\n",
       "      <td>47-letnia kobieta kierowała rowerem w stanie n...</td>\n",
       "      <td>W środę policjanci otrzymali anonimowe zgłosze...</td>\n",
       "      <td>wyborcza</td>\n",
       "      <td>agora</td>\n",
       "      <td>pl</td>\n",
       "    </tr>\n",
       "    <tr>\n",
       "      <th>35</th>\n",
       "      <td>Rada Regionów KOD nie chce publicznych wypowie...</td>\n",
       "      <td>Tymczasowa Rada Regionów KOD zaapelowała w sob...</td>\n",
       "      <td>Oświadczenie TRR KOD to reakcja na ujawnienie ...</td>\n",
       "      <td>wyborcza</td>\n",
       "      <td>agora</td>\n",
       "      <td>pl</td>\n",
       "    </tr>\n",
       "    <tr>\n",
       "      <th>399</th>\n",
       "      <td>Akcja Gazety. Ponad 15 tysięcy w pięć dni</td>\n",
       "      <td>\"Choinkę darczyńców\" dla podopiecznych Fundacj...</td>\n",
       "      <td>W piątek na konto fundacji prowadzącej domowe ...</td>\n",
       "      <td>wyborcza</td>\n",
       "      <td>agora</td>\n",
       "      <td>pl</td>\n",
       "    </tr>\n",
       "  </tbody>\n",
       "</table>\n",
       "</div>"
      ],
      "text/plain": [
       "                                                 title  \\\n",
       "65                       Jak żyją najbogatsi łodzianie   \n",
       "248  Komisja Europejska wydaje nowe zalecenia ws. p...   \n",
       "1    Pijana rowerzystka butelką wódki chciała przek...   \n",
       "35   Rada Regionów KOD nie chce publicznych wypowie...   \n",
       "399          Akcja Gazety. Ponad 15 tysięcy w pięć dni   \n",
       "\n",
       "                                                 short  \\\n",
       "65   W Łódzkiem jest ok. 20 tys. bogatych ludzi. Za...   \n",
       "248  1- Nowa ustawa nie rozwiązała problemu Trybuna...   \n",
       "1    47-letnia kobieta kierowała rowerem w stanie n...   \n",
       "35   Tymczasowa Rada Regionów KOD zaapelowała w sob...   \n",
       "399  \"Choinkę darczyńców\" dla podopiecznych Fundacj...   \n",
       "\n",
       "                                                  long   website  brand  \\\n",
       "65   W MultiBanku majętni stanowią ok. 8 proc. klie...  wyborcza  agora   \n",
       "248  Frans Timmermans, pierwszy wiceszef Komisji Eu...  wyborcza  agora   \n",
       "1    W środę policjanci otrzymali anonimowe zgłosze...  wyborcza  agora   \n",
       "35   Oświadczenie TRR KOD to reakcja na ujawnienie ...  wyborcza  agora   \n",
       "399  W piątek na konto fundacji prowadzącej domowe ...  wyborcza  agora   \n",
       "\n",
       "    country  \n",
       "65       pl  \n",
       "248      pl  \n",
       "1        pl  \n",
       "35       pl  \n",
       "399      pl  "
      ]
     },
     "execution_count": 10,
     "metadata": {},
     "output_type": "execute_result"
    }
   ],
   "source": [
    "wyborcza_articles.sample(5).head(5)"
   ]
  },
  {
   "cell_type": "markdown",
   "metadata": {
    "heading_collapsed": true
   },
   "source": [
    "## Gazeta"
   ]
  },
  {
   "cell_type": "code",
   "execution_count": 11,
   "metadata": {
    "hidden": true
   },
   "outputs": [],
   "source": [
    "gazeta_articles = []\n",
    "for filename in listdir('data/gazeta/articles'):\n",
    "    try:\n",
    "        gazeta_articles.append(pd.read_csv('data/gazeta/articles/'+filename, header = None))\n",
    "    except EmptyDataError:\n",
    "        pass # empty file\n",
    "gazeta_articles = pd.concat(gazeta_articles)\n",
    "gazeta_articles.columns = ['url', 'title', 'short', 'long', 'img', 'com']\n",
    "gazeta_articles = gazeta_articles[['title', 'short', 'long']]\n",
    "gazeta_articles = gazeta_articles[gazeta_articles['title'].duplicated() == False]\n",
    "gazeta_articles['website'] = 'gazeta'\n",
    "gazeta_articles['brand'] = 'agora'\n",
    "gazeta_articles['country'] = 'pl'"
   ]
  },
  {
   "cell_type": "code",
   "execution_count": 12,
   "metadata": {
    "hidden": true
   },
   "outputs": [
    {
     "data": {
      "text/plain": [
       "12075"
      ]
     },
     "execution_count": 12,
     "metadata": {},
     "output_type": "execute_result"
    }
   ],
   "source": [
    "len(gazeta_articles)"
   ]
  },
  {
   "cell_type": "code",
   "execution_count": 13,
   "metadata": {
    "hidden": true
   },
   "outputs": [
    {
     "data": {
      "text/html": [
       "<div>\n",
       "<style scoped>\n",
       "    .dataframe tbody tr th:only-of-type {\n",
       "        vertical-align: middle;\n",
       "    }\n",
       "\n",
       "    .dataframe tbody tr th {\n",
       "        vertical-align: top;\n",
       "    }\n",
       "\n",
       "    .dataframe thead th {\n",
       "        text-align: right;\n",
       "    }\n",
       "</style>\n",
       "<table border=\"1\" class=\"dataframe\">\n",
       "  <thead>\n",
       "    <tr style=\"text-align: right;\">\n",
       "      <th></th>\n",
       "      <th>title</th>\n",
       "      <th>short</th>\n",
       "      <th>long</th>\n",
       "      <th>website</th>\n",
       "      <th>brand</th>\n",
       "      <th>country</th>\n",
       "    </tr>\n",
       "  </thead>\n",
       "  <tbody>\n",
       "    <tr>\n",
       "      <th>96</th>\n",
       "      <td>Kto jest oskarżony?</td>\n",
       "      <td>NaN</td>\n",
       "      <td>W PRL Rada Państwa była fasadowym ciałem, któr...</td>\n",
       "      <td>gazeta</td>\n",
       "      <td>agora</td>\n",
       "      <td>pl</td>\n",
       "    </tr>\n",
       "    <tr>\n",
       "      <th>38</th>\n",
       "      <td>Po 1,5 roku wyszedł z aresztu i złożył ślubowa...</td>\n",
       "      <td>Na piątkowej nadzwyczajnej sesji rady gminy śl...</td>\n",
       "      <td>Zbigniew Wojtera wyszedł z aresztu w Wigilię, ...</td>\n",
       "      <td>gazeta</td>\n",
       "      <td>agora</td>\n",
       "      <td>pl</td>\n",
       "    </tr>\n",
       "    <tr>\n",
       "      <th>20</th>\n",
       "      <td>Oto narodowcy, którzy zapewne wejdą do Sejmu z...</td>\n",
       "      <td>Część biorących miejsc na listach Pawła Kukiza...</td>\n",
       "      <td>Chcesz wiedzieć szybciej? Polub nas\\nListy Paw...</td>\n",
       "      <td>gazeta</td>\n",
       "      <td>agora</td>\n",
       "      <td>pl</td>\n",
       "    </tr>\n",
       "    <tr>\n",
       "      <th>121</th>\n",
       "      <td>Dwaj oszuści z Bielan w rękach kryminalnych</td>\n",
       "      <td>Kryminalni z Bielan zatrzymali oszustów, którz...</td>\n",
       "      <td>Artur G. i Rafał G. zostali rozpoznani przez p...</td>\n",
       "      <td>gazeta</td>\n",
       "      <td>agora</td>\n",
       "      <td>pl</td>\n",
       "    </tr>\n",
       "    <tr>\n",
       "      <th>75</th>\n",
       "      <td>Bridget Jones powraca. Odchudzona, samotna i.....</td>\n",
       "      <td>W sieci zadebiutował zwiastun \"Bridget Jones's...</td>\n",
       "      <td>W nowym filmie Bridget Jones jest czterdziesto...</td>\n",
       "      <td>gazeta</td>\n",
       "      <td>agora</td>\n",
       "      <td>pl</td>\n",
       "    </tr>\n",
       "  </tbody>\n",
       "</table>\n",
       "</div>"
      ],
      "text/plain": [
       "                                                 title  \\\n",
       "96                                 Kto jest oskarżony?   \n",
       "38   Po 1,5 roku wyszedł z aresztu i złożył ślubowa...   \n",
       "20   Oto narodowcy, którzy zapewne wejdą do Sejmu z...   \n",
       "121        Dwaj oszuści z Bielan w rękach kryminalnych   \n",
       "75   Bridget Jones powraca. Odchudzona, samotna i.....   \n",
       "\n",
       "                                                 short  \\\n",
       "96                                                 NaN   \n",
       "38   Na piątkowej nadzwyczajnej sesji rady gminy śl...   \n",
       "20   Część biorących miejsc na listach Pawła Kukiza...   \n",
       "121  Kryminalni z Bielan zatrzymali oszustów, którz...   \n",
       "75   W sieci zadebiutował zwiastun \"Bridget Jones's...   \n",
       "\n",
       "                                                  long website  brand country  \n",
       "96   W PRL Rada Państwa była fasadowym ciałem, któr...  gazeta  agora      pl  \n",
       "38   Zbigniew Wojtera wyszedł z aresztu w Wigilię, ...  gazeta  agora      pl  \n",
       "20   Chcesz wiedzieć szybciej? Polub nas\\nListy Paw...  gazeta  agora      pl  \n",
       "121  Artur G. i Rafał G. zostali rozpoznani przez p...  gazeta  agora      pl  \n",
       "75   W nowym filmie Bridget Jones jest czterdziesto...  gazeta  agora      pl  "
      ]
     },
     "execution_count": 13,
     "metadata": {},
     "output_type": "execute_result"
    }
   ],
   "source": [
    "gazeta_articles.sample(5).head()"
   ]
  },
  {
   "cell_type": "markdown",
   "metadata": {
    "heading_collapsed": true
   },
   "source": [
    "## Fakt"
   ]
  },
  {
   "cell_type": "code",
   "execution_count": 14,
   "metadata": {
    "hidden": true
   },
   "outputs": [],
   "source": [
    "fakt_articles = []\n",
    "for filename in listdir('data/fakt/articles'):\n",
    "    tmp_df = pd.read_csv('data/fakt/articles/'+filename, header = None)\n",
    "    tmp_df.columns = ['url', 'title', 'short', 'long', 'img', 'com',]\n",
    "    tmp_df[filename] = 1\n",
    "    tmp_df[filename] = tmp_df[filename].fillna(0)\n",
    "    fakt_articles.append(tmp_df)\n",
    "fakt_articles = pd.concat(fakt_articles, sort = False)\n",
    "fakt_articles = fakt_articles[~fakt_articles['long'].isna()]\n",
    "fakt_articles['long'] = fakt_articles.apply(lambda x: x['long'][len(x['short']):], axis = 1)\n",
    "fakt_articles = fakt_articles[['title', 'short', 'long']]\n",
    "fakt_articles = fakt_articles[fakt_articles['title'].duplicated() == False]\n",
    "fakt_articles['website'] = 'fakt'\n",
    "fakt_articles['country'] = 'de/ch'\n",
    "fakt_articles['brand'] = 'ringier'\n",
    "fakt_articles = fakt_articles.dropna()"
   ]
  },
  {
   "cell_type": "code",
   "execution_count": 15,
   "metadata": {
    "hidden": true
   },
   "outputs": [
    {
     "data": {
      "text/plain": [
       "19165"
      ]
     },
     "execution_count": 15,
     "metadata": {},
     "output_type": "execute_result"
    }
   ],
   "source": [
    "len(fakt_articles)"
   ]
  },
  {
   "cell_type": "code",
   "execution_count": 16,
   "metadata": {
    "hidden": true
   },
   "outputs": [
    {
     "data": {
      "text/html": [
       "<div>\n",
       "<style scoped>\n",
       "    .dataframe tbody tr th:only-of-type {\n",
       "        vertical-align: middle;\n",
       "    }\n",
       "\n",
       "    .dataframe tbody tr th {\n",
       "        vertical-align: top;\n",
       "    }\n",
       "\n",
       "    .dataframe thead th {\n",
       "        text-align: right;\n",
       "    }\n",
       "</style>\n",
       "<table border=\"1\" class=\"dataframe\">\n",
       "  <thead>\n",
       "    <tr style=\"text-align: right;\">\n",
       "      <th></th>\n",
       "      <th>title</th>\n",
       "      <th>short</th>\n",
       "      <th>long</th>\n",
       "      <th>website</th>\n",
       "      <th>country</th>\n",
       "      <th>brand</th>\n",
       "    </tr>\n",
       "  </thead>\n",
       "  <tbody>\n",
       "    <tr>\n",
       "      <th>0</th>\n",
       "      <td>Pierwsze posiedzenie Sejmu. Przemówienie Andrz...</td>\n",
       "      <td>Pierwsze posiedzenie Sejmu otworzył marszałek ...</td>\n",
       "      <td>Andrzej Duda wygłosił orędzie na inauguracyjn...</td>\n",
       "      <td>fakt</td>\n",
       "      <td>de/ch</td>\n",
       "      <td>ringier</td>\n",
       "    </tr>\n",
       "    <tr>\n",
       "      <th>1</th>\n",
       "      <td>Jędraszewski o gender, LGBT i karcie WHO: \"Obł...</td>\n",
       "      <td>Abp. Marek Jędraszewski wygłosił kazanie podcz...</td>\n",
       "      <td>Homilii arcybiskupa Marka Jędraszewskiego słu...</td>\n",
       "      <td>fakt</td>\n",
       "      <td>de/ch</td>\n",
       "      <td>ringier</td>\n",
       "    </tr>\n",
       "    <tr>\n",
       "      <th>2</th>\n",
       "      <td>Hołownia zdradził, ile do tej pory wyłożył z w...</td>\n",
       "      <td>Szymon Hołownia w niedzielę ogłosił swój start...</td>\n",
       "      <td>Szymon Hołownia w miniony weekend w Teatrze S...</td>\n",
       "      <td>fakt</td>\n",
       "      <td>de/ch</td>\n",
       "      <td>ringier</td>\n",
       "    </tr>\n",
       "  </tbody>\n",
       "</table>\n",
       "</div>"
      ],
      "text/plain": [
       "                                               title  \\\n",
       "0  Pierwsze posiedzenie Sejmu. Przemówienie Andrz...   \n",
       "1  Jędraszewski o gender, LGBT i karcie WHO: \"Obł...   \n",
       "2  Hołownia zdradził, ile do tej pory wyłożył z w...   \n",
       "\n",
       "                                               short  \\\n",
       "0  Pierwsze posiedzenie Sejmu otworzył marszałek ...   \n",
       "1  Abp. Marek Jędraszewski wygłosił kazanie podcz...   \n",
       "2  Szymon Hołownia w niedzielę ogłosił swój start...   \n",
       "\n",
       "                                                long website country    brand  \n",
       "0   Andrzej Duda wygłosił orędzie na inauguracyjn...    fakt   de/ch  ringier  \n",
       "1   Homilii arcybiskupa Marka Jędraszewskiego słu...    fakt   de/ch  ringier  \n",
       "2   Szymon Hołownia w miniony weekend w Teatrze S...    fakt   de/ch  ringier  "
      ]
     },
     "execution_count": 16,
     "metadata": {},
     "output_type": "execute_result"
    }
   ],
   "source": [
    "fakt_articles.head(3)"
   ]
  },
  {
   "cell_type": "markdown",
   "metadata": {
    "heading_collapsed": true
   },
   "source": [
    "## Onet"
   ]
  },
  {
   "cell_type": "code",
   "execution_count": 17,
   "metadata": {
    "hidden": true
   },
   "outputs": [],
   "source": [
    "onet_articles = []\n",
    "for filename in listdir('data/onet/articles'):\n",
    "    tmp_df = pd.read_csv('data/onet/articles/'+filename, header = None)\n",
    "    try:\n",
    "        tmp_df.columns = ['url', 'title', 'short', 'long', 'img', 'com',]\n",
    "    except:\n",
    "        tmp_df.columns = ['title', 'short', 'long', 'img', 'com',]\n",
    "    # tmp_df[filename] = 1\n",
    "    onet_articles.append(tmp_df)\n",
    "onet_articles = pd.concat(onet_articles, sort = False)\n",
    "onet_articles = onet_articles[['title', 'short', 'long']]\n",
    "onet_articles = onet_articles[onet_articles['title'].duplicated() == False]\n",
    "onet_articles = onet_articles.dropna()\n",
    "onet_articles['website'] = 'onet'\n",
    "onet_articles['country'] = 'de/ch'\n",
    "onet_articles['brand'] = 'ringier'"
   ]
  },
  {
   "cell_type": "code",
   "execution_count": 18,
   "metadata": {
    "hidden": true
   },
   "outputs": [
    {
     "data": {
      "text/plain": [
       "12968"
      ]
     },
     "execution_count": 18,
     "metadata": {},
     "output_type": "execute_result"
    }
   ],
   "source": [
    "len(onet_articles)"
   ]
  },
  {
   "cell_type": "code",
   "execution_count": 19,
   "metadata": {
    "hidden": true
   },
   "outputs": [
    {
     "data": {
      "text/html": [
       "<div>\n",
       "<style scoped>\n",
       "    .dataframe tbody tr th:only-of-type {\n",
       "        vertical-align: middle;\n",
       "    }\n",
       "\n",
       "    .dataframe tbody tr th {\n",
       "        vertical-align: top;\n",
       "    }\n",
       "\n",
       "    .dataframe thead th {\n",
       "        text-align: right;\n",
       "    }\n",
       "</style>\n",
       "<table border=\"1\" class=\"dataframe\">\n",
       "  <thead>\n",
       "    <tr style=\"text-align: right;\">\n",
       "      <th></th>\n",
       "      <th>title</th>\n",
       "      <th>short</th>\n",
       "      <th>long</th>\n",
       "      <th>website</th>\n",
       "      <th>country</th>\n",
       "      <th>brand</th>\n",
       "    </tr>\n",
       "  </thead>\n",
       "  <tbody>\n",
       "    <tr>\n",
       "      <th>0</th>\n",
       "      <td>Sondaż IBRiS dla Onetu. Spadają notowania Andr...</td>\n",
       "      <td>Prezydent Andrzej Duda cieszy się najwyższym z...</td>\n",
       "      <td>Andrzej Duda od wielu miesięcy cieszy się najw...</td>\n",
       "      <td>onet</td>\n",
       "      <td>de/ch</td>\n",
       "      <td>ringier</td>\n",
       "    </tr>\n",
       "    <tr>\n",
       "      <th>1</th>\n",
       "      <td>Bogdan Klich: to wielki strategiczny błąd prez...</td>\n",
       "      <td>- Decyzja wycofania polskich wojsk z Iraku pow...</td>\n",
       "      <td>- Głos opozycji jest niezbędny i trzeba go wys...</td>\n",
       "      <td>onet</td>\n",
       "      <td>de/ch</td>\n",
       "      <td>ringier</td>\n",
       "    </tr>\n",
       "    <tr>\n",
       "      <th>2</th>\n",
       "      <td>Izraelskie media informują o decyzji prezydent...</td>\n",
       "      <td>Izraelskie media informują za agencjami prasow...</td>\n",
       "      <td>Andrzej Duda, którego nie poproszono o wystąpi...</td>\n",
       "      <td>onet</td>\n",
       "      <td>de/ch</td>\n",
       "      <td>ringier</td>\n",
       "    </tr>\n",
       "  </tbody>\n",
       "</table>\n",
       "</div>"
      ],
      "text/plain": [
       "                                               title  \\\n",
       "0  Sondaż IBRiS dla Onetu. Spadają notowania Andr...   \n",
       "1  Bogdan Klich: to wielki strategiczny błąd prez...   \n",
       "2  Izraelskie media informują o decyzji prezydent...   \n",
       "\n",
       "                                               short  \\\n",
       "0  Prezydent Andrzej Duda cieszy się najwyższym z...   \n",
       "1  - Decyzja wycofania polskich wojsk z Iraku pow...   \n",
       "2  Izraelskie media informują za agencjami prasow...   \n",
       "\n",
       "                                                long website country    brand  \n",
       "0  Andrzej Duda od wielu miesięcy cieszy się najw...    onet   de/ch  ringier  \n",
       "1  - Głos opozycji jest niezbędny i trzeba go wys...    onet   de/ch  ringier  \n",
       "2  Andrzej Duda, którego nie poproszono o wystąpi...    onet   de/ch  ringier  "
      ]
     },
     "execution_count": 19,
     "metadata": {},
     "output_type": "execute_result"
    }
   ],
   "source": [
    "onet_articles.head(3)"
   ]
  },
  {
   "cell_type": "markdown",
   "metadata": {
    "heading_collapsed": true
   },
   "source": [
    "## Newsweek"
   ]
  },
  {
   "cell_type": "code",
   "execution_count": 20,
   "metadata": {
    "hidden": true
   },
   "outputs": [],
   "source": [
    "newsweek_articles = []\n",
    "for filename in listdir('data/newsweek/articles'):\n",
    "    tmp_df = pd.read_csv('data/newsweek/articles/'+filename, header = None)\n",
    "    tmp_df.columns = ['title', 'short', 'long', 'img', 'com',]\n",
    "    newsweek_articles.append(tmp_df)\n",
    "newsweek_articles = pd.concat(newsweek_articles, sort = False)\n",
    "newsweek_articles = newsweek_articles[['title', 'short', 'long']]\n",
    "newsweek_articles = newsweek_articles[newsweek_articles['title'].duplicated() == False]\n",
    "newsweek_articles = newsweek_articles.dropna()\n",
    "newsweek_articles['website'] = 'newsweek'\n",
    "newsweek_articles['country'] = 'de/ch'\n",
    "newsweek_articles['brand'] = 'ringier'"
   ]
  },
  {
   "cell_type": "code",
   "execution_count": 21,
   "metadata": {
    "hidden": true
   },
   "outputs": [
    {
     "data": {
      "text/plain": [
       "1605"
      ]
     },
     "execution_count": 21,
     "metadata": {},
     "output_type": "execute_result"
    }
   ],
   "source": [
    "len(newsweek_articles)"
   ]
  },
  {
   "cell_type": "code",
   "execution_count": 22,
   "metadata": {
    "hidden": true
   },
   "outputs": [
    {
     "data": {
      "text/html": [
       "<div>\n",
       "<style scoped>\n",
       "    .dataframe tbody tr th:only-of-type {\n",
       "        vertical-align: middle;\n",
       "    }\n",
       "\n",
       "    .dataframe tbody tr th {\n",
       "        vertical-align: top;\n",
       "    }\n",
       "\n",
       "    .dataframe thead th {\n",
       "        text-align: right;\n",
       "    }\n",
       "</style>\n",
       "<table border=\"1\" class=\"dataframe\">\n",
       "  <thead>\n",
       "    <tr style=\"text-align: right;\">\n",
       "      <th></th>\n",
       "      <th>title</th>\n",
       "      <th>short</th>\n",
       "      <th>long</th>\n",
       "      <th>website</th>\n",
       "      <th>country</th>\n",
       "      <th>brand</th>\n",
       "    </tr>\n",
       "  </thead>\n",
       "  <tbody>\n",
       "    <tr>\n",
       "      <th>0</th>\n",
       "      <td>OPINIA\\nPiS tak zohydza Unię Europejską, że wk...</td>\n",
       "      <td>Prezes Jarosław Kaczyński chce stworzyć nowe z...</td>\n",
       "      <td>Spektakl zatytułowany „zła unia” miał w minion...</td>\n",
       "      <td>newsweek</td>\n",
       "      <td>de/ch</td>\n",
       "      <td>ringier</td>\n",
       "    </tr>\n",
       "    <tr>\n",
       "      <th>1</th>\n",
       "      <td>„Jestem przekonany, że Biedroń będzie gryzł tr...</td>\n",
       "      <td>Jedną nogą w Brukseli Robert Biedroń chce walc...</td>\n",
       "      <td>Po niedzielnej konwencji w Słupsku, na której ...</td>\n",
       "      <td>newsweek</td>\n",
       "      <td>de/ch</td>\n",
       "      <td>ringier</td>\n",
       "    </tr>\n",
       "    <tr>\n",
       "      <th>2</th>\n",
       "      <td>Andrzej Duda walczy o wyborców Konfederacji?„N...</td>\n",
       "      <td>– Mam nadzieję, że mimo huraganowych ataków, k...</td>\n",
       "      <td>Kampania prezydencka jeszcze się nie rozpoczęł...</td>\n",
       "      <td>newsweek</td>\n",
       "      <td>de/ch</td>\n",
       "      <td>ringier</td>\n",
       "    </tr>\n",
       "  </tbody>\n",
       "</table>\n",
       "</div>"
      ],
      "text/plain": [
       "                                               title  \\\n",
       "0  OPINIA\\nPiS tak zohydza Unię Europejską, że wk...   \n",
       "1  „Jestem przekonany, że Biedroń będzie gryzł tr...   \n",
       "2  Andrzej Duda walczy o wyborców Konfederacji?„N...   \n",
       "\n",
       "                                               short  \\\n",
       "0  Prezes Jarosław Kaczyński chce stworzyć nowe z...   \n",
       "1  Jedną nogą w Brukseli Robert Biedroń chce walc...   \n",
       "2  – Mam nadzieję, że mimo huraganowych ataków, k...   \n",
       "\n",
       "                                                long   website country  \\\n",
       "0  Spektakl zatytułowany „zła unia” miał w minion...  newsweek   de/ch   \n",
       "1  Po niedzielnej konwencji w Słupsku, na której ...  newsweek   de/ch   \n",
       "2  Kampania prezydencka jeszcze się nie rozpoczęł...  newsweek   de/ch   \n",
       "\n",
       "     brand  \n",
       "0  ringier  \n",
       "1  ringier  \n",
       "2  ringier  "
      ]
     },
     "execution_count": 22,
     "metadata": {},
     "output_type": "execute_result"
    }
   ],
   "source": [
    "newsweek_articles.head(3)"
   ]
  },
  {
   "cell_type": "markdown",
   "metadata": {},
   "source": [
    "## TVN"
   ]
  },
  {
   "cell_type": "code",
   "execution_count": 23,
   "metadata": {},
   "outputs": [],
   "source": [
    "tvn_articles_list = []\n",
    "for filename in listdir('data/tvn/articles'):\n",
    "    tmp_df = pd.read_csv('data/tvn/articles/'+filename, header = None)\n",
    "    tmp_df.columns = ['title', 'short', 'long', 'img', 'com',]\n",
    "    tvn_articles_list.append(tmp_df)\n",
    "tvn_articles = pd.concat(tvn_articles_list, sort = False)\n",
    "tvn_articles = tvn_articles[['title', 'short', 'long']]\n",
    "tvn_articles = tvn_articles[tvn_articles['title'].duplicated() == False]\n",
    "tvn_articles = tvn_articles.dropna()\n",
    "tvn_articles['website'] = 'tvn'\n",
    "tvn_articles['country'] = 'us'\n",
    "tvn_articles['brand'] = 'discovery'"
   ]
  },
  {
   "cell_type": "code",
   "execution_count": 24,
   "metadata": {},
   "outputs": [
    {
     "data": {
      "text/plain": [
       "35232"
      ]
     },
     "execution_count": 24,
     "metadata": {},
     "output_type": "execute_result"
    }
   ],
   "source": [
    "len(tvn_articles)"
   ]
  },
  {
   "cell_type": "code",
   "execution_count": 25,
   "metadata": {},
   "outputs": [
    {
     "data": {
      "text/html": [
       "<div>\n",
       "<style scoped>\n",
       "    .dataframe tbody tr th:only-of-type {\n",
       "        vertical-align: middle;\n",
       "    }\n",
       "\n",
       "    .dataframe tbody tr th {\n",
       "        vertical-align: top;\n",
       "    }\n",
       "\n",
       "    .dataframe thead th {\n",
       "        text-align: right;\n",
       "    }\n",
       "</style>\n",
       "<table border=\"1\" class=\"dataframe\">\n",
       "  <thead>\n",
       "    <tr style=\"text-align: right;\">\n",
       "      <th></th>\n",
       "      <th>title</th>\n",
       "      <th>short</th>\n",
       "      <th>long</th>\n",
       "      <th>website</th>\n",
       "      <th>country</th>\n",
       "      <th>brand</th>\n",
       "    </tr>\n",
       "  </thead>\n",
       "  <tbody>\n",
       "    <tr>\n",
       "      <th>597</th>\n",
       "      <td>\"Nie ma zgody na takie metody\". Awantura na ob...</td>\n",
       "      <td>\"ORMO, ZOMO, cenzura\", \"Nie ma zgody na takie ...</td>\n",
       "      <td>Autor: TVN24</td>\n",
       "      <td>tvn</td>\n",
       "      <td>us</td>\n",
       "      <td>discovery</td>\n",
       "    </tr>\n",
       "    <tr>\n",
       "      <th>406</th>\n",
       "      <td>Do Rosji trafiło mięso sprzed 36 lat</td>\n",
       "      <td>Nie tylko do Polski trafiało stare, klikudzies...</td>\n",
       "      <td>Jak poinformował portal internetowy GZT.ru, mi...</td>\n",
       "      <td>tvn</td>\n",
       "      <td>us</td>\n",
       "      <td>discovery</td>\n",
       "    </tr>\n",
       "    <tr>\n",
       "      <th>155</th>\n",
       "      <td>\"Szanowny Panie Gistapo\"</td>\n",
       "      <td>Program \"Czarno na białym\" TVN24 pokazał donos...</td>\n",
       "      <td>\"Szanowna Władzo! Proszę przeprowadzić rewizje...</td>\n",
       "      <td>tvn</td>\n",
       "      <td>us</td>\n",
       "      <td>discovery</td>\n",
       "    </tr>\n",
       "    <tr>\n",
       "      <th>756</th>\n",
       "      <td>Grabarczyk zrezygnował z członkostwa w komitec...</td>\n",
       "      <td>Cezary Grabarczyk złożył rezygnację z członkos...</td>\n",
       "      <td>Grabarczyk jest wiceszefem PO i członkiem zarz...</td>\n",
       "      <td>tvn</td>\n",
       "      <td>us</td>\n",
       "      <td>discovery</td>\n",
       "    </tr>\n",
       "    <tr>\n",
       "      <th>636</th>\n",
       "      <td>Pierwszy papież na Cyprze</td>\n",
       "      <td>Papież Benedykt XVI wylądował po południu na p...</td>\n",
       "      <td>Główne cele 16. zagranicznej podróży papieża t...</td>\n",
       "      <td>tvn</td>\n",
       "      <td>us</td>\n",
       "      <td>discovery</td>\n",
       "    </tr>\n",
       "  </tbody>\n",
       "</table>\n",
       "</div>"
      ],
      "text/plain": [
       "                                                 title  \\\n",
       "597  \"Nie ma zgody na takie metody\". Awantura na ob...   \n",
       "406               Do Rosji trafiło mięso sprzed 36 lat   \n",
       "155                           \"Szanowny Panie Gistapo\"   \n",
       "756  Grabarczyk zrezygnował z członkostwa w komitec...   \n",
       "636                          Pierwszy papież na Cyprze   \n",
       "\n",
       "                                                 short  \\\n",
       "597  \"ORMO, ZOMO, cenzura\", \"Nie ma zgody na takie ...   \n",
       "406  Nie tylko do Polski trafiało stare, klikudzies...   \n",
       "155  Program \"Czarno na białym\" TVN24 pokazał donos...   \n",
       "756  Cezary Grabarczyk złożył rezygnację z członkos...   \n",
       "636  Papież Benedykt XVI wylądował po południu na p...   \n",
       "\n",
       "                                                  long website country  \\\n",
       "597                                       Autor: TVN24     tvn      us   \n",
       "406  Jak poinformował portal internetowy GZT.ru, mi...     tvn      us   \n",
       "155  \"Szanowna Władzo! Proszę przeprowadzić rewizje...     tvn      us   \n",
       "756  Grabarczyk jest wiceszefem PO i członkiem zarz...     tvn      us   \n",
       "636  Główne cele 16. zagranicznej podróży papieża t...     tvn      us   \n",
       "\n",
       "         brand  \n",
       "597  discovery  \n",
       "406  discovery  \n",
       "155  discovery  \n",
       "756  discovery  \n",
       "636  discovery  "
      ]
     },
     "execution_count": 25,
     "metadata": {},
     "output_type": "execute_result"
    }
   ],
   "source": [
    "tvn_articles.sample(5).head()"
   ]
  },
  {
   "cell_type": "markdown",
   "metadata": {},
   "source": [
    "## Sputnik"
   ]
  },
  {
   "cell_type": "code",
   "execution_count": 33,
   "metadata": {},
   "outputs": [],
   "source": [
    "sputnik_list = []\n",
    "for filename in listdir('data/sputnik/articles'):\n",
    "    tmp_df = pd.read_csv('data/sputnik/articles/'+filename, header = None)\n",
    "    tmp_df.columns = ['title', 'short', 'long', 'img', 'com',]\n",
    "    sputnik_list.append(tmp_df)\n",
    "sputnik_articles = pd.concat(sputnik_list, sort = False)\n",
    "sputnik_articles = sputnik_articles[['title', 'short', 'long']]\n",
    "sputnik_articles = sputnik_articles[sputnik_articles['title'].duplicated() == False]\n",
    "sputnik_articles = sputnik_articles.dropna()\n",
    "sputnik_articles['website'] = 'sputnik'\n",
    "sputnik_articles['country'] = 'ru'\n",
    "sputnik_articles['brand'] = 'rossija_sjegodnia'"
   ]
  },
  {
   "cell_type": "code",
   "execution_count": 34,
   "metadata": {},
   "outputs": [
    {
     "data": {
      "text/plain": [
       "1089"
      ]
     },
     "execution_count": 34,
     "metadata": {},
     "output_type": "execute_result"
    }
   ],
   "source": [
    "len(sputnik_articles)"
   ]
  },
  {
   "cell_type": "code",
   "execution_count": 35,
   "metadata": {},
   "outputs": [
    {
     "data": {
      "text/html": [
       "<div>\n",
       "<style scoped>\n",
       "    .dataframe tbody tr th:only-of-type {\n",
       "        vertical-align: middle;\n",
       "    }\n",
       "\n",
       "    .dataframe tbody tr th {\n",
       "        vertical-align: top;\n",
       "    }\n",
       "\n",
       "    .dataframe thead th {\n",
       "        text-align: right;\n",
       "    }\n",
       "</style>\n",
       "<table border=\"1\" class=\"dataframe\">\n",
       "  <thead>\n",
       "    <tr style=\"text-align: right;\">\n",
       "      <th></th>\n",
       "      <th>title</th>\n",
       "      <th>short</th>\n",
       "      <th>long</th>\n",
       "      <th>website</th>\n",
       "      <th>country</th>\n",
       "      <th>brand</th>\n",
       "    </tr>\n",
       "  </thead>\n",
       "  <tbody>\n",
       "    <tr>\n",
       "      <th>16</th>\n",
       "      <td>Burdel Ziobry</td>\n",
       "      <td>Trudno inaczej nazwać to, co minister chce nam...</td>\n",
       "      <td>©\\n                    AFP 2019 / WOJTEK RADWA...</td>\n",
       "      <td>sputnik</td>\n",
       "      <td>ru</td>\n",
       "      <td>rossija_sjegodnia</td>\n",
       "    </tr>\n",
       "    <tr>\n",
       "      <th>297</th>\n",
       "      <td>Prowokacje na Krymie: Ukraińcy strzelają do ro...</td>\n",
       "      <td>Ostrzelanie rosyjskiej platformy wiertniczej T...</td>\n",
       "      <td>©\\n                    AP Photo / Czarek Sokol...</td>\n",
       "      <td>sputnik</td>\n",
       "      <td>ru</td>\n",
       "      <td>rossija_sjegodnia</td>\n",
       "    </tr>\n",
       "    <tr>\n",
       "      <th>547</th>\n",
       "      <td>Polska starzeje się szybciej niż Unia Europejska</td>\n",
       "      <td>Polskie społeczeństwo starzeje się w szybszym ...</td>\n",
       "      <td>Choć Polska nie jest wyjątkiem, wiele krajów r...</td>\n",
       "      <td>sputnik</td>\n",
       "      <td>ru</td>\n",
       "      <td>rossija_sjegodnia</td>\n",
       "    </tr>\n",
       "    <tr>\n",
       "      <th>48</th>\n",
       "      <td>Grupa Wyszechradzka: spór starej i nowej Europ...</td>\n",
       "      <td>Nadzwyczajny szczyt Grupy Wyszechradzkiej w sp...</td>\n",
       "      <td>Ten szczyt to reakcja na agresywne ataki stary...</td>\n",
       "      <td>sputnik</td>\n",
       "      <td>ru</td>\n",
       "      <td>rossija_sjegodnia</td>\n",
       "    </tr>\n",
       "    <tr>\n",
       "      <th>114</th>\n",
       "      <td>Rosja: 6 lat kolonii karnej dla świadka Jehowy</td>\n",
       "      <td>Sąd w Tomsku skazał lidera lokalnej komórki Św...</td>\n",
       "      <td>Sąd w Tomsku skazał lidera lokalnej komórki Św...</td>\n",
       "      <td>sputnik</td>\n",
       "      <td>ru</td>\n",
       "      <td>rossija_sjegodnia</td>\n",
       "    </tr>\n",
       "  </tbody>\n",
       "</table>\n",
       "</div>"
      ],
      "text/plain": [
       "                                                 title  \\\n",
       "16                                       Burdel Ziobry   \n",
       "297  Prowokacje na Krymie: Ukraińcy strzelają do ro...   \n",
       "547   Polska starzeje się szybciej niż Unia Europejska   \n",
       "48   Grupa Wyszechradzka: spór starej i nowej Europ...   \n",
       "114     Rosja: 6 lat kolonii karnej dla świadka Jehowy   \n",
       "\n",
       "                                                 short  \\\n",
       "16   Trudno inaczej nazwać to, co minister chce nam...   \n",
       "297  Ostrzelanie rosyjskiej platformy wiertniczej T...   \n",
       "547  Polskie społeczeństwo starzeje się w szybszym ...   \n",
       "48   Nadzwyczajny szczyt Grupy Wyszechradzkiej w sp...   \n",
       "114  Sąd w Tomsku skazał lidera lokalnej komórki Św...   \n",
       "\n",
       "                                                  long  website country  \\\n",
       "16   ©\\n                    AFP 2019 / WOJTEK RADWA...  sputnik      ru   \n",
       "297  ©\\n                    AP Photo / Czarek Sokol...  sputnik      ru   \n",
       "547  Choć Polska nie jest wyjątkiem, wiele krajów r...  sputnik      ru   \n",
       "48   Ten szczyt to reakcja na agresywne ataki stary...  sputnik      ru   \n",
       "114  Sąd w Tomsku skazał lidera lokalnej komórki Św...  sputnik      ru   \n",
       "\n",
       "                 brand  \n",
       "16   rossija_sjegodnia  \n",
       "297  rossija_sjegodnia  \n",
       "547  rossija_sjegodnia  \n",
       "48   rossija_sjegodnia  \n",
       "114  rossija_sjegodnia  "
      ]
     },
     "execution_count": 35,
     "metadata": {},
     "output_type": "execute_result"
    }
   ],
   "source": [
    "sputnik_articles.sample(5).head()"
   ]
  },
  {
   "cell_type": "code",
   "execution_count": 36,
   "metadata": {},
   "outputs": [
    {
     "data": {
      "text/plain": [
       "array([['W Dumie odpowiedziano ukraińskim nacjonalistom, którzy chcą „przyswoić” rosyjskie ziemie',\n",
       "        'Deputowany Dumy Państwowej Rusłan Balbek skomentował oświadczenie lidera ukraińskiej nacjonalistycznej partii „Swoboda” Oleha Tiahniboka o „przynależności” do Kijowa szeregu ziem rosyjskich i polskich.',\n",
       "        'Parlamentarzysta skrytykował ukraińskich nacjonalistów za nadmierne „apetyty”. „Z takim apetytem to\\xa0i całej planety okaże się za mało. Ich zdaniem, słowo \"Ukraina\" powinno wykraczać poza nasz Układ Słoneczny”\\xa0— powiedział poseł. ©\\n                    Zdjęcie : Public DomainSekrety stalinowskiej drogi śmierci za kołem podbiegunowymWedług niego, na takich radykalnych stwierdzeniach wychowuje się nowe pokolenie Ukraińców, „przekonane, że cały świat powinien nazywać się Ukraina”. Wcześniej Oleh Tiahnibok oświadczył, że terytorium Ukrainy w granicach z 1921 roku było 1,6 razy większe niż obecnie. Ponadto, wśród ziem, na które mógłby pretendować Kijów, nacjonalista wymienił Zielony Klin na rosyjskim Dalekim Wschodzie (w 1917 imigranci z Ukrainy próbowali stworzyć tam Ukraińską Dalekowschodnią Republikę\\xa0— red.), Starodubszczynę (obwód briański Rosji), Chełmowszyznę (Polska), Nadsanie (Ukraina, Polska) oraz Łemkowszczyznę (ziemie w Polsce, na Słowacji i na Ukrainie). Na Ukrainie wielokrotnie deklarowano chęć zarekwirowania części ziem rosyjskich. W marcu były szef „Prawego Sektora” (organizacja zakazana w Federacji Rosyjskiej), założyciel „Ukraińskiej Armii Ochotniczej” (organizacja zakazana w Federacji Rosyjskiej) Dmitro Jarosz opowiedział o „planie”, aby zająć Kubań, Woronież i część obwodu rostowskiego. Deputowany Dumy Państwowej Leonid Kałasznikow zaproponował Jaroszowi rozpocząć od „zajęcia” Workuty, gdzie dla ekstremisty „przygotowano więzienie”.',\n",
       "        'sputnik', 'ru', 'rossija_sjegodnia'],\n",
       "       ['Wielki Mur Brytyjski: Londyn wyda prawie 2 miliony funtów na zapory przed imigrantami',\n",
       "        'Brytyjski minister ds. imigracji Robert Goodwill oświadczył, że w tym miesiącu Wielka Brytania rozpocznie budowę 4-metrowego muru we francuskim Calais w celu ochrony przed nielegalnymi imigrantami. Londyn wyda 1,9 miliona funtów na budowę zapory w ramach pakietu anglo-francuskich porozumień.',\n",
       "        'Na posiedzeniu Izby Gmin brytyjski minister Robert Goodwill powiedział kolegom o decyzji rządu o rozpoczęciu budowy muru w Calais we wrześniu, pisze The Guardian. „Ludzie wciąż się przedostają. Postawiliśmy ogrodzenia. Teraz budujemy mur”,\\xa0— powiedział Goodwill. ©\\n                    AP Photo / Jerome DelaySkrajni prawicowcy palą opony na wiecu przeciwko imigrantom w CalaisZakłada się, że „wielki nowy mur” wzdłuż drogi z Calais będzie w stanie ochronić przed imigrantami, którzy skaczą na ciężarówki jadące do Wielkiej Brytanii. Mur będzie mieć prawie cztery metry wysokości i będzie kosztować 1,9 miliona funtów. Miejscowi mieszkańcy są niezadowoleni z planów budowy, oni już ochrzcili konstrukcję „Wielkim Murem Calais”. Krytycy projektu już teraz twierdzą, że jest to\\xa0kolosalne marnotrawstwo pieniędzy podatników, a środek jest całkowicie nieskuteczny. „Kiedy buduje się mur w dowolnym miejscu na świecie, ludzie znajdują sposoby, aby go obejść. Jest to\\xa0bezużyteczna strata pieniędzy. Może to\\xa0sprawić, że sytuacja będzie bardziej niebezpieczna dla ludzi. Ceny przemytników, którzy nielegalnie przewożących ludzi, wzrosną i wszystko skończy się na tym, że ludzie (imigranci\\xa0— red.) będą podejmować większe ryzyko”,\\xa0— przytacza gazeta opinię przedstawiciela stowarzyszenia wolontariuszy Auberge des migrants Françoisa Gennoka. Budowa muru o długości 1 kilometra będzie prowadzona po obu stronach drogi. Oczekuje się, że to\\xa0ochroni ciężarówki i inne środki transportowe, do zatrzymania których imigranci wykorzystają kamienie, wózki z supermarketów, a nawet pnie drzew. ©\\n                    Zdjęcie : YouTube/Russia TodayWideo: Uchodźcy zaszyli sobie usta na znak protestu przeciwko zburzeniu obozu w CalaisSam mur będzie równy, o gładkich bokach, po których trudno się wspinać, informuje gazeta. Wzdłuż ogrodzenia będą sadzone różne rośliny i kwiaty w ten sposób, aby nie zepsuć wyglądu miasta. Wcześniej brytyjskie władze informowały o prowadzeniu rozmów z firmami transportowymi w sprawie ograniczenia napływu imigrantów, którzy starają się nielegalnie dostać się na wyspę na ciężarówkach, które jadą do Wielkiej Brytanii z Francji. Informowano o planach budowy zapory przy wjeździe do tunelu pod kanałem La Manche. W ubiegłym roku straż graniczna powstrzymywała próby nielegalnego przekroczenia granicy 39 tysięcy razy, prawie dwukrotnie więcej niż w poprzednim roku. Odnotowano przypadki, kiedy nielegalni imigranci grozili kierowcom ciężarówek nożami. Jednocześnie ponad stu brytyjskich kierowców zostało skazanych we Francji w związku z przemytem ludzi.',\n",
       "        'sputnik', 'ru', 'rossija_sjegodnia'],\n",
       "       ['Ruch bezwizowy między Ukrainą a UE „wisi na włosku”?',\n",
       "        'Komisja Europejska (KE) stwierdziła masowe naruszenia w porozumieniu w sprawie ruchu bezwizowego między Ukrainą a UE i ostrzegła przed jego zamrożeniem, wynika ze sprawozdania organizacji.',\n",
       "        '©\\n                    Zdjęcie : West Midlands PoliceRodzice, którzy nazwali syna na cześć Hitlera, usłyszeli wyrokKomisja Europejska zauważyła, że wiele wymogów z ostatniego raportu nie zostało spełnionych. „Ukraina musi podjąć natychmiastowe działania, które są również niezbędne do wypełnienia zobowiązań w zakresie zwalczania korupcji i nielegalnej migracji”\\xa0— portal Strana.ua przytacza tekst rocznego sprawozdania organizacji. Poinformowano, że Komisja Europejska wyznaczyła Ukrainie siedem warunków dla kontynuacji ruchu bezwizowego: —\\xa0pilnie zredukować liczbę nielegalnych imigrantów przybywających do Unii Europejskiej z obywatelstwem ukraińskim; —\\xa0organizowanie programów informacyjnych dotyczących praw i obowiązków wynikających z bezwizowych ram; —\\xa0porzucenie „nadmiernej regulacji” organizacji pozarządowych; —\\xa0zapewnienie niezależności i skuteczności struktur antykorupcyjnych; —\\xa0przywrócenie niezależności i pracy specjalnego prokuratora antykorupcyjnego; —\\xa0stworzenie w pełni funkcjonującego systemu deklarowania własności urzędników państwowych; —\\xa0zwiększenie skuteczności policji i służb specjalnych w zwalczaniu przestępczości zorganizowanej, w tym cyberprzestępczości. W szczególności Komisja Europejska wspomniała w sprawozdaniu, że Ukraina znajduje się na liście państw, których obywatele aktywnie uczestniczą w transgranicznych zorganizowanych grupach przestępczych, zajmują się przemytem, handlem ludźmi, nielegalnym transportem migrantów, handlem narkotykami, cyberprzestępczością, oszustwami związanymi z nieruchomościami i praniem brudnych pieniędzy. ©\\n                    Sputnik . Maksim Bogodwid„Ukraina to najbiedniejszy kraj w Europie\" (wideo)Ukraina pozostaje również jednym z głównych krajów tranzytowych przemytu podrabianych produktów do UE, w szczególności wyrobów tytoniowych. Wcześniej w tym roku Poroszenko „pożegnał się” z Rosją w związku z wprowadzeniem ruchu bezwizowego pomiędzy Ukrainą a krajami Unią Europejską. Następnie zwrócił uwagę, że Ukraina „dostała rozwód” z Moskwą. Miesiąc później ukraiński minister spraw zagranicznych Pawło Klimkin powiedział, że około stu tysięcy obywateli wyjeżdża z kraju co miesiąc. Według ministra, migracja jest ułatwiona przez ruch bezwizowy z Unią Europejską.',\n",
       "        'sputnik', 'ru', 'rossija_sjegodnia'],\n",
       "       ['V-4 pod kierownictwem Słowacji: czy coś się zmieni?',\n",
       "        'Pierwszego lipca Słowacja przejęła przewodnictwo w Grupie Wyszehradzkiej. Słowackie MSZ wydało oświadczenie, w którym wymieniło główne zadania Słowacji na tym stanowisku na najbliższy rok: rozwój regionalnej współpracy w zakresie takich programów jak „Silna Europa\", „Bezpieczna Przestrzeń\", „Inteligentne rozwiązania nowych problemów\".',\n",
       "        'Republika Słowacka zamierza pracować na rzecz solidarności i konkurencyjności regionu państw Grupy Wyszehradzkiej. Zadania te zostały objęte dewizą „Dynamiczny Wyszehrad dla całej Europy\". ©\\n                    Sputnik . Sergei LesketUE pozbędzie się niektórych państw „ jak worków z piaskiem\"A co mógłby uczynić „Dynamiczny Wyszehrad\" pod przywództwem Słowacji na rzecz poprawy relacji z Rosją, złagodzenia klimatu antyrosyjskich sankcji w interesie środowisk biznesowych tych państw? Międzynarodowy komentator „Słowackiej Gazety Narodowej\" Dusan Kerny odpowiada na pytania Sputnika. —\\xa0Biorąc pod uwagę dynamikę europejskich problemów i polityczną nieokreśloność w kluczowych europejskich państwach, między innymi w Niemczech, trudno powiedzieć, co stanie się w najbliższym roku, kiedy Słowacja będzie przewodniczyć w V-4. Chodzi o to, że V-4, w równej mierze co Słowacja i jej polityczne kierownictwo, zwyciężyła w długiej walce przeciwko obowiązkowym kwotom imigrantów. Dzisiaj kwoty są już nieaktualne, ale Słowacja walczyła z nimi trzy lata, musiała nawet składać pozew do Trybunału Europejskiego. Okazało się, że nawet nieduży kraj, pozbawiony szczególnej wagi politycznej w NATO czy UE, może zachować swoją «polityczną i dyplomatyczną twarz», a nie tylko potakiwać polityce dużych państw. Zdaniem Dusana Kerny Słowacja będzie umacniać i zwiększać potencjał koalicji, jakiego V4 nabrała dzięki oporowi stawianemu obowiązkowym kwotom imigrantów narzuconym przez Brukselę. Słowacja będzie także lojalna wobec stanowiska polskich i czeskich władz względem Rosji, bowiem obydwa państwa, w odróżnieniu od Bratysławy, ekstradowały rosyjskich dyplomatów na znak solidarności z UE. ©\\n                    Sputnik . Sergei LesketUE pozbędzie się niektórych państw „ jak worków z piaskiem\"—\\xa0Czy to\\xa0oznacza, że rozpoczęcie rozmów w sprawie nowych stosunków z Rosją nie jest częścią oficjalnego programu V4? —\\xa0Na to\\xa0pytanie nie mogę udzielić jednoznacznej odpowiedzi. Europa prowadzi teraz aktywną antyrosyjską kampanię; że niby Rosjanie chcą zdobyć nasze serca, „zakiełkować w naszych umysłach i sercach\" i wykorzystać nas do swoich celów. Dużą rolę odgrywają tutaj media: na przykład centralne stacje telewizyjne nie pokazały, że na obchodach Dnia Zwycięstwa 9 maja w Moskwie był obecny prezydent Izraela Netanjahu, który razem z prezydentem Putinem brał udział w pochodzie wielomilionowego Nieśmiertelnego Pułku. I choć wiele wiemy o Izraelu, nigdy nie wspomina się tego, że tam Dzień Zwycięstwa jest nadal obchodzony 9., a nie 8. maja. Społeczność nawet nie wie, o czym mowa, podczas gdy antyfaszystowskie powstanie na Słowacji jest uważane za jeden z filarów współczesnej państwowości! —\\xa0Powróćmy do problemu sankcji… ©\\n                    Sputnik . Alexander VilfCo się kryje za zabójstwem słowackiego dziennikarza?—\\xa0Węgry, Austria, Słowacja, a zwłaszcza Czechy będą w większym stopniu rozwijać relacje dwustronne. Kraje te mają duże wątpliwości co do konieczności utrzymania sankcji i tego nie skrywają. Ale żaden polityk w tych krajach nie wystąpił z takim jednoznacznym oświadczeniem jak Jean-Claude Juncker: nastał czas nawiązania nowych relacji z Federacją Rosyjską, nadszedł czas, by\\xa0zakończyć politykę sankcji. Słowacja ze swoim pragmatyzmem, jednoznacznym poparciem dla polityki państw NATO nie będzie w V4 inicjatorem jakiegokolwiek złagodzenia sankcji, ale też nie będzie utrudniać pracy tym, którzy podejmą próbę dokonania zmian w powstałej sytuacji. Nie będzie też sprzeciwiać się rozwojowi stosunków dwustronnych. Ale, jak już mówiliśmy, czeka nas długie 12 miesięcy niestabilności na europejskiej scenie politycznej. Dzisiaj spieranie się o to, kto za rok stanie na czele Niemiec, jest bardziej ryzykowne, niż stawianie na zwycięzcę w MŚ 2018\\xa0— powiedział na zakończenie Dusan Kerny. Poglądy i opinie zawarte w artykule mogą być niezgodne ze stanowiskiem redakcji.',\n",
       "        'sputnik', 'ru', 'rossija_sjegodnia'],\n",
       "       ['Piechotą do Rosji: Polsko-rosyjska granica problemów',\n",
       "        'Obwód Kaliningradzki powitał ponurą pogodą, wiało i mżyło. Na dodatek, polscy pogranicznicy przetrzymali mnie na granicy w Grzechotkach blisko godzinę, bo interesował ich cel i motywy w podróży, i to w szczegółach.',\n",
       "        'Nie mogli zrozumieć, dlaczego akurat Rosję wybrałam na tygodniową studyjną wyprawę dziennikarską. To nie koniec moich przygód na polsko-rosyjskiej granicy. PRZYGOTOWANIA Myśl o odwiedzeniu Kaliningradu i poznania portów morskich Obwodu Kaliningradzkiego, chodziła mi po głowie od kilku lat. Na co dzień zajmuję się dziennikarstwem ekonomicznym: gospodarką morską, energetyką i transportem, współpracując na stałe z branżowymi pismami. Znam niemieckie i szwedzkie porty Bałtyku południowo-zachodniego. Kopenhaski i hamburski, także. Z obszaru południowo-wschodniego poznałam tylko Kłajpedę i to\\xa0pobieżnie. Nadbałtyckie porty rosyjskie wprost prowokowały do bliższego ich poznania. Obwód Kaliningradzki to\\xa0jedyna Rosja, z jaką Polska graniczy. ©\\n                    Zdjęcie : Andriej Wypołzow„Rosyjski rajd samochodowy przez Polskę: w imię umacniania dyplomacji ludowej\"\\n                        ©\\n                    Sputnik . Maksim Blinov„Nocne Wilki\" znów w Polsce. Będzie awanturaPort w Kaliningradzie, drugi, co do wielkości rosyjski port na Bałtyku, to\\xa0najbliższy port zagraniczny, z którymi polskie porty mogą współpracować lub konkurować. Ponad to, Rosjanie w miejscowości Pionierskij, szykują się do budowy nowego międzynarodowego terminalu promowego, przyjmującego też duże „wycieczkowce, konkurencyjny dla podobnych usług w Gdyni. „Trzeba w końcu tam jechać\", pomyślałam i zabrałam się do przygotowań. Przede wszystkim zwróciłam się do Ambasady FR w Warszawie o merytoryczną pomoc. Do tej pory byłam w Rosji tylko raz, trzy lata temu, Obwodu Kaliningradzkiego nie znałam, a rozmowy o rozwoju morskich portów w tej przygranicznej eksklawie rosyjskiej, musiałabym prowadzić na poziomie lokalnego rządu i regionalnych władz „Rosmorportu\". Znajomi w Polsce zasypali mnie „dobrymi radami\" i ostrzegali, że Kaliningrad jest szary, zapuszczony i ponury, a z Rosjanami trudno się umawiać, bo czasu nie szanują i notorycznie się spóźniają, że łapówki, że czekają mnie „różne niespodzianki\" z ich strony. Polskie MSZ także ostrzegało o różnych nieszczęściach, jakie mogą mi się w Obwodzie Kaliningradzkim przytrafić. Rzeczywistość okazała się zgoła odmienna. W rosyjskiej ambasadzie zareagowano na moje pomysły z wielkim zrozumieniem, zwłaszcza ambasador Siergiej Andriejew. Tak kompetentnej, merytorycznej pomocy, a przede wszystkim serdeczności, to\\xa0ja się nie spodziewałam. Przy współpracy z ambasadą, Izbą Obywatelską Obwodu Kaliningradzkiego i Rosjanami, których poznałam w Szczecinie ubiegłego roku, podczas kaliningradzkiego rajdu „Drogami Pamięci\" po Polsce, udało się wspólnie ułożyć atrakcyjny grafik na każdy dzień pobytu w Kaliningradzie. Mogłam wyruszyć do Rosji, by\\xa0spełnić dziennikarskie marzenia. Wszystko, co w nim zostało ujęte, zostało zrealizowane! To był bardzo pouczający wyjazd. DOCIEKANIA POLSKICH POGRANICZNIKÓW Przeszkodą nie do pokonania okazało się polsko-rosyjskie przejście graniczne, które chciałam pokonać pieszo. Rodzina była w stanie dowieźć mnie do granicy, ale nie miała stosownych dokumentów, by\\xa0ją przekroczyć. Z Kaliningradu na granicę miał w poniedziałek przyjechać rosyjski mikrobus. W ostatniej chwili, w piątek rano z kaliningradzkiego MSZ (Agencji ds. międzynarodowych i międzyregionalnych) otrzymałam informację, że jest to\\xa0niemożliwe, bo na całej granicy polsko-rosyjskiej nie ma przejścia dla…pieszych. \\xa0I żaden pieszy czy rowerowy turysta do Rosji nie wejdzie, ani nie wjedzie. Szybko wysłałam do Straży Granicznej (SG) w Grzechotkach maila z prośbą o umożliwienie mi przejścia pasa granicznego między polskim a rosyjskim posterunkiem granicznym\\xa0— pieszo. Opisałam dokładnie, po co jadę do Kaliningradu, co wiozę ze sobą, dołączyłam kopie paszportu i wizy. SG potwierdziła odbiór maila, ale nie odpowiedziała. Na szczęście, kierowca rosyjskiego busa miał dokumenty zezwalające na przekroczenie granicy i po polskiej stronie przepakowałam się do jego samochodu. Pogranicznicy przywitali natomiast blisko godzinnym postojem i serią dociekliwych pytań. ©\\n                    Sputnik . Władimir PiesniaZdrada stanu „czerwonej\" Zosi\\n                        ©\\n                    Zdjęcie : Służba prasowa Ambasady Federacji Rosyjskiej w Rzeczypospolitej PolskiejAmbasador Rosji: \"O Rosji albo źle, albo nic\"Siedzę w rosyjskim busie, podchodzi funkcjonariuszka SG i pyta: „A po co pani chce odwiedzać porty w Kaliningradzie?\" Dostaje odpowiedz i idzie na posterunek. Po jakimś czasie wychodzi i pyta: „A dlaczego akurat chce pani prowadzić wywiad z ministrem rozwoju infrastruktury w Kaliningradzie?\". Znowu dostaje dokładną i wyczerpującą odpowiedź, i tak w kółko. Kiedy zapytała za którymś razem: „Dlaczego pani akurat chce poznawać rosyjskie porty, a nie gdzie indziej\", wyjaśniłam, że to\\xa0moja dziennikarska robota. I wręczyłam podręczną teczkę z grafikiem pobytu i notatkami o Kaliningradzie, portach morskich, obwodzie itp., by\\xa0sobie dokładnie poczytała i jak trzeba\\xa0— skopiowała. „A jak im mało, niech wysyłają do samego szefa MSW\", pomyślałam już wściekła. W Kaliningradzie czekali w hotelu Rosjanie, a ja sterczę na granicy i odpowiadam na dziwne pytania, chociaż w paszporcie mam rosyjską wizę dziennikarską. Po obejrzeniu pisma, do którego pisuję i w którym w tzw. stopce, figuruje moje nazwisko, wreszcie mnie puszczono. Rosyjscy pogranicznicy i celnicy nie robili żadnych ceregieli. Mogłam wreszcie ruszyć do Kaliningradu. Niestety, z planowanego spotkania i wspólnego obiadu w Kaliningradzie tego dnia nic nie wyszło, Rosjanie nie mogli czekać w nieskończoność, nikt nie wiedział, kiedy polskie służby graniczne pozwolą mi przekroczyć granicę. DROGA PRZEZ MĘKĘ W drodze powrotnej polskie służby graniczne tym razem skierowały ten sam bus, którym wjeżdżałam do Rosji do rewizji celnej. Chociaż celnicy wcześniej samochód obstukali i moje bagaże pobieżnie przeglądnęli. Poza długim czekaniem, celna rewizja w specjalnej komorze niczym nie różniła się od zrobionej na zewnątrz. Wyjątkiem było podniesienie samochodu i obstukanie go od spodu. ©\\n                    Sputnik . Igor ZaremboMały ruch graniczny - punkt widzenia zależy od punktu siedzeniaMoje rzeczy tak samo przeglądnięto pobieżnie i niepotrzebnie martwiłam się, czy furażerka z czerwoną gwiazdą, którą dostałam od uczestników rajdu „Drogami Pamięci\", nie zostanie zakwalifikowana, jako element zakazanej w Polsce komunistycznej ideologii i skonfiskowana. W tym samym czasie na wjeżdżających do Rosji czekała na granicy wielka kolejka samochodów, bo akurat zaistniał tam jakiś incydent z interwencją polskiej policji. Wieczorem, już w Polsce, przeczytałam w mediach, że pewien Rosjanin w godzinach popołudniowych tego dnia, został na przejściu w Grzechotkach zatrzymany, bo chciał wwieźć do Polski broń pneumatyczną przerobioną na ostre naboje, przyznał się, poddał dobrowolnej karze i został szybko wypuszczony. Byłam na granicy w Grzechotkach w godzinach popołudniowych, incydent graniczny obserwowałam naocznie i jedynie prawdą jest to, że jakiś incydent graniczny zaistniał. Ale nie na wyjeździe z Rosji do Polski, lecz na wjeździe z Polski do Rosji. Prawdą jest, że w chwili jego zakończenia i odjazdu radiowozu w kierunku Braniewa, skierowano trzy samochody oczekujące na wjazd do Polski do rewizji: jeden rosyjski przed nami, nasz i jeden polski, za nami. \\xa0Pierwszy w kolejce, rosyjski\\xa0— celnicy i pogranicznicy przepuścili bez problemów. Po drugiej stronie drogi, kolejka samochodów czekających na wjazd do Rosji natychmiast stopniała. TO UPOKORZAJĄCE Stojąc na granicy dwie godziny, miałam okazję przyglądnąć się jak są na niej traktowani Rosjanie przez polskie służby. Odprawa jest upokarzająca. Są traktowani jak imigranci\\xa0— potencjalni terroryści. Sprawdzane są nie tylko ich biometryczne paszporty. ©\\n                    Sputnik . Walerij MelnikowWarszawa znów zaskoczyła Moskwę. No i po co?Każdy Rosjanin, który przekracza granicę musi skanować palec, by\\xa0nasze służby mogły porównać odcisk palca w dokumentach z odciskiem palca podróżnego. Pięć osób w samochodzie i w efekcie bardzo długie czekanie. Andrieja Fiedotowa, kierowcę busa ta procedura obowiązywała, mnie\\xa0— nie. „Tego wcześniej nie było, wprowadzono w ubiegłym roku\", przypomniał Andriej. Rewizje w komorze celnej też nie należą do rzadkości. „Przechodziłem taką kontrolę ponad 20 razy, aż napisałem skargę na pracę celników. Oni po prostu nie rozumieją, że ktoś jeździ do Rosji w innych celach niż papierosy i paliwo. Na rosyjskiej stronie nigdy nie miałem kontroli. Takie poczynania z długim sprawdzanie dokumentów są celowe, chcą zniechęcić nas do kontaktów\", twierdzi z irytacją Krzysztof Tieliczan, Polak ożeniony z Rosjanką i mieszkający w Kaliningradzie. NAS TO WKURZA Rosjanie na odprawach granicznych zachowują stoicki spokój, ale Polaków mieszkających na stałe w Kaliningradzie, czy pracujących tam i dojeżdżających do pracy, takie procedury dziwią, odbierają je, jako szykany wobec Rosjan. Mam podobne odczucia. „Polska jest zainteresowana współpracą gospodarczą z Rosją i przygotowuje się do wznowienia prac Rosyjsko-Polskiej Komisji Międzyrządowej ds. Współpracy Gospodarczej\" oświadczyło polskie MSZ 3 marca. „Nie widzimy przeciwwskazań, aby w sferach, których nie obejmują ograniczenia, odbywały się związane z gospodarką wydarzenia, zwłaszcza na szczeblu regionalnym\", dodało MSZ. Ministerstwo przy tym wysoko oceniło pracę Polsko-Rosyjskiej Rady ds. Współpracy Regionów RP z Obwodem Kaliningradzkim FR. Odnoszę wrażenie, że jest to\\xa0czcza gadanina, praktyka pokazuje zupełnie, co innego. Zofia Bąbczyńska-Jelonek, publicystka polska Poglądy autorki mogą być niezgodne ze stanowiskiem redakcji. Poglądy i opinie zawarte w artykule mogą być niezgodne ze stanowiskiem redakcji.',\n",
       "        'sputnik', 'ru', 'rossija_sjegodnia']], dtype=object)"
      ]
     },
     "execution_count": 36,
     "metadata": {},
     "output_type": "execute_result"
    }
   ],
   "source": [
    "sputnik_articles.head(5).values"
   ]
  },
  {
   "cell_type": "code",
   "execution_count": null,
   "metadata": {},
   "outputs": [],
   "source": []
  },
  {
   "cell_type": "code",
   "execution_count": null,
   "metadata": {},
   "outputs": [],
   "source": []
  },
  {
   "cell_type": "code",
   "execution_count": null,
   "metadata": {},
   "outputs": [],
   "source": []
  },
  {
   "cell_type": "markdown",
   "metadata": {
    "heading_collapsed": true
   },
   "source": [
    "## Concentrate data"
   ]
  },
  {
   "cell_type": "code",
   "execution_count": 26,
   "metadata": {
    "hidden": true
   },
   "outputs": [],
   "source": [
    "df = pd.concat([\n",
    "    wyborcza_articles,\n",
    "    gazeta_articles,\n",
    "    fakt_articles,\n",
    "    onet_articles,\n",
    "    newsweek_articles,\n",
    "    tvn_articles\n",
    "], axis = 0, sort = False)"
   ]
  },
  {
   "cell_type": "code",
   "execution_count": 27,
   "metadata": {
    "hidden": true
   },
   "outputs": [
    {
     "data": {
      "text/html": [
       "<div>\n",
       "<style scoped>\n",
       "    .dataframe tbody tr th:only-of-type {\n",
       "        vertical-align: middle;\n",
       "    }\n",
       "\n",
       "    .dataframe tbody tr th {\n",
       "        vertical-align: top;\n",
       "    }\n",
       "\n",
       "    .dataframe thead th {\n",
       "        text-align: right;\n",
       "    }\n",
       "</style>\n",
       "<table border=\"1\" class=\"dataframe\">\n",
       "  <thead>\n",
       "    <tr style=\"text-align: right;\">\n",
       "      <th></th>\n",
       "      <th>title</th>\n",
       "      <th>short</th>\n",
       "      <th>long</th>\n",
       "      <th>website</th>\n",
       "      <th>brand</th>\n",
       "      <th>country</th>\n",
       "    </tr>\n",
       "  </thead>\n",
       "  <tbody>\n",
       "    <tr>\n",
       "      <th>291</th>\n",
       "      <td>Jedyny \"krytyk\" Putina w Dumie: Działania Rosj...</td>\n",
       "      <td>- Obecne działania naszej Dumy mogą sprowokowa...</td>\n",
       "      <td>W czwartek 20 marca Duma przyjęła wcześniejszą...</td>\n",
       "      <td>tvn</td>\n",
       "      <td>discovery</td>\n",
       "      <td>us</td>\n",
       "    </tr>\n",
       "    <tr>\n",
       "      <th>82</th>\n",
       "      <td>Leszczyński Akwawit ma nowego właściciela</td>\n",
       "      <td>Leszczyńskie przedsiębiorstwo Akwawit należy j...</td>\n",
       "      <td>Przedsiębiorstwo Przemysłu Fermentacyjnego Akw...</td>\n",
       "      <td>wyborcza</td>\n",
       "      <td>agora</td>\n",
       "      <td>pl</td>\n",
       "    </tr>\n",
       "    <tr>\n",
       "      <th>477</th>\n",
       "      <td>Słynna bielska wytwórnia walczy z piractwem. U...</td>\n",
       "      <td>Studio Filmów Rysunkowych uruchomiło własny ka...</td>\n",
       "      <td>Studio Filmów Rysunkowych to jedna z najsłynni...</td>\n",
       "      <td>wyborcza</td>\n",
       "      <td>agora</td>\n",
       "      <td>pl</td>\n",
       "    </tr>\n",
       "  </tbody>\n",
       "</table>\n",
       "</div>"
      ],
      "text/plain": [
       "                                                 title  \\\n",
       "291  Jedyny \"krytyk\" Putina w Dumie: Działania Rosj...   \n",
       "82           Leszczyński Akwawit ma nowego właściciela   \n",
       "477  Słynna bielska wytwórnia walczy z piractwem. U...   \n",
       "\n",
       "                                                 short  \\\n",
       "291  - Obecne działania naszej Dumy mogą sprowokowa...   \n",
       "82   Leszczyńskie przedsiębiorstwo Akwawit należy j...   \n",
       "477  Studio Filmów Rysunkowych uruchomiło własny ka...   \n",
       "\n",
       "                                                  long   website      brand  \\\n",
       "291  W czwartek 20 marca Duma przyjęła wcześniejszą...       tvn  discovery   \n",
       "82   Przedsiębiorstwo Przemysłu Fermentacyjnego Akw...  wyborcza      agora   \n",
       "477  Studio Filmów Rysunkowych to jedna z najsłynni...  wyborcza      agora   \n",
       "\n",
       "    country  \n",
       "291      us  \n",
       "82       pl  \n",
       "477      pl  "
      ]
     },
     "execution_count": 27,
     "metadata": {},
     "output_type": "execute_result"
    }
   ],
   "source": [
    "df.sample(3).head(3)"
   ]
  },
  {
   "cell_type": "markdown",
   "metadata": {
    "heading_collapsed": true
   },
   "source": [
    "## Data check"
   ]
  },
  {
   "cell_type": "code",
   "execution_count": 28,
   "metadata": {
    "hidden": true
   },
   "outputs": [
    {
     "data": {
      "text/plain": [
       "array([['Kaczyński o dzieciach, które są \"przedmiotem eksperymentów\"',\n",
       "        'Sobota to dzień obfitujący w polityczne wydarzenia. Partie nie próżnują na chwilę przed wyborami do PE. Swoje konwencje zaplanowały PiS, KE i Wiosna Biedronia. Jarosław Kaczyński mówił o \"seksualizowaniu dzieci od kołyski\" i ataku na Kościół. - Żaden pedofil nie schowa się w żadnej kurii ani partii. Wybaczcie emocje, ale sam jestem ojcem - grzmiał z kolei Grzegorz Schetyna. Wszystkie wystąpienia liderów, także Roberta Biedronia, pośrednio nawiązywały do dokumentu Tomasza Sekielskiego o pedofilii w polskim Kościele, który dziś ma swoją premierę w internecie.',\n",
       "        ' O 10 wystartowały konwencje PiS w Bydgoszczy i KE w Płocku, a o 11 - Wiosny w Poznaniu. Prezes PiS Jarosław Kaczyński mówił o obronie prawa rodziców do wychowania dzieci. - By nie były seksualizowane niemal od kołyski. Żeby nie wprowadzano tych programów wychowawczych, które będą degenerować. By istniało w Polsce prawo do tego, by istniała normalna rodzina. To też jest dziś zagrożone. By pary homoseksualne nie mogły też eksperymentować z dziećmi, tzn. ich adoptować. Chodzi o to, by dzieci nie były przedmiotem eksperymentów, które są w interesie bardzo niewielkiej mniejszości - mówił Kaczyński. Prezes PiS Jarosław Kaczyński mówił także o obronie polskiej złotówki, która ma dziś rzekomo być zagrożona. - Ona nam umożliwia wzrost, ona w razie kryzysów, a one w gospodarce są nieuniknione, nas chroni. Ona umożliwia to, że już prawie od 30 lat idziemy do przodu. Ta złotówka jest dzisiaj zagrożona. Nasi konkurenci wyraźnie powiedzieli, że będą dążyli do wprowadzenia w Polsce euro. Jakie były skutki euro dla krajów południowej Europy - wszyscy wiemy. Przykładem modelowym jest Grecja. Jeśli przeprowadzić poważniejszą analizę, to na euro zyskują dwa państwa - Niemcy i Holandia - dowodził. - Trzecia sprawa to obrona 500 plus, obniżonego wieku emerytalnego, tańszych leków dla osób w starszym wieku, krótko mówiąc - polityki społecznej PiS. Mówiąc najkrócej, to obrona tego, by w Polsce była przywracana sprawiedliwość - podkreślił prezes PiS. Prezes PiS mówił również o konieczności ochrony \"naszych wartości, wszystkiego, co stanowi o naszej tradycji, o polskości\". Według Kaczyńskiego, to wszystko jest dziś atakowane. - Spójrzmy na atak na Kościół, przed tym trzeba się obronić, Polska musi pozostać Polską a Polacy - Polakami - mówił. Schetyna: Żaden pedofil nie schowa się ani w kurii, ani w żadnej partii Schetyna wyjawił, że jego ugrupowanie przygotowało radykalny program walki z pedofilią, który w szczegółach przedstawi jutro w Szczecinie. Zaznaczył, że \"walka z pedofilią to nie jest walka z Kościołem katolickim. zarzucił władzy, że nie rozlicza wpływowych pedofilów, bo nie jest to jej na rękę. - Dzieci nie głosują. Są słabe, bezbronne i zdane na pomoc dorosłym. Ale absolutnie chcę to wyraźnie powiedzieć. Hańbą dla każdego państwa i polityka jest przymykanie oka na ich krzywdę. Jeżeli dziś władza kalkuluje, że oprawca, pedofil jest wpływowy, może pomóc w wyborach i dlatego trzeba zostawić go w spokoju, to okrywa hańbą nie tylko siebie i urząd, który sprawuje, ale też tych, którzy na nich głosują. Chcę bardzo wyraźnie powiedzieć: tu nie może być żadnej kalkulacji. Jeżeli ktoś krzywdzi dzieci, to ma iść do więzienia. Koniec i kropka - mówił. Zapowiedział również, że KE uzyska w nowym budżecie UE \"dodatkowe 100 mld zł\". - Ruszymy z trzema programami: europejska ochrona zdrowia, europejskie płace i coś co dla równości w Polsce ma znaczenie podstawowe: narodowy program rozwoju wsi - poinformował polityk. - Chcę zwrócić się do polskich rolników, którzy już wiedzą, rozmawialiśmy o tym, że w przyszłym budżecie unijnym wynegocjowanym przez PiS ma być o 15 mld zł mniej na polską wieś. Takie są smutne fakty. To jest odpowiedzialność i nieudolność rządu PiS - ocenił Schetyna. Jak podkreślał, przykładów na narastające nierówności w Polsce jest wiele: między wsią, a miastem, między zamożnymi, a tymi, którym brakuje pieniędzy, są też nierówności między regionami. - Państwo musi te nierówności niwelować. Jednym z najważniejszych zadań jest wyrównanie życia na wsi i w mieście. A zadanie najpilniejsze, to ochrona zdrowia - bo tu chodzi o życie - mówił Schetyna. Biedroń w trakcie swojego wystąpienia pytał zebranych, czy kobietom w Polsce żyje się dobrze i czy mają równe prawa. Jak odpowiedział, Polska nie jest obecnie takim krajem. Lider Wiosny tłumaczył, że „najbardziej widać to gdy porówna się dwie grupy”. - Jedna jest olbrzymia, bo jest większością, a mówi głosem mniejszości i tak też jest dzisiaj traktowana. Nie ma gwarancji swoich podstawowych praw, a te prawa często są ograniczone i ograniczone prawa często nawet w swej formule ograniczonej nie są respektowane. Druga grupa jest malutka, ale żyje jej się wspaniale. Zdołała bowiem podporządkować sobie niemal wszystkich polityków i trzęsie dzisiaj całym krajem. Dostaje sowite dopłaty od państwa, płaci śmiesznie niskie podatki, jeździ limuzynami, najczęściej od bezdomnych, buduje sobie pałacyki. Stoi – faktycznie ponad prawem. Przestępstwa, za które inni idą do więzienia, ta grupa może dokonywać zupełnie bezkarnie – mówił. - Ta pierwsza grupa to oczywiście kobiety. W Polsce jest aż 19 mln Polek, które wciąż, w kraju w centrum Europy w 2019 roku, nie mają gwarancji równych praw. Ta druga grupa to polscy księża - 30 tys. mężczyzn oczywiście, którzy trzęsą całą Polską – dodał. Dokument o pedofilii w polskim Kościele katolickim \"Tylko nie mów nikomu\" będzie można zobaczyć na You Tube na kanale Tomasza Sekielskiego o 14.30. Film powstał dzięki datkom z publicznej zbiórki, dlatego będzie go można oglądać bez opłat i bez reklam. (Źródło: PAP)',\n",
       "        'fakt', 'ringier', 'de/ch']], dtype=object)"
      ]
     },
     "execution_count": 28,
     "metadata": {},
     "output_type": "execute_result"
    }
   ],
   "source": [
    "df.sample(1).values"
   ]
  },
  {
   "cell_type": "code",
   "execution_count": 29,
   "metadata": {
    "hidden": true
   },
   "outputs": [],
   "source": [
    "df['long'] = df['long'].str.replace('\\n\\n', ' ').str.replace('\\n', ' ')"
   ]
  },
  {
   "cell_type": "markdown",
   "metadata": {},
   "source": [
    "## Data summary"
   ]
  },
  {
   "cell_type": "code",
   "execution_count": 30,
   "metadata": {},
   "outputs": [
    {
     "data": {
      "text/plain": [
       "<matplotlib.axes._subplots.AxesSubplot at 0x7fab12dbde10>"
      ]
     },
     "execution_count": 30,
     "metadata": {},
     "output_type": "execute_result"
    },
    {
     "data": {
      "image/png": "[encoded data removed]",
      "text/plain": [
       "<Figure size 432x288 with 1 Axes>"
      ]
     },
     "metadata": {
      "needs_background": "light"
     },
     "output_type": "display_data"
    }
   ],
   "source": [
    "df\\\n",
    "    [['website', 'title']]\\\n",
    "    .groupby('website')\\\n",
    "    .count()\\\n",
    "    .plot(kind = 'bar')"
   ]
  },
  {
   "cell_type": "code",
   "execution_count": 31,
   "metadata": {},
   "outputs": [
    {
     "data": {
      "text/plain": [
       "<matplotlib.axes._subplots.AxesSubplot at 0x7fab131bca20>"
      ]
     },
     "execution_count": 31,
     "metadata": {},
     "output_type": "execute_result"
    },
    {
     "data": {
      "image/png": "[encoded data removed]",
      "text/plain": [
       "<Figure size 432x288 with 1 Axes>"
      ]
     },
     "metadata": {
      "needs_background": "light"
     },
     "output_type": "display_data"
    }
   ],
   "source": [
    "df\\\n",
    "    [['brand', 'title']]\\\n",
    "    .groupby('brand')\\\n",
    "    .count()\\\n",
    "    .plot(kind = 'bar', title = 'Ilość artykułów dla danych domów mediowych')"
   ]
  },
  {
   "cell_type": "markdown",
   "metadata": {},
   "source": [
    "# Write"
   ]
  },
  {
   "cell_type": "code",
   "execution_count": 31,
   "metadata": {},
   "outputs": [
    {
     "data": {
      "text/plain": [
       "108933"
      ]
     },
     "execution_count": 31,
     "metadata": {},
     "output_type": "execute_result"
    }
   ],
   "source": [
    "len(df)"
   ]
  },
  {
   "cell_type": "code",
   "execution_count": 35,
   "metadata": {},
   "outputs": [],
   "source": [
    "for i, tmp_df in enumerate(np.array_split(df, 10)):\n",
    "    tmp_df.to_csv('data/concatenated/'+str(i), index = False)"
   ]
  },
  {
   "cell_type": "code",
   "execution_count": null,
   "metadata": {},
   "outputs": [],
   "source": []
  }
 ],
 "metadata": {
  "kernelspec": {
   "display_name": "Python 3",
   "language": "python",
   "name": "python3"
  },
  "language_info": {
   "codemirror_mode": {
    "name": "ipython",
    "version": 3
   },
   "file_extension": ".py",
   "mimetype": "text/x-python",
   "name": "python",
   "nbconvert_exporter": "python",
   "pygments_lexer": "ipython3",
   "version": "3.6.9"
  },
  "toc": {
   "base_numbering": 1,
   "nav_menu": {},
   "number_sections": true,
   "sideBar": true,
   "skip_h1_title": false,
   "title_cell": "Table of Contents",
   "title_sidebar": "Contents",
   "toc_cell": false,
   "toc_position": {},
   "toc_section_display": true,
   "toc_window_display": false
  }
 },
 "nbformat": 4,
 "nbformat_minor": 2
}
